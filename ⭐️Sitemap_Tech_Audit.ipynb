{
  "cells": [
    {
      "cell_type": "markdown",
      "metadata": {
        "id": "view-in-github",
        "colab_type": "text"
      },
      "source": [
        "<a href=\"https://colab.research.google.com/github/serhii-anopriienko/python-sitemap-checker/blob/main/%E2%AD%90%EF%B8%8FSitemap_Tech_Audit.ipynb\" target=\"_parent\"><img src=\"https://colab.research.google.com/assets/colab-badge.svg\" alt=\"Open In Colab\"/></a>"
      ]
    },
    {
      "cell_type": "markdown",
      "source": [
        "#Automate Sitemap Audit with Python\n",
        "\n",
        "XML sitemaps are designed to make life easier for search engines by providing an index of a site’s URLs. However, they’re also a useful tool in competitor analysis and allow you to quickly identify all of a site’s pages and the level of importance the site assigns to each page.\n",
        "\n",
        "The following Python script may help you cut off plenty of time of manual technical research and to fetch plenty of juicy data insights at the same time."
      ],
      "metadata": {
        "id": "n5gFVa9_59sN"
      }
    },
    {
      "cell_type": "markdown",
      "source": [
        "#Requirements and Assumptions\n",
        "\n",
        "- Run the script on **Google Colab**\n",
        "- Make sure to `!pip install` advertools and pandas packages\n",
        "- Remember that **[sitemaps are a recommendation](https://developers.google.com/search/docs/advanced/sitemaps/build-sitemap)** to Google about which pages you think are important; Google does not pledge to crawl every URL in a sitemap.\n"
      ],
      "metadata": {
        "id": "Cx8rEl-XkrIq"
      }
    },
    {
      "cell_type": "code",
      "source": [
        "#@title Install Packages\n",
        "\n",
        "%%capture\n",
        "!pip install advertools dash dash_bootstrap_components jupyter_dash plotly bs4 matplotlib datasets adviz dash_bootstrap_templates\n"
      ],
      "metadata": {
        "id": "wUaktnRCaCzB"
      },
      "execution_count": null,
      "outputs": []
    },
    {
      "cell_type": "code",
      "execution_count": null,
      "metadata": {
        "colab": {
          "base_uri": "https://localhost:8080/",
          "height": 225
        },
        "id": "THz84BBwPrl3",
        "outputId": "290e2d81-19a3-4b29-9c14-4af1de9035f6"
      },
      "outputs": [
        {
          "output_type": "stream",
          "name": "stderr",
          "text": [
            "<ipython-input-2-7b0a5b06c8d8>:30: UserWarning: \n",
            "The dash_core_components package is deprecated. Please replace\n",
            "`import dash_core_components as dcc` with `from dash import dcc`\n",
            "  import dash_core_components as dcc\n",
            "<ipython-input-2-7b0a5b06c8d8>:31: UserWarning: \n",
            "The dash_html_components package is deprecated. Please replace\n",
            "`import dash_html_components as html` with `from dash import html`\n",
            "  import dash_html_components as html\n"
          ]
        },
        {
          "output_type": "display_data",
          "data": {
            "text/plain": [
              "<IPython.core.display.HTML object>"
            ],
            "text/html": [
              "<style>.container { width:100% !important; }</style>"
            ]
          },
          "metadata": {}
        },
        {
          "output_type": "stream",
          "name": "stdout",
          "text": [
            "advertools--------------------v0.13.5\n",
            "pandas------------------------v1.5.3\n",
            "plotly------------------------v5.15.0\n",
            "sklearn-----------------------v1.2.2\n"
          ]
        }
      ],
      "source": [
        "#@title Import Packages\n",
        "\n",
        "import os\n",
        "import requests\n",
        "import urllib.parse\n",
        "from bs4 import BeautifulSoup\n",
        "\n",
        "import time\n",
        "import warnings\n",
        "\n",
        "import advertools as adv\n",
        "import adviz\n",
        "import pandas as pd\n",
        "import numpy as np\n",
        "import plotly\n",
        "import plotly.express as px\n",
        "import plotly.graph_objects as go\n",
        "\n",
        "import pandas as pd\n",
        "from IPython.display import display_html, display_markdown, HTML\n",
        "from IPython.core.display import display\n",
        "\n",
        "from lxml import etree\n",
        "\n",
        "import matplotlib\n",
        "import sklearn\n",
        "\n",
        "from dash_bootstrap_templates import load_figure_template\n",
        "import dash\n",
        "import dash_core_components as dcc\n",
        "import dash_html_components as html\n",
        "\n",
        "# Set display options\n",
        "pd.options.display.max_columns = None\n",
        "warnings.filterwarnings(\"ignore\")\n",
        "display(HTML(\"<style>.container { width:100% !important; }</style>\"))\n",
        "\n",
        "def md(text):\n",
        "    return display_markdown(text, raw=True)\n",
        "\n",
        "# Check package versions\n",
        "for pkg in [adv, pd, plotly, sklearn]:\n",
        "    print(f'{pkg.__name__:-<30}v{pkg.__version__}')\n",
        "\n",
        "load_figure_template(['darkly','bootstrap','flatly','cosmo'])\n"
      ]
    },
    {
      "cell_type": "code",
      "source": [
        "#@title Fetch and Parse XML sitemaps from the Robots.TXT\n",
        "\n",
        "sitemap = adv.sitemap_to_df('https://yoast.com/robots.txt')\n",
        "                            #max_workers=8,\n",
        "                           # recursive=True)\n",
        "sitemap.to_csv('sitemap_collection.csv',index=False)\n",
        "\n",
        "#parse the sitemaps\n",
        "\n",
        "sitemap_raw = pd.read_csv('sitemap_collection.csv')#, parse_dates=['lastmod', 'download_date'], low_memory=False)\n",
        "\n",
        "#overview duplicates\n",
        "print(f'Original: {sitemap_raw.shape}')\n",
        "sitemap = sitemap_raw.drop_duplicates(subset=['loc'])\n",
        "print(f'After removing dupes: {sitemap.shape}')\n",
        "sitemap.to_csv('sitemap.csv',index=False)\n",
        "sitemap\n"
      ],
      "metadata": {
        "colab": {
          "base_uri": "https://localhost:8080/",
          "height": 1000
        },
        "id": "XQ4n4kRYoruk",
        "outputId": "36941ab1-7ab4-409b-9a10-0017a7220bc5"
      },
      "execution_count": null,
      "outputs": [
        {
          "output_type": "stream",
          "name": "stderr",
          "text": [
            "INFO:root:Getting https://yoast.com/yoast_jobs-sitemap.xml\n",
            "INFO:root:Getting https://yoast.com/yoast_events-sitemap.xml\n",
            "INFO:root:Getting https://yoast.com/page-sitemap.xml\n",
            "INFO:root:Getting https://yoast.com/post-sitemap2.xml\n",
            "INFO:root:Getting https://yoast.com/yoast_courses-sitemap.xml\n",
            "INFO:root:Getting https://yoast.com/yoast_employees-sitemap.xml\n",
            "INFO:root:Getting https://yoast.com/yoast_banen-sitemap.xml\n",
            "INFO:root:Getting https://yoast.com/yoast_plugins-sitemap.xml\n",
            "INFO:root:Getting https://yoast.com/wpkb-article-sitemap.xml\n",
            "INFO:root:Getting https://yoast.com/yoast_webhost-sitemap.xml\n",
            "INFO:root:Getting https://yoast.com/yoast_videos-sitemap.xml\n",
            "INFO:root:Getting https://yoast.com/yoast_feature-sitemap.xml\n",
            "INFO:root:Getting https://yoast.com/yoast_care_fund-sitemap.xml\n",
            "INFO:root:Getting https://yoast.com/yoast_podcast-sitemap.xml\n",
            "INFO:root:Getting https://yoast.com/yoast_shopify-sitemap.xml\n",
            "INFO:root:Getting https://yoast.com/yoast_developer_blog-sitemap.xml\n",
            "INFO:root:Getting https://yoast.com/yoast_series-sitemap.xml\n",
            "INFO:root:Getting https://yoast.com/post-sitemap.xml\n",
            "INFO:root:Getting https://yoast.com/yoast_webinar-sitemap.xml\n",
            "INFO:root:Getting https://yoast.com/yoast_wordpress_core-sitemap.xml\n",
            "INFO:root:Getting https://yoast.com/video-sitemap.xml\n",
            "INFO:root:Getting https://yoast.com/post_tag-sitemap.xml\n"
          ]
        },
        {
          "output_type": "stream",
          "name": "stdout",
          "text": [
            "Original: (2462, 21)\n",
            "After removing dupes: (2215, 21)\n"
          ]
        },
        {
          "output_type": "execute_result",
          "data": {
            "text/plain": [
              "                                                      loc  \\\n",
              "0                                 https://yoast.com/jobs/   \n",
              "1     https://yoast.com/jobs/retention-marketing-manager/   \n",
              "2                  https://yoast.com/jobs/seo-specialist/   \n",
              "3            https://yoast.com/jobs/marketing-internship/   \n",
              "4                      https://yoast.com/about-us/events/   \n",
              "...                                                   ...   \n",
              "2321                     https://yoast.com/yoast-seo-3-2/   \n",
              "2322                     https://yoast.com/yoast-seo-3-3/   \n",
              "2323                     https://yoast.com/yoast-seo-9-4/   \n",
              "2331                    https://yoast.com/yoast-seo-10-0/   \n",
              "2354                     https://yoast.com/yoast-seo-3-0/   \n",
              "\n",
              "                        lastmod     image  \\\n",
              "0     2024-01-08 09:39:56+00:00       NaN   \n",
              "1     2023-12-22 12:18:57+00:00  \\n\\t\\t\\t   \n",
              "2     2023-12-22 13:37:00+00:00  \\n\\t\\t\\t   \n",
              "3     2024-01-08 09:39:56+00:00  \\n\\t\\t\\t   \n",
              "4     2024-01-24 10:45:35+00:00       NaN   \n",
              "...                         ...       ...   \n",
              "2321                        NaN       NaN   \n",
              "2322                        NaN       NaN   \n",
              "2323                        NaN       NaN   \n",
              "2331                        NaN       NaN   \n",
              "2354                        NaN       NaN   \n",
              "\n",
              "                                            image_loc  \\\n",
              "0                                                 NaN   \n",
              "1     https://yoast.com/app/uploads/2023/10/image.png   \n",
              "2     https://yoast.com/app/uploads/2023/10/image.png   \n",
              "3     https://yoast.com/app/uploads/2023/12/image.png   \n",
              "4                                                 NaN   \n",
              "...                                               ...   \n",
              "2321                                              NaN   \n",
              "2322                                              NaN   \n",
              "2323                                              NaN   \n",
              "2331                                              NaN   \n",
              "2354                                              NaN   \n",
              "\n",
              "                                         sitemap  sitemap_size_mb  \\\n",
              "0       https://yoast.com/yoast_jobs-sitemap.xml         0.003242   \n",
              "1       https://yoast.com/yoast_jobs-sitemap.xml         0.003242   \n",
              "2       https://yoast.com/yoast_jobs-sitemap.xml         0.003242   \n",
              "3       https://yoast.com/yoast_jobs-sitemap.xml         0.003242   \n",
              "4     https://yoast.com/yoast_events-sitemap.xml         0.001593   \n",
              "...                                          ...              ...   \n",
              "2321         https://yoast.com/video-sitemap.xml         0.323858   \n",
              "2322         https://yoast.com/video-sitemap.xml         0.323858   \n",
              "2323         https://yoast.com/video-sitemap.xml         0.323858   \n",
              "2331         https://yoast.com/video-sitemap.xml         0.323858   \n",
              "2354         https://yoast.com/video-sitemap.xml         0.323858   \n",
              "\n",
              "                         download_date     video  \\\n",
              "0     2024-01-27 18:37:01.199895+00:00       NaN   \n",
              "1     2024-01-27 18:37:01.199895+00:00       NaN   \n",
              "2     2024-01-27 18:37:01.199895+00:00       NaN   \n",
              "3     2024-01-27 18:37:01.199895+00:00       NaN   \n",
              "4     2024-01-27 18:37:01.330218+00:00       NaN   \n",
              "...                                ...       ...   \n",
              "2321  2024-01-27 18:37:07.320142+00:00  \\n\\t\\t\\t   \n",
              "2322  2024-01-27 18:37:07.320142+00:00  \\n\\t\\t\\t   \n",
              "2323  2024-01-27 18:37:07.320142+00:00  \\n\\t\\t\\t   \n",
              "2331  2024-01-27 18:37:07.320142+00:00  \\n\\t\\t\\t   \n",
              "2354  2024-01-27 18:37:07.320142+00:00  \\n\\t\\t\\t   \n",
              "\n",
              "                                                         video_title  \\\n",
              "0                                                                NaN   \n",
              "1                                                                NaN   \n",
              "2                                                                NaN   \n",
              "3                                                                NaN   \n",
              "4                                                                NaN   \n",
              "...                                                              ...   \n",
              "2321                                           Yoast SEO 3.2 • Yoast   \n",
              "2322                         Yoast SEO 3.3: content analysis • Yoast   \n",
              "2323  Yoast SEO 9.4: Help us beta test the new SEO analysis! • Yoast   \n",
              "2331               Yoast SEO 10.0: Meet the new SEO analysis • Yoast   \n",
              "2354                                           Yoast SEO 3.0 • Yoast   \n",
              "\n",
              "         video_publication_date  \\\n",
              "0                           NaN   \n",
              "1                           NaN   \n",
              "2                           NaN   \n",
              "3                           NaN   \n",
              "4                           NaN   \n",
              "...                         ...   \n",
              "2321  2016-04-20T11:38:57+00:00   \n",
              "2322  2016-06-14T12:52:59+00:00   \n",
              "2323  2019-01-08T11:31:54+00:00   \n",
              "2331  2019-03-12T10:45:08+00:00   \n",
              "2354  2015-11-18T14:12:31+00:00   \n",
              "\n",
              "                                                                                                            video_description  \\\n",
              "0                                                                                                                         NaN   \n",
              "1                                                                                                                         NaN   \n",
              "2                                                                                                                         NaN   \n",
              "3                                                                                                                         NaN   \n",
              "4                                                                                                                         NaN   \n",
              "...                                                                                                                       ...   \n",
              "2321  The Yoast SEO 3.2 release contains accessibility improvements, a new help center and, in Premium, Social Previews fo...   \n",
              "2322  We're very proud to release Yoast SEO 3.3! This is a huge update, with many new features, like our new content analy...   \n",
              "2323  Yoast SEO 9.4 brings a beta version of the new SEO analysis that will land in Yoast SEO 10. Please help us test it! ...   \n",
              "2331  Yoast SEO 10.0 is out! This release brings a new SEO analysis. Here's your chance to write even better content for r...   \n",
              "2354  We've just released Yoast SEO 3.0. This release includes real time content analysis, the \"upgrade\" of our snippet pr...   \n",
              "\n",
              "                                                                                                             video_player_loc  \\\n",
              "0                                                                                                                         NaN   \n",
              "1                                                                                                                         NaN   \n",
              "2                                                                                                                         NaN   \n",
              "3                                                                                                                         NaN   \n",
              "4                                                                                                                         NaN   \n",
              "...                                                                                                                       ...   \n",
              "2321                                                                                https://www.youtube.com/embed/w6rMqyFLhgA   \n",
              "2322                                                                                https://www.youtube.com/embed/Yn85c-tfbjs   \n",
              "2323                                                                                https://www.youtube.com/embed/OZFSwc4Wp2s   \n",
              "2331                                                                                https://www.youtube.com/embed/OZFSwc4Wp2s   \n",
              "2354  https://embed-ssl.wistia.com/flash/embed_player_v2.0.swf?2017-04-20&autoPlay=true&banner=false&controlsVisibleOnLoad...   \n",
              "\n",
              "                                           video_thumbnail_loc  \\\n",
              "0                                                          NaN   \n",
              "1                                                          NaN   \n",
              "2                                                          NaN   \n",
              "3                                                          NaN   \n",
              "4                                                          NaN   \n",
              "...                                                        ...   \n",
              "2321     https://yoast.com/app/uploads/2016/04/w6rmqyflhga.jpg   \n",
              "2322     https://yoast.com/app/uploads/2016/06/yn85c-tfbjs.jpg   \n",
              "2323     https://yoast.com/app/uploads/2019/01/ozfswc4wp2s.jpg   \n",
              "2331     https://yoast.com/app/uploads/2019/03/ozfswc4wp2s.jpg   \n",
              "2354  https://yoast.com/app/uploads/2015/11/unnamed-file-3.jpg   \n",
              "\n",
              "      video_duration  video_view_count  video_width  video_height  \\\n",
              "0                NaN               NaN          NaN           NaN   \n",
              "1                NaN               NaN          NaN           NaN   \n",
              "2                NaN               NaN          NaN           NaN   \n",
              "3                NaN               NaN          NaN           NaN   \n",
              "4                NaN               NaN          NaN           NaN   \n",
              "...              ...               ...          ...           ...   \n",
              "2321            94.0            9442.0        480.0         270.0   \n",
              "2322            92.0           39906.0        480.0         270.0   \n",
              "2323           901.0            5514.0        480.0         270.0   \n",
              "2331           901.0            5514.0        480.0         270.0   \n",
              "2354            18.0               NaN       1280.0         731.0   \n",
              "\n",
              "     video_family_friendly video_uploader       video_tag  \\\n",
              "0                      NaN            NaN             NaN   \n",
              "1                      NaN            NaN             NaN   \n",
              "2                      NaN            NaN             NaN   \n",
              "3                      NaN            NaN             NaN   \n",
              "4                      NaN            NaN             NaN   \n",
              "...                    ...            ...             ...   \n",
              "2321                   yes  Joost de Valk       Yoast SEO   \n",
              "2322                   yes  Joost de Valk       Yoast SEO   \n",
              "2323                   yes   Edwin Toonen   Yoast SEO 9.4   \n",
              "2331                   yes   Edwin Toonen  Yoast SEO 10.0   \n",
              "2354                   yes  Joost de Valk       Yoast SEO   \n",
              "\n",
              "                                                                    video_content_loc  \n",
              "0                                                                                 NaN  \n",
              "1                                                                                 NaN  \n",
              "2                                                                                 NaN  \n",
              "3                                                                                 NaN  \n",
              "4                                                                                 NaN  \n",
              "...                                                                               ...  \n",
              "2321                                                                              NaN  \n",
              "2322                                                                              NaN  \n",
              "2323                                                                              NaN  \n",
              "2331                                                                              NaN  \n",
              "2354  http://embed.wistia.com/deliveries/07c317e1372ce84d09ca12f842a60b293722387c.bin  \n",
              "\n",
              "[2215 rows x 21 columns]"
            ],
            "text/html": [
              "\n",
              "  <div id=\"df-bf54872f-ed4a-43c4-b8d0-dca5ab114c32\" class=\"colab-df-container\">\n",
              "    <div>\n",
              "<style scoped>\n",
              "    .dataframe tbody tr th:only-of-type {\n",
              "        vertical-align: middle;\n",
              "    }\n",
              "\n",
              "    .dataframe tbody tr th {\n",
              "        vertical-align: top;\n",
              "    }\n",
              "\n",
              "    .dataframe thead th {\n",
              "        text-align: right;\n",
              "    }\n",
              "</style>\n",
              "<table border=\"1\" class=\"dataframe\">\n",
              "  <thead>\n",
              "    <tr style=\"text-align: right;\">\n",
              "      <th></th>\n",
              "      <th>loc</th>\n",
              "      <th>lastmod</th>\n",
              "      <th>image</th>\n",
              "      <th>image_loc</th>\n",
              "      <th>sitemap</th>\n",
              "      <th>sitemap_size_mb</th>\n",
              "      <th>download_date</th>\n",
              "      <th>video</th>\n",
              "      <th>video_title</th>\n",
              "      <th>video_publication_date</th>\n",
              "      <th>video_description</th>\n",
              "      <th>video_player_loc</th>\n",
              "      <th>video_thumbnail_loc</th>\n",
              "      <th>video_duration</th>\n",
              "      <th>video_view_count</th>\n",
              "      <th>video_width</th>\n",
              "      <th>video_height</th>\n",
              "      <th>video_family_friendly</th>\n",
              "      <th>video_uploader</th>\n",
              "      <th>video_tag</th>\n",
              "      <th>video_content_loc</th>\n",
              "    </tr>\n",
              "  </thead>\n",
              "  <tbody>\n",
              "    <tr>\n",
              "      <th>0</th>\n",
              "      <td>https://yoast.com/jobs/</td>\n",
              "      <td>2024-01-08 09:39:56+00:00</td>\n",
              "      <td>NaN</td>\n",
              "      <td>NaN</td>\n",
              "      <td>https://yoast.com/yoast_jobs-sitemap.xml</td>\n",
              "      <td>0.003242</td>\n",
              "      <td>2024-01-27 18:37:01.199895+00:00</td>\n",
              "      <td>NaN</td>\n",
              "      <td>NaN</td>\n",
              "      <td>NaN</td>\n",
              "      <td>NaN</td>\n",
              "      <td>NaN</td>\n",
              "      <td>NaN</td>\n",
              "      <td>NaN</td>\n",
              "      <td>NaN</td>\n",
              "      <td>NaN</td>\n",
              "      <td>NaN</td>\n",
              "      <td>NaN</td>\n",
              "      <td>NaN</td>\n",
              "      <td>NaN</td>\n",
              "      <td>NaN</td>\n",
              "    </tr>\n",
              "    <tr>\n",
              "      <th>1</th>\n",
              "      <td>https://yoast.com/jobs/retention-marketing-manager/</td>\n",
              "      <td>2023-12-22 12:18:57+00:00</td>\n",
              "      <td>\\n\\t\\t\\t</td>\n",
              "      <td>https://yoast.com/app/uploads/2023/10/image.png</td>\n",
              "      <td>https://yoast.com/yoast_jobs-sitemap.xml</td>\n",
              "      <td>0.003242</td>\n",
              "      <td>2024-01-27 18:37:01.199895+00:00</td>\n",
              "      <td>NaN</td>\n",
              "      <td>NaN</td>\n",
              "      <td>NaN</td>\n",
              "      <td>NaN</td>\n",
              "      <td>NaN</td>\n",
              "      <td>NaN</td>\n",
              "      <td>NaN</td>\n",
              "      <td>NaN</td>\n",
              "      <td>NaN</td>\n",
              "      <td>NaN</td>\n",
              "      <td>NaN</td>\n",
              "      <td>NaN</td>\n",
              "      <td>NaN</td>\n",
              "      <td>NaN</td>\n",
              "    </tr>\n",
              "    <tr>\n",
              "      <th>2</th>\n",
              "      <td>https://yoast.com/jobs/seo-specialist/</td>\n",
              "      <td>2023-12-22 13:37:00+00:00</td>\n",
              "      <td>\\n\\t\\t\\t</td>\n",
              "      <td>https://yoast.com/app/uploads/2023/10/image.png</td>\n",
              "      <td>https://yoast.com/yoast_jobs-sitemap.xml</td>\n",
              "      <td>0.003242</td>\n",
              "      <td>2024-01-27 18:37:01.199895+00:00</td>\n",
              "      <td>NaN</td>\n",
              "      <td>NaN</td>\n",
              "      <td>NaN</td>\n",
              "      <td>NaN</td>\n",
              "      <td>NaN</td>\n",
              "      <td>NaN</td>\n",
              "      <td>NaN</td>\n",
              "      <td>NaN</td>\n",
              "      <td>NaN</td>\n",
              "      <td>NaN</td>\n",
              "      <td>NaN</td>\n",
              "      <td>NaN</td>\n",
              "      <td>NaN</td>\n",
              "      <td>NaN</td>\n",
              "    </tr>\n",
              "    <tr>\n",
              "      <th>3</th>\n",
              "      <td>https://yoast.com/jobs/marketing-internship/</td>\n",
              "      <td>2024-01-08 09:39:56+00:00</td>\n",
              "      <td>\\n\\t\\t\\t</td>\n",
              "      <td>https://yoast.com/app/uploads/2023/12/image.png</td>\n",
              "      <td>https://yoast.com/yoast_jobs-sitemap.xml</td>\n",
              "      <td>0.003242</td>\n",
              "      <td>2024-01-27 18:37:01.199895+00:00</td>\n",
              "      <td>NaN</td>\n",
              "      <td>NaN</td>\n",
              "      <td>NaN</td>\n",
              "      <td>NaN</td>\n",
              "      <td>NaN</td>\n",
              "      <td>NaN</td>\n",
              "      <td>NaN</td>\n",
              "      <td>NaN</td>\n",
              "      <td>NaN</td>\n",
              "      <td>NaN</td>\n",
              "      <td>NaN</td>\n",
              "      <td>NaN</td>\n",
              "      <td>NaN</td>\n",
              "      <td>NaN</td>\n",
              "    </tr>\n",
              "    <tr>\n",
              "      <th>4</th>\n",
              "      <td>https://yoast.com/about-us/events/</td>\n",
              "      <td>2024-01-24 10:45:35+00:00</td>\n",
              "      <td>NaN</td>\n",
              "      <td>NaN</td>\n",
              "      <td>https://yoast.com/yoast_events-sitemap.xml</td>\n",
              "      <td>0.001593</td>\n",
              "      <td>2024-01-27 18:37:01.330218+00:00</td>\n",
              "      <td>NaN</td>\n",
              "      <td>NaN</td>\n",
              "      <td>NaN</td>\n",
              "      <td>NaN</td>\n",
              "      <td>NaN</td>\n",
              "      <td>NaN</td>\n",
              "      <td>NaN</td>\n",
              "      <td>NaN</td>\n",
              "      <td>NaN</td>\n",
              "      <td>NaN</td>\n",
              "      <td>NaN</td>\n",
              "      <td>NaN</td>\n",
              "      <td>NaN</td>\n",
              "      <td>NaN</td>\n",
              "    </tr>\n",
              "    <tr>\n",
              "      <th>...</th>\n",
              "      <td>...</td>\n",
              "      <td>...</td>\n",
              "      <td>...</td>\n",
              "      <td>...</td>\n",
              "      <td>...</td>\n",
              "      <td>...</td>\n",
              "      <td>...</td>\n",
              "      <td>...</td>\n",
              "      <td>...</td>\n",
              "      <td>...</td>\n",
              "      <td>...</td>\n",
              "      <td>...</td>\n",
              "      <td>...</td>\n",
              "      <td>...</td>\n",
              "      <td>...</td>\n",
              "      <td>...</td>\n",
              "      <td>...</td>\n",
              "      <td>...</td>\n",
              "      <td>...</td>\n",
              "      <td>...</td>\n",
              "      <td>...</td>\n",
              "    </tr>\n",
              "    <tr>\n",
              "      <th>2321</th>\n",
              "      <td>https://yoast.com/yoast-seo-3-2/</td>\n",
              "      <td>NaN</td>\n",
              "      <td>NaN</td>\n",
              "      <td>NaN</td>\n",
              "      <td>https://yoast.com/video-sitemap.xml</td>\n",
              "      <td>0.323858</td>\n",
              "      <td>2024-01-27 18:37:07.320142+00:00</td>\n",
              "      <td>\\n\\t\\t\\t</td>\n",
              "      <td>Yoast SEO 3.2 • Yoast</td>\n",
              "      <td>2016-04-20T11:38:57+00:00</td>\n",
              "      <td>The Yoast SEO 3.2 release contains accessibility improvements, a new help center and, in Premium, Social Previews fo...</td>\n",
              "      <td>https://www.youtube.com/embed/w6rMqyFLhgA</td>\n",
              "      <td>https://yoast.com/app/uploads/2016/04/w6rmqyflhga.jpg</td>\n",
              "      <td>94.0</td>\n",
              "      <td>9442.0</td>\n",
              "      <td>480.0</td>\n",
              "      <td>270.0</td>\n",
              "      <td>yes</td>\n",
              "      <td>Joost de Valk</td>\n",
              "      <td>Yoast SEO</td>\n",
              "      <td>NaN</td>\n",
              "    </tr>\n",
              "    <tr>\n",
              "      <th>2322</th>\n",
              "      <td>https://yoast.com/yoast-seo-3-3/</td>\n",
              "      <td>NaN</td>\n",
              "      <td>NaN</td>\n",
              "      <td>NaN</td>\n",
              "      <td>https://yoast.com/video-sitemap.xml</td>\n",
              "      <td>0.323858</td>\n",
              "      <td>2024-01-27 18:37:07.320142+00:00</td>\n",
              "      <td>\\n\\t\\t\\t</td>\n",
              "      <td>Yoast SEO 3.3: content analysis • Yoast</td>\n",
              "      <td>2016-06-14T12:52:59+00:00</td>\n",
              "      <td>We're very proud to release Yoast SEO 3.3! This is a huge update, with many new features, like our new content analy...</td>\n",
              "      <td>https://www.youtube.com/embed/Yn85c-tfbjs</td>\n",
              "      <td>https://yoast.com/app/uploads/2016/06/yn85c-tfbjs.jpg</td>\n",
              "      <td>92.0</td>\n",
              "      <td>39906.0</td>\n",
              "      <td>480.0</td>\n",
              "      <td>270.0</td>\n",
              "      <td>yes</td>\n",
              "      <td>Joost de Valk</td>\n",
              "      <td>Yoast SEO</td>\n",
              "      <td>NaN</td>\n",
              "    </tr>\n",
              "    <tr>\n",
              "      <th>2323</th>\n",
              "      <td>https://yoast.com/yoast-seo-9-4/</td>\n",
              "      <td>NaN</td>\n",
              "      <td>NaN</td>\n",
              "      <td>NaN</td>\n",
              "      <td>https://yoast.com/video-sitemap.xml</td>\n",
              "      <td>0.323858</td>\n",
              "      <td>2024-01-27 18:37:07.320142+00:00</td>\n",
              "      <td>\\n\\t\\t\\t</td>\n",
              "      <td>Yoast SEO 9.4: Help us beta test the new SEO analysis! • Yoast</td>\n",
              "      <td>2019-01-08T11:31:54+00:00</td>\n",
              "      <td>Yoast SEO 9.4 brings a beta version of the new SEO analysis that will land in Yoast SEO 10. Please help us test it! ...</td>\n",
              "      <td>https://www.youtube.com/embed/OZFSwc4Wp2s</td>\n",
              "      <td>https://yoast.com/app/uploads/2019/01/ozfswc4wp2s.jpg</td>\n",
              "      <td>901.0</td>\n",
              "      <td>5514.0</td>\n",
              "      <td>480.0</td>\n",
              "      <td>270.0</td>\n",
              "      <td>yes</td>\n",
              "      <td>Edwin Toonen</td>\n",
              "      <td>Yoast SEO 9.4</td>\n",
              "      <td>NaN</td>\n",
              "    </tr>\n",
              "    <tr>\n",
              "      <th>2331</th>\n",
              "      <td>https://yoast.com/yoast-seo-10-0/</td>\n",
              "      <td>NaN</td>\n",
              "      <td>NaN</td>\n",
              "      <td>NaN</td>\n",
              "      <td>https://yoast.com/video-sitemap.xml</td>\n",
              "      <td>0.323858</td>\n",
              "      <td>2024-01-27 18:37:07.320142+00:00</td>\n",
              "      <td>\\n\\t\\t\\t</td>\n",
              "      <td>Yoast SEO 10.0: Meet the new SEO analysis • Yoast</td>\n",
              "      <td>2019-03-12T10:45:08+00:00</td>\n",
              "      <td>Yoast SEO 10.0 is out! This release brings a new SEO analysis. Here's your chance to write even better content for r...</td>\n",
              "      <td>https://www.youtube.com/embed/OZFSwc4Wp2s</td>\n",
              "      <td>https://yoast.com/app/uploads/2019/03/ozfswc4wp2s.jpg</td>\n",
              "      <td>901.0</td>\n",
              "      <td>5514.0</td>\n",
              "      <td>480.0</td>\n",
              "      <td>270.0</td>\n",
              "      <td>yes</td>\n",
              "      <td>Edwin Toonen</td>\n",
              "      <td>Yoast SEO 10.0</td>\n",
              "      <td>NaN</td>\n",
              "    </tr>\n",
              "    <tr>\n",
              "      <th>2354</th>\n",
              "      <td>https://yoast.com/yoast-seo-3-0/</td>\n",
              "      <td>NaN</td>\n",
              "      <td>NaN</td>\n",
              "      <td>NaN</td>\n",
              "      <td>https://yoast.com/video-sitemap.xml</td>\n",
              "      <td>0.323858</td>\n",
              "      <td>2024-01-27 18:37:07.320142+00:00</td>\n",
              "      <td>\\n\\t\\t\\t</td>\n",
              "      <td>Yoast SEO 3.0 • Yoast</td>\n",
              "      <td>2015-11-18T14:12:31+00:00</td>\n",
              "      <td>We've just released Yoast SEO 3.0. This release includes real time content analysis, the \"upgrade\" of our snippet pr...</td>\n",
              "      <td>https://embed-ssl.wistia.com/flash/embed_player_v2.0.swf?2017-04-20&amp;autoPlay=true&amp;banner=false&amp;controlsVisibleOnLoad...</td>\n",
              "      <td>https://yoast.com/app/uploads/2015/11/unnamed-file-3.jpg</td>\n",
              "      <td>18.0</td>\n",
              "      <td>NaN</td>\n",
              "      <td>1280.0</td>\n",
              "      <td>731.0</td>\n",
              "      <td>yes</td>\n",
              "      <td>Joost de Valk</td>\n",
              "      <td>Yoast SEO</td>\n",
              "      <td>http://embed.wistia.com/deliveries/07c317e1372ce84d09ca12f842a60b293722387c.bin</td>\n",
              "    </tr>\n",
              "  </tbody>\n",
              "</table>\n",
              "<p>2215 rows × 21 columns</p>\n",
              "</div>\n",
              "    <div class=\"colab-df-buttons\">\n",
              "\n",
              "  <div class=\"colab-df-container\">\n",
              "    <button class=\"colab-df-convert\" onclick=\"convertToInteractive('df-bf54872f-ed4a-43c4-b8d0-dca5ab114c32')\"\n",
              "            title=\"Convert this dataframe to an interactive table.\"\n",
              "            style=\"display:none;\">\n",
              "\n",
              "  <svg xmlns=\"http://www.w3.org/2000/svg\" height=\"24px\" viewBox=\"0 -960 960 960\">\n",
              "    <path d=\"M120-120v-720h720v720H120Zm60-500h600v-160H180v160Zm220 220h160v-160H400v160Zm0 220h160v-160H400v160ZM180-400h160v-160H180v160Zm440 0h160v-160H620v160ZM180-180h160v-160H180v160Zm440 0h160v-160H620v160Z\"/>\n",
              "  </svg>\n",
              "    </button>\n",
              "\n",
              "  <style>\n",
              "    .colab-df-container {\n",
              "      display:flex;\n",
              "      gap: 12px;\n",
              "    }\n",
              "\n",
              "    .colab-df-convert {\n",
              "      background-color: #E8F0FE;\n",
              "      border: none;\n",
              "      border-radius: 50%;\n",
              "      cursor: pointer;\n",
              "      display: none;\n",
              "      fill: #1967D2;\n",
              "      height: 32px;\n",
              "      padding: 0 0 0 0;\n",
              "      width: 32px;\n",
              "    }\n",
              "\n",
              "    .colab-df-convert:hover {\n",
              "      background-color: #E2EBFA;\n",
              "      box-shadow: 0px 1px 2px rgba(60, 64, 67, 0.3), 0px 1px 3px 1px rgba(60, 64, 67, 0.15);\n",
              "      fill: #174EA6;\n",
              "    }\n",
              "\n",
              "    .colab-df-buttons div {\n",
              "      margin-bottom: 4px;\n",
              "    }\n",
              "\n",
              "    [theme=dark] .colab-df-convert {\n",
              "      background-color: #3B4455;\n",
              "      fill: #D2E3FC;\n",
              "    }\n",
              "\n",
              "    [theme=dark] .colab-df-convert:hover {\n",
              "      background-color: #434B5C;\n",
              "      box-shadow: 0px 1px 3px 1px rgba(0, 0, 0, 0.15);\n",
              "      filter: drop-shadow(0px 1px 2px rgba(0, 0, 0, 0.3));\n",
              "      fill: #FFFFFF;\n",
              "    }\n",
              "  </style>\n",
              "\n",
              "    <script>\n",
              "      const buttonEl =\n",
              "        document.querySelector('#df-bf54872f-ed4a-43c4-b8d0-dca5ab114c32 button.colab-df-convert');\n",
              "      buttonEl.style.display =\n",
              "        google.colab.kernel.accessAllowed ? 'block' : 'none';\n",
              "\n",
              "      async function convertToInteractive(key) {\n",
              "        const element = document.querySelector('#df-bf54872f-ed4a-43c4-b8d0-dca5ab114c32');\n",
              "        const dataTable =\n",
              "          await google.colab.kernel.invokeFunction('convertToInteractive',\n",
              "                                                    [key], {});\n",
              "        if (!dataTable) return;\n",
              "\n",
              "        const docLinkHtml = 'Like what you see? Visit the ' +\n",
              "          '<a target=\"_blank\" href=https://colab.research.google.com/notebooks/data_table.ipynb>data table notebook</a>'\n",
              "          + ' to learn more about interactive tables.';\n",
              "        element.innerHTML = '';\n",
              "        dataTable['output_type'] = 'display_data';\n",
              "        await google.colab.output.renderOutput(dataTable, element);\n",
              "        const docLink = document.createElement('div');\n",
              "        docLink.innerHTML = docLinkHtml;\n",
              "        element.appendChild(docLink);\n",
              "      }\n",
              "    </script>\n",
              "  </div>\n",
              "\n",
              "\n",
              "<div id=\"df-fd4b3254-544c-423d-83aa-3596242ea38c\">\n",
              "  <button class=\"colab-df-quickchart\" onclick=\"quickchart('df-fd4b3254-544c-423d-83aa-3596242ea38c')\"\n",
              "            title=\"Suggest charts\"\n",
              "            style=\"display:none;\">\n",
              "\n",
              "<svg xmlns=\"http://www.w3.org/2000/svg\" height=\"24px\"viewBox=\"0 0 24 24\"\n",
              "     width=\"24px\">\n",
              "    <g>\n",
              "        <path d=\"M19 3H5c-1.1 0-2 .9-2 2v14c0 1.1.9 2 2 2h14c1.1 0 2-.9 2-2V5c0-1.1-.9-2-2-2zM9 17H7v-7h2v7zm4 0h-2V7h2v10zm4 0h-2v-4h2v4z\"/>\n",
              "    </g>\n",
              "</svg>\n",
              "  </button>\n",
              "\n",
              "<style>\n",
              "  .colab-df-quickchart {\n",
              "      --bg-color: #E8F0FE;\n",
              "      --fill-color: #1967D2;\n",
              "      --hover-bg-color: #E2EBFA;\n",
              "      --hover-fill-color: #174EA6;\n",
              "      --disabled-fill-color: #AAA;\n",
              "      --disabled-bg-color: #DDD;\n",
              "  }\n",
              "\n",
              "  [theme=dark] .colab-df-quickchart {\n",
              "      --bg-color: #3B4455;\n",
              "      --fill-color: #D2E3FC;\n",
              "      --hover-bg-color: #434B5C;\n",
              "      --hover-fill-color: #FFFFFF;\n",
              "      --disabled-bg-color: #3B4455;\n",
              "      --disabled-fill-color: #666;\n",
              "  }\n",
              "\n",
              "  .colab-df-quickchart {\n",
              "    background-color: var(--bg-color);\n",
              "    border: none;\n",
              "    border-radius: 50%;\n",
              "    cursor: pointer;\n",
              "    display: none;\n",
              "    fill: var(--fill-color);\n",
              "    height: 32px;\n",
              "    padding: 0;\n",
              "    width: 32px;\n",
              "  }\n",
              "\n",
              "  .colab-df-quickchart:hover {\n",
              "    background-color: var(--hover-bg-color);\n",
              "    box-shadow: 0 1px 2px rgba(60, 64, 67, 0.3), 0 1px 3px 1px rgba(60, 64, 67, 0.15);\n",
              "    fill: var(--button-hover-fill-color);\n",
              "  }\n",
              "\n",
              "  .colab-df-quickchart-complete:disabled,\n",
              "  .colab-df-quickchart-complete:disabled:hover {\n",
              "    background-color: var(--disabled-bg-color);\n",
              "    fill: var(--disabled-fill-color);\n",
              "    box-shadow: none;\n",
              "  }\n",
              "\n",
              "  .colab-df-spinner {\n",
              "    border: 2px solid var(--fill-color);\n",
              "    border-color: transparent;\n",
              "    border-bottom-color: var(--fill-color);\n",
              "    animation:\n",
              "      spin 1s steps(1) infinite;\n",
              "  }\n",
              "\n",
              "  @keyframes spin {\n",
              "    0% {\n",
              "      border-color: transparent;\n",
              "      border-bottom-color: var(--fill-color);\n",
              "      border-left-color: var(--fill-color);\n",
              "    }\n",
              "    20% {\n",
              "      border-color: transparent;\n",
              "      border-left-color: var(--fill-color);\n",
              "      border-top-color: var(--fill-color);\n",
              "    }\n",
              "    30% {\n",
              "      border-color: transparent;\n",
              "      border-left-color: var(--fill-color);\n",
              "      border-top-color: var(--fill-color);\n",
              "      border-right-color: var(--fill-color);\n",
              "    }\n",
              "    40% {\n",
              "      border-color: transparent;\n",
              "      border-right-color: var(--fill-color);\n",
              "      border-top-color: var(--fill-color);\n",
              "    }\n",
              "    60% {\n",
              "      border-color: transparent;\n",
              "      border-right-color: var(--fill-color);\n",
              "    }\n",
              "    80% {\n",
              "      border-color: transparent;\n",
              "      border-right-color: var(--fill-color);\n",
              "      border-bottom-color: var(--fill-color);\n",
              "    }\n",
              "    90% {\n",
              "      border-color: transparent;\n",
              "      border-bottom-color: var(--fill-color);\n",
              "    }\n",
              "  }\n",
              "</style>\n",
              "\n",
              "  <script>\n",
              "    async function quickchart(key) {\n",
              "      const quickchartButtonEl =\n",
              "        document.querySelector('#' + key + ' button');\n",
              "      quickchartButtonEl.disabled = true;  // To prevent multiple clicks.\n",
              "      quickchartButtonEl.classList.add('colab-df-spinner');\n",
              "      try {\n",
              "        const charts = await google.colab.kernel.invokeFunction(\n",
              "            'suggestCharts', [key], {});\n",
              "      } catch (error) {\n",
              "        console.error('Error during call to suggestCharts:', error);\n",
              "      }\n",
              "      quickchartButtonEl.classList.remove('colab-df-spinner');\n",
              "      quickchartButtonEl.classList.add('colab-df-quickchart-complete');\n",
              "    }\n",
              "    (() => {\n",
              "      let quickchartButtonEl =\n",
              "        document.querySelector('#df-fd4b3254-544c-423d-83aa-3596242ea38c button');\n",
              "      quickchartButtonEl.style.display =\n",
              "        google.colab.kernel.accessAllowed ? 'block' : 'none';\n",
              "    })();\n",
              "  </script>\n",
              "</div>\n",
              "    </div>\n",
              "  </div>\n"
            ]
          },
          "metadata": {},
          "execution_count": 3
        }
      ]
    },
    {
      "cell_type": "markdown",
      "source": [
        "#XML Sitemap Properties: Size and Number of URLs"
      ],
      "metadata": {
        "id": "_GdpVedxpaeL"
      }
    },
    {
      "cell_type": "code",
      "source": [
        "#Number of URLs - make sure they don't exceed 50k\n",
        "sitemap['sitemap'].value_counts()"
      ],
      "metadata": {
        "colab": {
          "base_uri": "https://localhost:8080/"
        },
        "id": "lLEy0wh_pSWv",
        "outputId": "f1d062c2-d50b-4ad6-f0c5-60b18eba8be6"
      },
      "execution_count": null,
      "outputs": [
        {
          "output_type": "execute_result",
          "data": {
            "text/plain": [
              "https://yoast.com/post-sitemap.xml                    903\n",
              "https://yoast.com/wpkb-article-sitemap.xml            374\n",
              "https://yoast.com/yoast_developer_blog-sitemap.xml    113\n",
              "https://yoast.com/yoast_employees-sitemap.xml         113\n",
              "https://yoast.com/yoast_care_fund-sitemap.xml         109\n",
              "https://yoast.com/page-sitemap.xml                    103\n",
              "https://yoast.com/yoast_wordpress_core-sitemap.xml     82\n",
              "https://yoast.com/yoast_videos-sitemap.xml             75\n",
              "https://yoast.com/post_tag-sitemap.xml                 70\n",
              "https://yoast.com/yoast_webinar-sitemap.xml            70\n",
              "https://yoast.com/yoast_feature-sitemap.xml            59\n",
              "https://yoast.com/yoast_webhost-sitemap.xml            49\n",
              "https://yoast.com/yoast_courses-sitemap.xml            18\n",
              "https://yoast.com/yoast_plugins-sitemap.xml            18\n",
              "https://yoast.com/yoast_podcast-sitemap.xml            18\n",
              "https://yoast.com/video-sitemap.xml                    14\n",
              "https://yoast.com/yoast_series-sitemap.xml              7\n",
              "https://yoast.com/post-sitemap2.xml                     7\n",
              "https://yoast.com/yoast_events-sitemap.xml              5\n",
              "https://yoast.com/yoast_jobs-sitemap.xml                4\n",
              "https://yoast.com/yoast_banen-sitemap.xml               3\n",
              "https://yoast.com/yoast_shopify-sitemap.xml             1\n",
              "Name: sitemap, dtype: int64"
            ]
          },
          "metadata": {},
          "execution_count": 5
        }
      ]
    },
    {
      "cell_type": "code",
      "source": [
        "#Sitemap Size - make sure they don't exceed 50 MB = 0.5\n",
        "sitemap.drop_duplicates().sort_values(by='sitemap_size_mb',ascending=False)"
      ],
      "metadata": {
        "colab": {
          "base_uri": "https://localhost:8080/",
          "height": 617
        },
        "id": "peHiVLKYpYJp",
        "outputId": "1bc11851-2b1f-4027-db0c-3b704ef5a1af"
      },
      "execution_count": null,
      "outputs": [
        {
          "output_type": "execute_result",
          "data": {
            "text/plain": [
              "                                                                         loc  \\\n",
              "1108                        https://yoast.com/pagination-infinite-scrolling/   \n",
              "1392  https://yoast.com/rewrite-republish-article-with-yoast-duplicate-post/   \n",
              "1390                                       https://yoast.com/yoast-seo-17-2/   \n",
              "1389                                 https://yoast.com/woocommerce-seo-14-4/   \n",
              "1388                                       https://yoast.com/yoast-seo-17-1/   \n",
              "...                                                                      ...   \n",
              "1075                         https://yoast.com/series/why-we-love-wordpress/   \n",
              "1076                       https://yoast.com/series/wordpress-for-beginners/   \n",
              "1070                           https://yoast.com/series/annelieke-analytics/   \n",
              "1071                                     https://yoast.com/series/ask-yoast/   \n",
              "956                                https://yoast.com/shopify/apps/yoast-seo/   \n",
              "\n",
              "                        lastmod     image  \\\n",
              "1108  2019-03-22 13:35:55+00:00  \\n\\t\\t\\t   \n",
              "1392  2021-09-22 14:42:32+00:00  \\n\\t\\t\\t   \n",
              "1390  2021-09-22 09:58:18+00:00  \\n\\t\\t\\t   \n",
              "1389  2021-09-15 15:51:42+00:00  \\n\\t\\t\\t   \n",
              "1388  2021-09-07 08:42:23+00:00  \\n\\t\\t\\t   \n",
              "...                         ...       ...   \n",
              "1075  2023-07-04 12:13:32+00:00       NaN   \n",
              "1076  2023-12-20 13:26:50+00:00       NaN   \n",
              "1070  2022-12-06 15:03:40+00:00       NaN   \n",
              "1071  2023-08-23 20:58:34+00:00       NaN   \n",
              "956   2023-11-30 09:10:39+00:00  \\n\\t\\t\\t   \n",
              "\n",
              "                                                                                      image_loc  \\\n",
              "1108                                      https://yoast.com/app/uploads/2016/11/wp-beginner.png   \n",
              "1392        https://yoast.com/app/uploads/2021/01/yoast-rewrite-republish-reschedule-option.jpg   \n",
              "1390                                https://yoast.com/app/uploads/2021/09/yoast_seo_17.2_fi.png   \n",
              "1389  https://yoast.com/app/uploads/2021/09/product-specific-analysis-yoast-woocommerce-seo.jpg   \n",
              "1388  https://yoast.com/app/uploads/2021/09/product-specific-analysis-yoast-woocommerce-seo.jpg   \n",
              "...                                                                                         ...   \n",
              "1075                                                                                        NaN   \n",
              "1076                                                                                        NaN   \n",
              "1070                                                                                        NaN   \n",
              "1071                                                                                        NaN   \n",
              "956                           https://yoast.com/app/uploads/2022/01/shopify_seo_overview_lg.png   \n",
              "\n",
              "                                          sitemap  sitemap_size_mb  \\\n",
              "1108           https://yoast.com/post-sitemap.xml         0.458994   \n",
              "1392           https://yoast.com/post-sitemap.xml         0.458994   \n",
              "1390           https://yoast.com/post-sitemap.xml         0.458994   \n",
              "1389           https://yoast.com/post-sitemap.xml         0.458994   \n",
              "1388           https://yoast.com/post-sitemap.xml         0.458994   \n",
              "...                                           ...              ...   \n",
              "1075   https://yoast.com/yoast_series-sitemap.xml         0.001335   \n",
              "1076   https://yoast.com/yoast_series-sitemap.xml         0.001335   \n",
              "1070   https://yoast.com/yoast_series-sitemap.xml         0.001335   \n",
              "1071   https://yoast.com/yoast_series-sitemap.xml         0.001335   \n",
              "956   https://yoast.com/yoast_shopify-sitemap.xml         0.000778   \n",
              "\n",
              "                         download_date video video_title  \\\n",
              "1108  2024-01-27 18:37:07.054225+00:00   NaN         NaN   \n",
              "1392  2024-01-27 18:37:07.054225+00:00   NaN         NaN   \n",
              "1390  2024-01-27 18:37:07.054225+00:00   NaN         NaN   \n",
              "1389  2024-01-27 18:37:07.054225+00:00   NaN         NaN   \n",
              "1388  2024-01-27 18:37:07.054225+00:00   NaN         NaN   \n",
              "...                                ...   ...         ...   \n",
              "1075  2024-01-27 18:37:06.284049+00:00   NaN         NaN   \n",
              "1076  2024-01-27 18:37:06.284049+00:00   NaN         NaN   \n",
              "1070  2024-01-27 18:37:06.284049+00:00   NaN         NaN   \n",
              "1071  2024-01-27 18:37:06.284049+00:00   NaN         NaN   \n",
              "956   2024-01-27 18:37:05.013913+00:00   NaN         NaN   \n",
              "\n",
              "     video_publication_date video_description video_player_loc  \\\n",
              "1108                    NaN               NaN              NaN   \n",
              "1392                    NaN               NaN              NaN   \n",
              "1390                    NaN               NaN              NaN   \n",
              "1389                    NaN               NaN              NaN   \n",
              "1388                    NaN               NaN              NaN   \n",
              "...                     ...               ...              ...   \n",
              "1075                    NaN               NaN              NaN   \n",
              "1076                    NaN               NaN              NaN   \n",
              "1070                    NaN               NaN              NaN   \n",
              "1071                    NaN               NaN              NaN   \n",
              "956                     NaN               NaN              NaN   \n",
              "\n",
              "     video_thumbnail_loc  video_duration  video_view_count  video_width  \\\n",
              "1108                 NaN             NaN               NaN          NaN   \n",
              "1392                 NaN             NaN               NaN          NaN   \n",
              "1390                 NaN             NaN               NaN          NaN   \n",
              "1389                 NaN             NaN               NaN          NaN   \n",
              "1388                 NaN             NaN               NaN          NaN   \n",
              "...                  ...             ...               ...          ...   \n",
              "1075                 NaN             NaN               NaN          NaN   \n",
              "1076                 NaN             NaN               NaN          NaN   \n",
              "1070                 NaN             NaN               NaN          NaN   \n",
              "1071                 NaN             NaN               NaN          NaN   \n",
              "956                  NaN             NaN               NaN          NaN   \n",
              "\n",
              "      video_height video_family_friendly video_uploader video_tag  \\\n",
              "1108           NaN                   NaN            NaN       NaN   \n",
              "1392           NaN                   NaN            NaN       NaN   \n",
              "1390           NaN                   NaN            NaN       NaN   \n",
              "1389           NaN                   NaN            NaN       NaN   \n",
              "1388           NaN                   NaN            NaN       NaN   \n",
              "...            ...                   ...            ...       ...   \n",
              "1075           NaN                   NaN            NaN       NaN   \n",
              "1076           NaN                   NaN            NaN       NaN   \n",
              "1070           NaN                   NaN            NaN       NaN   \n",
              "1071           NaN                   NaN            NaN       NaN   \n",
              "956            NaN                   NaN            NaN       NaN   \n",
              "\n",
              "     video_content_loc  \n",
              "1108               NaN  \n",
              "1392               NaN  \n",
              "1390               NaN  \n",
              "1389               NaN  \n",
              "1388               NaN  \n",
              "...                ...  \n",
              "1075               NaN  \n",
              "1076               NaN  \n",
              "1070               NaN  \n",
              "1071               NaN  \n",
              "956                NaN  \n",
              "\n",
              "[2215 rows x 21 columns]"
            ],
            "text/html": [
              "\n",
              "  <div id=\"df-80276d37-439e-4866-b60c-d95b328fc5c4\" class=\"colab-df-container\">\n",
              "    <div>\n",
              "<style scoped>\n",
              "    .dataframe tbody tr th:only-of-type {\n",
              "        vertical-align: middle;\n",
              "    }\n",
              "\n",
              "    .dataframe tbody tr th {\n",
              "        vertical-align: top;\n",
              "    }\n",
              "\n",
              "    .dataframe thead th {\n",
              "        text-align: right;\n",
              "    }\n",
              "</style>\n",
              "<table border=\"1\" class=\"dataframe\">\n",
              "  <thead>\n",
              "    <tr style=\"text-align: right;\">\n",
              "      <th></th>\n",
              "      <th>loc</th>\n",
              "      <th>lastmod</th>\n",
              "      <th>image</th>\n",
              "      <th>image_loc</th>\n",
              "      <th>sitemap</th>\n",
              "      <th>sitemap_size_mb</th>\n",
              "      <th>download_date</th>\n",
              "      <th>video</th>\n",
              "      <th>video_title</th>\n",
              "      <th>video_publication_date</th>\n",
              "      <th>video_description</th>\n",
              "      <th>video_player_loc</th>\n",
              "      <th>video_thumbnail_loc</th>\n",
              "      <th>video_duration</th>\n",
              "      <th>video_view_count</th>\n",
              "      <th>video_width</th>\n",
              "      <th>video_height</th>\n",
              "      <th>video_family_friendly</th>\n",
              "      <th>video_uploader</th>\n",
              "      <th>video_tag</th>\n",
              "      <th>video_content_loc</th>\n",
              "    </tr>\n",
              "  </thead>\n",
              "  <tbody>\n",
              "    <tr>\n",
              "      <th>1108</th>\n",
              "      <td>https://yoast.com/pagination-infinite-scrolling/</td>\n",
              "      <td>2019-03-22 13:35:55+00:00</td>\n",
              "      <td>\\n\\t\\t\\t</td>\n",
              "      <td>https://yoast.com/app/uploads/2016/11/wp-beginner.png</td>\n",
              "      <td>https://yoast.com/post-sitemap.xml</td>\n",
              "      <td>0.458994</td>\n",
              "      <td>2024-01-27 18:37:07.054225+00:00</td>\n",
              "      <td>NaN</td>\n",
              "      <td>NaN</td>\n",
              "      <td>NaN</td>\n",
              "      <td>NaN</td>\n",
              "      <td>NaN</td>\n",
              "      <td>NaN</td>\n",
              "      <td>NaN</td>\n",
              "      <td>NaN</td>\n",
              "      <td>NaN</td>\n",
              "      <td>NaN</td>\n",
              "      <td>NaN</td>\n",
              "      <td>NaN</td>\n",
              "      <td>NaN</td>\n",
              "      <td>NaN</td>\n",
              "    </tr>\n",
              "    <tr>\n",
              "      <th>1392</th>\n",
              "      <td>https://yoast.com/rewrite-republish-article-with-yoast-duplicate-post/</td>\n",
              "      <td>2021-09-22 14:42:32+00:00</td>\n",
              "      <td>\\n\\t\\t\\t</td>\n",
              "      <td>https://yoast.com/app/uploads/2021/01/yoast-rewrite-republish-reschedule-option.jpg</td>\n",
              "      <td>https://yoast.com/post-sitemap.xml</td>\n",
              "      <td>0.458994</td>\n",
              "      <td>2024-01-27 18:37:07.054225+00:00</td>\n",
              "      <td>NaN</td>\n",
              "      <td>NaN</td>\n",
              "      <td>NaN</td>\n",
              "      <td>NaN</td>\n",
              "      <td>NaN</td>\n",
              "      <td>NaN</td>\n",
              "      <td>NaN</td>\n",
              "      <td>NaN</td>\n",
              "      <td>NaN</td>\n",
              "      <td>NaN</td>\n",
              "      <td>NaN</td>\n",
              "      <td>NaN</td>\n",
              "      <td>NaN</td>\n",
              "      <td>NaN</td>\n",
              "    </tr>\n",
              "    <tr>\n",
              "      <th>1390</th>\n",
              "      <td>https://yoast.com/yoast-seo-17-2/</td>\n",
              "      <td>2021-09-22 09:58:18+00:00</td>\n",
              "      <td>\\n\\t\\t\\t</td>\n",
              "      <td>https://yoast.com/app/uploads/2021/09/yoast_seo_17.2_fi.png</td>\n",
              "      <td>https://yoast.com/post-sitemap.xml</td>\n",
              "      <td>0.458994</td>\n",
              "      <td>2024-01-27 18:37:07.054225+00:00</td>\n",
              "      <td>NaN</td>\n",
              "      <td>NaN</td>\n",
              "      <td>NaN</td>\n",
              "      <td>NaN</td>\n",
              "      <td>NaN</td>\n",
              "      <td>NaN</td>\n",
              "      <td>NaN</td>\n",
              "      <td>NaN</td>\n",
              "      <td>NaN</td>\n",
              "      <td>NaN</td>\n",
              "      <td>NaN</td>\n",
              "      <td>NaN</td>\n",
              "      <td>NaN</td>\n",
              "      <td>NaN</td>\n",
              "    </tr>\n",
              "    <tr>\n",
              "      <th>1389</th>\n",
              "      <td>https://yoast.com/woocommerce-seo-14-4/</td>\n",
              "      <td>2021-09-15 15:51:42+00:00</td>\n",
              "      <td>\\n\\t\\t\\t</td>\n",
              "      <td>https://yoast.com/app/uploads/2021/09/product-specific-analysis-yoast-woocommerce-seo.jpg</td>\n",
              "      <td>https://yoast.com/post-sitemap.xml</td>\n",
              "      <td>0.458994</td>\n",
              "      <td>2024-01-27 18:37:07.054225+00:00</td>\n",
              "      <td>NaN</td>\n",
              "      <td>NaN</td>\n",
              "      <td>NaN</td>\n",
              "      <td>NaN</td>\n",
              "      <td>NaN</td>\n",
              "      <td>NaN</td>\n",
              "      <td>NaN</td>\n",
              "      <td>NaN</td>\n",
              "      <td>NaN</td>\n",
              "      <td>NaN</td>\n",
              "      <td>NaN</td>\n",
              "      <td>NaN</td>\n",
              "      <td>NaN</td>\n",
              "      <td>NaN</td>\n",
              "    </tr>\n",
              "    <tr>\n",
              "      <th>1388</th>\n",
              "      <td>https://yoast.com/yoast-seo-17-1/</td>\n",
              "      <td>2021-09-07 08:42:23+00:00</td>\n",
              "      <td>\\n\\t\\t\\t</td>\n",
              "      <td>https://yoast.com/app/uploads/2021/09/product-specific-analysis-yoast-woocommerce-seo.jpg</td>\n",
              "      <td>https://yoast.com/post-sitemap.xml</td>\n",
              "      <td>0.458994</td>\n",
              "      <td>2024-01-27 18:37:07.054225+00:00</td>\n",
              "      <td>NaN</td>\n",
              "      <td>NaN</td>\n",
              "      <td>NaN</td>\n",
              "      <td>NaN</td>\n",
              "      <td>NaN</td>\n",
              "      <td>NaN</td>\n",
              "      <td>NaN</td>\n",
              "      <td>NaN</td>\n",
              "      <td>NaN</td>\n",
              "      <td>NaN</td>\n",
              "      <td>NaN</td>\n",
              "      <td>NaN</td>\n",
              "      <td>NaN</td>\n",
              "      <td>NaN</td>\n",
              "    </tr>\n",
              "    <tr>\n",
              "      <th>...</th>\n",
              "      <td>...</td>\n",
              "      <td>...</td>\n",
              "      <td>...</td>\n",
              "      <td>...</td>\n",
              "      <td>...</td>\n",
              "      <td>...</td>\n",
              "      <td>...</td>\n",
              "      <td>...</td>\n",
              "      <td>...</td>\n",
              "      <td>...</td>\n",
              "      <td>...</td>\n",
              "      <td>...</td>\n",
              "      <td>...</td>\n",
              "      <td>...</td>\n",
              "      <td>...</td>\n",
              "      <td>...</td>\n",
              "      <td>...</td>\n",
              "      <td>...</td>\n",
              "      <td>...</td>\n",
              "      <td>...</td>\n",
              "      <td>...</td>\n",
              "    </tr>\n",
              "    <tr>\n",
              "      <th>1075</th>\n",
              "      <td>https://yoast.com/series/why-we-love-wordpress/</td>\n",
              "      <td>2023-07-04 12:13:32+00:00</td>\n",
              "      <td>NaN</td>\n",
              "      <td>NaN</td>\n",
              "      <td>https://yoast.com/yoast_series-sitemap.xml</td>\n",
              "      <td>0.001335</td>\n",
              "      <td>2024-01-27 18:37:06.284049+00:00</td>\n",
              "      <td>NaN</td>\n",
              "      <td>NaN</td>\n",
              "      <td>NaN</td>\n",
              "      <td>NaN</td>\n",
              "      <td>NaN</td>\n",
              "      <td>NaN</td>\n",
              "      <td>NaN</td>\n",
              "      <td>NaN</td>\n",
              "      <td>NaN</td>\n",
              "      <td>NaN</td>\n",
              "      <td>NaN</td>\n",
              "      <td>NaN</td>\n",
              "      <td>NaN</td>\n",
              "      <td>NaN</td>\n",
              "    </tr>\n",
              "    <tr>\n",
              "      <th>1076</th>\n",
              "      <td>https://yoast.com/series/wordpress-for-beginners/</td>\n",
              "      <td>2023-12-20 13:26:50+00:00</td>\n",
              "      <td>NaN</td>\n",
              "      <td>NaN</td>\n",
              "      <td>https://yoast.com/yoast_series-sitemap.xml</td>\n",
              "      <td>0.001335</td>\n",
              "      <td>2024-01-27 18:37:06.284049+00:00</td>\n",
              "      <td>NaN</td>\n",
              "      <td>NaN</td>\n",
              "      <td>NaN</td>\n",
              "      <td>NaN</td>\n",
              "      <td>NaN</td>\n",
              "      <td>NaN</td>\n",
              "      <td>NaN</td>\n",
              "      <td>NaN</td>\n",
              "      <td>NaN</td>\n",
              "      <td>NaN</td>\n",
              "      <td>NaN</td>\n",
              "      <td>NaN</td>\n",
              "      <td>NaN</td>\n",
              "      <td>NaN</td>\n",
              "    </tr>\n",
              "    <tr>\n",
              "      <th>1070</th>\n",
              "      <td>https://yoast.com/series/annelieke-analytics/</td>\n",
              "      <td>2022-12-06 15:03:40+00:00</td>\n",
              "      <td>NaN</td>\n",
              "      <td>NaN</td>\n",
              "      <td>https://yoast.com/yoast_series-sitemap.xml</td>\n",
              "      <td>0.001335</td>\n",
              "      <td>2024-01-27 18:37:06.284049+00:00</td>\n",
              "      <td>NaN</td>\n",
              "      <td>NaN</td>\n",
              "      <td>NaN</td>\n",
              "      <td>NaN</td>\n",
              "      <td>NaN</td>\n",
              "      <td>NaN</td>\n",
              "      <td>NaN</td>\n",
              "      <td>NaN</td>\n",
              "      <td>NaN</td>\n",
              "      <td>NaN</td>\n",
              "      <td>NaN</td>\n",
              "      <td>NaN</td>\n",
              "      <td>NaN</td>\n",
              "      <td>NaN</td>\n",
              "    </tr>\n",
              "    <tr>\n",
              "      <th>1071</th>\n",
              "      <td>https://yoast.com/series/ask-yoast/</td>\n",
              "      <td>2023-08-23 20:58:34+00:00</td>\n",
              "      <td>NaN</td>\n",
              "      <td>NaN</td>\n",
              "      <td>https://yoast.com/yoast_series-sitemap.xml</td>\n",
              "      <td>0.001335</td>\n",
              "      <td>2024-01-27 18:37:06.284049+00:00</td>\n",
              "      <td>NaN</td>\n",
              "      <td>NaN</td>\n",
              "      <td>NaN</td>\n",
              "      <td>NaN</td>\n",
              "      <td>NaN</td>\n",
              "      <td>NaN</td>\n",
              "      <td>NaN</td>\n",
              "      <td>NaN</td>\n",
              "      <td>NaN</td>\n",
              "      <td>NaN</td>\n",
              "      <td>NaN</td>\n",
              "      <td>NaN</td>\n",
              "      <td>NaN</td>\n",
              "      <td>NaN</td>\n",
              "    </tr>\n",
              "    <tr>\n",
              "      <th>956</th>\n",
              "      <td>https://yoast.com/shopify/apps/yoast-seo/</td>\n",
              "      <td>2023-11-30 09:10:39+00:00</td>\n",
              "      <td>\\n\\t\\t\\t</td>\n",
              "      <td>https://yoast.com/app/uploads/2022/01/shopify_seo_overview_lg.png</td>\n",
              "      <td>https://yoast.com/yoast_shopify-sitemap.xml</td>\n",
              "      <td>0.000778</td>\n",
              "      <td>2024-01-27 18:37:05.013913+00:00</td>\n",
              "      <td>NaN</td>\n",
              "      <td>NaN</td>\n",
              "      <td>NaN</td>\n",
              "      <td>NaN</td>\n",
              "      <td>NaN</td>\n",
              "      <td>NaN</td>\n",
              "      <td>NaN</td>\n",
              "      <td>NaN</td>\n",
              "      <td>NaN</td>\n",
              "      <td>NaN</td>\n",
              "      <td>NaN</td>\n",
              "      <td>NaN</td>\n",
              "      <td>NaN</td>\n",
              "      <td>NaN</td>\n",
              "    </tr>\n",
              "  </tbody>\n",
              "</table>\n",
              "<p>2215 rows × 21 columns</p>\n",
              "</div>\n",
              "    <div class=\"colab-df-buttons\">\n",
              "\n",
              "  <div class=\"colab-df-container\">\n",
              "    <button class=\"colab-df-convert\" onclick=\"convertToInteractive('df-80276d37-439e-4866-b60c-d95b328fc5c4')\"\n",
              "            title=\"Convert this dataframe to an interactive table.\"\n",
              "            style=\"display:none;\">\n",
              "\n",
              "  <svg xmlns=\"http://www.w3.org/2000/svg\" height=\"24px\" viewBox=\"0 -960 960 960\">\n",
              "    <path d=\"M120-120v-720h720v720H120Zm60-500h600v-160H180v160Zm220 220h160v-160H400v160Zm0 220h160v-160H400v160ZM180-400h160v-160H180v160Zm440 0h160v-160H620v160ZM180-180h160v-160H180v160Zm440 0h160v-160H620v160Z\"/>\n",
              "  </svg>\n",
              "    </button>\n",
              "\n",
              "  <style>\n",
              "    .colab-df-container {\n",
              "      display:flex;\n",
              "      gap: 12px;\n",
              "    }\n",
              "\n",
              "    .colab-df-convert {\n",
              "      background-color: #E8F0FE;\n",
              "      border: none;\n",
              "      border-radius: 50%;\n",
              "      cursor: pointer;\n",
              "      display: none;\n",
              "      fill: #1967D2;\n",
              "      height: 32px;\n",
              "      padding: 0 0 0 0;\n",
              "      width: 32px;\n",
              "    }\n",
              "\n",
              "    .colab-df-convert:hover {\n",
              "      background-color: #E2EBFA;\n",
              "      box-shadow: 0px 1px 2px rgba(60, 64, 67, 0.3), 0px 1px 3px 1px rgba(60, 64, 67, 0.15);\n",
              "      fill: #174EA6;\n",
              "    }\n",
              "\n",
              "    .colab-df-buttons div {\n",
              "      margin-bottom: 4px;\n",
              "    }\n",
              "\n",
              "    [theme=dark] .colab-df-convert {\n",
              "      background-color: #3B4455;\n",
              "      fill: #D2E3FC;\n",
              "    }\n",
              "\n",
              "    [theme=dark] .colab-df-convert:hover {\n",
              "      background-color: #434B5C;\n",
              "      box-shadow: 0px 1px 3px 1px rgba(0, 0, 0, 0.15);\n",
              "      filter: drop-shadow(0px 1px 2px rgba(0, 0, 0, 0.3));\n",
              "      fill: #FFFFFF;\n",
              "    }\n",
              "  </style>\n",
              "\n",
              "    <script>\n",
              "      const buttonEl =\n",
              "        document.querySelector('#df-80276d37-439e-4866-b60c-d95b328fc5c4 button.colab-df-convert');\n",
              "      buttonEl.style.display =\n",
              "        google.colab.kernel.accessAllowed ? 'block' : 'none';\n",
              "\n",
              "      async function convertToInteractive(key) {\n",
              "        const element = document.querySelector('#df-80276d37-439e-4866-b60c-d95b328fc5c4');\n",
              "        const dataTable =\n",
              "          await google.colab.kernel.invokeFunction('convertToInteractive',\n",
              "                                                    [key], {});\n",
              "        if (!dataTable) return;\n",
              "\n",
              "        const docLinkHtml = 'Like what you see? Visit the ' +\n",
              "          '<a target=\"_blank\" href=https://colab.research.google.com/notebooks/data_table.ipynb>data table notebook</a>'\n",
              "          + ' to learn more about interactive tables.';\n",
              "        element.innerHTML = '';\n",
              "        dataTable['output_type'] = 'display_data';\n",
              "        await google.colab.output.renderOutput(dataTable, element);\n",
              "        const docLink = document.createElement('div');\n",
              "        docLink.innerHTML = docLinkHtml;\n",
              "        element.appendChild(docLink);\n",
              "      }\n",
              "    </script>\n",
              "  </div>\n",
              "\n",
              "\n",
              "<div id=\"df-cbaf59e2-e6ed-415a-b0f7-3c7c521d4616\">\n",
              "  <button class=\"colab-df-quickchart\" onclick=\"quickchart('df-cbaf59e2-e6ed-415a-b0f7-3c7c521d4616')\"\n",
              "            title=\"Suggest charts\"\n",
              "            style=\"display:none;\">\n",
              "\n",
              "<svg xmlns=\"http://www.w3.org/2000/svg\" height=\"24px\"viewBox=\"0 0 24 24\"\n",
              "     width=\"24px\">\n",
              "    <g>\n",
              "        <path d=\"M19 3H5c-1.1 0-2 .9-2 2v14c0 1.1.9 2 2 2h14c1.1 0 2-.9 2-2V5c0-1.1-.9-2-2-2zM9 17H7v-7h2v7zm4 0h-2V7h2v10zm4 0h-2v-4h2v4z\"/>\n",
              "    </g>\n",
              "</svg>\n",
              "  </button>\n",
              "\n",
              "<style>\n",
              "  .colab-df-quickchart {\n",
              "      --bg-color: #E8F0FE;\n",
              "      --fill-color: #1967D2;\n",
              "      --hover-bg-color: #E2EBFA;\n",
              "      --hover-fill-color: #174EA6;\n",
              "      --disabled-fill-color: #AAA;\n",
              "      --disabled-bg-color: #DDD;\n",
              "  }\n",
              "\n",
              "  [theme=dark] .colab-df-quickchart {\n",
              "      --bg-color: #3B4455;\n",
              "      --fill-color: #D2E3FC;\n",
              "      --hover-bg-color: #434B5C;\n",
              "      --hover-fill-color: #FFFFFF;\n",
              "      --disabled-bg-color: #3B4455;\n",
              "      --disabled-fill-color: #666;\n",
              "  }\n",
              "\n",
              "  .colab-df-quickchart {\n",
              "    background-color: var(--bg-color);\n",
              "    border: none;\n",
              "    border-radius: 50%;\n",
              "    cursor: pointer;\n",
              "    display: none;\n",
              "    fill: var(--fill-color);\n",
              "    height: 32px;\n",
              "    padding: 0;\n",
              "    width: 32px;\n",
              "  }\n",
              "\n",
              "  .colab-df-quickchart:hover {\n",
              "    background-color: var(--hover-bg-color);\n",
              "    box-shadow: 0 1px 2px rgba(60, 64, 67, 0.3), 0 1px 3px 1px rgba(60, 64, 67, 0.15);\n",
              "    fill: var(--button-hover-fill-color);\n",
              "  }\n",
              "\n",
              "  .colab-df-quickchart-complete:disabled,\n",
              "  .colab-df-quickchart-complete:disabled:hover {\n",
              "    background-color: var(--disabled-bg-color);\n",
              "    fill: var(--disabled-fill-color);\n",
              "    box-shadow: none;\n",
              "  }\n",
              "\n",
              "  .colab-df-spinner {\n",
              "    border: 2px solid var(--fill-color);\n",
              "    border-color: transparent;\n",
              "    border-bottom-color: var(--fill-color);\n",
              "    animation:\n",
              "      spin 1s steps(1) infinite;\n",
              "  }\n",
              "\n",
              "  @keyframes spin {\n",
              "    0% {\n",
              "      border-color: transparent;\n",
              "      border-bottom-color: var(--fill-color);\n",
              "      border-left-color: var(--fill-color);\n",
              "    }\n",
              "    20% {\n",
              "      border-color: transparent;\n",
              "      border-left-color: var(--fill-color);\n",
              "      border-top-color: var(--fill-color);\n",
              "    }\n",
              "    30% {\n",
              "      border-color: transparent;\n",
              "      border-left-color: var(--fill-color);\n",
              "      border-top-color: var(--fill-color);\n",
              "      border-right-color: var(--fill-color);\n",
              "    }\n",
              "    40% {\n",
              "      border-color: transparent;\n",
              "      border-right-color: var(--fill-color);\n",
              "      border-top-color: var(--fill-color);\n",
              "    }\n",
              "    60% {\n",
              "      border-color: transparent;\n",
              "      border-right-color: var(--fill-color);\n",
              "    }\n",
              "    80% {\n",
              "      border-color: transparent;\n",
              "      border-right-color: var(--fill-color);\n",
              "      border-bottom-color: var(--fill-color);\n",
              "    }\n",
              "    90% {\n",
              "      border-color: transparent;\n",
              "      border-bottom-color: var(--fill-color);\n",
              "    }\n",
              "  }\n",
              "</style>\n",
              "\n",
              "  <script>\n",
              "    async function quickchart(key) {\n",
              "      const quickchartButtonEl =\n",
              "        document.querySelector('#' + key + ' button');\n",
              "      quickchartButtonEl.disabled = true;  // To prevent multiple clicks.\n",
              "      quickchartButtonEl.classList.add('colab-df-spinner');\n",
              "      try {\n",
              "        const charts = await google.colab.kernel.invokeFunction(\n",
              "            'suggestCharts', [key], {});\n",
              "      } catch (error) {\n",
              "        console.error('Error during call to suggestCharts:', error);\n",
              "      }\n",
              "      quickchartButtonEl.classList.remove('colab-df-spinner');\n",
              "      quickchartButtonEl.classList.add('colab-df-quickchart-complete');\n",
              "    }\n",
              "    (() => {\n",
              "      let quickchartButtonEl =\n",
              "        document.querySelector('#df-cbaf59e2-e6ed-415a-b0f7-3c7c521d4616 button');\n",
              "      quickchartButtonEl.style.display =\n",
              "        google.colab.kernel.accessAllowed ? 'block' : 'none';\n",
              "    })();\n",
              "  </script>\n",
              "</div>\n",
              "    </div>\n",
              "  </div>\n"
            ]
          },
          "metadata": {},
          "execution_count": 6
        }
      ]
    },
    {
      "cell_type": "markdown",
      "source": [
        "##Errors in Sitemaps?"
      ],
      "metadata": {
        "id": "axri-oTTa3--"
      }
    },
    {
      "cell_type": "code",
      "source": [
        "# are there any\n",
        "'errors' in sitemap # ?"
      ],
      "metadata": {
        "colab": {
          "base_uri": "https://localhost:8080/"
        },
        "id": "TxOxNnbVfHXt",
        "outputId": "b65ca164-b0f8-4b7d-c6bf-e7401088b2d0"
      },
      "execution_count": null,
      "outputs": [
        {
          "output_type": "execute_result",
          "data": {
            "text/plain": [
              "False"
            ]
          },
          "metadata": {},
          "execution_count": 6
        }
      ]
    },
    {
      "cell_type": "code",
      "source": [
        "#@title Find out which URLs have errors\n",
        "sitemap[sitemap['errors'].isna()]['loc'].sample(20).tolist()"
      ],
      "metadata": {
        "colab": {
          "base_uri": "https://localhost:8080/",
          "height": 523
        },
        "id": "5wWh5w3Ip1bu",
        "outputId": "acbfac35-cf24-4422-a8af-b4c7d5909104"
      },
      "execution_count": null,
      "outputs": [
        {
          "output_type": "error",
          "ename": "KeyError",
          "evalue": "ignored",
          "traceback": [
            "\u001b[0;31m---------------------------------------------------------------------------\u001b[0m",
            "\u001b[0;31mKeyError\u001b[0m                                  Traceback (most recent call last)",
            "\u001b[0;32m/usr/local/lib/python3.10/dist-packages/pandas/core/indexes/base.py\u001b[0m in \u001b[0;36mget_loc\u001b[0;34m(self, key, method, tolerance)\u001b[0m\n\u001b[1;32m   3801\u001b[0m             \u001b[0;32mtry\u001b[0m\u001b[0;34m:\u001b[0m\u001b[0;34m\u001b[0m\u001b[0;34m\u001b[0m\u001b[0m\n\u001b[0;32m-> 3802\u001b[0;31m                 \u001b[0;32mreturn\u001b[0m \u001b[0mself\u001b[0m\u001b[0;34m.\u001b[0m\u001b[0m_engine\u001b[0m\u001b[0;34m.\u001b[0m\u001b[0mget_loc\u001b[0m\u001b[0;34m(\u001b[0m\u001b[0mcasted_key\u001b[0m\u001b[0;34m)\u001b[0m\u001b[0;34m\u001b[0m\u001b[0;34m\u001b[0m\u001b[0m\n\u001b[0m\u001b[1;32m   3803\u001b[0m             \u001b[0;32mexcept\u001b[0m \u001b[0mKeyError\u001b[0m \u001b[0;32mas\u001b[0m \u001b[0merr\u001b[0m\u001b[0;34m:\u001b[0m\u001b[0;34m\u001b[0m\u001b[0;34m\u001b[0m\u001b[0m\n",
            "\u001b[0;32m/usr/local/lib/python3.10/dist-packages/pandas/_libs/index.pyx\u001b[0m in \u001b[0;36mpandas._libs.index.IndexEngine.get_loc\u001b[0;34m()\u001b[0m\n",
            "\u001b[0;32m/usr/local/lib/python3.10/dist-packages/pandas/_libs/index.pyx\u001b[0m in \u001b[0;36mpandas._libs.index.IndexEngine.get_loc\u001b[0;34m()\u001b[0m\n",
            "\u001b[0;32mpandas/_libs/hashtable_class_helper.pxi\u001b[0m in \u001b[0;36mpandas._libs.hashtable.PyObjectHashTable.get_item\u001b[0;34m()\u001b[0m\n",
            "\u001b[0;32mpandas/_libs/hashtable_class_helper.pxi\u001b[0m in \u001b[0;36mpandas._libs.hashtable.PyObjectHashTable.get_item\u001b[0;34m()\u001b[0m\n",
            "\u001b[0;31mKeyError\u001b[0m: 'errors'",
            "\nThe above exception was the direct cause of the following exception:\n",
            "\u001b[0;31mKeyError\u001b[0m                                  Traceback (most recent call last)",
            "\u001b[0;32m<ipython-input-9-7fe02492b806>\u001b[0m in \u001b[0;36m<cell line: 2>\u001b[0;34m()\u001b[0m\n\u001b[1;32m      1\u001b[0m \u001b[0;31m#@title Find out which URLs have errors\u001b[0m\u001b[0;34m\u001b[0m\u001b[0;34m\u001b[0m\u001b[0m\n\u001b[0;32m----> 2\u001b[0;31m \u001b[0msitemap\u001b[0m\u001b[0;34m[\u001b[0m\u001b[0msitemap\u001b[0m\u001b[0;34m[\u001b[0m\u001b[0;34m'errors'\u001b[0m\u001b[0;34m]\u001b[0m\u001b[0;34m.\u001b[0m\u001b[0misna\u001b[0m\u001b[0;34m(\u001b[0m\u001b[0;34m)\u001b[0m\u001b[0;34m]\u001b[0m\u001b[0;34m[\u001b[0m\u001b[0;34m'loc'\u001b[0m\u001b[0;34m]\u001b[0m\u001b[0;34m.\u001b[0m\u001b[0msample\u001b[0m\u001b[0;34m(\u001b[0m\u001b[0;36m20\u001b[0m\u001b[0;34m)\u001b[0m\u001b[0;34m.\u001b[0m\u001b[0mtolist\u001b[0m\u001b[0;34m(\u001b[0m\u001b[0;34m)\u001b[0m\u001b[0;34m\u001b[0m\u001b[0;34m\u001b[0m\u001b[0m\n\u001b[0m",
            "\u001b[0;32m/usr/local/lib/python3.10/dist-packages/pandas/core/frame.py\u001b[0m in \u001b[0;36m__getitem__\u001b[0;34m(self, key)\u001b[0m\n\u001b[1;32m   3805\u001b[0m             \u001b[0;32mif\u001b[0m \u001b[0mself\u001b[0m\u001b[0;34m.\u001b[0m\u001b[0mcolumns\u001b[0m\u001b[0;34m.\u001b[0m\u001b[0mnlevels\u001b[0m \u001b[0;34m>\u001b[0m \u001b[0;36m1\u001b[0m\u001b[0;34m:\u001b[0m\u001b[0;34m\u001b[0m\u001b[0;34m\u001b[0m\u001b[0m\n\u001b[1;32m   3806\u001b[0m                 \u001b[0;32mreturn\u001b[0m \u001b[0mself\u001b[0m\u001b[0;34m.\u001b[0m\u001b[0m_getitem_multilevel\u001b[0m\u001b[0;34m(\u001b[0m\u001b[0mkey\u001b[0m\u001b[0;34m)\u001b[0m\u001b[0;34m\u001b[0m\u001b[0;34m\u001b[0m\u001b[0m\n\u001b[0;32m-> 3807\u001b[0;31m             \u001b[0mindexer\u001b[0m \u001b[0;34m=\u001b[0m \u001b[0mself\u001b[0m\u001b[0;34m.\u001b[0m\u001b[0mcolumns\u001b[0m\u001b[0;34m.\u001b[0m\u001b[0mget_loc\u001b[0m\u001b[0;34m(\u001b[0m\u001b[0mkey\u001b[0m\u001b[0;34m)\u001b[0m\u001b[0;34m\u001b[0m\u001b[0;34m\u001b[0m\u001b[0m\n\u001b[0m\u001b[1;32m   3808\u001b[0m             \u001b[0;32mif\u001b[0m \u001b[0mis_integer\u001b[0m\u001b[0;34m(\u001b[0m\u001b[0mindexer\u001b[0m\u001b[0;34m)\u001b[0m\u001b[0;34m:\u001b[0m\u001b[0;34m\u001b[0m\u001b[0;34m\u001b[0m\u001b[0m\n\u001b[1;32m   3809\u001b[0m                 \u001b[0mindexer\u001b[0m \u001b[0;34m=\u001b[0m \u001b[0;34m[\u001b[0m\u001b[0mindexer\u001b[0m\u001b[0;34m]\u001b[0m\u001b[0;34m\u001b[0m\u001b[0;34m\u001b[0m\u001b[0m\n",
            "\u001b[0;32m/usr/local/lib/python3.10/dist-packages/pandas/core/indexes/base.py\u001b[0m in \u001b[0;36mget_loc\u001b[0;34m(self, key, method, tolerance)\u001b[0m\n\u001b[1;32m   3802\u001b[0m                 \u001b[0;32mreturn\u001b[0m \u001b[0mself\u001b[0m\u001b[0;34m.\u001b[0m\u001b[0m_engine\u001b[0m\u001b[0;34m.\u001b[0m\u001b[0mget_loc\u001b[0m\u001b[0;34m(\u001b[0m\u001b[0mcasted_key\u001b[0m\u001b[0;34m)\u001b[0m\u001b[0;34m\u001b[0m\u001b[0;34m\u001b[0m\u001b[0m\n\u001b[1;32m   3803\u001b[0m             \u001b[0;32mexcept\u001b[0m \u001b[0mKeyError\u001b[0m \u001b[0;32mas\u001b[0m \u001b[0merr\u001b[0m\u001b[0;34m:\u001b[0m\u001b[0;34m\u001b[0m\u001b[0;34m\u001b[0m\u001b[0m\n\u001b[0;32m-> 3804\u001b[0;31m                 \u001b[0;32mraise\u001b[0m \u001b[0mKeyError\u001b[0m\u001b[0;34m(\u001b[0m\u001b[0mkey\u001b[0m\u001b[0;34m)\u001b[0m \u001b[0;32mfrom\u001b[0m \u001b[0merr\u001b[0m\u001b[0;34m\u001b[0m\u001b[0;34m\u001b[0m\u001b[0m\n\u001b[0m\u001b[1;32m   3805\u001b[0m             \u001b[0;32mexcept\u001b[0m \u001b[0mTypeError\u001b[0m\u001b[0;34m:\u001b[0m\u001b[0;34m\u001b[0m\u001b[0;34m\u001b[0m\u001b[0m\n\u001b[1;32m   3806\u001b[0m                 \u001b[0;31m# If we have a listlike key, _check_indexing_error will raise\u001b[0m\u001b[0;34m\u001b[0m\u001b[0;34m\u001b[0m\u001b[0m\n",
            "\u001b[0;31mKeyError\u001b[0m: 'errors'"
          ]
        }
      ]
    },
    {
      "cell_type": "markdown",
      "source": [
        "#Scrape URLs From A Single XML Sitemap\n",
        "\n",
        "### columns could be:\n",
        "columns=['loc',\t'lastmod',\t'changefreq',\t'priority',\t'image',\t'image_loc',\t'image_caption',\t'image_title',\t'sitemap',\t'sitemap_size_mb',\t'download_date']"
      ],
      "metadata": {
        "id": "JxQPwUvjtuo8"
      }
    },
    {
      "cell_type": "code",
      "execution_count": null,
      "metadata": {
        "id": "yeWfo7UXRC62",
        "colab": {
          "base_uri": "https://localhost:8080/",
          "height": 399
        },
        "outputId": "c66fc60f-0eb3-465b-ee91-5a474004c247"
      },
      "outputs": [
        {
          "output_type": "stream",
          "name": "stderr",
          "text": [
            "INFO:root:Getting https://yoast.com/yoast_developer_blog-sitemap.xml\n"
          ]
        },
        {
          "output_type": "stream",
          "name": "stdout",
          "text": [
            "113\n"
          ]
        },
        {
          "output_type": "execute_result",
          "data": {
            "text/plain": [
              "                                                                                         loc  \\\n",
              "0                                                          https://yoast.com/developer-blog/   \n",
              "1  https://yoast.com/developer-blog/release-candidate-yoast-seo-for-magento-2-now-available/   \n",
              "2                                https://yoast.com/developer-blog/dont-rely-title-attribute/   \n",
              "3                                 https://yoast.com/developer-blog/accessibility-future-you/   \n",
              "4                                     https://yoast.com/developer-blog/x-redirect-by-header/   \n",
              "\n",
              "      lastmod                                             sitemap  \\\n",
              "0  2024-01-18  https://yoast.com/yoast_developer_blog-sitemap.xml   \n",
              "1  2017-05-05  https://yoast.com/yoast_developer_blog-sitemap.xml   \n",
              "2  2017-06-09  https://yoast.com/yoast_developer_blog-sitemap.xml   \n",
              "3  2017-07-28  https://yoast.com/yoast_developer_blog-sitemap.xml   \n",
              "4  2017-10-27  https://yoast.com/yoast_developer_blog-sitemap.xml   \n",
              "\n",
              "   sitemap_size_mb                    download_date  \n",
              "0         0.039176 2024-01-27 19:11:35.995357+00:00  \n",
              "1         0.039176 2024-01-27 19:11:35.995357+00:00  \n",
              "2         0.039176 2024-01-27 19:11:35.995357+00:00  \n",
              "3         0.039176 2024-01-27 19:11:35.995357+00:00  \n",
              "4         0.039176 2024-01-27 19:11:35.995357+00:00  "
            ],
            "text/html": [
              "\n",
              "  <div id=\"df-d28b09f2-4881-4c86-8df6-b8073e90ef22\" class=\"colab-df-container\">\n",
              "    <div>\n",
              "<style scoped>\n",
              "    .dataframe tbody tr th:only-of-type {\n",
              "        vertical-align: middle;\n",
              "    }\n",
              "\n",
              "    .dataframe tbody tr th {\n",
              "        vertical-align: top;\n",
              "    }\n",
              "\n",
              "    .dataframe thead th {\n",
              "        text-align: right;\n",
              "    }\n",
              "</style>\n",
              "<table border=\"1\" class=\"dataframe\">\n",
              "  <thead>\n",
              "    <tr style=\"text-align: right;\">\n",
              "      <th></th>\n",
              "      <th>loc</th>\n",
              "      <th>lastmod</th>\n",
              "      <th>sitemap</th>\n",
              "      <th>sitemap_size_mb</th>\n",
              "      <th>download_date</th>\n",
              "    </tr>\n",
              "  </thead>\n",
              "  <tbody>\n",
              "    <tr>\n",
              "      <th>0</th>\n",
              "      <td>https://yoast.com/developer-blog/</td>\n",
              "      <td>2024-01-18</td>\n",
              "      <td>https://yoast.com/yoast_developer_blog-sitemap.xml</td>\n",
              "      <td>0.039176</td>\n",
              "      <td>2024-01-27 19:11:35.995357+00:00</td>\n",
              "    </tr>\n",
              "    <tr>\n",
              "      <th>1</th>\n",
              "      <td>https://yoast.com/developer-blog/release-candidate-yoast-seo-for-magento-2-now-available/</td>\n",
              "      <td>2017-05-05</td>\n",
              "      <td>https://yoast.com/yoast_developer_blog-sitemap.xml</td>\n",
              "      <td>0.039176</td>\n",
              "      <td>2024-01-27 19:11:35.995357+00:00</td>\n",
              "    </tr>\n",
              "    <tr>\n",
              "      <th>2</th>\n",
              "      <td>https://yoast.com/developer-blog/dont-rely-title-attribute/</td>\n",
              "      <td>2017-06-09</td>\n",
              "      <td>https://yoast.com/yoast_developer_blog-sitemap.xml</td>\n",
              "      <td>0.039176</td>\n",
              "      <td>2024-01-27 19:11:35.995357+00:00</td>\n",
              "    </tr>\n",
              "    <tr>\n",
              "      <th>3</th>\n",
              "      <td>https://yoast.com/developer-blog/accessibility-future-you/</td>\n",
              "      <td>2017-07-28</td>\n",
              "      <td>https://yoast.com/yoast_developer_blog-sitemap.xml</td>\n",
              "      <td>0.039176</td>\n",
              "      <td>2024-01-27 19:11:35.995357+00:00</td>\n",
              "    </tr>\n",
              "    <tr>\n",
              "      <th>4</th>\n",
              "      <td>https://yoast.com/developer-blog/x-redirect-by-header/</td>\n",
              "      <td>2017-10-27</td>\n",
              "      <td>https://yoast.com/yoast_developer_blog-sitemap.xml</td>\n",
              "      <td>0.039176</td>\n",
              "      <td>2024-01-27 19:11:35.995357+00:00</td>\n",
              "    </tr>\n",
              "  </tbody>\n",
              "</table>\n",
              "</div>\n",
              "    <div class=\"colab-df-buttons\">\n",
              "\n",
              "  <div class=\"colab-df-container\">\n",
              "    <button class=\"colab-df-convert\" onclick=\"convertToInteractive('df-d28b09f2-4881-4c86-8df6-b8073e90ef22')\"\n",
              "            title=\"Convert this dataframe to an interactive table.\"\n",
              "            style=\"display:none;\">\n",
              "\n",
              "  <svg xmlns=\"http://www.w3.org/2000/svg\" height=\"24px\" viewBox=\"0 -960 960 960\">\n",
              "    <path d=\"M120-120v-720h720v720H120Zm60-500h600v-160H180v160Zm220 220h160v-160H400v160Zm0 220h160v-160H400v160ZM180-400h160v-160H180v160Zm440 0h160v-160H620v160ZM180-180h160v-160H180v160Zm440 0h160v-160H620v160Z\"/>\n",
              "  </svg>\n",
              "    </button>\n",
              "\n",
              "  <style>\n",
              "    .colab-df-container {\n",
              "      display:flex;\n",
              "      gap: 12px;\n",
              "    }\n",
              "\n",
              "    .colab-df-convert {\n",
              "      background-color: #E8F0FE;\n",
              "      border: none;\n",
              "      border-radius: 50%;\n",
              "      cursor: pointer;\n",
              "      display: none;\n",
              "      fill: #1967D2;\n",
              "      height: 32px;\n",
              "      padding: 0 0 0 0;\n",
              "      width: 32px;\n",
              "    }\n",
              "\n",
              "    .colab-df-convert:hover {\n",
              "      background-color: #E2EBFA;\n",
              "      box-shadow: 0px 1px 2px rgba(60, 64, 67, 0.3), 0px 1px 3px 1px rgba(60, 64, 67, 0.15);\n",
              "      fill: #174EA6;\n",
              "    }\n",
              "\n",
              "    .colab-df-buttons div {\n",
              "      margin-bottom: 4px;\n",
              "    }\n",
              "\n",
              "    [theme=dark] .colab-df-convert {\n",
              "      background-color: #3B4455;\n",
              "      fill: #D2E3FC;\n",
              "    }\n",
              "\n",
              "    [theme=dark] .colab-df-convert:hover {\n",
              "      background-color: #434B5C;\n",
              "      box-shadow: 0px 1px 3px 1px rgba(0, 0, 0, 0.15);\n",
              "      filter: drop-shadow(0px 1px 2px rgba(0, 0, 0, 0.3));\n",
              "      fill: #FFFFFF;\n",
              "    }\n",
              "  </style>\n",
              "\n",
              "    <script>\n",
              "      const buttonEl =\n",
              "        document.querySelector('#df-d28b09f2-4881-4c86-8df6-b8073e90ef22 button.colab-df-convert');\n",
              "      buttonEl.style.display =\n",
              "        google.colab.kernel.accessAllowed ? 'block' : 'none';\n",
              "\n",
              "      async function convertToInteractive(key) {\n",
              "        const element = document.querySelector('#df-d28b09f2-4881-4c86-8df6-b8073e90ef22');\n",
              "        const dataTable =\n",
              "          await google.colab.kernel.invokeFunction('convertToInteractive',\n",
              "                                                    [key], {});\n",
              "        if (!dataTable) return;\n",
              "\n",
              "        const docLinkHtml = 'Like what you see? Visit the ' +\n",
              "          '<a target=\"_blank\" href=https://colab.research.google.com/notebooks/data_table.ipynb>data table notebook</a>'\n",
              "          + ' to learn more about interactive tables.';\n",
              "        element.innerHTML = '';\n",
              "        dataTable['output_type'] = 'display_data';\n",
              "        await google.colab.output.renderOutput(dataTable, element);\n",
              "        const docLink = document.createElement('div');\n",
              "        docLink.innerHTML = docLinkHtml;\n",
              "        element.appendChild(docLink);\n",
              "      }\n",
              "    </script>\n",
              "  </div>\n",
              "\n",
              "\n",
              "<div id=\"df-d7ee87d8-712f-424a-9147-49f1207ebd93\">\n",
              "  <button class=\"colab-df-quickchart\" onclick=\"quickchart('df-d7ee87d8-712f-424a-9147-49f1207ebd93')\"\n",
              "            title=\"Suggest charts\"\n",
              "            style=\"display:none;\">\n",
              "\n",
              "<svg xmlns=\"http://www.w3.org/2000/svg\" height=\"24px\"viewBox=\"0 0 24 24\"\n",
              "     width=\"24px\">\n",
              "    <g>\n",
              "        <path d=\"M19 3H5c-1.1 0-2 .9-2 2v14c0 1.1.9 2 2 2h14c1.1 0 2-.9 2-2V5c0-1.1-.9-2-2-2zM9 17H7v-7h2v7zm4 0h-2V7h2v10zm4 0h-2v-4h2v4z\"/>\n",
              "    </g>\n",
              "</svg>\n",
              "  </button>\n",
              "\n",
              "<style>\n",
              "  .colab-df-quickchart {\n",
              "      --bg-color: #E8F0FE;\n",
              "      --fill-color: #1967D2;\n",
              "      --hover-bg-color: #E2EBFA;\n",
              "      --hover-fill-color: #174EA6;\n",
              "      --disabled-fill-color: #AAA;\n",
              "      --disabled-bg-color: #DDD;\n",
              "  }\n",
              "\n",
              "  [theme=dark] .colab-df-quickchart {\n",
              "      --bg-color: #3B4455;\n",
              "      --fill-color: #D2E3FC;\n",
              "      --hover-bg-color: #434B5C;\n",
              "      --hover-fill-color: #FFFFFF;\n",
              "      --disabled-bg-color: #3B4455;\n",
              "      --disabled-fill-color: #666;\n",
              "  }\n",
              "\n",
              "  .colab-df-quickchart {\n",
              "    background-color: var(--bg-color);\n",
              "    border: none;\n",
              "    border-radius: 50%;\n",
              "    cursor: pointer;\n",
              "    display: none;\n",
              "    fill: var(--fill-color);\n",
              "    height: 32px;\n",
              "    padding: 0;\n",
              "    width: 32px;\n",
              "  }\n",
              "\n",
              "  .colab-df-quickchart:hover {\n",
              "    background-color: var(--hover-bg-color);\n",
              "    box-shadow: 0 1px 2px rgba(60, 64, 67, 0.3), 0 1px 3px 1px rgba(60, 64, 67, 0.15);\n",
              "    fill: var(--button-hover-fill-color);\n",
              "  }\n",
              "\n",
              "  .colab-df-quickchart-complete:disabled,\n",
              "  .colab-df-quickchart-complete:disabled:hover {\n",
              "    background-color: var(--disabled-bg-color);\n",
              "    fill: var(--disabled-fill-color);\n",
              "    box-shadow: none;\n",
              "  }\n",
              "\n",
              "  .colab-df-spinner {\n",
              "    border: 2px solid var(--fill-color);\n",
              "    border-color: transparent;\n",
              "    border-bottom-color: var(--fill-color);\n",
              "    animation:\n",
              "      spin 1s steps(1) infinite;\n",
              "  }\n",
              "\n",
              "  @keyframes spin {\n",
              "    0% {\n",
              "      border-color: transparent;\n",
              "      border-bottom-color: var(--fill-color);\n",
              "      border-left-color: var(--fill-color);\n",
              "    }\n",
              "    20% {\n",
              "      border-color: transparent;\n",
              "      border-left-color: var(--fill-color);\n",
              "      border-top-color: var(--fill-color);\n",
              "    }\n",
              "    30% {\n",
              "      border-color: transparent;\n",
              "      border-left-color: var(--fill-color);\n",
              "      border-top-color: var(--fill-color);\n",
              "      border-right-color: var(--fill-color);\n",
              "    }\n",
              "    40% {\n",
              "      border-color: transparent;\n",
              "      border-right-color: var(--fill-color);\n",
              "      border-top-color: var(--fill-color);\n",
              "    }\n",
              "    60% {\n",
              "      border-color: transparent;\n",
              "      border-right-color: var(--fill-color);\n",
              "    }\n",
              "    80% {\n",
              "      border-color: transparent;\n",
              "      border-right-color: var(--fill-color);\n",
              "      border-bottom-color: var(--fill-color);\n",
              "    }\n",
              "    90% {\n",
              "      border-color: transparent;\n",
              "      border-bottom-color: var(--fill-color);\n",
              "    }\n",
              "  }\n",
              "</style>\n",
              "\n",
              "  <script>\n",
              "    async function quickchart(key) {\n",
              "      const quickchartButtonEl =\n",
              "        document.querySelector('#' + key + ' button');\n",
              "      quickchartButtonEl.disabled = true;  // To prevent multiple clicks.\n",
              "      quickchartButtonEl.classList.add('colab-df-spinner');\n",
              "      try {\n",
              "        const charts = await google.colab.kernel.invokeFunction(\n",
              "            'suggestCharts', [key], {});\n",
              "      } catch (error) {\n",
              "        console.error('Error during call to suggestCharts:', error);\n",
              "      }\n",
              "      quickchartButtonEl.classList.remove('colab-df-spinner');\n",
              "      quickchartButtonEl.classList.add('colab-df-quickchart-complete');\n",
              "    }\n",
              "    (() => {\n",
              "      let quickchartButtonEl =\n",
              "        document.querySelector('#df-d7ee87d8-712f-424a-9147-49f1207ebd93 button');\n",
              "      quickchartButtonEl.style.display =\n",
              "        google.colab.kernel.accessAllowed ? 'block' : 'none';\n",
              "    })();\n",
              "  </script>\n",
              "</div>\n",
              "    </div>\n",
              "  </div>\n"
            ]
          },
          "metadata": {},
          "execution_count": 31
        }
      ],
      "source": [
        "x = adv.sitemap_to_df(\"https://yoast.com/yoast_developer_blog-sitemap.xml\")\n",
        "df = pd.DataFrame(x, columns=['loc', 'lastmod', 'sitemap', 'sitemap_size_mb', 'download_date'])\n",
        "df['lastmod'] = df['lastmod'].dt.strftime('%Y-%m-%d')\n",
        "#drop multiple columns\n",
        "#sitemap_url = df.drop(['sitemap_last_modified'], axis=1)\n",
        "print(len(df))\n",
        "df.head()\n"
      ]
    },
    {
      "cell_type": "code",
      "source": [
        "#@title Inspect Publishing Trends based on the lastmod\n",
        "import plotly.graph_objects as go\n",
        "import plotly.express as px\n",
        "\n",
        "fig = go.Figure()\n",
        "\n",
        "fig.add_trace(\n",
        "    go.Scatter(\n",
        "        x=df['lastmod'].sort_values(),\n",
        "        y=np.arange(1, len(df) + 1) / len(df),\n",
        "        mode='markers',\n",
        "        marker=dict(size=15, opacity=0.8, color='gold'),\n",
        "        name='ECDF'\n",
        "    )\n",
        ")\n",
        "\n",
        "fig.add_shape(\n",
        "    type='rect',\n",
        "    x0='2022-01-01', x1='2022-12-31', y0=0, y1=1,\n",
        "    fillcolor='gray', opacity=0.2,\n",
        "    xref='x', yref='paper',\n",
        "    layer='below',\n",
        "    name='No publishing',\n",
        ")\n",
        "\n",
        "fig.add_shape(\n",
        "    type='rect',\n",
        "    x0='2023-01-01', x1='2023-07-05', y0=0, y1=1,\n",
        "    fillcolor='gray', opacity=0.2,\n",
        "    xref='x', yref='paper',\n",
        "    layer='below',\n",
        "    name='Frequent publishing',\n",
        ")\n",
        "\n",
        "fig.update_layout(\n",
        "    title='Kellogs publishing trends<br>(lastmod tags of XML sitemap)',\n",
        "    template='plotly_dark',\n",
        "    height=500\n",
        ")\n",
        "\n",
        "fig.show()\n"
      ],
      "metadata": {
        "colab": {
          "base_uri": "https://localhost:8080/",
          "height": 517
        },
        "id": "IAnXb6keqtvf",
        "outputId": "e7fb6718-6897-4ae1-813f-2f7ab2cccf11"
      },
      "execution_count": null,
      "outputs": [
        {
          "output_type": "display_data",
          "data": {
            "text/html": [
              "<html>\n",
              "<head><meta charset=\"utf-8\" /></head>\n",
              "<body>\n",
              "    <div>            <script src=\"https://cdnjs.cloudflare.com/ajax/libs/mathjax/2.7.5/MathJax.js?config=TeX-AMS-MML_SVG\"></script><script type=\"text/javascript\">if (window.MathJax && window.MathJax.Hub && window.MathJax.Hub.Config) {window.MathJax.Hub.Config({SVG: {font: \"STIX-Web\"}});}</script>                <script type=\"text/javascript\">window.PlotlyConfig = {MathJaxConfig: 'local'};</script>\n",
              "        <script charset=\"utf-8\" src=\"https://cdn.plot.ly/plotly-2.24.1.min.js\"></script>                <div id=\"97457f19-4d74-4472-85b4-4e4f77b07a0c\" class=\"plotly-graph-div\" style=\"height:500px; width:100%;\"></div>            <script type=\"text/javascript\">                                    window.PLOTLYENV=window.PLOTLYENV || {};                                    if (document.getElementById(\"97457f19-4d74-4472-85b4-4e4f77b07a0c\")) {                    Plotly.newPlot(                        \"97457f19-4d74-4472-85b4-4e4f77b07a0c\",                        [{\"marker\":{\"color\":\"gold\",\"opacity\":0.8,\"size\":15},\"mode\":\"markers\",\"name\":\"ECDF\",\"x\":[\"2020-02-17\",\"2020-02-17\",\"2020-02-17\",\"2020-02-17\",\"2020-02-17\",\"2020-02-17\",\"2020-02-17\",\"2020-02-17\",\"2020-02-17\",\"2020-02-17\",\"2020-02-17\",\"2020-02-17\",\"2020-02-17\",\"2020-02-17\",\"2020-02-17\",\"2020-02-17\",\"2020-02-17\",\"2020-02-17\",\"2020-02-17\",\"2020-02-17\",\"2020-02-17\",\"2020-02-17\",\"2020-02-17\",\"2020-03-05\",\"2020-03-31\",\"2020-03-31\",\"2020-04-02\",\"2020-04-02\",\"2020-04-07\",\"2020-04-08\",\"2020-04-16\",\"2020-04-28\",\"2020-05-07\",\"2020-05-07\",\"2020-05-28\",\"2020-06-05\",\"2020-06-05\",\"2020-06-05\",\"2020-06-22\",\"2020-08-18\",\"2020-08-18\",\"2021-01-04\",\"2021-01-08\",\"2021-01-27\",\"2021-02-05\",\"2021-02-15\",\"2021-02-15\",\"2021-02-15\",\"2021-02-15\",\"2021-02-22\",\"2021-03-10\",\"2021-03-10\",\"2021-03-24\",\"2021-04-15\",\"2021-04-23\",\"2021-04-29\",\"2021-05-13\",\"2021-05-13\",\"2021-05-13\",\"2021-05-19\",\"2021-05-20\",\"2021-05-27\",\"2021-05-27\",\"2021-06-09\",\"2021-06-10\",\"2021-06-30\",\"2021-08-04\",\"2021-08-12\",\"2021-08-12\",\"2021-08-12\",\"2021-08-12\",\"2021-08-12\",\"2021-08-12\",\"2021-08-19\",\"2021-08-26\",\"2021-08-26\",\"2021-09-14\",\"2021-10-21\",\"2021-10-21\",\"2021-10-21\",\"2021-11-11\",\"2021-11-29\",\"2021-12-09\",\"2021-12-09\",\"2021-12-09\",\"2021-12-09\",\"2021-12-16\",\"2021-12-16\",\"2021-12-16\",\"2021-12-17\",\"2021-12-28\",\"2021-12-28\",\"2021-12-28\",\"2021-12-28\",\"2022-01-27\",\"2022-02-07\",\"2022-02-07\",\"2022-02-08\",\"2022-02-10\",\"2022-02-10\",\"2022-02-23\",\"2022-02-24\",\"2022-02-24\",\"2022-02-24\",\"2022-03-03\",\"2022-03-14\",\"2022-03-14\",\"2022-03-17\",\"2022-03-17\",\"2022-03-17\",\"2022-03-17\",\"2022-03-18\",\"2022-03-18\",\"2022-03-24\",\"2022-03-31\",\"2022-04-07\",\"2022-04-21\",\"2022-04-22\",\"2022-04-28\",\"2022-04-28\",\"2022-04-28\",\"2022-05-02\",\"2022-05-12\",\"2022-05-12\",\"2022-05-17\",\"2022-05-19\",\"2022-06-02\",\"2022-06-23\",\"2022-06-24\",\"2022-06-28\",\"2022-06-30\",\"2022-07-04\",\"2022-07-07\",\"2022-07-20\",\"2022-08-02\",\"2022-08-02\",\"2022-08-02\",\"2022-08-02\",\"2022-08-03\",\"2022-08-03\",\"2022-08-03\",\"2022-08-04\",\"2022-08-04\",\"2022-08-04\",\"2022-08-04\",\"2022-08-04\",\"2022-08-04\",\"2022-08-05\",\"2022-08-05\",\"2022-08-05\",\"2022-08-05\",\"2022-08-05\",\"2022-08-08\",\"2022-08-08\",\"2022-08-08\",\"2022-08-09\",\"2022-08-09\",\"2022-08-09\",\"2022-08-09\",\"2022-08-10\",\"2022-08-10\",\"2022-08-10\",\"2022-08-18\",\"2022-08-18\",\"2022-08-18\",\"2022-09-01\",\"2022-09-01\",\"2022-09-01\",\"2022-09-01\",\"2022-09-01\",\"2022-09-01\",\"2022-09-01\",\"2022-09-08\",\"2022-09-08\",\"2022-09-11\",\"2022-09-11\",\"2022-09-15\",\"2022-09-20\",\"2022-09-20\",\"2022-09-20\",\"2022-09-20\",\"2022-09-20\",\"2022-09-20\",\"2022-09-20\",\"2022-09-20\",\"2022-09-22\",\"2022-09-22\",\"2022-09-22\",\"2022-09-22\",\"2022-09-22\",\"2022-09-27\",\"2022-10-05\",\"2022-10-06\",\"2022-10-20\",\"2022-10-20\",\"2022-10-25\",\"2022-11-03\",\"2022-11-08\",\"2022-11-10\",\"2022-11-10\",\"2022-11-11\",\"2022-11-15\",\"2022-11-24\",\"2022-12-20\",\"2022-12-20\",\"2022-12-20\",\"2022-12-20\",\"2022-12-29\",\"2022-12-29\",\"2022-12-29\",\"2022-12-29\",\"2022-12-29\",\"2022-12-29\",\"2022-12-29\",\"2022-12-29\",\"2022-12-29\",\"2023-01-05\",\"2023-01-05\",\"2023-01-10\",\"2023-01-10\",\"2023-01-10\",\"2023-01-24\",\"2023-01-24\",\"2023-01-24\",\"2023-01-24\",\"2023-01-24\",\"2023-01-24\",\"2023-01-24\",\"2023-01-24\",\"2023-01-24\",\"2023-01-24\",\"2023-01-24\",\"2023-01-24\",\"2023-01-24\",\"2023-01-24\",\"2023-01-24\",\"2023-01-24\",\"2023-01-24\",\"2023-01-24\",\"2023-01-24\",\"2023-01-24\",\"2023-01-24\",\"2023-01-24\",\"2023-01-24\",\"2023-01-24\",\"2023-01-24\",\"2023-01-24\",\"2023-01-24\",\"2023-01-24\",\"2023-01-24\",\"2023-01-24\",\"2023-01-24\",\"2023-01-24\",\"2023-01-24\",\"2023-01-24\",\"2023-01-24\",\"2023-01-24\",\"2023-01-24\",\"2023-01-24\",\"2023-01-24\",\"2023-01-24\",\"2023-01-24\",\"2023-01-24\",\"2023-01-24\",\"2023-01-24\",\"2023-01-24\",\"2023-01-24\",\"2023-01-24\",\"2023-01-24\",\"2023-01-24\",\"2023-01-24\",\"2023-01-24\",\"2023-01-24\",\"2023-01-24\",\"2023-01-24\",\"2023-01-24\",\"2023-01-26\",\"2023-01-26\",\"2023-01-26\",\"2023-01-30\",\"2023-01-30\",\"2023-01-31\",\"2023-02-02\",\"2023-02-07\",\"2023-02-08\",\"2023-02-08\",\"2023-02-09\",\"2023-02-09\",\"2023-02-15\",\"2023-02-16\",\"2023-02-20\",\"2023-02-21\",\"2023-02-21\",\"2023-02-21\",\"2023-02-28\",\"2023-03-10\",\"2023-03-10\",\"2023-03-10\",\"2023-03-14\",\"2023-03-14\",\"2023-03-30\",\"2023-04-03\",\"2023-04-06\",\"2023-04-11\",\"2023-04-13\",\"2023-04-13\",\"2023-04-13\",\"2023-04-13\",\"2023-04-13\",\"2023-04-14\",\"2023-04-14\",\"2023-04-17\",\"2023-04-26\",\"2023-04-26\",\"2023-05-01\",\"2023-05-01\",\"2023-05-09\",\"2023-05-17\",\"2023-05-17\",\"2023-06-13\",\"2023-06-22\",\"2023-07-04\",\"2023-07-11\",\"2023-07-25\",\"2023-07-27\",\"2023-08-08\",\"2023-08-08\",\"2023-08-23\",\"2023-08-23\",\"2023-08-24\",\"2023-09-04\",\"2023-09-04\",\"2023-09-05\",\"2023-09-08\",\"2023-09-08\",\"2023-09-08\",\"2023-09-08\",\"2023-09-08\",\"2023-09-12\",\"2023-09-13\",\"2023-09-13\",\"2023-09-19\",\"2023-10-05\",\"2023-10-13\",\"2023-10-19\",\"2023-10-23\",\"2023-10-31\",\"2023-11-02\",\"2023-11-02\",\"2023-11-02\",\"2023-11-17\",\"2023-11-21\",\"2023-11-28\",\"2023-11-28\",\"2023-12-01\",\"2023-12-12\",\"2023-12-12\",\"2023-12-19\",\"2024-01-09\",\"2024-01-09\",\"2024-01-09\",\"2024-01-09\",\"2024-01-09\",\"2024-01-09\",\"2024-01-09\",\"2024-01-09\",\"2024-01-09\",\"2024-01-09\",\"2024-01-09\",\"2024-01-09\",\"2024-01-09\",\"2024-01-09\",\"2024-01-26\",\"2024-01-26\"],\"y\":[0.00267379679144385,0.0053475935828877,0.008021390374331552,0.0106951871657754,0.013368983957219251,0.016042780748663103,0.01871657754010695,0.0213903743315508,0.02406417112299465,0.026737967914438502,0.029411764705882353,0.03208556149732621,0.034759358288770054,0.0374331550802139,0.040106951871657755,0.0427807486631016,0.045454545454545456,0.0481283422459893,0.05080213903743316,0.053475935828877004,0.05614973262032086,0.058823529411764705,0.06149732620320856,0.06417112299465241,0.06684491978609626,0.06951871657754011,0.07219251336898395,0.0748663101604278,0.07754010695187166,0.08021390374331551,0.08288770053475936,0.0855614973262032,0.08823529411764706,0.09090909090909091,0.09358288770053476,0.0962566844919786,0.09893048128342247,0.10160427807486631,0.10427807486631016,0.10695187165775401,0.10962566844919786,0.11229946524064172,0.11497326203208556,0.11764705882352941,0.12032085561497326,0.12299465240641712,0.12566844919786097,0.12834224598930483,0.13101604278074866,0.13368983957219252,0.13636363636363635,0.13903743315508021,0.14171122994652408,0.1443850267379679,0.14705882352941177,0.1497326203208556,0.15240641711229946,0.15508021390374332,0.15775401069518716,0.16042780748663102,0.16310160427807488,0.1657754010695187,0.16844919786096257,0.1711229946524064,0.17379679144385027,0.17647058823529413,0.17914438502673796,0.18181818181818182,0.18449197860962566,0.18716577540106952,0.18983957219251338,0.1925133689839572,0.19518716577540107,0.19786096256684493,0.20053475935828877,0.20320855614973263,0.20588235294117646,0.20855614973262032,0.21122994652406418,0.21390374331550802,0.21657754010695188,0.2192513368983957,0.22192513368983957,0.22459893048128343,0.22727272727272727,0.22994652406417113,0.232620320855615,0.23529411764705882,0.23796791443850268,0.24064171122994651,0.24331550802139038,0.24598930481283424,0.24866310160427807,0.25133689839572193,0.2540106951871658,0.25668449197860965,0.25935828877005346,0.2620320855614973,0.2647058823529412,0.26737967914438504,0.2700534759358289,0.2727272727272727,0.27540106951871657,0.27807486631016043,0.2807486631016043,0.28342245989304815,0.28609625668449196,0.2887700534759358,0.2914438502673797,0.29411764705882354,0.2967914438502674,0.2994652406417112,0.30213903743315507,0.3048128342245989,0.3074866310160428,0.31016042780748665,0.31283422459893045,0.3155080213903743,0.3181818181818182,0.32085561497326204,0.3235294117647059,0.32620320855614976,0.32887700534759357,0.3315508021390374,0.3342245989304813,0.33689839572192515,0.339572192513369,0.3422459893048128,0.3449197860962567,0.34759358288770054,0.3502673796791444,0.35294117647058826,0.35561497326203206,0.3582887700534759,0.3609625668449198,0.36363636363636365,0.3663101604278075,0.3689839572192513,0.3716577540106952,0.37433155080213903,0.3770053475935829,0.37967914438502676,0.38235294117647056,0.3850267379679144,0.3877005347593583,0.39037433155080214,0.393048128342246,0.39572192513368987,0.3983957219251337,0.40106951871657753,0.4037433155080214,0.40641711229946526,0.4090909090909091,0.4117647058823529,0.4144385026737968,0.41711229946524064,0.4197860962566845,0.42245989304812837,0.42513368983957217,0.42780748663101603,0.4304812834224599,0.43315508021390375,0.4358288770053476,0.4385026737967914,0.4411764705882353,0.44385026737967914,0.446524064171123,0.44919786096256686,0.45187165775401067,0.45454545454545453,0.4572192513368984,0.45989304812834225,0.4625668449197861,0.46524064171123,0.4679144385026738,0.47058823529411764,0.4732620320855615,0.47593582887700536,0.4786096256684492,0.48128342245989303,0.4839572192513369,0.48663101604278075,0.4893048128342246,0.4919786096256685,0.4946524064171123,0.49732620320855614,0.5,0.5026737967914439,0.5053475935828877,0.5080213903743316,0.5106951871657754,0.5133689839572193,0.516042780748663,0.5187165775401069,0.5213903743315508,0.5240641711229946,0.5267379679144385,0.5294117647058824,0.5320855614973262,0.5347593582887701,0.5374331550802139,0.5401069518716578,0.5427807486631016,0.5454545454545454,0.5481283422459893,0.5508021390374331,0.553475935828877,0.5561497326203209,0.5588235294117647,0.5614973262032086,0.5641711229946524,0.5668449197860963,0.56951871657754,0.5721925133689839,0.5748663101604278,0.5775401069518716,0.5802139037433155,0.5828877005347594,0.5855614973262032,0.5882352941176471,0.5909090909090909,0.5935828877005348,0.5962566844919787,0.5989304812834224,0.6016042780748663,0.6042780748663101,0.606951871657754,0.6096256684491979,0.6122994652406417,0.6149732620320856,0.6176470588235294,0.6203208556149733,0.6229946524064172,0.6256684491978609,0.6283422459893048,0.6310160427807486,0.6336898395721925,0.6363636363636364,0.6390374331550802,0.6417112299465241,0.6443850267379679,0.6470588235294118,0.6497326203208557,0.6524064171122995,0.6550802139037433,0.6577540106951871,0.660427807486631,0.6631016042780749,0.6657754010695187,0.6684491978609626,0.6711229946524064,0.6737967914438503,0.6764705882352942,0.679144385026738,0.6818181818181818,0.6844919786096256,0.6871657754010695,0.6898395721925134,0.6925133689839572,0.6951871657754011,0.6978609625668449,0.7005347593582888,0.7032085561497327,0.7058823529411765,0.7085561497326203,0.7112299465240641,0.713903743315508,0.7165775401069518,0.7192513368983957,0.7219251336898396,0.7245989304812834,0.7272727272727273,0.7299465240641712,0.732620320855615,0.7352941176470589,0.7379679144385026,0.7406417112299465,0.7433155080213903,0.7459893048128342,0.7486631016042781,0.7513368983957219,0.7540106951871658,0.7566844919786097,0.7593582887700535,0.7620320855614974,0.7647058823529411,0.767379679144385,0.7700534759358288,0.7727272727272727,0.7754010695187166,0.7780748663101604,0.7807486631016043,0.7834224598930482,0.786096256684492,0.7887700534759359,0.7914438502673797,0.7941176470588235,0.7967914438502673,0.7994652406417112,0.8021390374331551,0.8048128342245989,0.8074866310160428,0.8101604278074866,0.8128342245989305,0.8155080213903744,0.8181818181818182,0.820855614973262,0.8235294117647058,0.8262032085561497,0.8288770053475936,0.8315508021390374,0.8342245989304813,0.8368983957219251,0.839572192513369,0.8422459893048129,0.8449197860962567,0.8475935828877005,0.8502673796791443,0.8529411764705882,0.8556149732620321,0.8582887700534759,0.8609625668449198,0.8636363636363636,0.8663101604278075,0.8689839572192514,0.8716577540106952,0.8743315508021391,0.8770053475935828,0.8796791443850267,0.8823529411764706,0.8850267379679144,0.8877005347593583,0.8903743315508021,0.893048128342246,0.8957219251336899,0.8983957219251337,0.9010695187165776,0.9037433155080213,0.9064171122994652,0.9090909090909091,0.9117647058823529,0.9144385026737968,0.9171122994652406,0.9197860962566845,0.9224598930481284,0.9251336898395722,0.9278074866310161,0.93048128342246,0.9331550802139037,0.9358288770053476,0.9385026737967914,0.9411764705882353,0.9438502673796791,0.946524064171123,0.9491978609625669,0.9518716577540107,0.9545454545454546,0.9572192513368984,0.9598930481283422,0.9625668449197861,0.9652406417112299,0.9679144385026738,0.9705882352941176,0.9732620320855615,0.9759358288770054,0.9786096256684492,0.9812834224598931,0.983957219251337,0.9866310160427807,0.9893048128342246,0.9919786096256684,0.9946524064171123,0.9973262032085561,1.0],\"type\":\"scatter\"}],                        {\"template\":{\"data\":{\"barpolar\":[{\"marker\":{\"line\":{\"color\":\"rgb(17,17,17)\",\"width\":0.5},\"pattern\":{\"fillmode\":\"overlay\",\"size\":10,\"solidity\":0.2}},\"type\":\"barpolar\"}],\"bar\":[{\"error_x\":{\"color\":\"#f2f5fa\"},\"error_y\":{\"color\":\"#f2f5fa\"},\"marker\":{\"line\":{\"color\":\"rgb(17,17,17)\",\"width\":0.5},\"pattern\":{\"fillmode\":\"overlay\",\"size\":10,\"solidity\":0.2}},\"type\":\"bar\"}],\"carpet\":[{\"aaxis\":{\"endlinecolor\":\"#A2B1C6\",\"gridcolor\":\"#506784\",\"linecolor\":\"#506784\",\"minorgridcolor\":\"#506784\",\"startlinecolor\":\"#A2B1C6\"},\"baxis\":{\"endlinecolor\":\"#A2B1C6\",\"gridcolor\":\"#506784\",\"linecolor\":\"#506784\",\"minorgridcolor\":\"#506784\",\"startlinecolor\":\"#A2B1C6\"},\"type\":\"carpet\"}],\"choropleth\":[{\"colorbar\":{\"outlinewidth\":0,\"ticks\":\"\"},\"type\":\"choropleth\"}],\"contourcarpet\":[{\"colorbar\":{\"outlinewidth\":0,\"ticks\":\"\"},\"type\":\"contourcarpet\"}],\"contour\":[{\"colorbar\":{\"outlinewidth\":0,\"ticks\":\"\"},\"colorscale\":[[0.0,\"#0d0887\"],[0.1111111111111111,\"#46039f\"],[0.2222222222222222,\"#7201a8\"],[0.3333333333333333,\"#9c179e\"],[0.4444444444444444,\"#bd3786\"],[0.5555555555555556,\"#d8576b\"],[0.6666666666666666,\"#ed7953\"],[0.7777777777777778,\"#fb9f3a\"],[0.8888888888888888,\"#fdca26\"],[1.0,\"#f0f921\"]],\"type\":\"contour\"}],\"heatmapgl\":[{\"colorbar\":{\"outlinewidth\":0,\"ticks\":\"\"},\"colorscale\":[[0.0,\"#0d0887\"],[0.1111111111111111,\"#46039f\"],[0.2222222222222222,\"#7201a8\"],[0.3333333333333333,\"#9c179e\"],[0.4444444444444444,\"#bd3786\"],[0.5555555555555556,\"#d8576b\"],[0.6666666666666666,\"#ed7953\"],[0.7777777777777778,\"#fb9f3a\"],[0.8888888888888888,\"#fdca26\"],[1.0,\"#f0f921\"]],\"type\":\"heatmapgl\"}],\"heatmap\":[{\"colorbar\":{\"outlinewidth\":0,\"ticks\":\"\"},\"colorscale\":[[0.0,\"#0d0887\"],[0.1111111111111111,\"#46039f\"],[0.2222222222222222,\"#7201a8\"],[0.3333333333333333,\"#9c179e\"],[0.4444444444444444,\"#bd3786\"],[0.5555555555555556,\"#d8576b\"],[0.6666666666666666,\"#ed7953\"],[0.7777777777777778,\"#fb9f3a\"],[0.8888888888888888,\"#fdca26\"],[1.0,\"#f0f921\"]],\"type\":\"heatmap\"}],\"histogram2dcontour\":[{\"colorbar\":{\"outlinewidth\":0,\"ticks\":\"\"},\"colorscale\":[[0.0,\"#0d0887\"],[0.1111111111111111,\"#46039f\"],[0.2222222222222222,\"#7201a8\"],[0.3333333333333333,\"#9c179e\"],[0.4444444444444444,\"#bd3786\"],[0.5555555555555556,\"#d8576b\"],[0.6666666666666666,\"#ed7953\"],[0.7777777777777778,\"#fb9f3a\"],[0.8888888888888888,\"#fdca26\"],[1.0,\"#f0f921\"]],\"type\":\"histogram2dcontour\"}],\"histogram2d\":[{\"colorbar\":{\"outlinewidth\":0,\"ticks\":\"\"},\"colorscale\":[[0.0,\"#0d0887\"],[0.1111111111111111,\"#46039f\"],[0.2222222222222222,\"#7201a8\"],[0.3333333333333333,\"#9c179e\"],[0.4444444444444444,\"#bd3786\"],[0.5555555555555556,\"#d8576b\"],[0.6666666666666666,\"#ed7953\"],[0.7777777777777778,\"#fb9f3a\"],[0.8888888888888888,\"#fdca26\"],[1.0,\"#f0f921\"]],\"type\":\"histogram2d\"}],\"histogram\":[{\"marker\":{\"pattern\":{\"fillmode\":\"overlay\",\"size\":10,\"solidity\":0.2}},\"type\":\"histogram\"}],\"mesh3d\":[{\"colorbar\":{\"outlinewidth\":0,\"ticks\":\"\"},\"type\":\"mesh3d\"}],\"parcoords\":[{\"line\":{\"colorbar\":{\"outlinewidth\":0,\"ticks\":\"\"}},\"type\":\"parcoords\"}],\"pie\":[{\"automargin\":true,\"type\":\"pie\"}],\"scatter3d\":[{\"line\":{\"colorbar\":{\"outlinewidth\":0,\"ticks\":\"\"}},\"marker\":{\"colorbar\":{\"outlinewidth\":0,\"ticks\":\"\"}},\"type\":\"scatter3d\"}],\"scattercarpet\":[{\"marker\":{\"colorbar\":{\"outlinewidth\":0,\"ticks\":\"\"}},\"type\":\"scattercarpet\"}],\"scattergeo\":[{\"marker\":{\"colorbar\":{\"outlinewidth\":0,\"ticks\":\"\"}},\"type\":\"scattergeo\"}],\"scattergl\":[{\"marker\":{\"line\":{\"color\":\"#283442\"}},\"type\":\"scattergl\"}],\"scattermapbox\":[{\"marker\":{\"colorbar\":{\"outlinewidth\":0,\"ticks\":\"\"}},\"type\":\"scattermapbox\"}],\"scatterpolargl\":[{\"marker\":{\"colorbar\":{\"outlinewidth\":0,\"ticks\":\"\"}},\"type\":\"scatterpolargl\"}],\"scatterpolar\":[{\"marker\":{\"colorbar\":{\"outlinewidth\":0,\"ticks\":\"\"}},\"type\":\"scatterpolar\"}],\"scatter\":[{\"marker\":{\"line\":{\"color\":\"#283442\"}},\"type\":\"scatter\"}],\"scatterternary\":[{\"marker\":{\"colorbar\":{\"outlinewidth\":0,\"ticks\":\"\"}},\"type\":\"scatterternary\"}],\"surface\":[{\"colorbar\":{\"outlinewidth\":0,\"ticks\":\"\"},\"colorscale\":[[0.0,\"#0d0887\"],[0.1111111111111111,\"#46039f\"],[0.2222222222222222,\"#7201a8\"],[0.3333333333333333,\"#9c179e\"],[0.4444444444444444,\"#bd3786\"],[0.5555555555555556,\"#d8576b\"],[0.6666666666666666,\"#ed7953\"],[0.7777777777777778,\"#fb9f3a\"],[0.8888888888888888,\"#fdca26\"],[1.0,\"#f0f921\"]],\"type\":\"surface\"}],\"table\":[{\"cells\":{\"fill\":{\"color\":\"#506784\"},\"line\":{\"color\":\"rgb(17,17,17)\"}},\"header\":{\"fill\":{\"color\":\"#2a3f5f\"},\"line\":{\"color\":\"rgb(17,17,17)\"}},\"type\":\"table\"}]},\"layout\":{\"annotationdefaults\":{\"arrowcolor\":\"#f2f5fa\",\"arrowhead\":0,\"arrowwidth\":1},\"autotypenumbers\":\"strict\",\"coloraxis\":{\"colorbar\":{\"outlinewidth\":0,\"ticks\":\"\"}},\"colorscale\":{\"diverging\":[[0,\"#8e0152\"],[0.1,\"#c51b7d\"],[0.2,\"#de77ae\"],[0.3,\"#f1b6da\"],[0.4,\"#fde0ef\"],[0.5,\"#f7f7f7\"],[0.6,\"#e6f5d0\"],[0.7,\"#b8e186\"],[0.8,\"#7fbc41\"],[0.9,\"#4d9221\"],[1,\"#276419\"]],\"sequential\":[[0.0,\"#0d0887\"],[0.1111111111111111,\"#46039f\"],[0.2222222222222222,\"#7201a8\"],[0.3333333333333333,\"#9c179e\"],[0.4444444444444444,\"#bd3786\"],[0.5555555555555556,\"#d8576b\"],[0.6666666666666666,\"#ed7953\"],[0.7777777777777778,\"#fb9f3a\"],[0.8888888888888888,\"#fdca26\"],[1.0,\"#f0f921\"]],\"sequentialminus\":[[0.0,\"#0d0887\"],[0.1111111111111111,\"#46039f\"],[0.2222222222222222,\"#7201a8\"],[0.3333333333333333,\"#9c179e\"],[0.4444444444444444,\"#bd3786\"],[0.5555555555555556,\"#d8576b\"],[0.6666666666666666,\"#ed7953\"],[0.7777777777777778,\"#fb9f3a\"],[0.8888888888888888,\"#fdca26\"],[1.0,\"#f0f921\"]]},\"colorway\":[\"#636efa\",\"#EF553B\",\"#00cc96\",\"#ab63fa\",\"#FFA15A\",\"#19d3f3\",\"#FF6692\",\"#B6E880\",\"#FF97FF\",\"#FECB52\"],\"font\":{\"color\":\"#f2f5fa\"},\"geo\":{\"bgcolor\":\"rgb(17,17,17)\",\"lakecolor\":\"rgb(17,17,17)\",\"landcolor\":\"rgb(17,17,17)\",\"showlakes\":true,\"showland\":true,\"subunitcolor\":\"#506784\"},\"hoverlabel\":{\"align\":\"left\"},\"hovermode\":\"closest\",\"mapbox\":{\"style\":\"dark\"},\"paper_bgcolor\":\"rgb(17,17,17)\",\"plot_bgcolor\":\"rgb(17,17,17)\",\"polar\":{\"angularaxis\":{\"gridcolor\":\"#506784\",\"linecolor\":\"#506784\",\"ticks\":\"\"},\"bgcolor\":\"rgb(17,17,17)\",\"radialaxis\":{\"gridcolor\":\"#506784\",\"linecolor\":\"#506784\",\"ticks\":\"\"}},\"scene\":{\"xaxis\":{\"backgroundcolor\":\"rgb(17,17,17)\",\"gridcolor\":\"#506784\",\"gridwidth\":2,\"linecolor\":\"#506784\",\"showbackground\":true,\"ticks\":\"\",\"zerolinecolor\":\"#C8D4E3\"},\"yaxis\":{\"backgroundcolor\":\"rgb(17,17,17)\",\"gridcolor\":\"#506784\",\"gridwidth\":2,\"linecolor\":\"#506784\",\"showbackground\":true,\"ticks\":\"\",\"zerolinecolor\":\"#C8D4E3\"},\"zaxis\":{\"backgroundcolor\":\"rgb(17,17,17)\",\"gridcolor\":\"#506784\",\"gridwidth\":2,\"linecolor\":\"#506784\",\"showbackground\":true,\"ticks\":\"\",\"zerolinecolor\":\"#C8D4E3\"}},\"shapedefaults\":{\"line\":{\"color\":\"#f2f5fa\"}},\"sliderdefaults\":{\"bgcolor\":\"#C8D4E3\",\"bordercolor\":\"rgb(17,17,17)\",\"borderwidth\":1,\"tickwidth\":0},\"ternary\":{\"aaxis\":{\"gridcolor\":\"#506784\",\"linecolor\":\"#506784\",\"ticks\":\"\"},\"baxis\":{\"gridcolor\":\"#506784\",\"linecolor\":\"#506784\",\"ticks\":\"\"},\"bgcolor\":\"rgb(17,17,17)\",\"caxis\":{\"gridcolor\":\"#506784\",\"linecolor\":\"#506784\",\"ticks\":\"\"}},\"title\":{\"x\":0.05},\"updatemenudefaults\":{\"bgcolor\":\"#506784\",\"borderwidth\":0},\"xaxis\":{\"automargin\":true,\"gridcolor\":\"#283442\",\"linecolor\":\"#506784\",\"ticks\":\"\",\"title\":{\"standoff\":15},\"zerolinecolor\":\"#283442\",\"zerolinewidth\":2},\"yaxis\":{\"automargin\":true,\"gridcolor\":\"#283442\",\"linecolor\":\"#506784\",\"ticks\":\"\",\"title\":{\"standoff\":15},\"zerolinecolor\":\"#283442\",\"zerolinewidth\":2}}},\"shapes\":[{\"fillcolor\":\"gray\",\"layer\":\"below\",\"name\":\"No publishing\",\"opacity\":0.2,\"type\":\"rect\",\"x0\":\"2022-01-01\",\"x1\":\"2022-12-31\",\"xref\":\"x\",\"y0\":0,\"y1\":1,\"yref\":\"paper\"},{\"fillcolor\":\"gray\",\"layer\":\"below\",\"name\":\"Frequent publishing\",\"opacity\":0.2,\"type\":\"rect\",\"x0\":\"2023-01-01\",\"x1\":\"2023-07-05\",\"xref\":\"x\",\"y0\":0,\"y1\":1,\"yref\":\"paper\"}],\"title\":{\"text\":\"Kellogs publishing trends\\u003cbr\\u003e(lastmod tags of XML sitemap)\"},\"height\":500},                        {\"responsive\": true}                    ).then(function(){\n",
              "                            \n",
              "var gd = document.getElementById('97457f19-4d74-4472-85b4-4e4f77b07a0c');\n",
              "var x = new MutationObserver(function (mutations, observer) {{\n",
              "        var display = window.getComputedStyle(gd).display;\n",
              "        if (!display || display === 'none') {{\n",
              "            console.log([gd, 'removed!']);\n",
              "            Plotly.purge(gd);\n",
              "            observer.disconnect();\n",
              "        }}\n",
              "}});\n",
              "\n",
              "// Listen for the removal of the full notebook cells\n",
              "var notebookContainer = gd.closest('#notebook-container');\n",
              "if (notebookContainer) {{\n",
              "    x.observe(notebookContainer, {childList: true});\n",
              "}}\n",
              "\n",
              "// Listen for the clearing of the current output cell\n",
              "var outputEl = gd.closest('.output');\n",
              "if (outputEl) {{\n",
              "    x.observe(outputEl, {childList: true});\n",
              "}}\n",
              "\n",
              "                        })                };                            </script>        </div>\n",
              "</body>\n",
              "</html>"
            ]
          },
          "metadata": {}
        }
      ]
    },
    {
      "cell_type": "code",
      "source": [
        "#@title 2️⃣ Check Tag Usage Within The Sitemap (If Existing)\n",
        "\n",
        "#How many URLs have a date in the URL\n",
        "\n",
        "''' sitemap_last_modified could be replaced by sitemap_last_modified or the column name triggering a date\n",
        "'''\n",
        "\n",
        "md(f\"## URLs that have lastmod implemented: {df['lastmod'].notna().sum():,} ({df['lastmod'].notna().mean():.1%})\")\n",
        "#check for other tags\n",
        "md(f\"## URLs that have priority implemented: {df['priority'].notna().sum():,} ({df['priority'].notna().mean():.1%})\")\n",
        "md(f\"## URLs that have changefreq implemented: {df['changefreq'].notna().sum():,} ({df['changefreq'].notna().mean():.1%})\")"
      ],
      "metadata": {
        "colab": {
          "base_uri": "https://localhost:8080/",
          "height": 560
        },
        "id": "7GvPzxaNe70G",
        "outputId": "88a0d9fa-aa92-432f-8666-af014d10f176"
      },
      "execution_count": null,
      "outputs": [
        {
          "output_type": "display_data",
          "data": {
            "text/markdown": "## URLs that have lastmod implemented: 374 (100.0%)"
          },
          "metadata": {}
        },
        {
          "output_type": "error",
          "ename": "KeyError",
          "evalue": "'priority'",
          "traceback": [
            "\u001b[0;31m---------------------------------------------------------------------------\u001b[0m",
            "\u001b[0;31mKeyError\u001b[0m                                  Traceback (most recent call last)",
            "\u001b[0;32m/usr/local/lib/python3.10/dist-packages/pandas/core/indexes/base.py\u001b[0m in \u001b[0;36mget_loc\u001b[0;34m(self, key, method, tolerance)\u001b[0m\n\u001b[1;32m   3801\u001b[0m             \u001b[0;32mtry\u001b[0m\u001b[0;34m:\u001b[0m\u001b[0;34m\u001b[0m\u001b[0;34m\u001b[0m\u001b[0m\n\u001b[0;32m-> 3802\u001b[0;31m                 \u001b[0;32mreturn\u001b[0m \u001b[0mself\u001b[0m\u001b[0;34m.\u001b[0m\u001b[0m_engine\u001b[0m\u001b[0;34m.\u001b[0m\u001b[0mget_loc\u001b[0m\u001b[0;34m(\u001b[0m\u001b[0mcasted_key\u001b[0m\u001b[0;34m)\u001b[0m\u001b[0;34m\u001b[0m\u001b[0;34m\u001b[0m\u001b[0m\n\u001b[0m\u001b[1;32m   3803\u001b[0m             \u001b[0;32mexcept\u001b[0m \u001b[0mKeyError\u001b[0m \u001b[0;32mas\u001b[0m \u001b[0merr\u001b[0m\u001b[0;34m:\u001b[0m\u001b[0;34m\u001b[0m\u001b[0;34m\u001b[0m\u001b[0m\n",
            "\u001b[0;32m/usr/local/lib/python3.10/dist-packages/pandas/_libs/index.pyx\u001b[0m in \u001b[0;36mpandas._libs.index.IndexEngine.get_loc\u001b[0;34m()\u001b[0m\n",
            "\u001b[0;32m/usr/local/lib/python3.10/dist-packages/pandas/_libs/index.pyx\u001b[0m in \u001b[0;36mpandas._libs.index.IndexEngine.get_loc\u001b[0;34m()\u001b[0m\n",
            "\u001b[0;32mpandas/_libs/hashtable_class_helper.pxi\u001b[0m in \u001b[0;36mpandas._libs.hashtable.PyObjectHashTable.get_item\u001b[0;34m()\u001b[0m\n",
            "\u001b[0;32mpandas/_libs/hashtable_class_helper.pxi\u001b[0m in \u001b[0;36mpandas._libs.hashtable.PyObjectHashTable.get_item\u001b[0;34m()\u001b[0m\n",
            "\u001b[0;31mKeyError\u001b[0m: 'priority'",
            "\nThe above exception was the direct cause of the following exception:\n",
            "\u001b[0;31mKeyError\u001b[0m                                  Traceback (most recent call last)",
            "\u001b[0;32m<ipython-input-27-5235bf070a36>\u001b[0m in \u001b[0;36m<cell line: 10>\u001b[0;34m()\u001b[0m\n\u001b[1;32m      8\u001b[0m \u001b[0mmd\u001b[0m\u001b[0;34m(\u001b[0m\u001b[0;34mf\"## URLs that have lastmod implemented: {df['lastmod'].notna().sum():,} ({df['lastmod'].notna().mean():.1%})\"\u001b[0m\u001b[0;34m)\u001b[0m\u001b[0;34m\u001b[0m\u001b[0;34m\u001b[0m\u001b[0m\n\u001b[1;32m      9\u001b[0m \u001b[0;31m#check for other tags\u001b[0m\u001b[0;34m\u001b[0m\u001b[0;34m\u001b[0m\u001b[0m\n\u001b[0;32m---> 10\u001b[0;31m \u001b[0mmd\u001b[0m\u001b[0;34m(\u001b[0m\u001b[0;34mf\"## URLs that have priority implemented: {df['priority'].notna().sum():,} ({df['priority'].notna().mean():.1%})\"\u001b[0m\u001b[0;34m)\u001b[0m\u001b[0;34m\u001b[0m\u001b[0;34m\u001b[0m\u001b[0m\n\u001b[0m\u001b[1;32m     11\u001b[0m \u001b[0mmd\u001b[0m\u001b[0;34m(\u001b[0m\u001b[0;34mf\"## URLs that have changefreq implemented: {df['changefreq'].notna().sum():,} ({df['changefreq'].notna().mean():.1%})\"\u001b[0m\u001b[0;34m)\u001b[0m\u001b[0;34m\u001b[0m\u001b[0;34m\u001b[0m\u001b[0m\n",
            "\u001b[0;32m/usr/local/lib/python3.10/dist-packages/pandas/core/frame.py\u001b[0m in \u001b[0;36m__getitem__\u001b[0;34m(self, key)\u001b[0m\n\u001b[1;32m   3805\u001b[0m             \u001b[0;32mif\u001b[0m \u001b[0mself\u001b[0m\u001b[0;34m.\u001b[0m\u001b[0mcolumns\u001b[0m\u001b[0;34m.\u001b[0m\u001b[0mnlevels\u001b[0m \u001b[0;34m>\u001b[0m \u001b[0;36m1\u001b[0m\u001b[0;34m:\u001b[0m\u001b[0;34m\u001b[0m\u001b[0;34m\u001b[0m\u001b[0m\n\u001b[1;32m   3806\u001b[0m                 \u001b[0;32mreturn\u001b[0m \u001b[0mself\u001b[0m\u001b[0;34m.\u001b[0m\u001b[0m_getitem_multilevel\u001b[0m\u001b[0;34m(\u001b[0m\u001b[0mkey\u001b[0m\u001b[0;34m)\u001b[0m\u001b[0;34m\u001b[0m\u001b[0;34m\u001b[0m\u001b[0m\n\u001b[0;32m-> 3807\u001b[0;31m             \u001b[0mindexer\u001b[0m \u001b[0;34m=\u001b[0m \u001b[0mself\u001b[0m\u001b[0;34m.\u001b[0m\u001b[0mcolumns\u001b[0m\u001b[0;34m.\u001b[0m\u001b[0mget_loc\u001b[0m\u001b[0;34m(\u001b[0m\u001b[0mkey\u001b[0m\u001b[0;34m)\u001b[0m\u001b[0;34m\u001b[0m\u001b[0;34m\u001b[0m\u001b[0m\n\u001b[0m\u001b[1;32m   3808\u001b[0m             \u001b[0;32mif\u001b[0m \u001b[0mis_integer\u001b[0m\u001b[0;34m(\u001b[0m\u001b[0mindexer\u001b[0m\u001b[0;34m)\u001b[0m\u001b[0;34m:\u001b[0m\u001b[0;34m\u001b[0m\u001b[0;34m\u001b[0m\u001b[0m\n\u001b[1;32m   3809\u001b[0m                 \u001b[0mindexer\u001b[0m \u001b[0;34m=\u001b[0m \u001b[0;34m[\u001b[0m\u001b[0mindexer\u001b[0m\u001b[0;34m]\u001b[0m\u001b[0;34m\u001b[0m\u001b[0;34m\u001b[0m\u001b[0m\n",
            "\u001b[0;32m/usr/local/lib/python3.10/dist-packages/pandas/core/indexes/base.py\u001b[0m in \u001b[0;36mget_loc\u001b[0;34m(self, key, method, tolerance)\u001b[0m\n\u001b[1;32m   3802\u001b[0m                 \u001b[0;32mreturn\u001b[0m \u001b[0mself\u001b[0m\u001b[0;34m.\u001b[0m\u001b[0m_engine\u001b[0m\u001b[0;34m.\u001b[0m\u001b[0mget_loc\u001b[0m\u001b[0;34m(\u001b[0m\u001b[0mcasted_key\u001b[0m\u001b[0;34m)\u001b[0m\u001b[0;34m\u001b[0m\u001b[0;34m\u001b[0m\u001b[0m\n\u001b[1;32m   3803\u001b[0m             \u001b[0;32mexcept\u001b[0m \u001b[0mKeyError\u001b[0m \u001b[0;32mas\u001b[0m \u001b[0merr\u001b[0m\u001b[0;34m:\u001b[0m\u001b[0;34m\u001b[0m\u001b[0;34m\u001b[0m\u001b[0m\n\u001b[0;32m-> 3804\u001b[0;31m                 \u001b[0;32mraise\u001b[0m \u001b[0mKeyError\u001b[0m\u001b[0;34m(\u001b[0m\u001b[0mkey\u001b[0m\u001b[0;34m)\u001b[0m \u001b[0;32mfrom\u001b[0m \u001b[0merr\u001b[0m\u001b[0;34m\u001b[0m\u001b[0;34m\u001b[0m\u001b[0m\n\u001b[0m\u001b[1;32m   3805\u001b[0m             \u001b[0;32mexcept\u001b[0m \u001b[0mTypeError\u001b[0m\u001b[0;34m:\u001b[0m\u001b[0;34m\u001b[0m\u001b[0;34m\u001b[0m\u001b[0m\n\u001b[1;32m   3806\u001b[0m                 \u001b[0;31m# If we have a listlike key, _check_indexing_error will raise\u001b[0m\u001b[0;34m\u001b[0m\u001b[0;34m\u001b[0m\u001b[0m\n",
            "\u001b[0;31mKeyError\u001b[0m: 'priority'"
          ]
        }
      ]
    },
    {
      "cell_type": "code",
      "source": [
        "#@title Find URLs without lastMode\n",
        "sitemap[sitemap['lastmod'].isna()]['loc'].tolist()"
      ],
      "metadata": {
        "id": "1BaODk8UhCZo"
      },
      "execution_count": null,
      "outputs": []
    },
    {
      "cell_type": "markdown",
      "source": [
        "# 📓 Sidenote\n",
        "- ✅ You want to make sure you have got `<loc>` and `<lastmod>` implemented\n",
        "- ❌ If you're displaying your sitemap to Googlebot, you want to [avoid using  `<priority>` and `<changefreq>`](https://https://developers.google.com/search/docs/advanced/sitemaps/build-sitemap) values as Google ignores them."
      ],
      "metadata": {
        "id": "hUswBxVffuVp"
      }
    },
    {
      "cell_type": "markdown",
      "source": [
        "#Check if Pagination or Internal Search parameters are submitted on the XML sitemap"
      ],
      "metadata": {
        "id": "VF8HzxVMeEiM"
      }
    },
    {
      "cell_type": "code",
      "source": [
        "# Check if pagination or Internal Search parameters are present in the 'loc' column of the sitemap\n",
        "sitemap['Pagination'] = sitemap['loc'].str.contains(r'/p=|\\\\?page=|searchajax|cgid', regex=True, na=False)\n",
        "\n",
        "if sitemap['Pagination'].any():\n",
        "    print('Pagination/Internal Search parameters found')\n",
        "    sitemap.to_csv('pagination.csv', index=False)\n",
        "else:\n",
        "    print('No Pagination')\n",
        "\n",
        "sitemap.head()\n"
      ],
      "metadata": {
        "id": "u5l-0076DN4f",
        "colab": {
          "base_uri": "https://localhost:8080/",
          "height": 330
        },
        "outputId": "0374bc39-e8f0-4b67-a7a3-c025fb4c5f0f"
      },
      "execution_count": null,
      "outputs": [
        {
          "output_type": "stream",
          "name": "stdout",
          "text": [
            "No Pagination\n"
          ]
        },
        {
          "output_type": "execute_result",
          "data": {
            "text/plain": [
              "                                                   loc  \\\n",
              "0                              https://yoast.com/jobs/   \n",
              "1  https://yoast.com/jobs/retention-marketing-manager/   \n",
              "2               https://yoast.com/jobs/seo-specialist/   \n",
              "3         https://yoast.com/jobs/marketing-internship/   \n",
              "4                   https://yoast.com/about-us/events/   \n",
              "\n",
              "                     lastmod     image  \\\n",
              "0  2024-01-08 09:39:56+00:00       NaN   \n",
              "1  2023-12-22 12:18:57+00:00  \\n\\t\\t\\t   \n",
              "2  2023-12-22 13:37:00+00:00  \\n\\t\\t\\t   \n",
              "3  2024-01-08 09:39:56+00:00  \\n\\t\\t\\t   \n",
              "4  2024-01-24 10:45:35+00:00       NaN   \n",
              "\n",
              "                                         image_loc  \\\n",
              "0                                              NaN   \n",
              "1  https://yoast.com/app/uploads/2023/10/image.png   \n",
              "2  https://yoast.com/app/uploads/2023/10/image.png   \n",
              "3  https://yoast.com/app/uploads/2023/12/image.png   \n",
              "4                                              NaN   \n",
              "\n",
              "                                      sitemap  sitemap_size_mb  \\\n",
              "0    https://yoast.com/yoast_jobs-sitemap.xml         0.003242   \n",
              "1    https://yoast.com/yoast_jobs-sitemap.xml         0.003242   \n",
              "2    https://yoast.com/yoast_jobs-sitemap.xml         0.003242   \n",
              "3    https://yoast.com/yoast_jobs-sitemap.xml         0.003242   \n",
              "4  https://yoast.com/yoast_events-sitemap.xml         0.001593   \n",
              "\n",
              "                      download_date video video_title video_publication_date  \\\n",
              "0  2024-01-27 18:37:01.199895+00:00   NaN         NaN                    NaN   \n",
              "1  2024-01-27 18:37:01.199895+00:00   NaN         NaN                    NaN   \n",
              "2  2024-01-27 18:37:01.199895+00:00   NaN         NaN                    NaN   \n",
              "3  2024-01-27 18:37:01.199895+00:00   NaN         NaN                    NaN   \n",
              "4  2024-01-27 18:37:01.330218+00:00   NaN         NaN                    NaN   \n",
              "\n",
              "  video_description video_player_loc video_thumbnail_loc  video_duration  \\\n",
              "0               NaN              NaN                 NaN             NaN   \n",
              "1               NaN              NaN                 NaN             NaN   \n",
              "2               NaN              NaN                 NaN             NaN   \n",
              "3               NaN              NaN                 NaN             NaN   \n",
              "4               NaN              NaN                 NaN             NaN   \n",
              "\n",
              "   video_view_count  video_width  video_height video_family_friendly  \\\n",
              "0               NaN          NaN           NaN                   NaN   \n",
              "1               NaN          NaN           NaN                   NaN   \n",
              "2               NaN          NaN           NaN                   NaN   \n",
              "3               NaN          NaN           NaN                   NaN   \n",
              "4               NaN          NaN           NaN                   NaN   \n",
              "\n",
              "  video_uploader video_tag video_content_loc  Pagination  \n",
              "0            NaN       NaN               NaN       False  \n",
              "1            NaN       NaN               NaN       False  \n",
              "2            NaN       NaN               NaN       False  \n",
              "3            NaN       NaN               NaN       False  \n",
              "4            NaN       NaN               NaN       False  "
            ],
            "text/html": [
              "\n",
              "  <div id=\"df-0281a586-0a43-4562-9f00-c82523b73d9b\" class=\"colab-df-container\">\n",
              "    <div>\n",
              "<style scoped>\n",
              "    .dataframe tbody tr th:only-of-type {\n",
              "        vertical-align: middle;\n",
              "    }\n",
              "\n",
              "    .dataframe tbody tr th {\n",
              "        vertical-align: top;\n",
              "    }\n",
              "\n",
              "    .dataframe thead th {\n",
              "        text-align: right;\n",
              "    }\n",
              "</style>\n",
              "<table border=\"1\" class=\"dataframe\">\n",
              "  <thead>\n",
              "    <tr style=\"text-align: right;\">\n",
              "      <th></th>\n",
              "      <th>loc</th>\n",
              "      <th>lastmod</th>\n",
              "      <th>image</th>\n",
              "      <th>image_loc</th>\n",
              "      <th>sitemap</th>\n",
              "      <th>sitemap_size_mb</th>\n",
              "      <th>download_date</th>\n",
              "      <th>video</th>\n",
              "      <th>video_title</th>\n",
              "      <th>video_publication_date</th>\n",
              "      <th>video_description</th>\n",
              "      <th>video_player_loc</th>\n",
              "      <th>video_thumbnail_loc</th>\n",
              "      <th>video_duration</th>\n",
              "      <th>video_view_count</th>\n",
              "      <th>video_width</th>\n",
              "      <th>video_height</th>\n",
              "      <th>video_family_friendly</th>\n",
              "      <th>video_uploader</th>\n",
              "      <th>video_tag</th>\n",
              "      <th>video_content_loc</th>\n",
              "      <th>Pagination</th>\n",
              "    </tr>\n",
              "  </thead>\n",
              "  <tbody>\n",
              "    <tr>\n",
              "      <th>0</th>\n",
              "      <td>https://yoast.com/jobs/</td>\n",
              "      <td>2024-01-08 09:39:56+00:00</td>\n",
              "      <td>NaN</td>\n",
              "      <td>NaN</td>\n",
              "      <td>https://yoast.com/yoast_jobs-sitemap.xml</td>\n",
              "      <td>0.003242</td>\n",
              "      <td>2024-01-27 18:37:01.199895+00:00</td>\n",
              "      <td>NaN</td>\n",
              "      <td>NaN</td>\n",
              "      <td>NaN</td>\n",
              "      <td>NaN</td>\n",
              "      <td>NaN</td>\n",
              "      <td>NaN</td>\n",
              "      <td>NaN</td>\n",
              "      <td>NaN</td>\n",
              "      <td>NaN</td>\n",
              "      <td>NaN</td>\n",
              "      <td>NaN</td>\n",
              "      <td>NaN</td>\n",
              "      <td>NaN</td>\n",
              "      <td>NaN</td>\n",
              "      <td>False</td>\n",
              "    </tr>\n",
              "    <tr>\n",
              "      <th>1</th>\n",
              "      <td>https://yoast.com/jobs/retention-marketing-manager/</td>\n",
              "      <td>2023-12-22 12:18:57+00:00</td>\n",
              "      <td>\\n\\t\\t\\t</td>\n",
              "      <td>https://yoast.com/app/uploads/2023/10/image.png</td>\n",
              "      <td>https://yoast.com/yoast_jobs-sitemap.xml</td>\n",
              "      <td>0.003242</td>\n",
              "      <td>2024-01-27 18:37:01.199895+00:00</td>\n",
              "      <td>NaN</td>\n",
              "      <td>NaN</td>\n",
              "      <td>NaN</td>\n",
              "      <td>NaN</td>\n",
              "      <td>NaN</td>\n",
              "      <td>NaN</td>\n",
              "      <td>NaN</td>\n",
              "      <td>NaN</td>\n",
              "      <td>NaN</td>\n",
              "      <td>NaN</td>\n",
              "      <td>NaN</td>\n",
              "      <td>NaN</td>\n",
              "      <td>NaN</td>\n",
              "      <td>NaN</td>\n",
              "      <td>False</td>\n",
              "    </tr>\n",
              "    <tr>\n",
              "      <th>2</th>\n",
              "      <td>https://yoast.com/jobs/seo-specialist/</td>\n",
              "      <td>2023-12-22 13:37:00+00:00</td>\n",
              "      <td>\\n\\t\\t\\t</td>\n",
              "      <td>https://yoast.com/app/uploads/2023/10/image.png</td>\n",
              "      <td>https://yoast.com/yoast_jobs-sitemap.xml</td>\n",
              "      <td>0.003242</td>\n",
              "      <td>2024-01-27 18:37:01.199895+00:00</td>\n",
              "      <td>NaN</td>\n",
              "      <td>NaN</td>\n",
              "      <td>NaN</td>\n",
              "      <td>NaN</td>\n",
              "      <td>NaN</td>\n",
              "      <td>NaN</td>\n",
              "      <td>NaN</td>\n",
              "      <td>NaN</td>\n",
              "      <td>NaN</td>\n",
              "      <td>NaN</td>\n",
              "      <td>NaN</td>\n",
              "      <td>NaN</td>\n",
              "      <td>NaN</td>\n",
              "      <td>NaN</td>\n",
              "      <td>False</td>\n",
              "    </tr>\n",
              "    <tr>\n",
              "      <th>3</th>\n",
              "      <td>https://yoast.com/jobs/marketing-internship/</td>\n",
              "      <td>2024-01-08 09:39:56+00:00</td>\n",
              "      <td>\\n\\t\\t\\t</td>\n",
              "      <td>https://yoast.com/app/uploads/2023/12/image.png</td>\n",
              "      <td>https://yoast.com/yoast_jobs-sitemap.xml</td>\n",
              "      <td>0.003242</td>\n",
              "      <td>2024-01-27 18:37:01.199895+00:00</td>\n",
              "      <td>NaN</td>\n",
              "      <td>NaN</td>\n",
              "      <td>NaN</td>\n",
              "      <td>NaN</td>\n",
              "      <td>NaN</td>\n",
              "      <td>NaN</td>\n",
              "      <td>NaN</td>\n",
              "      <td>NaN</td>\n",
              "      <td>NaN</td>\n",
              "      <td>NaN</td>\n",
              "      <td>NaN</td>\n",
              "      <td>NaN</td>\n",
              "      <td>NaN</td>\n",
              "      <td>NaN</td>\n",
              "      <td>False</td>\n",
              "    </tr>\n",
              "    <tr>\n",
              "      <th>4</th>\n",
              "      <td>https://yoast.com/about-us/events/</td>\n",
              "      <td>2024-01-24 10:45:35+00:00</td>\n",
              "      <td>NaN</td>\n",
              "      <td>NaN</td>\n",
              "      <td>https://yoast.com/yoast_events-sitemap.xml</td>\n",
              "      <td>0.001593</td>\n",
              "      <td>2024-01-27 18:37:01.330218+00:00</td>\n",
              "      <td>NaN</td>\n",
              "      <td>NaN</td>\n",
              "      <td>NaN</td>\n",
              "      <td>NaN</td>\n",
              "      <td>NaN</td>\n",
              "      <td>NaN</td>\n",
              "      <td>NaN</td>\n",
              "      <td>NaN</td>\n",
              "      <td>NaN</td>\n",
              "      <td>NaN</td>\n",
              "      <td>NaN</td>\n",
              "      <td>NaN</td>\n",
              "      <td>NaN</td>\n",
              "      <td>NaN</td>\n",
              "      <td>False</td>\n",
              "    </tr>\n",
              "  </tbody>\n",
              "</table>\n",
              "</div>\n",
              "    <div class=\"colab-df-buttons\">\n",
              "\n",
              "  <div class=\"colab-df-container\">\n",
              "    <button class=\"colab-df-convert\" onclick=\"convertToInteractive('df-0281a586-0a43-4562-9f00-c82523b73d9b')\"\n",
              "            title=\"Convert this dataframe to an interactive table.\"\n",
              "            style=\"display:none;\">\n",
              "\n",
              "  <svg xmlns=\"http://www.w3.org/2000/svg\" height=\"24px\" viewBox=\"0 -960 960 960\">\n",
              "    <path d=\"M120-120v-720h720v720H120Zm60-500h600v-160H180v160Zm220 220h160v-160H400v160Zm0 220h160v-160H400v160ZM180-400h160v-160H180v160Zm440 0h160v-160H620v160ZM180-180h160v-160H180v160Zm440 0h160v-160H620v160Z\"/>\n",
              "  </svg>\n",
              "    </button>\n",
              "\n",
              "  <style>\n",
              "    .colab-df-container {\n",
              "      display:flex;\n",
              "      gap: 12px;\n",
              "    }\n",
              "\n",
              "    .colab-df-convert {\n",
              "      background-color: #E8F0FE;\n",
              "      border: none;\n",
              "      border-radius: 50%;\n",
              "      cursor: pointer;\n",
              "      display: none;\n",
              "      fill: #1967D2;\n",
              "      height: 32px;\n",
              "      padding: 0 0 0 0;\n",
              "      width: 32px;\n",
              "    }\n",
              "\n",
              "    .colab-df-convert:hover {\n",
              "      background-color: #E2EBFA;\n",
              "      box-shadow: 0px 1px 2px rgba(60, 64, 67, 0.3), 0px 1px 3px 1px rgba(60, 64, 67, 0.15);\n",
              "      fill: #174EA6;\n",
              "    }\n",
              "\n",
              "    .colab-df-buttons div {\n",
              "      margin-bottom: 4px;\n",
              "    }\n",
              "\n",
              "    [theme=dark] .colab-df-convert {\n",
              "      background-color: #3B4455;\n",
              "      fill: #D2E3FC;\n",
              "    }\n",
              "\n",
              "    [theme=dark] .colab-df-convert:hover {\n",
              "      background-color: #434B5C;\n",
              "      box-shadow: 0px 1px 3px 1px rgba(0, 0, 0, 0.15);\n",
              "      filter: drop-shadow(0px 1px 2px rgba(0, 0, 0, 0.3));\n",
              "      fill: #FFFFFF;\n",
              "    }\n",
              "  </style>\n",
              "\n",
              "    <script>\n",
              "      const buttonEl =\n",
              "        document.querySelector('#df-0281a586-0a43-4562-9f00-c82523b73d9b button.colab-df-convert');\n",
              "      buttonEl.style.display =\n",
              "        google.colab.kernel.accessAllowed ? 'block' : 'none';\n",
              "\n",
              "      async function convertToInteractive(key) {\n",
              "        const element = document.querySelector('#df-0281a586-0a43-4562-9f00-c82523b73d9b');\n",
              "        const dataTable =\n",
              "          await google.colab.kernel.invokeFunction('convertToInteractive',\n",
              "                                                    [key], {});\n",
              "        if (!dataTable) return;\n",
              "\n",
              "        const docLinkHtml = 'Like what you see? Visit the ' +\n",
              "          '<a target=\"_blank\" href=https://colab.research.google.com/notebooks/data_table.ipynb>data table notebook</a>'\n",
              "          + ' to learn more about interactive tables.';\n",
              "        element.innerHTML = '';\n",
              "        dataTable['output_type'] = 'display_data';\n",
              "        await google.colab.output.renderOutput(dataTable, element);\n",
              "        const docLink = document.createElement('div');\n",
              "        docLink.innerHTML = docLinkHtml;\n",
              "        element.appendChild(docLink);\n",
              "      }\n",
              "    </script>\n",
              "  </div>\n",
              "\n",
              "\n",
              "<div id=\"df-61dc50b0-fff5-4a24-8e0d-1fc94e78783b\">\n",
              "  <button class=\"colab-df-quickchart\" onclick=\"quickchart('df-61dc50b0-fff5-4a24-8e0d-1fc94e78783b')\"\n",
              "            title=\"Suggest charts\"\n",
              "            style=\"display:none;\">\n",
              "\n",
              "<svg xmlns=\"http://www.w3.org/2000/svg\" height=\"24px\"viewBox=\"0 0 24 24\"\n",
              "     width=\"24px\">\n",
              "    <g>\n",
              "        <path d=\"M19 3H5c-1.1 0-2 .9-2 2v14c0 1.1.9 2 2 2h14c1.1 0 2-.9 2-2V5c0-1.1-.9-2-2-2zM9 17H7v-7h2v7zm4 0h-2V7h2v10zm4 0h-2v-4h2v4z\"/>\n",
              "    </g>\n",
              "</svg>\n",
              "  </button>\n",
              "\n",
              "<style>\n",
              "  .colab-df-quickchart {\n",
              "      --bg-color: #E8F0FE;\n",
              "      --fill-color: #1967D2;\n",
              "      --hover-bg-color: #E2EBFA;\n",
              "      --hover-fill-color: #174EA6;\n",
              "      --disabled-fill-color: #AAA;\n",
              "      --disabled-bg-color: #DDD;\n",
              "  }\n",
              "\n",
              "  [theme=dark] .colab-df-quickchart {\n",
              "      --bg-color: #3B4455;\n",
              "      --fill-color: #D2E3FC;\n",
              "      --hover-bg-color: #434B5C;\n",
              "      --hover-fill-color: #FFFFFF;\n",
              "      --disabled-bg-color: #3B4455;\n",
              "      --disabled-fill-color: #666;\n",
              "  }\n",
              "\n",
              "  .colab-df-quickchart {\n",
              "    background-color: var(--bg-color);\n",
              "    border: none;\n",
              "    border-radius: 50%;\n",
              "    cursor: pointer;\n",
              "    display: none;\n",
              "    fill: var(--fill-color);\n",
              "    height: 32px;\n",
              "    padding: 0;\n",
              "    width: 32px;\n",
              "  }\n",
              "\n",
              "  .colab-df-quickchart:hover {\n",
              "    background-color: var(--hover-bg-color);\n",
              "    box-shadow: 0 1px 2px rgba(60, 64, 67, 0.3), 0 1px 3px 1px rgba(60, 64, 67, 0.15);\n",
              "    fill: var(--button-hover-fill-color);\n",
              "  }\n",
              "\n",
              "  .colab-df-quickchart-complete:disabled,\n",
              "  .colab-df-quickchart-complete:disabled:hover {\n",
              "    background-color: var(--disabled-bg-color);\n",
              "    fill: var(--disabled-fill-color);\n",
              "    box-shadow: none;\n",
              "  }\n",
              "\n",
              "  .colab-df-spinner {\n",
              "    border: 2px solid var(--fill-color);\n",
              "    border-color: transparent;\n",
              "    border-bottom-color: var(--fill-color);\n",
              "    animation:\n",
              "      spin 1s steps(1) infinite;\n",
              "  }\n",
              "\n",
              "  @keyframes spin {\n",
              "    0% {\n",
              "      border-color: transparent;\n",
              "      border-bottom-color: var(--fill-color);\n",
              "      border-left-color: var(--fill-color);\n",
              "    }\n",
              "    20% {\n",
              "      border-color: transparent;\n",
              "      border-left-color: var(--fill-color);\n",
              "      border-top-color: var(--fill-color);\n",
              "    }\n",
              "    30% {\n",
              "      border-color: transparent;\n",
              "      border-left-color: var(--fill-color);\n",
              "      border-top-color: var(--fill-color);\n",
              "      border-right-color: var(--fill-color);\n",
              "    }\n",
              "    40% {\n",
              "      border-color: transparent;\n",
              "      border-right-color: var(--fill-color);\n",
              "      border-top-color: var(--fill-color);\n",
              "    }\n",
              "    60% {\n",
              "      border-color: transparent;\n",
              "      border-right-color: var(--fill-color);\n",
              "    }\n",
              "    80% {\n",
              "      border-color: transparent;\n",
              "      border-right-color: var(--fill-color);\n",
              "      border-bottom-color: var(--fill-color);\n",
              "    }\n",
              "    90% {\n",
              "      border-color: transparent;\n",
              "      border-bottom-color: var(--fill-color);\n",
              "    }\n",
              "  }\n",
              "</style>\n",
              "\n",
              "  <script>\n",
              "    async function quickchart(key) {\n",
              "      const quickchartButtonEl =\n",
              "        document.querySelector('#' + key + ' button');\n",
              "      quickchartButtonEl.disabled = true;  // To prevent multiple clicks.\n",
              "      quickchartButtonEl.classList.add('colab-df-spinner');\n",
              "      try {\n",
              "        const charts = await google.colab.kernel.invokeFunction(\n",
              "            'suggestCharts', [key], {});\n",
              "      } catch (error) {\n",
              "        console.error('Error during call to suggestCharts:', error);\n",
              "      }\n",
              "      quickchartButtonEl.classList.remove('colab-df-spinner');\n",
              "      quickchartButtonEl.classList.add('colab-df-quickchart-complete');\n",
              "    }\n",
              "    (() => {\n",
              "      let quickchartButtonEl =\n",
              "        document.querySelector('#df-61dc50b0-fff5-4a24-8e0d-1fc94e78783b button');\n",
              "      quickchartButtonEl.style.display =\n",
              "        google.colab.kernel.accessAllowed ? 'block' : 'none';\n",
              "    })();\n",
              "  </script>\n",
              "</div>\n",
              "    </div>\n",
              "  </div>\n"
            ]
          },
          "metadata": {},
          "execution_count": 28
        }
      ]
    },
    {
      "cell_type": "markdown",
      "source": [
        "#Ratio of URLs to Outbound Links\n",
        "\n",
        "This finds how many external links were found on URLs submitted on a given XML sitemap.\n",
        "This will be executed by running a casual sample of 25% of pages.\n",
        "The output will return no more than 40 sampled pages  "
      ],
      "metadata": {
        "id": "WbYGNpOWqEoZ"
      }
    },
    {
      "cell_type": "code",
      "source": [
        "#@title Indicate the Homepage of the XML sitemap you're going to audit\n",
        "homepage = 'https://www.kering.com'"
      ],
      "metadata": {
        "id": "YQL6LLlK2o0j"
      },
      "execution_count": null,
      "outputs": []
    },
    {
      "cell_type": "code",
      "source": [
        "def count_links( page_url, domain ):\n",
        "    \"\"\"Given input page_url, output the total number of outbound links\"\"\"\n",
        "    links_internal = {}\n",
        "    links_external = {}\n",
        "\n",
        "    # download the html\n",
        "    res = requests.get(page_url)\n",
        "    if \"html\" not in res.headers.get('Content-Type'):\n",
        "        # this is an image\n",
        "        return {'parseable': False}\n",
        "\n",
        "    html = res.text\n",
        "    soup = BeautifulSoup(html)\n",
        "\n",
        "    for a in soup.find_all('a'):\n",
        "        link = a.get('href')\n",
        "\n",
        "        # skip missing\n",
        "        if link is None:\n",
        "            continue\n",
        "\n",
        "        # remove params\n",
        "        link = link.split(\"?\")[0]\n",
        "        # remove shortcuts\n",
        "        link = link.split(\"#\")[0]\n",
        "\n",
        "        # skip missing\n",
        "        if (link is None) or (link == ''):\n",
        "            continue\n",
        "\n",
        "        if (domain in link) or (len(link)>1 and link[0:1]==\"/\") or (len(link)>2 and link[0:2]==\"./\"):\n",
        "            # is internal\n",
        "            links_internal[link]= links_internal.get(link,0) + 1\n",
        "        else:\n",
        "            # external\n",
        "            links_external[link]= links_external.get(link,0) + 1\n",
        "\n",
        "    return {\"parseable\": True, \"external\": links_external, \"internal\": links_internal }\n",
        "\n",
        "\n",
        "domain = urllib.parse.urlparse(homepage).netloc\n",
        "\n",
        "# test one url\n",
        "page_url = sitemap.iloc[0]['loc']\n",
        "print(page_url)\n",
        "\n",
        "links = count_links( page_url, domain )\n",
        "links"
      ],
      "metadata": {
        "id": "-eavIwWTqLXZ",
        "colab": {
          "base_uri": "https://localhost:8080/"
        },
        "outputId": "f71f0645-7d09-4430-e047-876c164a60f8"
      },
      "execution_count": null,
      "outputs": [
        {
          "output_type": "stream",
          "name": "stdout",
          "text": [
            "https://www.kering.com/it\n"
          ]
        },
        {
          "output_type": "execute_result",
          "data": {
            "text/plain": [
              "{'parseable': True,\n",
              " 'external': {'https://www.instagram.com/kering_official/': 1,\n",
              "  'https://twitter.com/KeringGroup': 1,\n",
              "  'https://www.facebook.com/keringgroup': 1,\n",
              "  'https://www.linkedin.com/company/kering': 1,\n",
              "  'https://www.youtube.com/channel/UCMDZYZibcyrf99iEa4CQJkA': 1,\n",
              "  'https://www.tiktok.com/@keringgroup': 1,\n",
              "  'https://www.weibo.com/keringcorp': 1,\n",
              "  'http://i.youku.com/kering': 1},\n",
              " 'internal': {'/it/maisons/kering-eyewear/': 2,\n",
              "  '/it/il-gruppo/kering-for-women/women-in-motion/women-in-motion-e-le-donne-fotografe-al-festival-les-rencontres-d-arles-2023/': 2,\n",
              "  '/it/maisons/moda-e-pelletteria/gucci/': 1,\n",
              "  '/it/maisons/moda-e-pelletteria/saint-laurent/': 1,\n",
              "  '/it/maisons/moda-e-pelletteria/bottega-veneta/': 1,\n",
              "  '/it/maisons/moda-e-pelletteria/balenciaga/': 1,\n",
              "  '/it/maisons/moda-e-pelletteria/alexander-mcqueen/': 1,\n",
              "  '/it/maisons/moda-e-pelletteria/brioni/': 1,\n",
              "  '/it/maisons/gioielli/boucheron/': 1,\n",
              "  '/it/maisons/gioielli/pomellato/': 1,\n",
              "  '/it/maisons/gioielli/dodo/': 1,\n",
              "  '/it/maisons/gioielli/qeelin/': 1,\n",
              "  '/it/finance/about-kering/': 1,\n",
              "  '/it/finance/kering-share/': 1,\n",
              "  '/it/': 2,\n",
              "  '/en/': 1,\n",
              "  '/fr/': 1,\n",
              "  '/cn/': 1,\n",
              "  '/jp/': 1,\n",
              "  '/it/mappa-del-sito/': 1,\n",
              "  '/it/il-gruppo/i-nostri-contatti/': 1,\n",
              "  '/it/note-legali/': 2,\n",
              "  '/it/credits/': 1}}"
            ]
          },
          "metadata": {},
          "execution_count": 14
        }
      ]
    },
    {
      "cell_type": "code",
      "source": [
        "# We can ESTIMATE the ratio based on a random sample of pages\n",
        "\n",
        "# sample 5% of the site\n",
        "sample_size = 0.05\n",
        "# not more than n number of pages\n",
        "max_n_samples = 10"
      ],
      "metadata": {
        "id": "Ino2usG_qRiA"
      },
      "execution_count": null,
      "outputs": []
    },
    {
      "cell_type": "code",
      "source": [
        "# table of pages to test\n",
        "subset_of_sitemap_df = sitemap.sample(min(max_n_samples, round(sample_size*len(sitemap))))\n",
        "\n",
        "# get domain\n",
        "domain = urllib.parse.urlparse(homepage).netloc\n",
        "\n",
        "# links per page\n",
        "links_per_page = []\n",
        "\n",
        "# get count of external links per pagex\n",
        "for index, row in subset_of_sitemap_df.iterrows():\n",
        "\n",
        "    page_url = row['loc']\n",
        "\n",
        "    # count outbound links\n",
        "    links = count_links( page_url, domain)\n",
        "\n",
        "    # keep track of links per page\n",
        "    if links.get('parseable'):\n",
        "        external_links = len( links['external'] )\n",
        "        links_per_page.append( external_links )\n",
        "\n",
        "# create a dictionary to hold the data\n",
        "data = {'page_url': [], 'external_links': []}\n",
        "\n",
        "# fill the dictionary with data\n",
        "for index, row in subset_of_sitemap_df.iterrows():\n",
        "    page_url = row['loc']\n",
        "    links = count_links( page_url, domain)\n",
        "    if links.get('parseable'):\n",
        "        external_links = len( links['external'] )\n",
        "        data['page_url'].append(page_url)\n",
        "        data['external_links'].append(external_links)\n",
        "\n",
        "# convert dictionary to dataframe\n",
        "df = pd.DataFrame(data)\n",
        "df.to_excel('external_links_on_XML.xlsx', index=False)\n",
        "df.head()"
      ],
      "metadata": {
        "id": "tzN2w-kMqTsy",
        "colab": {
          "base_uri": "https://localhost:8080/",
          "height": 206
        },
        "outputId": "89f7fd42-542f-429c-d8e8-11fa07f72d24"
      },
      "execution_count": null,
      "outputs": [
        {
          "output_type": "execute_result",
          "data": {
            "text/plain": [
              "                                                                                                      page_url  \\\n",
              "0                     https://www.kering.com/it/talenti/offerte-di-lavoro/gucci-client-advisor-tysons-galleria   \n",
              "1                                          https://www.kering.com/it/talenti/offerte-di-lavoro/europe/?page=62   \n",
              "2                                       https://www.kering.com/en/talent/job-offers/balenciaga-careers/?page=8   \n",
              "3                                                  https://www.kering.com/cn/talent/job-offers/europe/?page=92   \n",
              "4  https://www.kering.com/fr/talent/offres-d-emploi/saint-laurent-stagiaire-assistant-gestion-de-production-hf   \n",
              "\n",
              "   external_links  \n",
              "0               8  \n",
              "1               8  \n",
              "2               8  \n",
              "3               4  \n",
              "4               8  "
            ],
            "text/html": [
              "\n",
              "\n",
              "  <div id=\"df-90e3db90-a9eb-4fe5-8b6e-4c9b278e1e63\">\n",
              "    <div class=\"colab-df-container\">\n",
              "      <div>\n",
              "<style scoped>\n",
              "    .dataframe tbody tr th:only-of-type {\n",
              "        vertical-align: middle;\n",
              "    }\n",
              "\n",
              "    .dataframe tbody tr th {\n",
              "        vertical-align: top;\n",
              "    }\n",
              "\n",
              "    .dataframe thead th {\n",
              "        text-align: right;\n",
              "    }\n",
              "</style>\n",
              "<table border=\"1\" class=\"dataframe\">\n",
              "  <thead>\n",
              "    <tr style=\"text-align: right;\">\n",
              "      <th></th>\n",
              "      <th>page_url</th>\n",
              "      <th>external_links</th>\n",
              "    </tr>\n",
              "  </thead>\n",
              "  <tbody>\n",
              "    <tr>\n",
              "      <th>0</th>\n",
              "      <td>https://www.kering.com/it/talenti/offerte-di-lavoro/gucci-client-advisor-tysons-galleria</td>\n",
              "      <td>8</td>\n",
              "    </tr>\n",
              "    <tr>\n",
              "      <th>1</th>\n",
              "      <td>https://www.kering.com/it/talenti/offerte-di-lavoro/europe/?page=62</td>\n",
              "      <td>8</td>\n",
              "    </tr>\n",
              "    <tr>\n",
              "      <th>2</th>\n",
              "      <td>https://www.kering.com/en/talent/job-offers/balenciaga-careers/?page=8</td>\n",
              "      <td>8</td>\n",
              "    </tr>\n",
              "    <tr>\n",
              "      <th>3</th>\n",
              "      <td>https://www.kering.com/cn/talent/job-offers/europe/?page=92</td>\n",
              "      <td>4</td>\n",
              "    </tr>\n",
              "    <tr>\n",
              "      <th>4</th>\n",
              "      <td>https://www.kering.com/fr/talent/offres-d-emploi/saint-laurent-stagiaire-assistant-gestion-de-production-hf</td>\n",
              "      <td>8</td>\n",
              "    </tr>\n",
              "  </tbody>\n",
              "</table>\n",
              "</div>\n",
              "      <button class=\"colab-df-convert\" onclick=\"convertToInteractive('df-90e3db90-a9eb-4fe5-8b6e-4c9b278e1e63')\"\n",
              "              title=\"Convert this dataframe to an interactive table.\"\n",
              "              style=\"display:none;\">\n",
              "\n",
              "  <svg xmlns=\"http://www.w3.org/2000/svg\" height=\"24px\"viewBox=\"0 0 24 24\"\n",
              "       width=\"24px\">\n",
              "    <path d=\"M0 0h24v24H0V0z\" fill=\"none\"/>\n",
              "    <path d=\"M18.56 5.44l.94 2.06.94-2.06 2.06-.94-2.06-.94-.94-2.06-.94 2.06-2.06.94zm-11 1L8.5 8.5l.94-2.06 2.06-.94-2.06-.94L8.5 2.5l-.94 2.06-2.06.94zm10 10l.94 2.06.94-2.06 2.06-.94-2.06-.94-.94-2.06-.94 2.06-2.06.94z\"/><path d=\"M17.41 7.96l-1.37-1.37c-.4-.4-.92-.59-1.43-.59-.52 0-1.04.2-1.43.59L10.3 9.45l-7.72 7.72c-.78.78-.78 2.05 0 2.83L4 21.41c.39.39.9.59 1.41.59.51 0 1.02-.2 1.41-.59l7.78-7.78 2.81-2.81c.8-.78.8-2.07 0-2.86zM5.41 20L4 18.59l7.72-7.72 1.47 1.35L5.41 20z\"/>\n",
              "  </svg>\n",
              "      </button>\n",
              "\n",
              "\n",
              "\n",
              "    <div id=\"df-574da59e-e8b5-4cd6-ab5b-6e463956d271\">\n",
              "      <button class=\"colab-df-quickchart\" onclick=\"quickchart('df-574da59e-e8b5-4cd6-ab5b-6e463956d271')\"\n",
              "              title=\"Suggest charts.\"\n",
              "              style=\"display:none;\">\n",
              "\n",
              "<svg xmlns=\"http://www.w3.org/2000/svg\" height=\"24px\"viewBox=\"0 0 24 24\"\n",
              "     width=\"24px\">\n",
              "    <g>\n",
              "        <path d=\"M19 3H5c-1.1 0-2 .9-2 2v14c0 1.1.9 2 2 2h14c1.1 0 2-.9 2-2V5c0-1.1-.9-2-2-2zM9 17H7v-7h2v7zm4 0h-2V7h2v10zm4 0h-2v-4h2v4z\"/>\n",
              "    </g>\n",
              "</svg>\n",
              "      </button>\n",
              "    </div>\n",
              "\n",
              "<style>\n",
              "  .colab-df-quickchart {\n",
              "    background-color: #E8F0FE;\n",
              "    border: none;\n",
              "    border-radius: 50%;\n",
              "    cursor: pointer;\n",
              "    display: none;\n",
              "    fill: #1967D2;\n",
              "    height: 32px;\n",
              "    padding: 0 0 0 0;\n",
              "    width: 32px;\n",
              "  }\n",
              "\n",
              "  .colab-df-quickchart:hover {\n",
              "    background-color: #E2EBFA;\n",
              "    box-shadow: 0px 1px 2px rgba(60, 64, 67, 0.3), 0px 1px 3px 1px rgba(60, 64, 67, 0.15);\n",
              "    fill: #174EA6;\n",
              "  }\n",
              "\n",
              "  [theme=dark] .colab-df-quickchart {\n",
              "    background-color: #3B4455;\n",
              "    fill: #D2E3FC;\n",
              "  }\n",
              "\n",
              "  [theme=dark] .colab-df-quickchart:hover {\n",
              "    background-color: #434B5C;\n",
              "    box-shadow: 0px 1px 3px 1px rgba(0, 0, 0, 0.15);\n",
              "    filter: drop-shadow(0px 1px 2px rgba(0, 0, 0, 0.3));\n",
              "    fill: #FFFFFF;\n",
              "  }\n",
              "</style>\n",
              "\n",
              "    <script>\n",
              "      async function quickchart(key) {\n",
              "        const containerElement = document.querySelector('#' + key);\n",
              "        const charts = await google.colab.kernel.invokeFunction(\n",
              "            'suggestCharts', [key], {});\n",
              "      }\n",
              "    </script>\n",
              "\n",
              "      <script>\n",
              "\n",
              "function displayQuickchartButton(domScope) {\n",
              "  let quickchartButtonEl =\n",
              "    domScope.querySelector('#df-574da59e-e8b5-4cd6-ab5b-6e463956d271 button.colab-df-quickchart');\n",
              "  quickchartButtonEl.style.display =\n",
              "    google.colab.kernel.accessAllowed ? 'block' : 'none';\n",
              "}\n",
              "\n",
              "        displayQuickchartButton(document);\n",
              "      </script>\n",
              "      <style>\n",
              "    .colab-df-container {\n",
              "      display:flex;\n",
              "      flex-wrap:wrap;\n",
              "      gap: 12px;\n",
              "    }\n",
              "\n",
              "    .colab-df-convert {\n",
              "      background-color: #E8F0FE;\n",
              "      border: none;\n",
              "      border-radius: 50%;\n",
              "      cursor: pointer;\n",
              "      display: none;\n",
              "      fill: #1967D2;\n",
              "      height: 32px;\n",
              "      padding: 0 0 0 0;\n",
              "      width: 32px;\n",
              "    }\n",
              "\n",
              "    .colab-df-convert:hover {\n",
              "      background-color: #E2EBFA;\n",
              "      box-shadow: 0px 1px 2px rgba(60, 64, 67, 0.3), 0px 1px 3px 1px rgba(60, 64, 67, 0.15);\n",
              "      fill: #174EA6;\n",
              "    }\n",
              "\n",
              "    [theme=dark] .colab-df-convert {\n",
              "      background-color: #3B4455;\n",
              "      fill: #D2E3FC;\n",
              "    }\n",
              "\n",
              "    [theme=dark] .colab-df-convert:hover {\n",
              "      background-color: #434B5C;\n",
              "      box-shadow: 0px 1px 3px 1px rgba(0, 0, 0, 0.15);\n",
              "      filter: drop-shadow(0px 1px 2px rgba(0, 0, 0, 0.3));\n",
              "      fill: #FFFFFF;\n",
              "    }\n",
              "  </style>\n",
              "\n",
              "      <script>\n",
              "        const buttonEl =\n",
              "          document.querySelector('#df-90e3db90-a9eb-4fe5-8b6e-4c9b278e1e63 button.colab-df-convert');\n",
              "        buttonEl.style.display =\n",
              "          google.colab.kernel.accessAllowed ? 'block' : 'none';\n",
              "\n",
              "        async function convertToInteractive(key) {\n",
              "          const element = document.querySelector('#df-90e3db90-a9eb-4fe5-8b6e-4c9b278e1e63');\n",
              "          const dataTable =\n",
              "            await google.colab.kernel.invokeFunction('convertToInteractive',\n",
              "                                                     [key], {});\n",
              "          if (!dataTable) return;\n",
              "\n",
              "          const docLinkHtml = 'Like what you see? Visit the ' +\n",
              "            '<a target=\"_blank\" href=https://colab.research.google.com/notebooks/data_table.ipynb>data table notebook</a>'\n",
              "            + ' to learn more about interactive tables.';\n",
              "          element.innerHTML = '';\n",
              "          dataTable['output_type'] = 'display_data';\n",
              "          await google.colab.output.renderOutput(dataTable, element);\n",
              "          const docLink = document.createElement('div');\n",
              "          docLink.innerHTML = docLinkHtml;\n",
              "          element.appendChild(docLink);\n",
              "        }\n",
              "      </script>\n",
              "    </div>\n",
              "  </div>\n"
            ]
          },
          "metadata": {},
          "execution_count": 16
        }
      ]
    },
    {
      "cell_type": "markdown",
      "source": [
        "#Inspect the URL Structure"
      ],
      "metadata": {
        "id": "3LVFOLmepOL0"
      }
    },
    {
      "cell_type": "code",
      "execution_count": null,
      "metadata": {
        "id": "b6iAlOWxX_Pv",
        "colab": {
          "base_uri": "https://localhost:8080/",
          "height": 275
        },
        "outputId": "9544c801-d3c0-4c17-99a7-6fd6daf0152c"
      },
      "outputs": [
        {
          "output_type": "execute_result",
          "data": {
            "text/plain": [
              "                                                           url scheme  \\\n",
              "0                                  https://yoast.com/seo-blog/  https   \n",
              "1           https://yoast.com/how-to-remove-www-from-your-url/  https   \n",
              "2            https://yoast.com/google-analytics-segments-blog/  https   \n",
              "3        https://yoast.com/sequence-segments-google-analytics/  https   \n",
              "4  https://yoast.com/secondary-dimensions-in-google-analytics/  https   \n",
              "\n",
              "      netloc                                        path  query  fragment  \\\n",
              "0  yoast.com                                  /seo-blog/    NaN       NaN   \n",
              "1  yoast.com           /how-to-remove-www-from-your-url/    NaN       NaN   \n",
              "2  yoast.com            /google-analytics-segments-blog/    NaN       NaN   \n",
              "3  yoast.com        /sequence-segments-google-analytics/    NaN       NaN   \n",
              "4  yoast.com  /secondary-dimensions-in-google-analytics/    NaN       NaN   \n",
              "\n",
              "                                      dir_1  \\\n",
              "0                                  seo-blog   \n",
              "1           how-to-remove-www-from-your-url   \n",
              "2            google-analytics-segments-blog   \n",
              "3        sequence-segments-google-analytics   \n",
              "4  secondary-dimensions-in-google-analytics   \n",
              "\n",
              "                                   last_dir  \n",
              "0                                  seo-blog  \n",
              "1           how-to-remove-www-from-your-url  \n",
              "2            google-analytics-segments-blog  \n",
              "3        sequence-segments-google-analytics  \n",
              "4  secondary-dimensions-in-google-analytics  "
            ],
            "text/html": [
              "\n",
              "  <div id=\"df-93961a9c-5ce4-4767-97fb-9a1c6af99130\" class=\"colab-df-container\">\n",
              "    <div>\n",
              "<style scoped>\n",
              "    .dataframe tbody tr th:only-of-type {\n",
              "        vertical-align: middle;\n",
              "    }\n",
              "\n",
              "    .dataframe tbody tr th {\n",
              "        vertical-align: top;\n",
              "    }\n",
              "\n",
              "    .dataframe thead th {\n",
              "        text-align: right;\n",
              "    }\n",
              "</style>\n",
              "<table border=\"1\" class=\"dataframe\">\n",
              "  <thead>\n",
              "    <tr style=\"text-align: right;\">\n",
              "      <th></th>\n",
              "      <th>url</th>\n",
              "      <th>scheme</th>\n",
              "      <th>netloc</th>\n",
              "      <th>path</th>\n",
              "      <th>query</th>\n",
              "      <th>fragment</th>\n",
              "      <th>dir_1</th>\n",
              "      <th>last_dir</th>\n",
              "    </tr>\n",
              "  </thead>\n",
              "  <tbody>\n",
              "    <tr>\n",
              "      <th>0</th>\n",
              "      <td>https://yoast.com/seo-blog/</td>\n",
              "      <td>https</td>\n",
              "      <td>yoast.com</td>\n",
              "      <td>/seo-blog/</td>\n",
              "      <td>NaN</td>\n",
              "      <td>NaN</td>\n",
              "      <td>seo-blog</td>\n",
              "      <td>seo-blog</td>\n",
              "    </tr>\n",
              "    <tr>\n",
              "      <th>1</th>\n",
              "      <td>https://yoast.com/how-to-remove-www-from-your-url/</td>\n",
              "      <td>https</td>\n",
              "      <td>yoast.com</td>\n",
              "      <td>/how-to-remove-www-from-your-url/</td>\n",
              "      <td>NaN</td>\n",
              "      <td>NaN</td>\n",
              "      <td>how-to-remove-www-from-your-url</td>\n",
              "      <td>how-to-remove-www-from-your-url</td>\n",
              "    </tr>\n",
              "    <tr>\n",
              "      <th>2</th>\n",
              "      <td>https://yoast.com/google-analytics-segments-blog/</td>\n",
              "      <td>https</td>\n",
              "      <td>yoast.com</td>\n",
              "      <td>/google-analytics-segments-blog/</td>\n",
              "      <td>NaN</td>\n",
              "      <td>NaN</td>\n",
              "      <td>google-analytics-segments-blog</td>\n",
              "      <td>google-analytics-segments-blog</td>\n",
              "    </tr>\n",
              "    <tr>\n",
              "      <th>3</th>\n",
              "      <td>https://yoast.com/sequence-segments-google-analytics/</td>\n",
              "      <td>https</td>\n",
              "      <td>yoast.com</td>\n",
              "      <td>/sequence-segments-google-analytics/</td>\n",
              "      <td>NaN</td>\n",
              "      <td>NaN</td>\n",
              "      <td>sequence-segments-google-analytics</td>\n",
              "      <td>sequence-segments-google-analytics</td>\n",
              "    </tr>\n",
              "    <tr>\n",
              "      <th>4</th>\n",
              "      <td>https://yoast.com/secondary-dimensions-in-google-analytics/</td>\n",
              "      <td>https</td>\n",
              "      <td>yoast.com</td>\n",
              "      <td>/secondary-dimensions-in-google-analytics/</td>\n",
              "      <td>NaN</td>\n",
              "      <td>NaN</td>\n",
              "      <td>secondary-dimensions-in-google-analytics</td>\n",
              "      <td>secondary-dimensions-in-google-analytics</td>\n",
              "    </tr>\n",
              "  </tbody>\n",
              "</table>\n",
              "</div>\n",
              "    <div class=\"colab-df-buttons\">\n",
              "\n",
              "  <div class=\"colab-df-container\">\n",
              "    <button class=\"colab-df-convert\" onclick=\"convertToInteractive('df-93961a9c-5ce4-4767-97fb-9a1c6af99130')\"\n",
              "            title=\"Convert this dataframe to an interactive table.\"\n",
              "            style=\"display:none;\">\n",
              "\n",
              "  <svg xmlns=\"http://www.w3.org/2000/svg\" height=\"24px\" viewBox=\"0 -960 960 960\">\n",
              "    <path d=\"M120-120v-720h720v720H120Zm60-500h600v-160H180v160Zm220 220h160v-160H400v160Zm0 220h160v-160H400v160ZM180-400h160v-160H180v160Zm440 0h160v-160H620v160ZM180-180h160v-160H180v160Zm440 0h160v-160H620v160Z\"/>\n",
              "  </svg>\n",
              "    </button>\n",
              "\n",
              "  <style>\n",
              "    .colab-df-container {\n",
              "      display:flex;\n",
              "      gap: 12px;\n",
              "    }\n",
              "\n",
              "    .colab-df-convert {\n",
              "      background-color: #E8F0FE;\n",
              "      border: none;\n",
              "      border-radius: 50%;\n",
              "      cursor: pointer;\n",
              "      display: none;\n",
              "      fill: #1967D2;\n",
              "      height: 32px;\n",
              "      padding: 0 0 0 0;\n",
              "      width: 32px;\n",
              "    }\n",
              "\n",
              "    .colab-df-convert:hover {\n",
              "      background-color: #E2EBFA;\n",
              "      box-shadow: 0px 1px 2px rgba(60, 64, 67, 0.3), 0px 1px 3px 1px rgba(60, 64, 67, 0.15);\n",
              "      fill: #174EA6;\n",
              "    }\n",
              "\n",
              "    .colab-df-buttons div {\n",
              "      margin-bottom: 4px;\n",
              "    }\n",
              "\n",
              "    [theme=dark] .colab-df-convert {\n",
              "      background-color: #3B4455;\n",
              "      fill: #D2E3FC;\n",
              "    }\n",
              "\n",
              "    [theme=dark] .colab-df-convert:hover {\n",
              "      background-color: #434B5C;\n",
              "      box-shadow: 0px 1px 3px 1px rgba(0, 0, 0, 0.15);\n",
              "      filter: drop-shadow(0px 1px 2px rgba(0, 0, 0, 0.3));\n",
              "      fill: #FFFFFF;\n",
              "    }\n",
              "  </style>\n",
              "\n",
              "    <script>\n",
              "      const buttonEl =\n",
              "        document.querySelector('#df-93961a9c-5ce4-4767-97fb-9a1c6af99130 button.colab-df-convert');\n",
              "      buttonEl.style.display =\n",
              "        google.colab.kernel.accessAllowed ? 'block' : 'none';\n",
              "\n",
              "      async function convertToInteractive(key) {\n",
              "        const element = document.querySelector('#df-93961a9c-5ce4-4767-97fb-9a1c6af99130');\n",
              "        const dataTable =\n",
              "          await google.colab.kernel.invokeFunction('convertToInteractive',\n",
              "                                                    [key], {});\n",
              "        if (!dataTable) return;\n",
              "\n",
              "        const docLinkHtml = 'Like what you see? Visit the ' +\n",
              "          '<a target=\"_blank\" href=https://colab.research.google.com/notebooks/data_table.ipynb>data table notebook</a>'\n",
              "          + ' to learn more about interactive tables.';\n",
              "        element.innerHTML = '';\n",
              "        dataTable['output_type'] = 'display_data';\n",
              "        await google.colab.output.renderOutput(dataTable, element);\n",
              "        const docLink = document.createElement('div');\n",
              "        docLink.innerHTML = docLinkHtml;\n",
              "        element.appendChild(docLink);\n",
              "      }\n",
              "    </script>\n",
              "  </div>\n",
              "\n",
              "\n",
              "<div id=\"df-1c4ffa57-d0dc-4dfb-be35-1a08bedd8c6e\">\n",
              "  <button class=\"colab-df-quickchart\" onclick=\"quickchart('df-1c4ffa57-d0dc-4dfb-be35-1a08bedd8c6e')\"\n",
              "            title=\"Suggest charts\"\n",
              "            style=\"display:none;\">\n",
              "\n",
              "<svg xmlns=\"http://www.w3.org/2000/svg\" height=\"24px\"viewBox=\"0 0 24 24\"\n",
              "     width=\"24px\">\n",
              "    <g>\n",
              "        <path d=\"M19 3H5c-1.1 0-2 .9-2 2v14c0 1.1.9 2 2 2h14c1.1 0 2-.9 2-2V5c0-1.1-.9-2-2-2zM9 17H7v-7h2v7zm4 0h-2V7h2v10zm4 0h-2v-4h2v4z\"/>\n",
              "    </g>\n",
              "</svg>\n",
              "  </button>\n",
              "\n",
              "<style>\n",
              "  .colab-df-quickchart {\n",
              "      --bg-color: #E8F0FE;\n",
              "      --fill-color: #1967D2;\n",
              "      --hover-bg-color: #E2EBFA;\n",
              "      --hover-fill-color: #174EA6;\n",
              "      --disabled-fill-color: #AAA;\n",
              "      --disabled-bg-color: #DDD;\n",
              "  }\n",
              "\n",
              "  [theme=dark] .colab-df-quickchart {\n",
              "      --bg-color: #3B4455;\n",
              "      --fill-color: #D2E3FC;\n",
              "      --hover-bg-color: #434B5C;\n",
              "      --hover-fill-color: #FFFFFF;\n",
              "      --disabled-bg-color: #3B4455;\n",
              "      --disabled-fill-color: #666;\n",
              "  }\n",
              "\n",
              "  .colab-df-quickchart {\n",
              "    background-color: var(--bg-color);\n",
              "    border: none;\n",
              "    border-radius: 50%;\n",
              "    cursor: pointer;\n",
              "    display: none;\n",
              "    fill: var(--fill-color);\n",
              "    height: 32px;\n",
              "    padding: 0;\n",
              "    width: 32px;\n",
              "  }\n",
              "\n",
              "  .colab-df-quickchart:hover {\n",
              "    background-color: var(--hover-bg-color);\n",
              "    box-shadow: 0 1px 2px rgba(60, 64, 67, 0.3), 0 1px 3px 1px rgba(60, 64, 67, 0.15);\n",
              "    fill: var(--button-hover-fill-color);\n",
              "  }\n",
              "\n",
              "  .colab-df-quickchart-complete:disabled,\n",
              "  .colab-df-quickchart-complete:disabled:hover {\n",
              "    background-color: var(--disabled-bg-color);\n",
              "    fill: var(--disabled-fill-color);\n",
              "    box-shadow: none;\n",
              "  }\n",
              "\n",
              "  .colab-df-spinner {\n",
              "    border: 2px solid var(--fill-color);\n",
              "    border-color: transparent;\n",
              "    border-bottom-color: var(--fill-color);\n",
              "    animation:\n",
              "      spin 1s steps(1) infinite;\n",
              "  }\n",
              "\n",
              "  @keyframes spin {\n",
              "    0% {\n",
              "      border-color: transparent;\n",
              "      border-bottom-color: var(--fill-color);\n",
              "      border-left-color: var(--fill-color);\n",
              "    }\n",
              "    20% {\n",
              "      border-color: transparent;\n",
              "      border-left-color: var(--fill-color);\n",
              "      border-top-color: var(--fill-color);\n",
              "    }\n",
              "    30% {\n",
              "      border-color: transparent;\n",
              "      border-left-color: var(--fill-color);\n",
              "      border-top-color: var(--fill-color);\n",
              "      border-right-color: var(--fill-color);\n",
              "    }\n",
              "    40% {\n",
              "      border-color: transparent;\n",
              "      border-right-color: var(--fill-color);\n",
              "      border-top-color: var(--fill-color);\n",
              "    }\n",
              "    60% {\n",
              "      border-color: transparent;\n",
              "      border-right-color: var(--fill-color);\n",
              "    }\n",
              "    80% {\n",
              "      border-color: transparent;\n",
              "      border-right-color: var(--fill-color);\n",
              "      border-bottom-color: var(--fill-color);\n",
              "    }\n",
              "    90% {\n",
              "      border-color: transparent;\n",
              "      border-bottom-color: var(--fill-color);\n",
              "    }\n",
              "  }\n",
              "</style>\n",
              "\n",
              "  <script>\n",
              "    async function quickchart(key) {\n",
              "      const quickchartButtonEl =\n",
              "        document.querySelector('#' + key + ' button');\n",
              "      quickchartButtonEl.disabled = true;  // To prevent multiple clicks.\n",
              "      quickchartButtonEl.classList.add('colab-df-spinner');\n",
              "      try {\n",
              "        const charts = await google.colab.kernel.invokeFunction(\n",
              "            'suggestCharts', [key], {});\n",
              "      } catch (error) {\n",
              "        console.error('Error during call to suggestCharts:', error);\n",
              "      }\n",
              "      quickchartButtonEl.classList.remove('colab-df-spinner');\n",
              "      quickchartButtonEl.classList.add('colab-df-quickchart-complete');\n",
              "    }\n",
              "    (() => {\n",
              "      let quickchartButtonEl =\n",
              "        document.querySelector('#df-1c4ffa57-d0dc-4dfb-be35-1a08bedd8c6e button');\n",
              "      quickchartButtonEl.style.display =\n",
              "        google.colab.kernel.accessAllowed ? 'block' : 'none';\n",
              "    })();\n",
              "  </script>\n",
              "</div>\n",
              "    </div>\n",
              "  </div>\n"
            ]
          },
          "metadata": {},
          "execution_count": 9
        }
      ],
      "source": [
        "sitemap_url = adv.url_to_df(df[\"loc\"].fillna(''))\n",
        "sitemap_url.head()"
      ]
    },
    {
      "cell_type": "code",
      "source": [
        "adviz.value_counts_plus(sitemap_url['scheme'], size=20, name='Protocol')"
      ],
      "metadata": {
        "colab": {
          "base_uri": "https://localhost:8080/",
          "height": 128
        },
        "id": "7Wkmk7NZpNuI",
        "outputId": "6329d9fb-1c73-4e05-f867-10d63881467a"
      },
      "execution_count": null,
      "outputs": [
        {
          "output_type": "execute_result",
          "data": {
            "text/plain": [
              "<pandas.io.formats.style.Styler at 0x78440c95ecb0>"
            ],
            "text/html": [
              "<style type=\"text/css\">\n",
              "#T_30185_row0_col1, #T_30185_row0_col2, #T_30185_row0_col3, #T_30185_row0_col4 {\n",
              "  background-color: #00224e;\n",
              "  color: #f1f1f1;\n",
              "}\n",
              "</style>\n",
              "<table id=\"T_30185\" class=\"dataframe\">\n",
              "  <caption><h2>Counts of <b>Protocol</b></h2></caption>\n",
              "  <thead>\n",
              "    <tr>\n",
              "      <th class=\"blank level0\" >&nbsp;</th>\n",
              "      <th id=\"T_30185_level0_col0\" class=\"col_heading level0 col0\" >Protocol</th>\n",
              "      <th id=\"T_30185_level0_col1\" class=\"col_heading level0 col1\" >count</th>\n",
              "      <th id=\"T_30185_level0_col2\" class=\"col_heading level0 col2\" >cum. count</th>\n",
              "      <th id=\"T_30185_level0_col3\" class=\"col_heading level0 col3\" >%</th>\n",
              "      <th id=\"T_30185_level0_col4\" class=\"col_heading level0 col4\" >cum. %</th>\n",
              "    </tr>\n",
              "  </thead>\n",
              "  <tbody>\n",
              "    <tr>\n",
              "      <th id=\"T_30185_level0_row0\" class=\"row_heading level0 row0\" >1</th>\n",
              "      <td id=\"T_30185_row0_col0\" class=\"data row0 col0\" >https</td>\n",
              "      <td id=\"T_30185_row0_col1\" class=\"data row0 col1\" >3,588</td>\n",
              "      <td id=\"T_30185_row0_col2\" class=\"data row0 col2\" >3,588</td>\n",
              "      <td id=\"T_30185_row0_col3\" class=\"data row0 col3\" >100.0%</td>\n",
              "      <td id=\"T_30185_row0_col4\" class=\"data row0 col4\" >100.0%</td>\n",
              "    </tr>\n",
              "  </tbody>\n",
              "</table>\n"
            ]
          },
          "metadata": {},
          "execution_count": 16
        }
      ]
    },
    {
      "cell_type": "code",
      "source": [
        "adviz.value_counts_plus(sitemap_url['netloc'], size=20, name='Domain')"
      ],
      "metadata": {
        "colab": {
          "base_uri": "https://localhost:8080/",
          "height": 128
        },
        "id": "9lvJ3riz7fjU",
        "outputId": "66de3081-43ff-4b6f-cf22-2a5567873edc"
      },
      "execution_count": null,
      "outputs": [
        {
          "output_type": "execute_result",
          "data": {
            "text/plain": [
              "<pandas.io.formats.style.Styler at 0x78440c95d8d0>"
            ],
            "text/html": [
              "<style type=\"text/css\">\n",
              "#T_f2f5f_row0_col1, #T_f2f5f_row0_col2, #T_f2f5f_row0_col3, #T_f2f5f_row0_col4 {\n",
              "  background-color: #00224e;\n",
              "  color: #f1f1f1;\n",
              "}\n",
              "</style>\n",
              "<table id=\"T_f2f5f\" class=\"dataframe\">\n",
              "  <caption><h2>Counts of <b>Domain</b></h2></caption>\n",
              "  <thead>\n",
              "    <tr>\n",
              "      <th class=\"blank level0\" >&nbsp;</th>\n",
              "      <th id=\"T_f2f5f_level0_col0\" class=\"col_heading level0 col0\" >Domain</th>\n",
              "      <th id=\"T_f2f5f_level0_col1\" class=\"col_heading level0 col1\" >count</th>\n",
              "      <th id=\"T_f2f5f_level0_col2\" class=\"col_heading level0 col2\" >cum. count</th>\n",
              "      <th id=\"T_f2f5f_level0_col3\" class=\"col_heading level0 col3\" >%</th>\n",
              "      <th id=\"T_f2f5f_level0_col4\" class=\"col_heading level0 col4\" >cum. %</th>\n",
              "    </tr>\n",
              "  </thead>\n",
              "  <tbody>\n",
              "    <tr>\n",
              "      <th id=\"T_f2f5f_level0_row0\" class=\"row_heading level0 row0\" >1</th>\n",
              "      <td id=\"T_f2f5f_row0_col0\" class=\"data row0 col0\" >www.bottegaveneta.com</td>\n",
              "      <td id=\"T_f2f5f_row0_col1\" class=\"data row0 col1\" >3,588</td>\n",
              "      <td id=\"T_f2f5f_row0_col2\" class=\"data row0 col2\" >3,588</td>\n",
              "      <td id=\"T_f2f5f_row0_col3\" class=\"data row0 col3\" >100.0%</td>\n",
              "      <td id=\"T_f2f5f_row0_col4\" class=\"data row0 col4\" >100.0%</td>\n",
              "    </tr>\n",
              "  </tbody>\n",
              "</table>\n"
            ]
          },
          "metadata": {},
          "execution_count": 17
        }
      ]
    },
    {
      "cell_type": "code",
      "source": [
        "adviz.value_counts_plus(sitemap_url['dir_1'], size=20, name='Market')"
      ],
      "metadata": {
        "colab": {
          "base_uri": "https://localhost:8080/",
          "height": 442
        },
        "id": "oNl8JzBFpBqk",
        "outputId": "f5b29b5d-d06e-4749-9233-b8ed8316ce69"
      },
      "execution_count": null,
      "outputs": [
        {
          "output_type": "execute_result",
          "data": {
            "text/plain": [
              "<pandas.io.formats.style.Styler at 0x78440c95f6a0>"
            ],
            "text/html": [
              "<style type=\"text/css\">\n",
              "#T_23bc2_row0_col1, #T_23bc2_row0_col2, #T_23bc2_row0_col3, #T_23bc2_row0_col4, #T_23bc2_row1_col1, #T_23bc2_row1_col3, #T_23bc2_row2_col1, #T_23bc2_row2_col3, #T_23bc2_row3_col1, #T_23bc2_row3_col3, #T_23bc2_row4_col1, #T_23bc2_row4_col3, #T_23bc2_row5_col1, #T_23bc2_row5_col3, #T_23bc2_row6_col1, #T_23bc2_row6_col3, #T_23bc2_row7_col1, #T_23bc2_row7_col3, #T_23bc2_row8_col1, #T_23bc2_row8_col3, #T_23bc2_row9_col1, #T_23bc2_row9_col3 {\n",
              "  background-color: #00224e;\n",
              "  color: #f1f1f1;\n",
              "}\n",
              "#T_23bc2_row1_col2, #T_23bc2_row1_col4 {\n",
              "  background-color: #003170;\n",
              "  color: #f1f1f1;\n",
              "}\n",
              "#T_23bc2_row2_col2, #T_23bc2_row2_col4 {\n",
              "  background-color: #2a3f6d;\n",
              "  color: #f1f1f1;\n",
              "}\n",
              "#T_23bc2_row3_col2, #T_23bc2_row3_col4 {\n",
              "  background-color: #434e6c;\n",
              "  color: #f1f1f1;\n",
              "}\n",
              "#T_23bc2_row4_col2, #T_23bc2_row4_col4 {\n",
              "  background-color: #575d6d;\n",
              "  color: #f1f1f1;\n",
              "}\n",
              "#T_23bc2_row5_col2, #T_23bc2_row5_col4 {\n",
              "  background-color: #6a6c71;\n",
              "  color: #f1f1f1;\n",
              "}\n",
              "#T_23bc2_row6_col2, #T_23bc2_row6_col4 {\n",
              "  background-color: #7d7c78;\n",
              "  color: #f1f1f1;\n",
              "}\n",
              "#T_23bc2_row7_col2, #T_23bc2_row7_col4 {\n",
              "  background-color: #918b78;\n",
              "  color: #f1f1f1;\n",
              "}\n",
              "#T_23bc2_row8_col2, #T_23bc2_row8_col4 {\n",
              "  background-color: #a59c74;\n",
              "  color: #f1f1f1;\n",
              "}\n",
              "#T_23bc2_row9_col2 {\n",
              "  background-color: #bcae6c;\n",
              "  color: #000000;\n",
              "}\n",
              "#T_23bc2_row9_col4 {\n",
              "  background-color: #bbad6d;\n",
              "  color: #000000;\n",
              "}\n",
              "#T_23bc2_row10_col1, #T_23bc2_row10_col2, #T_23bc2_row10_col3, #T_23bc2_row10_col4 {\n",
              "  background-color: #fee838;\n",
              "  color: #000000;\n",
              "}\n",
              "</style>\n",
              "<table id=\"T_23bc2\" class=\"dataframe\">\n",
              "  <caption><h2>Counts of <b>Market</b></h2></caption>\n",
              "  <thead>\n",
              "    <tr>\n",
              "      <th class=\"blank level0\" >&nbsp;</th>\n",
              "      <th id=\"T_23bc2_level0_col0\" class=\"col_heading level0 col0\" >Market</th>\n",
              "      <th id=\"T_23bc2_level0_col1\" class=\"col_heading level0 col1\" >count</th>\n",
              "      <th id=\"T_23bc2_level0_col2\" class=\"col_heading level0 col2\" >cum. count</th>\n",
              "      <th id=\"T_23bc2_level0_col3\" class=\"col_heading level0 col3\" >%</th>\n",
              "      <th id=\"T_23bc2_level0_col4\" class=\"col_heading level0 col4\" >cum. %</th>\n",
              "    </tr>\n",
              "  </thead>\n",
              "  <tbody>\n",
              "    <tr>\n",
              "      <th id=\"T_23bc2_level0_row0\" class=\"row_heading level0 row0\" >1</th>\n",
              "      <td id=\"T_23bc2_row0_col0\" class=\"data row0 col0\" >fr-fr</td>\n",
              "      <td id=\"T_23bc2_row0_col1\" class=\"data row0 col1\" >276</td>\n",
              "      <td id=\"T_23bc2_row0_col2\" class=\"data row0 col2\" >276</td>\n",
              "      <td id=\"T_23bc2_row0_col3\" class=\"data row0 col3\" >7.7%</td>\n",
              "      <td id=\"T_23bc2_row0_col4\" class=\"data row0 col4\" >7.7%</td>\n",
              "    </tr>\n",
              "    <tr>\n",
              "      <th id=\"T_23bc2_level0_row1\" class=\"row_heading level0 row1\" >2</th>\n",
              "      <td id=\"T_23bc2_row1_col0\" class=\"data row1 col0\" >de-at</td>\n",
              "      <td id=\"T_23bc2_row1_col1\" class=\"data row1 col1\" >276</td>\n",
              "      <td id=\"T_23bc2_row1_col2\" class=\"data row1 col2\" >552</td>\n",
              "      <td id=\"T_23bc2_row1_col3\" class=\"data row1 col3\" >7.7%</td>\n",
              "      <td id=\"T_23bc2_row1_col4\" class=\"data row1 col4\" >15.4%</td>\n",
              "    </tr>\n",
              "    <tr>\n",
              "      <th id=\"T_23bc2_level0_row2\" class=\"row_heading level0 row2\" >3</th>\n",
              "      <td id=\"T_23bc2_row2_col0\" class=\"data row2 col0\" >en-dk</td>\n",
              "      <td id=\"T_23bc2_row2_col1\" class=\"data row2 col1\" >276</td>\n",
              "      <td id=\"T_23bc2_row2_col2\" class=\"data row2 col2\" >828</td>\n",
              "      <td id=\"T_23bc2_row2_col3\" class=\"data row2 col3\" >7.7%</td>\n",
              "      <td id=\"T_23bc2_row2_col4\" class=\"data row2 col4\" >23.1%</td>\n",
              "    </tr>\n",
              "    <tr>\n",
              "      <th id=\"T_23bc2_level0_row3\" class=\"row_heading level0 row3\" >4</th>\n",
              "      <td id=\"T_23bc2_row3_col0\" class=\"data row3 col0\" >en-gb</td>\n",
              "      <td id=\"T_23bc2_row3_col1\" class=\"data row3 col1\" >276</td>\n",
              "      <td id=\"T_23bc2_row3_col2\" class=\"data row3 col2\" >1,104</td>\n",
              "      <td id=\"T_23bc2_row3_col3\" class=\"data row3 col3\" >7.7%</td>\n",
              "      <td id=\"T_23bc2_row3_col4\" class=\"data row3 col4\" >30.8%</td>\n",
              "    </tr>\n",
              "    <tr>\n",
              "      <th id=\"T_23bc2_level0_row4\" class=\"row_heading level0 row4\" >5</th>\n",
              "      <td id=\"T_23bc2_row4_col0\" class=\"data row4 col0\" >en-no</td>\n",
              "      <td id=\"T_23bc2_row4_col1\" class=\"data row4 col1\" >276</td>\n",
              "      <td id=\"T_23bc2_row4_col2\" class=\"data row4 col2\" >1,380</td>\n",
              "      <td id=\"T_23bc2_row4_col3\" class=\"data row4 col3\" >7.7%</td>\n",
              "      <td id=\"T_23bc2_row4_col4\" class=\"data row4 col4\" >38.5%</td>\n",
              "    </tr>\n",
              "    <tr>\n",
              "      <th id=\"T_23bc2_level0_row5\" class=\"row_heading level0 row5\" >6</th>\n",
              "      <td id=\"T_23bc2_row5_col0\" class=\"data row5 col0\" >de-de</td>\n",
              "      <td id=\"T_23bc2_row5_col1\" class=\"data row5 col1\" >276</td>\n",
              "      <td id=\"T_23bc2_row5_col2\" class=\"data row5 col2\" >1,656</td>\n",
              "      <td id=\"T_23bc2_row5_col3\" class=\"data row5 col3\" >7.7%</td>\n",
              "      <td id=\"T_23bc2_row5_col4\" class=\"data row5 col4\" >46.2%</td>\n",
              "    </tr>\n",
              "    <tr>\n",
              "      <th id=\"T_23bc2_level0_row6\" class=\"row_heading level0 row6\" >7</th>\n",
              "      <td id=\"T_23bc2_row6_col0\" class=\"data row6 col0\" >en-es</td>\n",
              "      <td id=\"T_23bc2_row6_col1\" class=\"data row6 col1\" >276</td>\n",
              "      <td id=\"T_23bc2_row6_col2\" class=\"data row6 col2\" >1,932</td>\n",
              "      <td id=\"T_23bc2_row6_col3\" class=\"data row6 col3\" >7.7%</td>\n",
              "      <td id=\"T_23bc2_row6_col4\" class=\"data row6 col4\" >53.8%</td>\n",
              "    </tr>\n",
              "    <tr>\n",
              "      <th id=\"T_23bc2_level0_row7\" class=\"row_heading level0 row7\" >8</th>\n",
              "      <td id=\"T_23bc2_row7_col0\" class=\"data row7 col0\" >en-be</td>\n",
              "      <td id=\"T_23bc2_row7_col1\" class=\"data row7 col1\" >276</td>\n",
              "      <td id=\"T_23bc2_row7_col2\" class=\"data row7 col2\" >2,208</td>\n",
              "      <td id=\"T_23bc2_row7_col3\" class=\"data row7 col3\" >7.7%</td>\n",
              "      <td id=\"T_23bc2_row7_col4\" class=\"data row7 col4\" >61.5%</td>\n",
              "    </tr>\n",
              "    <tr>\n",
              "      <th id=\"T_23bc2_level0_row8\" class=\"row_heading level0 row8\" >9</th>\n",
              "      <td id=\"T_23bc2_row8_col0\" class=\"data row8 col0\" >en-nl</td>\n",
              "      <td id=\"T_23bc2_row8_col1\" class=\"data row8 col1\" >276</td>\n",
              "      <td id=\"T_23bc2_row8_col2\" class=\"data row8 col2\" >2,484</td>\n",
              "      <td id=\"T_23bc2_row8_col3\" class=\"data row8 col3\" >7.7%</td>\n",
              "      <td id=\"T_23bc2_row8_col4\" class=\"data row8 col4\" >69.2%</td>\n",
              "    </tr>\n",
              "    <tr>\n",
              "      <th id=\"T_23bc2_level0_row9\" class=\"row_heading level0 row9\" >10</th>\n",
              "      <td id=\"T_23bc2_row9_col0\" class=\"data row9 col0\" >en-pl</td>\n",
              "      <td id=\"T_23bc2_row9_col1\" class=\"data row9 col1\" >276</td>\n",
              "      <td id=\"T_23bc2_row9_col2\" class=\"data row9 col2\" >2,760</td>\n",
              "      <td id=\"T_23bc2_row9_col3\" class=\"data row9 col3\" >7.7%</td>\n",
              "      <td id=\"T_23bc2_row9_col4\" class=\"data row9 col4\" >76.9%</td>\n",
              "    </tr>\n",
              "    <tr>\n",
              "      <th id=\"T_23bc2_level0_row10\" class=\"row_heading level0 row10\" >11</th>\n",
              "      <td id=\"T_23bc2_row10_col0\" class=\"data row10 col0\" >Others:</td>\n",
              "      <td id=\"T_23bc2_row10_col1\" class=\"data row10 col1\" >828</td>\n",
              "      <td id=\"T_23bc2_row10_col2\" class=\"data row10 col2\" >3,588</td>\n",
              "      <td id=\"T_23bc2_row10_col3\" class=\"data row10 col3\" >23.1%</td>\n",
              "      <td id=\"T_23bc2_row10_col4\" class=\"data row10 col4\" >100.0%</td>\n",
              "    </tr>\n",
              "  </tbody>\n",
              "</table>\n"
            ]
          },
          "metadata": {},
          "execution_count": 18
        }
      ]
    },
    {
      "cell_type": "code",
      "source": [
        "country = sitemap_url.groupby('dir_1').url.count().sort_values(ascending=False).reset_index()\n",
        "country.rename(columns=\n",
        " {'dir_1':'country',\n",
        "  'url': 'count'},\n",
        "               inplace=True)\n",
        "\n",
        "#plot a histogram\n",
        "px.histogram(country,\n",
        "             x='country',\n",
        "             y='count',\n",
        "             title='Ratio of Markets in XML sitemap',\n",
        "             template='plotly_dark')"
      ],
      "metadata": {
        "colab": {
          "base_uri": "https://localhost:8080/",
          "height": 542
        },
        "id": "wjp_Sf8EABTt",
        "outputId": "b5068f70-a88d-43b0-bd67-83404c63a5f2"
      },
      "execution_count": null,
      "outputs": [
        {
          "output_type": "display_data",
          "data": {
            "text/html": [
              "<html>\n",
              "<head><meta charset=\"utf-8\" /></head>\n",
              "<body>\n",
              "    <div>            <script src=\"https://cdnjs.cloudflare.com/ajax/libs/mathjax/2.7.5/MathJax.js?config=TeX-AMS-MML_SVG\"></script><script type=\"text/javascript\">if (window.MathJax && window.MathJax.Hub && window.MathJax.Hub.Config) {window.MathJax.Hub.Config({SVG: {font: \"STIX-Web\"}});}</script>                <script type=\"text/javascript\">window.PlotlyConfig = {MathJaxConfig: 'local'};</script>\n",
              "        <script src=\"https://cdn.plot.ly/plotly-2.18.2.min.js\"></script>                <div id=\"043ab445-3113-417e-8dce-e738f549efe1\" class=\"plotly-graph-div\" style=\"height:525px; width:100%;\"></div>            <script type=\"text/javascript\">                                    window.PLOTLYENV=window.PLOTLYENV || {};                                    if (document.getElementById(\"043ab445-3113-417e-8dce-e738f549efe1\")) {                    Plotly.newPlot(                        \"043ab445-3113-417e-8dce-e738f549efe1\",                        [{\"alignmentgroup\":\"True\",\"bingroup\":\"x\",\"histfunc\":\"sum\",\"hovertemplate\":\"country=%{x}<br>sum of count=%{y}<extra></extra>\",\"legendgroup\":\"\",\"marker\":{\"color\":\"#636efa\",\"pattern\":{\"shape\":\"\"}},\"name\":\"\",\"offsetgroup\":\"\",\"orientation\":\"v\",\"showlegend\":false,\"x\":[\"en_US\",\"me\",\"sea\",\"ja-jp\",\"en-in\",\"en-za\",\"zh-tw\",\"en-tr\",\"tr-tr\",\"zh-hk\"],\"xaxis\":\"x\",\"y\":[1627,496,358,182,124,97,71,66,66,65],\"yaxis\":\"y\",\"type\":\"histogram\"}],                        {\"template\":{\"data\":{\"barpolar\":[{\"marker\":{\"line\":{\"color\":\"rgb(17,17,17)\",\"width\":0.5},\"pattern\":{\"fillmode\":\"overlay\",\"size\":10,\"solidity\":0.2}},\"type\":\"barpolar\"}],\"bar\":[{\"error_x\":{\"color\":\"#f2f5fa\"},\"error_y\":{\"color\":\"#f2f5fa\"},\"marker\":{\"line\":{\"color\":\"rgb(17,17,17)\",\"width\":0.5},\"pattern\":{\"fillmode\":\"overlay\",\"size\":10,\"solidity\":0.2}},\"type\":\"bar\"}],\"carpet\":[{\"aaxis\":{\"endlinecolor\":\"#A2B1C6\",\"gridcolor\":\"#506784\",\"linecolor\":\"#506784\",\"minorgridcolor\":\"#506784\",\"startlinecolor\":\"#A2B1C6\"},\"baxis\":{\"endlinecolor\":\"#A2B1C6\",\"gridcolor\":\"#506784\",\"linecolor\":\"#506784\",\"minorgridcolor\":\"#506784\",\"startlinecolor\":\"#A2B1C6\"},\"type\":\"carpet\"}],\"choropleth\":[{\"colorbar\":{\"outlinewidth\":0,\"ticks\":\"\"},\"type\":\"choropleth\"}],\"contourcarpet\":[{\"colorbar\":{\"outlinewidth\":0,\"ticks\":\"\"},\"type\":\"contourcarpet\"}],\"contour\":[{\"colorbar\":{\"outlinewidth\":0,\"ticks\":\"\"},\"colorscale\":[[0.0,\"#0d0887\"],[0.1111111111111111,\"#46039f\"],[0.2222222222222222,\"#7201a8\"],[0.3333333333333333,\"#9c179e\"],[0.4444444444444444,\"#bd3786\"],[0.5555555555555556,\"#d8576b\"],[0.6666666666666666,\"#ed7953\"],[0.7777777777777778,\"#fb9f3a\"],[0.8888888888888888,\"#fdca26\"],[1.0,\"#f0f921\"]],\"type\":\"contour\"}],\"heatmapgl\":[{\"colorbar\":{\"outlinewidth\":0,\"ticks\":\"\"},\"colorscale\":[[0.0,\"#0d0887\"],[0.1111111111111111,\"#46039f\"],[0.2222222222222222,\"#7201a8\"],[0.3333333333333333,\"#9c179e\"],[0.4444444444444444,\"#bd3786\"],[0.5555555555555556,\"#d8576b\"],[0.6666666666666666,\"#ed7953\"],[0.7777777777777778,\"#fb9f3a\"],[0.8888888888888888,\"#fdca26\"],[1.0,\"#f0f921\"]],\"type\":\"heatmapgl\"}],\"heatmap\":[{\"colorbar\":{\"outlinewidth\":0,\"ticks\":\"\"},\"colorscale\":[[0.0,\"#0d0887\"],[0.1111111111111111,\"#46039f\"],[0.2222222222222222,\"#7201a8\"],[0.3333333333333333,\"#9c179e\"],[0.4444444444444444,\"#bd3786\"],[0.5555555555555556,\"#d8576b\"],[0.6666666666666666,\"#ed7953\"],[0.7777777777777778,\"#fb9f3a\"],[0.8888888888888888,\"#fdca26\"],[1.0,\"#f0f921\"]],\"type\":\"heatmap\"}],\"histogram2dcontour\":[{\"colorbar\":{\"outlinewidth\":0,\"ticks\":\"\"},\"colorscale\":[[0.0,\"#0d0887\"],[0.1111111111111111,\"#46039f\"],[0.2222222222222222,\"#7201a8\"],[0.3333333333333333,\"#9c179e\"],[0.4444444444444444,\"#bd3786\"],[0.5555555555555556,\"#d8576b\"],[0.6666666666666666,\"#ed7953\"],[0.7777777777777778,\"#fb9f3a\"],[0.8888888888888888,\"#fdca26\"],[1.0,\"#f0f921\"]],\"type\":\"histogram2dcontour\"}],\"histogram2d\":[{\"colorbar\":{\"outlinewidth\":0,\"ticks\":\"\"},\"colorscale\":[[0.0,\"#0d0887\"],[0.1111111111111111,\"#46039f\"],[0.2222222222222222,\"#7201a8\"],[0.3333333333333333,\"#9c179e\"],[0.4444444444444444,\"#bd3786\"],[0.5555555555555556,\"#d8576b\"],[0.6666666666666666,\"#ed7953\"],[0.7777777777777778,\"#fb9f3a\"],[0.8888888888888888,\"#fdca26\"],[1.0,\"#f0f921\"]],\"type\":\"histogram2d\"}],\"histogram\":[{\"marker\":{\"pattern\":{\"fillmode\":\"overlay\",\"size\":10,\"solidity\":0.2}},\"type\":\"histogram\"}],\"mesh3d\":[{\"colorbar\":{\"outlinewidth\":0,\"ticks\":\"\"},\"type\":\"mesh3d\"}],\"parcoords\":[{\"line\":{\"colorbar\":{\"outlinewidth\":0,\"ticks\":\"\"}},\"type\":\"parcoords\"}],\"pie\":[{\"automargin\":true,\"type\":\"pie\"}],\"scatter3d\":[{\"line\":{\"colorbar\":{\"outlinewidth\":0,\"ticks\":\"\"}},\"marker\":{\"colorbar\":{\"outlinewidth\":0,\"ticks\":\"\"}},\"type\":\"scatter3d\"}],\"scattercarpet\":[{\"marker\":{\"colorbar\":{\"outlinewidth\":0,\"ticks\":\"\"}},\"type\":\"scattercarpet\"}],\"scattergeo\":[{\"marker\":{\"colorbar\":{\"outlinewidth\":0,\"ticks\":\"\"}},\"type\":\"scattergeo\"}],\"scattergl\":[{\"marker\":{\"line\":{\"color\":\"#283442\"}},\"type\":\"scattergl\"}],\"scattermapbox\":[{\"marker\":{\"colorbar\":{\"outlinewidth\":0,\"ticks\":\"\"}},\"type\":\"scattermapbox\"}],\"scatterpolargl\":[{\"marker\":{\"colorbar\":{\"outlinewidth\":0,\"ticks\":\"\"}},\"type\":\"scatterpolargl\"}],\"scatterpolar\":[{\"marker\":{\"colorbar\":{\"outlinewidth\":0,\"ticks\":\"\"}},\"type\":\"scatterpolar\"}],\"scatter\":[{\"marker\":{\"line\":{\"color\":\"#283442\"}},\"type\":\"scatter\"}],\"scatterternary\":[{\"marker\":{\"colorbar\":{\"outlinewidth\":0,\"ticks\":\"\"}},\"type\":\"scatterternary\"}],\"surface\":[{\"colorbar\":{\"outlinewidth\":0,\"ticks\":\"\"},\"colorscale\":[[0.0,\"#0d0887\"],[0.1111111111111111,\"#46039f\"],[0.2222222222222222,\"#7201a8\"],[0.3333333333333333,\"#9c179e\"],[0.4444444444444444,\"#bd3786\"],[0.5555555555555556,\"#d8576b\"],[0.6666666666666666,\"#ed7953\"],[0.7777777777777778,\"#fb9f3a\"],[0.8888888888888888,\"#fdca26\"],[1.0,\"#f0f921\"]],\"type\":\"surface\"}],\"table\":[{\"cells\":{\"fill\":{\"color\":\"#506784\"},\"line\":{\"color\":\"rgb(17,17,17)\"}},\"header\":{\"fill\":{\"color\":\"#2a3f5f\"},\"line\":{\"color\":\"rgb(17,17,17)\"}},\"type\":\"table\"}]},\"layout\":{\"annotationdefaults\":{\"arrowcolor\":\"#f2f5fa\",\"arrowhead\":0,\"arrowwidth\":1},\"autotypenumbers\":\"strict\",\"coloraxis\":{\"colorbar\":{\"outlinewidth\":0,\"ticks\":\"\"}},\"colorscale\":{\"diverging\":[[0,\"#8e0152\"],[0.1,\"#c51b7d\"],[0.2,\"#de77ae\"],[0.3,\"#f1b6da\"],[0.4,\"#fde0ef\"],[0.5,\"#f7f7f7\"],[0.6,\"#e6f5d0\"],[0.7,\"#b8e186\"],[0.8,\"#7fbc41\"],[0.9,\"#4d9221\"],[1,\"#276419\"]],\"sequential\":[[0.0,\"#0d0887\"],[0.1111111111111111,\"#46039f\"],[0.2222222222222222,\"#7201a8\"],[0.3333333333333333,\"#9c179e\"],[0.4444444444444444,\"#bd3786\"],[0.5555555555555556,\"#d8576b\"],[0.6666666666666666,\"#ed7953\"],[0.7777777777777778,\"#fb9f3a\"],[0.8888888888888888,\"#fdca26\"],[1.0,\"#f0f921\"]],\"sequentialminus\":[[0.0,\"#0d0887\"],[0.1111111111111111,\"#46039f\"],[0.2222222222222222,\"#7201a8\"],[0.3333333333333333,\"#9c179e\"],[0.4444444444444444,\"#bd3786\"],[0.5555555555555556,\"#d8576b\"],[0.6666666666666666,\"#ed7953\"],[0.7777777777777778,\"#fb9f3a\"],[0.8888888888888888,\"#fdca26\"],[1.0,\"#f0f921\"]]},\"colorway\":[\"#636efa\",\"#EF553B\",\"#00cc96\",\"#ab63fa\",\"#FFA15A\",\"#19d3f3\",\"#FF6692\",\"#B6E880\",\"#FF97FF\",\"#FECB52\"],\"font\":{\"color\":\"#f2f5fa\"},\"geo\":{\"bgcolor\":\"rgb(17,17,17)\",\"lakecolor\":\"rgb(17,17,17)\",\"landcolor\":\"rgb(17,17,17)\",\"showlakes\":true,\"showland\":true,\"subunitcolor\":\"#506784\"},\"hoverlabel\":{\"align\":\"left\"},\"hovermode\":\"closest\",\"mapbox\":{\"style\":\"dark\"},\"paper_bgcolor\":\"rgb(17,17,17)\",\"plot_bgcolor\":\"rgb(17,17,17)\",\"polar\":{\"angularaxis\":{\"gridcolor\":\"#506784\",\"linecolor\":\"#506784\",\"ticks\":\"\"},\"bgcolor\":\"rgb(17,17,17)\",\"radialaxis\":{\"gridcolor\":\"#506784\",\"linecolor\":\"#506784\",\"ticks\":\"\"}},\"scene\":{\"xaxis\":{\"backgroundcolor\":\"rgb(17,17,17)\",\"gridcolor\":\"#506784\",\"gridwidth\":2,\"linecolor\":\"#506784\",\"showbackground\":true,\"ticks\":\"\",\"zerolinecolor\":\"#C8D4E3\"},\"yaxis\":{\"backgroundcolor\":\"rgb(17,17,17)\",\"gridcolor\":\"#506784\",\"gridwidth\":2,\"linecolor\":\"#506784\",\"showbackground\":true,\"ticks\":\"\",\"zerolinecolor\":\"#C8D4E3\"},\"zaxis\":{\"backgroundcolor\":\"rgb(17,17,17)\",\"gridcolor\":\"#506784\",\"gridwidth\":2,\"linecolor\":\"#506784\",\"showbackground\":true,\"ticks\":\"\",\"zerolinecolor\":\"#C8D4E3\"}},\"shapedefaults\":{\"line\":{\"color\":\"#f2f5fa\"}},\"sliderdefaults\":{\"bgcolor\":\"#C8D4E3\",\"bordercolor\":\"rgb(17,17,17)\",\"borderwidth\":1,\"tickwidth\":0},\"ternary\":{\"aaxis\":{\"gridcolor\":\"#506784\",\"linecolor\":\"#506784\",\"ticks\":\"\"},\"baxis\":{\"gridcolor\":\"#506784\",\"linecolor\":\"#506784\",\"ticks\":\"\"},\"bgcolor\":\"rgb(17,17,17)\",\"caxis\":{\"gridcolor\":\"#506784\",\"linecolor\":\"#506784\",\"ticks\":\"\"}},\"title\":{\"x\":0.05},\"updatemenudefaults\":{\"bgcolor\":\"#506784\",\"borderwidth\":0},\"xaxis\":{\"automargin\":true,\"gridcolor\":\"#283442\",\"linecolor\":\"#506784\",\"ticks\":\"\",\"title\":{\"standoff\":15},\"zerolinecolor\":\"#283442\",\"zerolinewidth\":2},\"yaxis\":{\"automargin\":true,\"gridcolor\":\"#283442\",\"linecolor\":\"#506784\",\"ticks\":\"\",\"title\":{\"standoff\":15},\"zerolinecolor\":\"#283442\",\"zerolinewidth\":2}}},\"xaxis\":{\"anchor\":\"y\",\"domain\":[0.0,1.0],\"title\":{\"text\":\"country\"}},\"yaxis\":{\"anchor\":\"x\",\"domain\":[0.0,1.0],\"title\":{\"text\":\"sum of count\"}},\"legend\":{\"tracegroupgap\":0},\"title\":{\"text\":\"Ratio of Markets in XML sitemap\"},\"barmode\":\"relative\"},                        {\"responsive\": true}                    ).then(function(){\n",
              "                            \n",
              "var gd = document.getElementById('043ab445-3113-417e-8dce-e738f549efe1');\n",
              "var x = new MutationObserver(function (mutations, observer) {{\n",
              "        var display = window.getComputedStyle(gd).display;\n",
              "        if (!display || display === 'none') {{\n",
              "            console.log([gd, 'removed!']);\n",
              "            Plotly.purge(gd);\n",
              "            observer.disconnect();\n",
              "        }}\n",
              "}});\n",
              "\n",
              "// Listen for the removal of the full notebook cells\n",
              "var notebookContainer = gd.closest('#notebook-container');\n",
              "if (notebookContainer) {{\n",
              "    x.observe(notebookContainer, {childList: true});\n",
              "}}\n",
              "\n",
              "// Listen for the clearing of the current output cell\n",
              "var outputEl = gd.closest('.output');\n",
              "if (outputEl) {{\n",
              "    x.observe(outputEl, {childList: true});\n",
              "}}\n",
              "\n",
              "                        })                };                            </script>        </div>\n",
              "</body>\n",
              "</html>"
            ]
          },
          "metadata": {}
        }
      ]
    },
    {
      "cell_type": "code",
      "source": [
        "adviz.value_counts_plus(sitemap_url['dir_2'], size=20, name='Main Directory')"
      ],
      "metadata": {
        "colab": {
          "base_uri": "https://localhost:8080/",
          "height": 441
        },
        "id": "u5Klz3cHpBog",
        "outputId": "933572c3-b83f-4b1f-98b7-8e77abf8ad38"
      },
      "execution_count": null,
      "outputs": [
        {
          "output_type": "execute_result",
          "data": {
            "text/plain": [
              "<pandas.io.formats.style.Styler at 0x7d5f298304c0>"
            ],
            "text/html": [
              "<style type=\"text/css\">\n",
              "#T_7491d_row0_col1, #T_7491d_row0_col3, #T_7491d_row10_col2, #T_7491d_row10_col4 {\n",
              "  background-color: #fee838;\n",
              "  color: #000000;\n",
              "}\n",
              "#T_7491d_row0_col2, #T_7491d_row0_col4, #T_7491d_row9_col1, #T_7491d_row9_col3 {\n",
              "  background-color: #00224e;\n",
              "  color: #f1f1f1;\n",
              "}\n",
              "#T_7491d_row1_col1, #T_7491d_row1_col3 {\n",
              "  background-color: #123570;\n",
              "  color: #f1f1f1;\n",
              "}\n",
              "#T_7491d_row1_col2, #T_7491d_row1_col4 {\n",
              "  background-color: #3a486c;\n",
              "  color: #f1f1f1;\n",
              "}\n",
              "#T_7491d_row2_col1, #T_7491d_row2_col3 {\n",
              "  background-color: #002a5f;\n",
              "  color: #f1f1f1;\n",
              "}\n",
              "#T_7491d_row2_col2, #T_7491d_row2_col4 {\n",
              "  background-color: #535a6d;\n",
              "  color: #f1f1f1;\n",
              "}\n",
              "#T_7491d_row3_col1, #T_7491d_row3_col3 {\n",
              "  background-color: #00285b;\n",
              "  color: #f1f1f1;\n",
              "}\n",
              "#T_7491d_row3_col2, #T_7491d_row3_col4 {\n",
              "  background-color: #666970;\n",
              "  color: #f1f1f1;\n",
              "}\n",
              "#T_7491d_row4_col1, #T_7491d_row4_col3 {\n",
              "  background-color: #002656;\n",
              "  color: #f1f1f1;\n",
              "}\n",
              "#T_7491d_row4_col2, #T_7491d_row4_col4 {\n",
              "  background-color: #737475;\n",
              "  color: #f1f1f1;\n",
              "}\n",
              "#T_7491d_row5_col1, #T_7491d_row5_col3, #T_7491d_row6_col1, #T_7491d_row6_col3, #T_7491d_row7_col1, #T_7491d_row7_col3, #T_7491d_row8_col1, #T_7491d_row8_col3 {\n",
              "  background-color: #002553;\n",
              "  color: #f1f1f1;\n",
              "}\n",
              "#T_7491d_row5_col2, #T_7491d_row5_col4 {\n",
              "  background-color: #7e7c78;\n",
              "  color: #f1f1f1;\n",
              "}\n",
              "#T_7491d_row6_col2, #T_7491d_row6_col4 {\n",
              "  background-color: #898578;\n",
              "  color: #f1f1f1;\n",
              "}\n",
              "#T_7491d_row7_col2, #T_7491d_row7_col4 {\n",
              "  background-color: #948e77;\n",
              "  color: #f1f1f1;\n",
              "}\n",
              "#T_7491d_row8_col2, #T_7491d_row8_col4 {\n",
              "  background-color: #a19975;\n",
              "  color: #f1f1f1;\n",
              "}\n",
              "#T_7491d_row9_col2, #T_7491d_row9_col4 {\n",
              "  background-color: #a69c74;\n",
              "  color: #f1f1f1;\n",
              "}\n",
              "#T_7491d_row10_col1, #T_7491d_row10_col3 {\n",
              "  background-color: #2b406d;\n",
              "  color: #f1f1f1;\n",
              "}\n",
              "</style>\n",
              "<table id=\"T_7491d\" class=\"dataframe\">\n",
              "  <caption><h2>Counts of <b>Main Directory</b></h2></caption>\n",
              "  <thead>\n",
              "    <tr>\n",
              "      <th class=\"blank level0\" >&nbsp;</th>\n",
              "      <th id=\"T_7491d_level0_col0\" class=\"col_heading level0 col0\" >Main Directory</th>\n",
              "      <th id=\"T_7491d_level0_col1\" class=\"col_heading level0 col1\" >count</th>\n",
              "      <th id=\"T_7491d_level0_col2\" class=\"col_heading level0 col2\" >cum. count</th>\n",
              "      <th id=\"T_7491d_level0_col3\" class=\"col_heading level0 col3\" >%</th>\n",
              "      <th id=\"T_7491d_level0_col4\" class=\"col_heading level0 col4\" >cum. %</th>\n",
              "    </tr>\n",
              "  </thead>\n",
              "  <tbody>\n",
              "    <tr>\n",
              "      <th id=\"T_7491d_level0_row0\" class=\"row_heading level0 row0\" >1</th>\n",
              "      <td id=\"T_7491d_row0_col0\" class=\"data row0 col0\" >global</td>\n",
              "      <td id=\"T_7491d_row0_col1\" class=\"data row0 col1\" >832</td>\n",
              "      <td id=\"T_7491d_row0_col2\" class=\"data row0 col2\" >832</td>\n",
              "      <td id=\"T_7491d_row0_col3\" class=\"data row0 col3\" >64.4%</td>\n",
              "      <td id=\"T_7491d_row0_col4\" class=\"data row0 col4\" >64.4%</td>\n",
              "    </tr>\n",
              "    <tr>\n",
              "      <th id=\"T_7491d_level0_row1\" class=\"row_heading level0 row1\" >2</th>\n",
              "      <td id=\"T_7491d_row1_col0\" class=\"data row1 col0\" >products</td>\n",
              "      <td id=\"T_7491d_row1_col1\" class=\"data row1 col1\" >100</td>\n",
              "      <td id=\"T_7491d_row1_col2\" class=\"data row1 col2\" >932</td>\n",
              "      <td id=\"T_7491d_row1_col3\" class=\"data row1 col3\" >7.7%</td>\n",
              "      <td id=\"T_7491d_row1_col4\" class=\"data row1 col4\" >72.2%</td>\n",
              "    </tr>\n",
              "    <tr>\n",
              "      <th id=\"T_7491d_level0_row2\" class=\"row_heading level0 row2\" >3</th>\n",
              "      <td id=\"T_7491d_row2_col0\" class=\"data row2 col0\" >en</td>\n",
              "      <td id=\"T_7491d_row2_col1\" class=\"data row2 col1\" >45</td>\n",
              "      <td id=\"T_7491d_row2_col2\" class=\"data row2 col2\" >977</td>\n",
              "      <td id=\"T_7491d_row2_col3\" class=\"data row2 col3\" >3.5%</td>\n",
              "      <td id=\"T_7491d_row2_col4\" class=\"data row2 col4\" >75.7%</td>\n",
              "    </tr>\n",
              "    <tr>\n",
              "      <th id=\"T_7491d_level0_row3\" class=\"row_heading level0 row3\" >4</th>\n",
              "      <td id=\"T_7491d_row3_col0\" class=\"data row3 col0\" >fr</td>\n",
              "      <td id=\"T_7491d_row3_col1\" class=\"data row3 col1\" >38</td>\n",
              "      <td id=\"T_7491d_row3_col2\" class=\"data row3 col2\" >1,015</td>\n",
              "      <td id=\"T_7491d_row3_col3\" class=\"data row3 col3\" >2.9%</td>\n",
              "      <td id=\"T_7491d_row3_col4\" class=\"data row3 col4\" >78.6%</td>\n",
              "    </tr>\n",
              "    <tr>\n",
              "      <th id=\"T_7491d_level0_row4\" class=\"row_heading level0 row4\" >5</th>\n",
              "      <td id=\"T_7491d_row4_col0\" class=\"data row4 col0\" >ku</td>\n",
              "      <td id=\"T_7491d_row4_col1\" class=\"data row4 col1\" >27</td>\n",
              "      <td id=\"T_7491d_row4_col2\" class=\"data row4 col2\" >1,042</td>\n",
              "      <td id=\"T_7491d_row4_col3\" class=\"data row4 col3\" >2.1%</td>\n",
              "      <td id=\"T_7491d_row4_col4\" class=\"data row4 col4\" >80.7%</td>\n",
              "    </tr>\n",
              "    <tr>\n",
              "      <th id=\"T_7491d_level0_row5\" class=\"row_heading level0 row5\" >6</th>\n",
              "      <td id=\"T_7491d_row5_col0\" class=\"data row5 col0\" >om</td>\n",
              "      <td id=\"T_7491d_row5_col1\" class=\"data row5 col1\" >22</td>\n",
              "      <td id=\"T_7491d_row5_col2\" class=\"data row5 col2\" >1,064</td>\n",
              "      <td id=\"T_7491d_row5_col3\" class=\"data row5 col3\" >1.7%</td>\n",
              "      <td id=\"T_7491d_row5_col4\" class=\"data row5 col4\" >82.4%</td>\n",
              "    </tr>\n",
              "    <tr>\n",
              "      <th id=\"T_7491d_level0_row6\" class=\"row_heading level0 row6\" >7</th>\n",
              "      <td id=\"T_7491d_row6_col0\" class=\"data row6 col0\" >sa</td>\n",
              "      <td id=\"T_7491d_row6_col1\" class=\"data row6 col1\" >22</td>\n",
              "      <td id=\"T_7491d_row6_col2\" class=\"data row6 col2\" >1,086</td>\n",
              "      <td id=\"T_7491d_row6_col3\" class=\"data row6 col3\" >1.7%</td>\n",
              "      <td id=\"T_7491d_row6_col4\" class=\"data row6 col4\" >84.1%</td>\n",
              "    </tr>\n",
              "    <tr>\n",
              "      <th id=\"T_7491d_level0_row7\" class=\"row_heading level0 row7\" >8</th>\n",
              "      <td id=\"T_7491d_row7_col0\" class=\"data row7 col0\" >bh</td>\n",
              "      <td id=\"T_7491d_row7_col1\" class=\"data row7 col1\" >22</td>\n",
              "      <td id=\"T_7491d_row7_col2\" class=\"data row7 col2\" >1,108</td>\n",
              "      <td id=\"T_7491d_row7_col3\" class=\"data row7 col3\" >1.7%</td>\n",
              "      <td id=\"T_7491d_row7_col4\" class=\"data row7 col4\" >85.8%</td>\n",
              "    </tr>\n",
              "    <tr>\n",
              "      <th id=\"T_7491d_level0_row8\" class=\"row_heading level0 row8\" >9</th>\n",
              "      <td id=\"T_7491d_row8_col0\" class=\"data row8 col0\" >uae</td>\n",
              "      <td id=\"T_7491d_row8_col1\" class=\"data row8 col1\" >22</td>\n",
              "      <td id=\"T_7491d_row8_col2\" class=\"data row8 col2\" >1,130</td>\n",
              "      <td id=\"T_7491d_row8_col3\" class=\"data row8 col3\" >1.7%</td>\n",
              "      <td id=\"T_7491d_row8_col4\" class=\"data row8 col4\" >87.5%</td>\n",
              "    </tr>\n",
              "    <tr>\n",
              "      <th id=\"T_7491d_level0_row9\" class=\"row_heading level0 row9\" >10</th>\n",
              "      <td id=\"T_7491d_row9_col0\" class=\"data row9 col0\" >KR</td>\n",
              "      <td id=\"T_7491d_row9_col1\" class=\"data row9 col1\" >10</td>\n",
              "      <td id=\"T_7491d_row9_col2\" class=\"data row9 col2\" >1,140</td>\n",
              "      <td id=\"T_7491d_row9_col3\" class=\"data row9 col3\" >0.8%</td>\n",
              "      <td id=\"T_7491d_row9_col4\" class=\"data row9 col4\" >88.3%</td>\n",
              "    </tr>\n",
              "    <tr>\n",
              "      <th id=\"T_7491d_level0_row10\" class=\"row_heading level0 row10\" >11</th>\n",
              "      <td id=\"T_7491d_row10_col0\" class=\"data row10 col0\" >Others:</td>\n",
              "      <td id=\"T_7491d_row10_col1\" class=\"data row10 col1\" >151</td>\n",
              "      <td id=\"T_7491d_row10_col2\" class=\"data row10 col2\" >1,291</td>\n",
              "      <td id=\"T_7491d_row10_col3\" class=\"data row10 col3\" >11.7%</td>\n",
              "      <td id=\"T_7491d_row10_col4\" class=\"data row10 col4\" >100.0%</td>\n",
              "    </tr>\n",
              "  </tbody>\n",
              "</table>\n"
            ]
          },
          "metadata": {},
          "execution_count": 18
        }
      ]
    },
    {
      "cell_type": "code",
      "source": [
        "parent = sitemap_url.groupby('dir_2').url.count().sort_values(ascending=False).reset_index()\n",
        "parent.rename(columns=\n",
        " {'dir_2':'parent category',\n",
        "  'url': 'count'},\n",
        "               inplace=True)\n",
        "\n",
        "#plot a histogram\n",
        "\n",
        "fig = px.histogram(\n",
        "    parent.head(25),\n",
        "    x='parent category',\n",
        "    y='count',\n",
        "    title='Main Parent Category pages in the XML sitemap',\n",
        "    template='plotly_dark'\n",
        ")\n",
        "\n",
        "fig.update_layout(\n",
        "    xaxis_tickangle=25\n",
        ")\n",
        "\n",
        "fig.show()\n"
      ],
      "metadata": {
        "colab": {
          "base_uri": "https://localhost:8080/",
          "height": 542
        },
        "id": "6tNewPBrkDO7",
        "outputId": "4d56ff72-ffbb-46a5-b4bd-d4c602d02fd9"
      },
      "execution_count": null,
      "outputs": [
        {
          "output_type": "display_data",
          "data": {
            "text/html": [
              "<html>\n",
              "<head><meta charset=\"utf-8\" /></head>\n",
              "<body>\n",
              "    <div>            <script src=\"https://cdnjs.cloudflare.com/ajax/libs/mathjax/2.7.5/MathJax.js?config=TeX-AMS-MML_SVG\"></script><script type=\"text/javascript\">if (window.MathJax && window.MathJax.Hub && window.MathJax.Hub.Config) {window.MathJax.Hub.Config({SVG: {font: \"STIX-Web\"}});}</script>                <script type=\"text/javascript\">window.PlotlyConfig = {MathJaxConfig: 'local'};</script>\n",
              "        <script src=\"https://cdn.plot.ly/plotly-2.18.2.min.js\"></script>                <div id=\"007e7ef1-cc56-4476-b1c5-19a230249ff4\" class=\"plotly-graph-div\" style=\"height:525px; width:100%;\"></div>            <script type=\"text/javascript\">                                    window.PLOTLYENV=window.PLOTLYENV || {};                                    if (document.getElementById(\"007e7ef1-cc56-4476-b1c5-19a230249ff4\")) {                    Plotly.newPlot(                        \"007e7ef1-cc56-4476-b1c5-19a230249ff4\",                        [{\"alignmentgroup\":\"True\",\"bingroup\":\"x\",\"histfunc\":\"sum\",\"hovertemplate\":\"parent category=%{x}<br>sum of count=%{y}<extra></extra>\",\"legendgroup\":\"\",\"marker\":{\"color\":\"#636efa\",\"pattern\":{\"shape\":\"\"}},\"name\":\"\",\"offsetgroup\":\"\",\"orientation\":\"v\",\"showlegend\":false,\"x\":[\"recipes\",\"products\",\"articles\",\"en-sg\",\"en-my\",\"en-ae\",\"ar-ae\",\"ar-kw\",\"en-kw\",\"ar-sa\",\"en-sa\",\"en-ph\",\"who-we-are\",\"en-th\",\"health-and-nutrition\",\"en-id\",\"brands\",\"en\",\"ar\",\"recipes.html\",\"contact-us.html\",\"products.html\",\"home.html\",\"who-we-are.html\",\"health-and-nutrition.html\"],\"xaxis\":\"x\",\"y\":[1220,638,192,93,79,79,79,73,73,70,69,68,58,53,52,43,37,27,26,9,9,9,9,9,8],\"yaxis\":\"y\",\"type\":\"histogram\"}],                        {\"template\":{\"data\":{\"barpolar\":[{\"marker\":{\"line\":{\"color\":\"rgb(17,17,17)\",\"width\":0.5},\"pattern\":{\"fillmode\":\"overlay\",\"size\":10,\"solidity\":0.2}},\"type\":\"barpolar\"}],\"bar\":[{\"error_x\":{\"color\":\"#f2f5fa\"},\"error_y\":{\"color\":\"#f2f5fa\"},\"marker\":{\"line\":{\"color\":\"rgb(17,17,17)\",\"width\":0.5},\"pattern\":{\"fillmode\":\"overlay\",\"size\":10,\"solidity\":0.2}},\"type\":\"bar\"}],\"carpet\":[{\"aaxis\":{\"endlinecolor\":\"#A2B1C6\",\"gridcolor\":\"#506784\",\"linecolor\":\"#506784\",\"minorgridcolor\":\"#506784\",\"startlinecolor\":\"#A2B1C6\"},\"baxis\":{\"endlinecolor\":\"#A2B1C6\",\"gridcolor\":\"#506784\",\"linecolor\":\"#506784\",\"minorgridcolor\":\"#506784\",\"startlinecolor\":\"#A2B1C6\"},\"type\":\"carpet\"}],\"choropleth\":[{\"colorbar\":{\"outlinewidth\":0,\"ticks\":\"\"},\"type\":\"choropleth\"}],\"contourcarpet\":[{\"colorbar\":{\"outlinewidth\":0,\"ticks\":\"\"},\"type\":\"contourcarpet\"}],\"contour\":[{\"colorbar\":{\"outlinewidth\":0,\"ticks\":\"\"},\"colorscale\":[[0.0,\"#0d0887\"],[0.1111111111111111,\"#46039f\"],[0.2222222222222222,\"#7201a8\"],[0.3333333333333333,\"#9c179e\"],[0.4444444444444444,\"#bd3786\"],[0.5555555555555556,\"#d8576b\"],[0.6666666666666666,\"#ed7953\"],[0.7777777777777778,\"#fb9f3a\"],[0.8888888888888888,\"#fdca26\"],[1.0,\"#f0f921\"]],\"type\":\"contour\"}],\"heatmapgl\":[{\"colorbar\":{\"outlinewidth\":0,\"ticks\":\"\"},\"colorscale\":[[0.0,\"#0d0887\"],[0.1111111111111111,\"#46039f\"],[0.2222222222222222,\"#7201a8\"],[0.3333333333333333,\"#9c179e\"],[0.4444444444444444,\"#bd3786\"],[0.5555555555555556,\"#d8576b\"],[0.6666666666666666,\"#ed7953\"],[0.7777777777777778,\"#fb9f3a\"],[0.8888888888888888,\"#fdca26\"],[1.0,\"#f0f921\"]],\"type\":\"heatmapgl\"}],\"heatmap\":[{\"colorbar\":{\"outlinewidth\":0,\"ticks\":\"\"},\"colorscale\":[[0.0,\"#0d0887\"],[0.1111111111111111,\"#46039f\"],[0.2222222222222222,\"#7201a8\"],[0.3333333333333333,\"#9c179e\"],[0.4444444444444444,\"#bd3786\"],[0.5555555555555556,\"#d8576b\"],[0.6666666666666666,\"#ed7953\"],[0.7777777777777778,\"#fb9f3a\"],[0.8888888888888888,\"#fdca26\"],[1.0,\"#f0f921\"]],\"type\":\"heatmap\"}],\"histogram2dcontour\":[{\"colorbar\":{\"outlinewidth\":0,\"ticks\":\"\"},\"colorscale\":[[0.0,\"#0d0887\"],[0.1111111111111111,\"#46039f\"],[0.2222222222222222,\"#7201a8\"],[0.3333333333333333,\"#9c179e\"],[0.4444444444444444,\"#bd3786\"],[0.5555555555555556,\"#d8576b\"],[0.6666666666666666,\"#ed7953\"],[0.7777777777777778,\"#fb9f3a\"],[0.8888888888888888,\"#fdca26\"],[1.0,\"#f0f921\"]],\"type\":\"histogram2dcontour\"}],\"histogram2d\":[{\"colorbar\":{\"outlinewidth\":0,\"ticks\":\"\"},\"colorscale\":[[0.0,\"#0d0887\"],[0.1111111111111111,\"#46039f\"],[0.2222222222222222,\"#7201a8\"],[0.3333333333333333,\"#9c179e\"],[0.4444444444444444,\"#bd3786\"],[0.5555555555555556,\"#d8576b\"],[0.6666666666666666,\"#ed7953\"],[0.7777777777777778,\"#fb9f3a\"],[0.8888888888888888,\"#fdca26\"],[1.0,\"#f0f921\"]],\"type\":\"histogram2d\"}],\"histogram\":[{\"marker\":{\"pattern\":{\"fillmode\":\"overlay\",\"size\":10,\"solidity\":0.2}},\"type\":\"histogram\"}],\"mesh3d\":[{\"colorbar\":{\"outlinewidth\":0,\"ticks\":\"\"},\"type\":\"mesh3d\"}],\"parcoords\":[{\"line\":{\"colorbar\":{\"outlinewidth\":0,\"ticks\":\"\"}},\"type\":\"parcoords\"}],\"pie\":[{\"automargin\":true,\"type\":\"pie\"}],\"scatter3d\":[{\"line\":{\"colorbar\":{\"outlinewidth\":0,\"ticks\":\"\"}},\"marker\":{\"colorbar\":{\"outlinewidth\":0,\"ticks\":\"\"}},\"type\":\"scatter3d\"}],\"scattercarpet\":[{\"marker\":{\"colorbar\":{\"outlinewidth\":0,\"ticks\":\"\"}},\"type\":\"scattercarpet\"}],\"scattergeo\":[{\"marker\":{\"colorbar\":{\"outlinewidth\":0,\"ticks\":\"\"}},\"type\":\"scattergeo\"}],\"scattergl\":[{\"marker\":{\"line\":{\"color\":\"#283442\"}},\"type\":\"scattergl\"}],\"scattermapbox\":[{\"marker\":{\"colorbar\":{\"outlinewidth\":0,\"ticks\":\"\"}},\"type\":\"scattermapbox\"}],\"scatterpolargl\":[{\"marker\":{\"colorbar\":{\"outlinewidth\":0,\"ticks\":\"\"}},\"type\":\"scatterpolargl\"}],\"scatterpolar\":[{\"marker\":{\"colorbar\":{\"outlinewidth\":0,\"ticks\":\"\"}},\"type\":\"scatterpolar\"}],\"scatter\":[{\"marker\":{\"line\":{\"color\":\"#283442\"}},\"type\":\"scatter\"}],\"scatterternary\":[{\"marker\":{\"colorbar\":{\"outlinewidth\":0,\"ticks\":\"\"}},\"type\":\"scatterternary\"}],\"surface\":[{\"colorbar\":{\"outlinewidth\":0,\"ticks\":\"\"},\"colorscale\":[[0.0,\"#0d0887\"],[0.1111111111111111,\"#46039f\"],[0.2222222222222222,\"#7201a8\"],[0.3333333333333333,\"#9c179e\"],[0.4444444444444444,\"#bd3786\"],[0.5555555555555556,\"#d8576b\"],[0.6666666666666666,\"#ed7953\"],[0.7777777777777778,\"#fb9f3a\"],[0.8888888888888888,\"#fdca26\"],[1.0,\"#f0f921\"]],\"type\":\"surface\"}],\"table\":[{\"cells\":{\"fill\":{\"color\":\"#506784\"},\"line\":{\"color\":\"rgb(17,17,17)\"}},\"header\":{\"fill\":{\"color\":\"#2a3f5f\"},\"line\":{\"color\":\"rgb(17,17,17)\"}},\"type\":\"table\"}]},\"layout\":{\"annotationdefaults\":{\"arrowcolor\":\"#f2f5fa\",\"arrowhead\":0,\"arrowwidth\":1},\"autotypenumbers\":\"strict\",\"coloraxis\":{\"colorbar\":{\"outlinewidth\":0,\"ticks\":\"\"}},\"colorscale\":{\"diverging\":[[0,\"#8e0152\"],[0.1,\"#c51b7d\"],[0.2,\"#de77ae\"],[0.3,\"#f1b6da\"],[0.4,\"#fde0ef\"],[0.5,\"#f7f7f7\"],[0.6,\"#e6f5d0\"],[0.7,\"#b8e186\"],[0.8,\"#7fbc41\"],[0.9,\"#4d9221\"],[1,\"#276419\"]],\"sequential\":[[0.0,\"#0d0887\"],[0.1111111111111111,\"#46039f\"],[0.2222222222222222,\"#7201a8\"],[0.3333333333333333,\"#9c179e\"],[0.4444444444444444,\"#bd3786\"],[0.5555555555555556,\"#d8576b\"],[0.6666666666666666,\"#ed7953\"],[0.7777777777777778,\"#fb9f3a\"],[0.8888888888888888,\"#fdca26\"],[1.0,\"#f0f921\"]],\"sequentialminus\":[[0.0,\"#0d0887\"],[0.1111111111111111,\"#46039f\"],[0.2222222222222222,\"#7201a8\"],[0.3333333333333333,\"#9c179e\"],[0.4444444444444444,\"#bd3786\"],[0.5555555555555556,\"#d8576b\"],[0.6666666666666666,\"#ed7953\"],[0.7777777777777778,\"#fb9f3a\"],[0.8888888888888888,\"#fdca26\"],[1.0,\"#f0f921\"]]},\"colorway\":[\"#636efa\",\"#EF553B\",\"#00cc96\",\"#ab63fa\",\"#FFA15A\",\"#19d3f3\",\"#FF6692\",\"#B6E880\",\"#FF97FF\",\"#FECB52\"],\"font\":{\"color\":\"#f2f5fa\"},\"geo\":{\"bgcolor\":\"rgb(17,17,17)\",\"lakecolor\":\"rgb(17,17,17)\",\"landcolor\":\"rgb(17,17,17)\",\"showlakes\":true,\"showland\":true,\"subunitcolor\":\"#506784\"},\"hoverlabel\":{\"align\":\"left\"},\"hovermode\":\"closest\",\"mapbox\":{\"style\":\"dark\"},\"paper_bgcolor\":\"rgb(17,17,17)\",\"plot_bgcolor\":\"rgb(17,17,17)\",\"polar\":{\"angularaxis\":{\"gridcolor\":\"#506784\",\"linecolor\":\"#506784\",\"ticks\":\"\"},\"bgcolor\":\"rgb(17,17,17)\",\"radialaxis\":{\"gridcolor\":\"#506784\",\"linecolor\":\"#506784\",\"ticks\":\"\"}},\"scene\":{\"xaxis\":{\"backgroundcolor\":\"rgb(17,17,17)\",\"gridcolor\":\"#506784\",\"gridwidth\":2,\"linecolor\":\"#506784\",\"showbackground\":true,\"ticks\":\"\",\"zerolinecolor\":\"#C8D4E3\"},\"yaxis\":{\"backgroundcolor\":\"rgb(17,17,17)\",\"gridcolor\":\"#506784\",\"gridwidth\":2,\"linecolor\":\"#506784\",\"showbackground\":true,\"ticks\":\"\",\"zerolinecolor\":\"#C8D4E3\"},\"zaxis\":{\"backgroundcolor\":\"rgb(17,17,17)\",\"gridcolor\":\"#506784\",\"gridwidth\":2,\"linecolor\":\"#506784\",\"showbackground\":true,\"ticks\":\"\",\"zerolinecolor\":\"#C8D4E3\"}},\"shapedefaults\":{\"line\":{\"color\":\"#f2f5fa\"}},\"sliderdefaults\":{\"bgcolor\":\"#C8D4E3\",\"bordercolor\":\"rgb(17,17,17)\",\"borderwidth\":1,\"tickwidth\":0},\"ternary\":{\"aaxis\":{\"gridcolor\":\"#506784\",\"linecolor\":\"#506784\",\"ticks\":\"\"},\"baxis\":{\"gridcolor\":\"#506784\",\"linecolor\":\"#506784\",\"ticks\":\"\"},\"bgcolor\":\"rgb(17,17,17)\",\"caxis\":{\"gridcolor\":\"#506784\",\"linecolor\":\"#506784\",\"ticks\":\"\"}},\"title\":{\"x\":0.05},\"updatemenudefaults\":{\"bgcolor\":\"#506784\",\"borderwidth\":0},\"xaxis\":{\"automargin\":true,\"gridcolor\":\"#283442\",\"linecolor\":\"#506784\",\"ticks\":\"\",\"title\":{\"standoff\":15},\"zerolinecolor\":\"#283442\",\"zerolinewidth\":2},\"yaxis\":{\"automargin\":true,\"gridcolor\":\"#283442\",\"linecolor\":\"#506784\",\"ticks\":\"\",\"title\":{\"standoff\":15},\"zerolinecolor\":\"#283442\",\"zerolinewidth\":2}}},\"xaxis\":{\"anchor\":\"y\",\"domain\":[0.0,1.0],\"title\":{\"text\":\"parent category\"},\"tickangle\":25},\"yaxis\":{\"anchor\":\"x\",\"domain\":[0.0,1.0],\"title\":{\"text\":\"sum of count\"}},\"legend\":{\"tracegroupgap\":0},\"title\":{\"text\":\"Main Parent Category pages in the XML sitemap\"},\"barmode\":\"relative\"},                        {\"responsive\": true}                    ).then(function(){\n",
              "                            \n",
              "var gd = document.getElementById('007e7ef1-cc56-4476-b1c5-19a230249ff4');\n",
              "var x = new MutationObserver(function (mutations, observer) {{\n",
              "        var display = window.getComputedStyle(gd).display;\n",
              "        if (!display || display === 'none') {{\n",
              "            console.log([gd, 'removed!']);\n",
              "            Plotly.purge(gd);\n",
              "            observer.disconnect();\n",
              "        }}\n",
              "}});\n",
              "\n",
              "// Listen for the removal of the full notebook cells\n",
              "var notebookContainer = gd.closest('#notebook-container');\n",
              "if (notebookContainer) {{\n",
              "    x.observe(notebookContainer, {childList: true});\n",
              "}}\n",
              "\n",
              "// Listen for the clearing of the current output cell\n",
              "var outputEl = gd.closest('.output');\n",
              "if (outputEl) {{\n",
              "    x.observe(outputEl, {childList: true});\n",
              "}}\n",
              "\n",
              "                        })                };                            </script>        </div>\n",
              "</body>\n",
              "</html>"
            ]
          },
          "metadata": {}
        }
      ]
    },
    {
      "cell_type": "code",
      "source": [
        "#@title Orphan pages (URLs in sitemap, NOT crawled)\n",
        "'''\n",
        "we are using URLs found on the XML sitemap vs URLs found on the website\n",
        "'''\n",
        "\n",
        "import pandas as pd\n",
        "from IPython.display import display_markdown\n",
        "\n",
        "# Your existing code\n",
        "in_sitemap_not_crawled = set(sitemap['loc'].str.strip('/')).difference(sitemap_url['url'].str.strip('/'))\n",
        "\n",
        "# Calculate the percentage of pages not crawled\n",
        "percentage_not_crawled = (len(in_sitemap_not_crawled) / len(sitemap)) * 100\n",
        "\n",
        "# Create a DataFrame for the URLs not crawled\n",
        "df_not_crawled = pd.DataFrame(in_sitemap_not_crawled, columns=['URL'])\n",
        "\n",
        "# Save the DataFrame to an Excel file\n",
        "output_file = 'not_crawled_urls.xlsx'\n",
        "df_not_crawled.to_excel(output_file, index=False)\n",
        "\n",
        "# Display the percentage\n",
        "print(f\"Percentage of pages in XML sitemap not crawled: {percentage_not_crawled:.2f}%\")\n",
        "\n",
        "# Show the URLs not crawled\n",
        "for url in in_sitemap_not_crawled:\n",
        "    display_markdown(f'[{url}]({url})', raw=True)\n",
        "\n",
        "print(f\"Output saved to {output_file}\")\n",
        "\n",
        "\n",
        "\n",
        "\n"
      ],
      "metadata": {
        "colab": {
          "base_uri": "https://localhost:8080/",
          "height": 1000
        },
        "id": "yxaOpdIoqttL",
        "outputId": "51816aeb-8cc0-4c6c-abc4-73ff1841e34d"
      },
      "execution_count": null,
      "outputs": [
        {
          "output_type": "stream",
          "name": "stdout",
          "text": [
            "Percentage of pages in XML sitemap not crawled: 59.23%\n"
          ]
        },
        {
          "output_type": "display_data",
          "data": {
            "text/markdown": "[https://yoast.com/features/passive-voice-check](https://yoast.com/features/passive-voice-check)"
          },
          "metadata": {}
        },
        {
          "output_type": "display_data",
          "data": {
            "text/markdown": "[https://yoast.com/about-us/team/mazedul-islam-khan](https://yoast.com/about-us/team/mazedul-islam-khan)"
          },
          "metadata": {}
        },
        {
          "output_type": "display_data",
          "data": {
            "text/markdown": "[https://yoast.com/wordpress-core/beta-1-of-wordpress-5-9-postponed](https://yoast.com/wordpress-core/beta-1-of-wordpress-5-9-postponed)"
          },
          "metadata": {}
        },
        {
          "output_type": "display_data",
          "data": {
            "text/markdown": "[https://yoast.com/podcast/lily-ray](https://yoast.com/podcast/lily-ray)"
          },
          "metadata": {}
        },
        {
          "output_type": "display_data",
          "data": {
            "text/markdown": "[https://yoast.com/wordpress-core/wordpress-5-9-finishing-line](https://yoast.com/wordpress-core/wordpress-5-9-finishing-line)"
          },
          "metadata": {}
        },
        {
          "output_type": "display_data",
          "data": {
            "text/markdown": "[https://yoast.com/features/content-previews/social-previews](https://yoast.com/features/content-previews/social-previews)"
          },
          "metadata": {}
        },
        {
          "output_type": "display_data",
          "data": {
            "text/markdown": "[https://yoast.com/video/ask-yoast-keep-or-delete-and-redirect-event-pages](https://yoast.com/video/ask-yoast-keep-or-delete-and-redirect-event-pages)"
          },
          "metadata": {}
        },
        {
          "output_type": "display_data",
          "data": {
            "text/markdown": "[https://yoast.com/wordpress-core/a-week-with-us-performance-review-time](https://yoast.com/wordpress-core/a-week-with-us-performance-review-time)"
          },
          "metadata": {}
        },
        {
          "output_type": "display_data",
          "data": {
            "text/markdown": "[https://yoast.com/about-us/team/arnoud-thorig](https://yoast.com/about-us/team/arnoud-thorig)"
          },
          "metadata": {}
        },
        {
          "output_type": "display_data",
          "data": {
            "text/markdown": "[https://yoast.com/tag/mobile-seo](https://yoast.com/tag/mobile-seo)"
          },
          "metadata": {}
        },
        {
          "output_type": "display_data",
          "data": {
            "text/markdown": "[https://yoast.com/webinar/seo-news-webinar-march-2021](https://yoast.com/webinar/seo-news-webinar-march-2021)"
          },
          "metadata": {}
        },
        {
          "output_type": "display_data",
          "data": {
            "text/markdown": "[https://yoast.com/help/news-sitemap-doesnt-work-when-i-have-custom-post-type-news](https://yoast.com/help/news-sitemap-doesnt-work-when-i-have-custom-post-type-news)"
          },
          "metadata": {}
        },
        {
          "output_type": "display_data",
          "data": {
            "text/markdown": "[https://yoast.com/help/i-didnt-change-the-content-yet-my-seo-score-changed](https://yoast.com/help/i-didnt-change-the-content-yet-my-seo-score-changed)"
          },
          "metadata": {}
        },
        {
          "output_type": "display_data",
          "data": {
            "text/markdown": "[https://yoast.com/google-video-search-update](https://yoast.com/google-video-search-update)"
          },
          "metadata": {}
        },
        {
          "output_type": "display_data",
          "data": {
            "text/markdown": "[https://yoast.com/features](https://yoast.com/features)"
          },
          "metadata": {}
        },
        {
          "output_type": "display_data",
          "data": {
            "text/markdown": "[https://yoast.com/help/remove-google-maps-api-restrictions](https://yoast.com/help/remove-google-maps-api-restrictions)"
          },
          "metadata": {}
        },
        {
          "output_type": "display_data",
          "data": {
            "text/markdown": "[https://yoast.com/customer-story-small-business-trends](https://yoast.com/customer-story-small-business-trends)"
          },
          "metadata": {}
        },
        {
          "output_type": "display_data",
          "data": {
            "text/markdown": "[https://yoast.com/tag/redirects](https://yoast.com/tag/redirects)"
          },
          "metadata": {}
        },
        {
          "output_type": "display_data",
          "data": {
            "text/markdown": "[https://yoast.com/wordpress-core/working-on-wp-5-8-gutenberg](https://yoast.com/wordpress-core/working-on-wp-5-8-gutenberg)"
          },
          "metadata": {}
        },
        {
          "output_type": "display_data",
          "data": {
            "text/markdown": "[https://yoast.com/webinar/seo-news-july-2022](https://yoast.com/webinar/seo-news-july-2022)"
          },
          "metadata": {}
        },
        {
          "output_type": "display_data",
          "data": {
            "text/markdown": "[https://yoast.com/tag/seo-basics](https://yoast.com/tag/seo-basics)"
          },
          "metadata": {}
        },
        {
          "output_type": "display_data",
          "data": {
            "text/markdown": "[https://yoast.com/features/premium-seo-analysis/synonyms](https://yoast.com/features/premium-seo-analysis/synonyms)"
          },
          "metadata": {}
        },
        {
          "output_type": "display_data",
          "data": {
            "text/markdown": "[https://yoast.com/online-museum/food](https://yoast.com/online-museum/food)"
          },
          "metadata": {}
        },
        {
          "output_type": "display_data",
          "data": {
            "text/markdown": "[https://yoast.com/features/inclusive-language-check](https://yoast.com/features/inclusive-language-check)"
          },
          "metadata": {}
        },
        {
          "output_type": "display_data",
          "data": {
            "text/markdown": "[https://yoast.com/tag/accessibility](https://yoast.com/tag/accessibility)"
          },
          "metadata": {}
        },
        {
          "output_type": "display_data",
          "data": {
            "text/markdown": "[https://yoast.com/help/estimated-reading-time-in-yoast-seo](https://yoast.com/help/estimated-reading-time-in-yoast-seo)"
          },
          "metadata": {}
        },
        {
          "output_type": "display_data",
          "data": {
            "text/markdown": "[https://yoast.com/wordpress-core/themes-documentation-and-more](https://yoast.com/wordpress-core/themes-documentation-and-more)"
          },
          "metadata": {}
        },
        {
          "output_type": "display_data",
          "data": {
            "text/markdown": "[https://yoast.com/about-us/team/diede-exterkate](https://yoast.com/about-us/team/diede-exterkate)"
          },
          "metadata": {}
        },
        {
          "output_type": "display_data",
          "data": {
            "text/markdown": "[https://yoast.com/help/dont-see-yoast-internal-linking-metabox](https://yoast.com/help/dont-see-yoast-internal-linking-metabox)"
          },
          "metadata": {}
        },
        {
          "output_type": "display_data",
          "data": {
            "text/markdown": "[https://yoast.com/help/how-to-remove-the-categories-prefix](https://yoast.com/help/how-to-remove-the-categories-prefix)"
          },
          "metadata": {}
        },
        {
          "output_type": "display_data",
          "data": {
            "text/markdown": "[https://yoast.com/tag/shopify](https://yoast.com/tag/shopify)"
          },
          "metadata": {}
        },
        {
          "output_type": "display_data",
          "data": {
            "text/markdown": "[https://yoast.com/help/yoast-seo-settings-format-archives](https://yoast.com/help/yoast-seo-settings-format-archives)"
          },
          "metadata": {}
        },
        {
          "output_type": "display_data",
          "data": {
            "text/markdown": "[https://yoast.com/content-clusters](https://yoast.com/content-clusters)"
          },
          "metadata": {}
        },
        {
          "output_type": "display_data",
          "data": {
            "text/markdown": "[https://yoast.com/about-us/team/nino-van-tour](https://yoast.com/about-us/team/nino-van-tour)"
          },
          "metadata": {}
        },
        {
          "output_type": "display_data",
          "data": {
            "text/markdown": "[https://yoast.com/help/how-to-sign-up-for-yoast-translate](https://yoast.com/help/how-to-sign-up-for-yoast-translate)"
          },
          "metadata": {}
        },
        {
          "output_type": "display_data",
          "data": {
            "text/markdown": "[https://yoast.com/wordpress-core/wordpress-6-0-web-fonts-api-and-internal-projects](https://yoast.com/wordpress-core/wordpress-6-0-web-fonts-api-and-internal-projects)"
          },
          "metadata": {}
        },
        {
          "output_type": "display_data",
          "data": {
            "text/markdown": "[https://yoast.com/community/care-fund/recipients/stefano-minoia](https://yoast.com/community/care-fund/recipients/stefano-minoia)"
          },
          "metadata": {}
        },
        {
          "output_type": "display_data",
          "data": {
            "text/markdown": "[https://yoast.com/video/ask-yoast-splitting-products-by-date](https://yoast.com/video/ask-yoast-splitting-products-by-date)"
          },
          "metadata": {}
        },
        {
          "output_type": "display_data",
          "data": {
            "text/markdown": "[https://yoast.com/developer-blog/a11y-monthly-html-elements-accessible-name](https://yoast.com/developer-blog/a11y-monthly-html-elements-accessible-name)"
          },
          "metadata": {}
        },
        {
          "output_type": "display_data",
          "data": {
            "text/markdown": "[https://yoast.com/features/content-previews/google-preview](https://yoast.com/features/content-previews/google-preview)"
          },
          "metadata": {}
        },
        {
          "output_type": "display_data",
          "data": {
            "text/markdown": "[https://yoast.com/developer-blog/the-social-wordcamp-us](https://yoast.com/developer-blog/the-social-wordcamp-us)"
          },
          "metadata": {}
        },
        {
          "output_type": "display_data",
          "data": {
            "text/markdown": "[https://yoast.com/webinar/seo-news-feb-2022](https://yoast.com/webinar/seo-news-feb-2022)"
          },
          "metadata": {}
        },
        {
          "output_type": "display_data",
          "data": {
            "text/markdown": "[https://yoast.com/help/import-csv-file-for-local-seo](https://yoast.com/help/import-csv-file-for-local-seo)"
          },
          "metadata": {}
        },
        {
          "output_type": "display_data",
          "data": {
            "text/markdown": "[https://yoast.com/wordpress-core/wordpress-needs-designers](https://yoast.com/wordpress-core/wordpress-needs-designers)"
          },
          "metadata": {}
        },
        {
          "output_type": "display_data",
          "data": {
            "text/markdown": "[https://yoast.com/wordpress-hosting/servebolt](https://yoast.com/wordpress-hosting/servebolt)"
          },
          "metadata": {}
        },
        {
          "output_type": "display_data",
          "data": {
            "text/markdown": "[https://yoast.com/open-source-story](https://yoast.com/open-source-story)"
          },
          "metadata": {}
        },
        {
          "output_type": "display_data",
          "data": {
            "text/markdown": "[https://yoast.com/help/canonical-urls-in-yoast-seo](https://yoast.com/help/canonical-urls-in-yoast-seo)"
          },
          "metadata": {}
        },
        {
          "output_type": "display_data",
          "data": {
            "text/markdown": "[https://yoast.com/tag/webmaster-tools](https://yoast.com/tag/webmaster-tools)"
          },
          "metadata": {}
        },
        {
          "output_type": "display_data",
          "data": {
            "text/markdown": "[https://yoast.com/wordpress-core/wordpress-5-8-and-beyond](https://yoast.com/wordpress-core/wordpress-5-8-and-beyond)"
          },
          "metadata": {}
        },
        {
          "output_type": "display_data",
          "data": {
            "text/markdown": "[https://yoast.com/help/inclusive-language](https://yoast.com/help/inclusive-language)"
          },
          "metadata": {}
        },
        {
          "output_type": "display_data",
          "data": {
            "text/markdown": "[https://yoast.com/wordpress-hosting/inmotion](https://yoast.com/wordpress-hosting/inmotion)"
          },
          "metadata": {}
        },
        {
          "output_type": "display_data",
          "data": {
            "text/markdown": "[https://yoast.com/help/is-the-plugin-compatible-with-paginated-content](https://yoast.com/help/is-the-plugin-compatible-with-paginated-content)"
          },
          "metadata": {}
        },
        {
          "output_type": "display_data",
          "data": {
            "text/markdown": "[https://yoast.com/jobs/seo-specialist](https://yoast.com/jobs/seo-specialist)"
          },
          "metadata": {}
        },
        {
          "output_type": "display_data",
          "data": {
            "text/markdown": "[https://yoast.com/wordpress-core/wordpress-5-9-2-and-more](https://yoast.com/wordpress-core/wordpress-5-9-2-and-more)"
          },
          "metadata": {}
        },
        {
          "output_type": "display_data",
          "data": {
            "text/markdown": "[https://yoast.com/tag/duplicate-content](https://yoast.com/tag/duplicate-content)"
          },
          "metadata": {}
        },
        {
          "output_type": "display_data",
          "data": {
            "text/markdown": "[https://yoast.com/help/xml-sitemap-error](https://yoast.com/help/xml-sitemap-error)"
          },
          "metadata": {}
        },
        {
          "output_type": "display_data",
          "data": {
            "text/markdown": "[https://yoast.com/video/ask-yoast-low-ranking-low-ctr](https://yoast.com/video/ask-yoast-low-ranking-low-ctr)"
          },
          "metadata": {}
        },
        {
          "output_type": "display_data",
          "data": {
            "text/markdown": "[https://yoast.com/developer-blog/using-wordpress-javascript-apis-part-two-redux](https://yoast.com/developer-blog/using-wordpress-javascript-apis-part-two-redux)"
          },
          "metadata": {}
        },
        {
          "output_type": "display_data",
          "data": {
            "text/markdown": "[https://yoast.com/series/yoast-seo-how-to](https://yoast.com/series/yoast-seo-how-to)"
          },
          "metadata": {}
        },
        {
          "output_type": "display_data",
          "data": {
            "text/markdown": "[https://yoast.com/help/breadcrumb-changes-yoast-seo](https://yoast.com/help/breadcrumb-changes-yoast-seo)"
          },
          "metadata": {}
        },
        {
          "output_type": "display_data",
          "data": {
            "text/markdown": "[https://yoast.com/about-us/team/wouter-meuleman](https://yoast.com/about-us/team/wouter-meuleman)"
          },
          "metadata": {}
        },
        {
          "output_type": "display_data",
          "data": {
            "text/markdown": "[https://yoast.com/video/google-penguin-explained](https://yoast.com/video/google-penguin-explained)"
          },
          "metadata": {}
        },
        {
          "output_type": "display_data",
          "data": {
            "text/markdown": "[https://yoast.com/newsletter](https://yoast.com/newsletter)"
          },
          "metadata": {}
        },
        {
          "output_type": "display_data",
          "data": {
            "text/markdown": "[https://yoast.com/help/how-to-customize-the-sitemap-index](https://yoast.com/help/how-to-customize-the-sitemap-index)"
          },
          "metadata": {}
        },
        {
          "output_type": "display_data",
          "data": {
            "text/markdown": "[https://yoast.com/help/local-seo-for-woocommerce-is-now-part-of-the-local-seo-plugin](https://yoast.com/help/local-seo-for-woocommerce-is-now-part-of-the-local-seo-plugin)"
          },
          "metadata": {}
        },
        {
          "output_type": "display_data",
          "data": {
            "text/markdown": "[https://yoast.com/community/care-fund/recipients/ahmed-kabir-chaion-2](https://yoast.com/community/care-fund/recipients/ahmed-kabir-chaion-2)"
          },
          "metadata": {}
        },
        {
          "output_type": "display_data",
          "data": {
            "text/markdown": "[https://yoast.com/community/care-fund/recipients/allyson-souza](https://yoast.com/community/care-fund/recipients/allyson-souza)"
          },
          "metadata": {}
        },
        {
          "output_type": "display_data",
          "data": {
            "text/markdown": "[https://yoast.com/wordpress/plugins/bitly-shortlinks](https://yoast.com/wordpress/plugins/bitly-shortlinks)"
          },
          "metadata": {}
        },
        {
          "output_type": "display_data",
          "data": {
            "text/markdown": "[https://yoast.com/community/care-fund/recipients/allie-nimmons](https://yoast.com/community/care-fund/recipients/allie-nimmons)"
          },
          "metadata": {}
        },
        {
          "output_type": "display_data",
          "data": {
            "text/markdown": "[https://yoast.com/help/error-the-following-file-is-blocking-your-xml-sitemaps](https://yoast.com/help/error-the-following-file-is-blocking-your-xml-sitemaps)"
          },
          "metadata": {}
        },
        {
          "output_type": "display_data",
          "data": {
            "text/markdown": "[https://yoast.com/community/care-fund/recipients/milan-ivanovic](https://yoast.com/community/care-fund/recipients/milan-ivanovic)"
          },
          "metadata": {}
        },
        {
          "output_type": "display_data",
          "data": {
            "text/markdown": "[https://yoast.com/help/view-page-source-site](https://yoast.com/help/view-page-source-site)"
          },
          "metadata": {}
        },
        {
          "output_type": "display_data",
          "data": {
            "text/markdown": "[https://yoast.com/help/how-to-use-the-yoast-seo-premium-orphaned-content-workout](https://yoast.com/help/how-to-use-the-yoast-seo-premium-orphaned-content-workout)"
          },
          "metadata": {}
        },
        {
          "output_type": "display_data",
          "data": {
            "text/markdown": "[https://yoast.com/help/how-to-find-javascript-errors-with-your-browsers-console](https://yoast.com/help/how-to-find-javascript-errors-with-your-browsers-console)"
          },
          "metadata": {}
        },
        {
          "output_type": "display_data",
          "data": {
            "text/markdown": "[https://yoast.com/help/migrate-from-smartcrawl-seo-to-yoast-seo](https://yoast.com/help/migrate-from-smartcrawl-seo-to-yoast-seo)"
          },
          "metadata": {}
        },
        {
          "output_type": "display_data",
          "data": {
            "text/markdown": "[https://yoast.com/video/ask-yoast-category-as-tag-different-taxonomy](https://yoast.com/video/ask-yoast-category-as-tag-different-taxonomy)"
          },
          "metadata": {}
        },
        {
          "output_type": "display_data",
          "data": {
            "text/markdown": "[https://yoast.com/podcast/aleyda-solis](https://yoast.com/podcast/aleyda-solis)"
          },
          "metadata": {}
        },
        {
          "output_type": "display_data",
          "data": {
            "text/markdown": "[https://yoast.com/help/inclusive-language/age](https://yoast.com/help/inclusive-language/age)"
          },
          "metadata": {}
        },
        {
          "output_type": "display_data",
          "data": {
            "text/markdown": "[https://yoast.com/help/can-i-use-your-schema-blocks-in-the-classic-editor](https://yoast.com/help/can-i-use-your-schema-blocks-in-the-classic-editor)"
          },
          "metadata": {}
        },
        {
          "output_type": "display_data",
          "data": {
            "text/markdown": "[https://yoast.com/video/ask-yoast-competing-business-names](https://yoast.com/video/ask-yoast-competing-business-names)"
          },
          "metadata": {}
        },
        {
          "output_type": "display_data",
          "data": {
            "text/markdown": "[https://yoast.com/help/how-to-reset-yoast-indexables](https://yoast.com/help/how-to-reset-yoast-indexables)"
          },
          "metadata": {}
        },
        {
          "output_type": "display_data",
          "data": {
            "text/markdown": "[https://yoast.com/assess-your-technical-seo-fitness](https://yoast.com/assess-your-technical-seo-fitness)"
          },
          "metadata": {}
        },
        {
          "output_type": "display_data",
          "data": {
            "text/markdown": "[https://yoast.com/developer-blog/why-your-websites-code-structure-matters](https://yoast.com/developer-blog/why-your-websites-code-structure-matters)"
          },
          "metadata": {}
        },
        {
          "output_type": "display_data",
          "data": {
            "text/markdown": "[https://yoast.com/about-us/team/teun-poppelaars](https://yoast.com/about-us/team/teun-poppelaars)"
          },
          "metadata": {}
        },
        {
          "output_type": "display_data",
          "data": {
            "text/markdown": "[https://yoast.com/community/care-fund/recipients/estela-rueda](https://yoast.com/community/care-fund/recipients/estela-rueda)"
          },
          "metadata": {}
        },
        {
          "output_type": "display_data",
          "data": {
            "text/markdown": "[https://yoast.com/yoast-seo-shopify-terms-of-service](https://yoast.com/yoast-seo-shopify-terms-of-service)"
          },
          "metadata": {}
        },
        {
          "output_type": "display_data",
          "data": {
            "text/markdown": "[https://yoast.com/help/warning-about-missing-return-policy-info](https://yoast.com/help/warning-about-missing-return-policy-info)"
          },
          "metadata": {}
        },
        {
          "output_type": "display_data",
          "data": {
            "text/markdown": "[https://yoast.com/community/care-fund/recipients/jose-luis-losada](https://yoast.com/community/care-fund/recipients/jose-luis-losada)"
          },
          "metadata": {}
        },
        {
          "output_type": "display_data",
          "data": {
            "text/markdown": "[https://yoast.com/wordpress-hosting/cloudways](https://yoast.com/wordpress-hosting/cloudways)"
          },
          "metadata": {}
        },
        {
          "output_type": "display_data",
          "data": {
            "text/markdown": "[https://yoast.com/community/care-fund/recipients/ana-gavilan](https://yoast.com/community/care-fund/recipients/ana-gavilan)"
          },
          "metadata": {}
        },
        {
          "output_type": "display_data",
          "data": {
            "text/markdown": "[https://yoast.com/about-us/team/carolyn-shelby](https://yoast.com/about-us/team/carolyn-shelby)"
          },
          "metadata": {}
        },
        {
          "output_type": "display_data",
          "data": {
            "text/markdown": "[https://yoast.com/academy](https://yoast.com/academy)"
          },
          "metadata": {}
        },
        {
          "output_type": "display_data",
          "data": {
            "text/markdown": "[https://yoast.com/features/premium-seo-analysis](https://yoast.com/features/premium-seo-analysis)"
          },
          "metadata": {}
        },
        {
          "output_type": "display_data",
          "data": {
            "text/markdown": "[https://yoast.com/features/algolia](https://yoast.com/features/algolia)"
          },
          "metadata": {}
        },
        {
          "output_type": "display_data",
          "data": {
            "text/markdown": "[https://yoast.com/help/supported-video-hosting-platforms-for-video-seo-plugin](https://yoast.com/help/supported-video-hosting-platforms-for-video-seo-plugin)"
          },
          "metadata": {}
        },
        {
          "output_type": "display_data",
          "data": {
            "text/markdown": "[https://yoast.com/podcast/christi-olson](https://yoast.com/podcast/christi-olson)"
          },
          "metadata": {}
        },
        {
          "output_type": "display_data",
          "data": {
            "text/markdown": "[https://yoast.com/yoastcon](https://yoast.com/yoastcon)"
          },
          "metadata": {}
        },
        {
          "output_type": "display_data",
          "data": {
            "text/markdown": "[https://yoast.com/help/how-to-use-yoast-seo-in-elementor](https://yoast.com/help/how-to-use-yoast-seo-in-elementor)"
          },
          "metadata": {}
        },
        {
          "output_type": "display_data",
          "data": {
            "text/markdown": "[https://yoast.com/video/ask-yoast-noindexing-tags-categories-foodblog](https://yoast.com/video/ask-yoast-noindexing-tags-categories-foodblog)"
          },
          "metadata": {}
        },
        {
          "output_type": "display_data",
          "data": {
            "text/markdown": "[https://yoast.com/community/care-fund/recipients/sally-thoun](https://yoast.com/community/care-fund/recipients/sally-thoun)"
          },
          "metadata": {}
        },
        {
          "output_type": "display_data",
          "data": {
            "text/markdown": "[https://yoast.com/community/care-fund/recipients/evangelos-athanasiadis](https://yoast.com/community/care-fund/recipients/evangelos-athanasiadis)"
          },
          "metadata": {}
        },
        {
          "output_type": "display_data",
          "data": {
            "text/markdown": "[https://yoast.com/wordpress/plugins/yoast-woocommerce-seo](https://yoast.com/wordpress/plugins/yoast-woocommerce-seo)"
          },
          "metadata": {}
        },
        {
          "output_type": "display_data",
          "data": {
            "text/markdown": "[https://yoast.com/help/page-redirects-unexpectedly](https://yoast.com/help/page-redirects-unexpectedly)"
          },
          "metadata": {}
        },
        {
          "output_type": "display_data",
          "data": {
            "text/markdown": "[https://yoast.com/wordpress-hosting/kinsta](https://yoast.com/wordpress-hosting/kinsta)"
          },
          "metadata": {}
        },
        {
          "output_type": "display_data",
          "data": {
            "text/markdown": "[https://yoast.com/help/configuration-guide-for-yoast-seo](https://yoast.com/help/configuration-guide-for-yoast-seo)"
          },
          "metadata": {}
        },
        {
          "output_type": "display_data",
          "data": {
            "text/markdown": "[https://yoast.com/about-us/team](https://yoast.com/about-us/team)"
          },
          "metadata": {}
        },
        {
          "output_type": "display_data",
          "data": {
            "text/markdown": "[https://yoast.com/help/cannot-redeclare-yoastbreadcrumb-error](https://yoast.com/help/cannot-redeclare-yoastbreadcrumb-error)"
          },
          "metadata": {}
        },
        {
          "output_type": "display_data",
          "data": {
            "text/markdown": "[https://yoast.com/help/i-ve-added-the-custom-field-in-the-admin-but-the-plugin-still-doesn-t-recognise-my-vimeo-video](https://yoast.com/help/i-ve-added-the-custom-field-in-the-admin-but-the-plugin-still-doesn-t-recognise-my-vimeo-video)"
          },
          "metadata": {}
        },
        {
          "output_type": "display_data",
          "data": {
            "text/markdown": "[https://yoast.com/community/care-fund/recipients/kathy-drewien](https://yoast.com/community/care-fund/recipients/kathy-drewien)"
          },
          "metadata": {}
        },
        {
          "output_type": "display_data",
          "data": {
            "text/markdown": "[https://yoast.com/10-years-yoast/customer-interview](https://yoast.com/10-years-yoast/customer-interview)"
          },
          "metadata": {}
        },
        {
          "output_type": "display_data",
          "data": {
            "text/markdown": "[https://yoast.com/tag/local-seo](https://yoast.com/tag/local-seo)"
          },
          "metadata": {}
        },
        {
          "output_type": "display_data",
          "data": {
            "text/markdown": "[https://yoast.com/features/image-alt-attributes](https://yoast.com/features/image-alt-attributes)"
          },
          "metadata": {}
        },
        {
          "output_type": "display_data",
          "data": {
            "text/markdown": "[https://yoast.com/help/why-is-google-saying-my-xml-video-sitemap-is-an-html-file](https://yoast.com/help/why-is-google-saying-my-xml-video-sitemap-is-an-html-file)"
          },
          "metadata": {}
        },
        {
          "output_type": "display_data",
          "data": {
            "text/markdown": "[https://yoast.com/help/how-to-install-yoast-plugins-using-composer](https://yoast.com/help/how-to-install-yoast-plugins-using-composer)"
          },
          "metadata": {}
        },
        {
          "output_type": "display_data",
          "data": {
            "text/markdown": "[https://yoast.com/developer-blog/a11y-monthly-story-toggle](https://yoast.com/developer-blog/a11y-monthly-story-toggle)"
          },
          "metadata": {}
        },
        {
          "output_type": "display_data",
          "data": {
            "text/markdown": "[https://yoast.com/help/title-separator](https://yoast.com/help/title-separator)"
          },
          "metadata": {}
        },
        {
          "output_type": "display_data",
          "data": {
            "text/markdown": "[https://yoast.com/tag/schema-org](https://yoast.com/tag/schema-org)"
          },
          "metadata": {}
        },
        {
          "output_type": "display_data",
          "data": {
            "text/markdown": "[https://yoast.com/help/the-meta-robots-advanced-settings](https://yoast.com/help/the-meta-robots-advanced-settings)"
          },
          "metadata": {}
        },
        {
          "output_type": "display_data",
          "data": {
            "text/markdown": "[https://yoast.com/community/care-fund/recipients/rahul-d-sarker](https://yoast.com/community/care-fund/recipients/rahul-d-sarker)"
          },
          "metadata": {}
        },
        {
          "output_type": "display_data",
          "data": {
            "text/markdown": "[https://yoast.com/tag/hreflang](https://yoast.com/tag/hreflang)"
          },
          "metadata": {}
        },
        {
          "output_type": "display_data",
          "data": {
            "text/markdown": "[https://yoast.com/video/ask-yoast-pdfs-on-site](https://yoast.com/video/ask-yoast-pdfs-on-site)"
          },
          "metadata": {}
        },
        {
          "output_type": "display_data",
          "data": {
            "text/markdown": "[https://yoast.com/about-us/team/raymond-van-bergen](https://yoast.com/about-us/team/raymond-van-bergen)"
          },
          "metadata": {}
        },
        {
          "output_type": "display_data",
          "data": {
            "text/markdown": "[https://yoast.com/about-us/team/lisanne-kluitmans](https://yoast.com/about-us/team/lisanne-kluitmans)"
          },
          "metadata": {}
        },
        {
          "output_type": "display_data",
          "data": {
            "text/markdown": "[https://yoast.com/community/care-fund/recipients/meher-bala](https://yoast.com/community/care-fund/recipients/meher-bala)"
          },
          "metadata": {}
        },
        {
          "output_type": "display_data",
          "data": {
            "text/markdown": "[https://yoast.com/webinar/seo-news-february-2023](https://yoast.com/webinar/seo-news-february-2023)"
          },
          "metadata": {}
        },
        {
          "output_type": "display_data",
          "data": {
            "text/markdown": "[https://yoast.com/tag/amp](https://yoast.com/tag/amp)"
          },
          "metadata": {}
        },
        {
          "output_type": "display_data",
          "data": {
            "text/markdown": "[https://yoast.com/about-us/team/taco-verdonschot](https://yoast.com/about-us/team/taco-verdonschot)"
          },
          "metadata": {}
        },
        {
          "output_type": "display_data",
          "data": {
            "text/markdown": "[https://yoast.com/help/can-i-watch-this-video-in-my-own-language](https://yoast.com/help/can-i-watch-this-video-in-my-own-language)"
          },
          "metadata": {}
        },
        {
          "output_type": "display_data",
          "data": {
            "text/markdown": "[https://yoast.com/help/sitemap-shows-excluded-posts-pages](https://yoast.com/help/sitemap-shows-excluded-posts-pages)"
          },
          "metadata": {}
        },
        {
          "output_type": "display_data",
          "data": {
            "text/markdown": "[https://yoast.com/tag/pinterest](https://yoast.com/tag/pinterest)"
          },
          "metadata": {}
        },
        {
          "output_type": "display_data",
          "data": {
            "text/markdown": "[https://yoast.com/keyword-research-in-10-steps](https://yoast.com/keyword-research-in-10-steps)"
          },
          "metadata": {}
        },
        {
          "output_type": "display_data",
          "data": {
            "text/markdown": "[https://yoast.com/help/configuration-guide-for-yoast-woocommerce-seo](https://yoast.com/help/configuration-guide-for-yoast-woocommerce-seo)"
          },
          "metadata": {}
        },
        {
          "output_type": "display_data",
          "data": {
            "text/markdown": "[https://yoast.com/help/we-couldnt-complete-the-optimization-of-your-seo-data](https://yoast.com/help/we-couldnt-complete-the-optimization-of-your-seo-data)"
          },
          "metadata": {}
        },
        {
          "output_type": "display_data",
          "data": {
            "text/markdown": "[https://yoast.com/help/enable-disable-link-count](https://yoast.com/help/enable-disable-link-count)"
          },
          "metadata": {}
        },
        {
          "output_type": "display_data",
          "data": {
            "text/markdown": "[https://yoast.com/video/ask-yoast-can-i-cancel-redirects](https://yoast.com/video/ask-yoast-can-i-cancel-redirects)"
          },
          "metadata": {}
        },
        {
          "output_type": "display_data",
          "data": {
            "text/markdown": "[https://yoast.com/wordpress-hosting/seravo](https://yoast.com/wordpress-hosting/seravo)"
          },
          "metadata": {}
        },
        {
          "output_type": "display_data",
          "data": {
            "text/markdown": "[https://yoast.com/developer-blog/an-introduction-to-hooks-in-react](https://yoast.com/developer-blog/an-introduction-to-hooks-in-react)"
          },
          "metadata": {}
        },
        {
          "output_type": "display_data",
          "data": {
            "text/markdown": "[https://yoast.com/help/how-to-exclude-author-pages-from-sitemap](https://yoast.com/help/how-to-exclude-author-pages-from-sitemap)"
          },
          "metadata": {}
        },
        {
          "output_type": "display_data",
          "data": {
            "text/markdown": "[https://yoast.com/community/care-fund/recipients/nidhi-jain](https://yoast.com/community/care-fund/recipients/nidhi-jain)"
          },
          "metadata": {}
        },
        {
          "output_type": "display_data",
          "data": {
            "text/markdown": "[https://yoast.com/help/sitemap-does-not-update](https://yoast.com/help/sitemap-does-not-update)"
          },
          "metadata": {}
        },
        {
          "output_type": "display_data",
          "data": {
            "text/markdown": "[https://yoast.com/help/how-can-i-uninstall-my-plugin](https://yoast.com/help/how-can-i-uninstall-my-plugin)"
          },
          "metadata": {}
        },
        {
          "output_type": "display_data",
          "data": {
            "text/markdown": "[https://yoast.com/help/subscription-modifications-faq](https://yoast.com/help/subscription-modifications-faq)"
          },
          "metadata": {}
        },
        {
          "output_type": "display_data",
          "data": {
            "text/markdown": "[https://yoast.com/video/ask-yoast-bounce-rate-and-traffic](https://yoast.com/video/ask-yoast-bounce-rate-and-traffic)"
          },
          "metadata": {}
        },
        {
          "output_type": "display_data",
          "data": {
            "text/markdown": "[https://yoast.com/community/care-fund/recipients/mathieu-viet](https://yoast.com/community/care-fund/recipients/mathieu-viet)"
          },
          "metadata": {}
        },
        {
          "output_type": "display_data",
          "data": {
            "text/markdown": "[https://yoast.com/online-museum/lego](https://yoast.com/online-museum/lego)"
          },
          "metadata": {}
        },
        {
          "output_type": "display_data",
          "data": {
            "text/markdown": "[https://yoast.com/contact](https://yoast.com/contact)"
          },
          "metadata": {}
        },
        {
          "output_type": "display_data",
          "data": {
            "text/markdown": "[https://yoast.com/wordpress-seo-2-0](https://yoast.com/wordpress-seo-2-0)"
          },
          "metadata": {}
        },
        {
          "output_type": "display_data",
          "data": {
            "text/markdown": "[https://yoast.com/help/why-doesnt-facebook-display-an-image](https://yoast.com/help/why-doesnt-facebook-display-an-image)"
          },
          "metadata": {}
        },
        {
          "output_type": "display_data",
          "data": {
            "text/markdown": "[https://yoast.com/help/my-location-page-isnt-appearing-in-my-embedded-google-map](https://yoast.com/help/my-location-page-isnt-appearing-in-my-embedded-google-map)"
          },
          "metadata": {}
        },
        {
          "output_type": "display_data",
          "data": {
            "text/markdown": "[https://yoast.com/help/yoast-seo-settings-site-basics](https://yoast.com/help/yoast-seo-settings-site-basics)"
          },
          "metadata": {}
        },
        {
          "output_type": "display_data",
          "data": {
            "text/markdown": "[https://yoast.com/community/care-fund/recipients/rachel-cherry](https://yoast.com/community/care-fund/recipients/rachel-cherry)"
          },
          "metadata": {}
        },
        {
          "output_type": "display_data",
          "data": {
            "text/markdown": "[https://yoast.com/tag/facebook](https://yoast.com/tag/facebook)"
          },
          "metadata": {}
        },
        {
          "output_type": "display_data",
          "data": {
            "text/markdown": "[https://yoast.com/about-us/events](https://yoast.com/about-us/events)"
          },
          "metadata": {}
        },
        {
          "output_type": "display_data",
          "data": {
            "text/markdown": "[https://yoast.com/wordpress-core/wordpress-5-9-is-out](https://yoast.com/wordpress-core/wordpress-5-9-is-out)"
          },
          "metadata": {}
        },
        {
          "output_type": "display_data",
          "data": {
            "text/markdown": "[https://yoast.com/about-us/history](https://yoast.com/about-us/history)"
          },
          "metadata": {}
        },
        {
          "output_type": "display_data",
          "data": {
            "text/markdown": "[https://yoast.com/help/installation-guide-for-wordpress-seo](https://yoast.com/help/installation-guide-for-wordpress-seo)"
          },
          "metadata": {}
        },
        {
          "output_type": "display_data",
          "data": {
            "text/markdown": "[https://yoast.com/wordpress-core/q4-is-around-the-corner](https://yoast.com/wordpress-core/q4-is-around-the-corner)"
          },
          "metadata": {}
        },
        {
          "output_type": "display_data",
          "data": {
            "text/markdown": "[https://yoast.com/10-years-yoast](https://yoast.com/10-years-yoast)"
          },
          "metadata": {}
        },
        {
          "output_type": "display_data",
          "data": {
            "text/markdown": "[https://yoast.com/wordpress-hosting/ultahost](https://yoast.com/wordpress-hosting/ultahost)"
          },
          "metadata": {}
        },
        {
          "output_type": "display_data",
          "data": {
            "text/markdown": "[https://yoast.com/academy/free-training-wordpress-for-beginners](https://yoast.com/academy/free-training-wordpress-for-beginners)"
          },
          "metadata": {}
        },
        {
          "output_type": "display_data",
          "data": {
            "text/markdown": "[https://yoast.com/help/does-yoast-seo-work-with-custom-post-types](https://yoast.com/help/does-yoast-seo-work-with-custom-post-types)"
          },
          "metadata": {}
        },
        {
          "output_type": "display_data",
          "data": {
            "text/markdown": "[https://yoast.com/developer-blog/site-search-algolia](https://yoast.com/developer-blog/site-search-algolia)"
          },
          "metadata": {}
        },
        {
          "output_type": "display_data",
          "data": {
            "text/markdown": "[https://yoast.com/wordpress-core/working-on-wordpress-and-gutenberg](https://yoast.com/wordpress-core/working-on-wordpress-and-gutenberg)"
          },
          "metadata": {}
        },
        {
          "output_type": "display_data",
          "data": {
            "text/markdown": "[https://yoast.com/help/can-i-cancel-my-subscription](https://yoast.com/help/can-i-cancel-my-subscription)"
          },
          "metadata": {}
        },
        {
          "output_type": "display_data",
          "data": {
            "text/markdown": "[https://yoast.com/help/why-doesnt-my-video-seo-plugin-create-a-sitemap](https://yoast.com/help/why-doesnt-my-video-seo-plugin-create-a-sitemap)"
          },
          "metadata": {}
        },
        {
          "output_type": "display_data",
          "data": {
            "text/markdown": "[https://yoast.com/wordpress-core/full-site-editing-from-a-theme-perspective](https://yoast.com/wordpress-core/full-site-editing-from-a-theme-perspective)"
          },
          "metadata": {}
        },
        {
          "output_type": "display_data",
          "data": {
            "text/markdown": "[https://yoast.com/help/faq-the-yoast-seo-workouts](https://yoast.com/help/faq-the-yoast-seo-workouts)"
          },
          "metadata": {}
        },
        {
          "output_type": "display_data",
          "data": {
            "text/markdown": "[https://yoast.com](https://yoast.com)"
          },
          "metadata": {}
        },
        {
          "output_type": "display_data",
          "data": {
            "text/markdown": "[https://yoast.com/help/rich-snippets-in-search-results](https://yoast.com/help/rich-snippets-in-search-results)"
          },
          "metadata": {}
        },
        {
          "output_type": "display_data",
          "data": {
            "text/markdown": "[https://yoast.com/wordpress-hosting/liquid-web](https://yoast.com/wordpress-hosting/liquid-web)"
          },
          "metadata": {}
        },
        {
          "output_type": "display_data",
          "data": {
            "text/markdown": "[https://yoast.com/developer-blog/the-exciting-new-technology-that-is-indexables](https://yoast.com/developer-blog/the-exciting-new-technology-that-is-indexables)"
          },
          "metadata": {}
        },
        {
          "output_type": "display_data",
          "data": {
            "text/markdown": "[https://yoast.com/series/seo-love](https://yoast.com/series/seo-love)"
          },
          "metadata": {}
        },
        {
          "output_type": "display_data",
          "data": {
            "text/markdown": "[https://yoast.com/developer-blog/a11y-monthly-wordcamp-us](https://yoast.com/developer-blog/a11y-monthly-wordcamp-us)"
          },
          "metadata": {}
        },
        {
          "output_type": "display_data",
          "data": {
            "text/markdown": "[https://yoast.com/community/care-fund/recipients/chetan-prajapati](https://yoast.com/community/care-fund/recipients/chetan-prajapati)"
          },
          "metadata": {}
        },
        {
          "output_type": "display_data",
          "data": {
            "text/markdown": "[https://yoast.com/community/care-fund/recipients/luisa-ravelli](https://yoast.com/community/care-fund/recipients/luisa-ravelli)"
          },
          "metadata": {}
        },
        {
          "output_type": "display_data",
          "data": {
            "text/markdown": "[https://yoast.com/video/ask-yoast-how-to-create-faq-page](https://yoast.com/video/ask-yoast-how-to-create-faq-page)"
          },
          "metadata": {}
        },
        {
          "output_type": "display_data",
          "data": {
            "text/markdown": "[https://yoast.com/video/ask-yoast-moving-domain-wordpress-clean-install](https://yoast.com/video/ask-yoast-moving-domain-wordpress-clean-install)"
          },
          "metadata": {}
        },
        {
          "output_type": "display_data",
          "data": {
            "text/markdown": "[https://yoast.com/developer-blog/splitting-rtl-texts-into-sentences](https://yoast.com/developer-blog/splitting-rtl-texts-into-sentences)"
          },
          "metadata": {}
        },
        {
          "output_type": "display_data",
          "data": {
            "text/markdown": "[https://yoast.com/wordpress-core/a-month-with-the-wordpress-core-team-january-2024](https://yoast.com/wordpress-core/a-month-with-the-wordpress-core-team-january-2024)"
          },
          "metadata": {}
        },
        {
          "output_type": "display_data",
          "data": {
            "text/markdown": "[https://yoast.com/wordpress-core/back-to-feature-freeze-for-wordpress-5-9](https://yoast.com/wordpress-core/back-to-feature-freeze-for-wordpress-5-9)"
          },
          "metadata": {}
        },
        {
          "output_type": "display_data",
          "data": {
            "text/markdown": "[https://yoast.com/wordpress-hosting/bluehost](https://yoast.com/wordpress-hosting/bluehost)"
          },
          "metadata": {}
        },
        {
          "output_type": "display_data",
          "data": {
            "text/markdown": "[https://yoast.com/wordpress-core/contributor-day-and-wordpress-5-9](https://yoast.com/wordpress-core/contributor-day-and-wordpress-5-9)"
          },
          "metadata": {}
        },
        {
          "output_type": "display_data",
          "data": {
            "text/markdown": "[https://yoast.com/about-us/team/manuel-augustin](https://yoast.com/about-us/team/manuel-augustin)"
          },
          "metadata": {}
        },
        {
          "output_type": "display_data",
          "data": {
            "text/markdown": "[https://yoast.com/tag/content-seo](https://yoast.com/tag/content-seo)"
          },
          "metadata": {}
        },
        {
          "output_type": "display_data",
          "data": {
            "text/markdown": "[https://yoast.com/help/how-to-add-social-profiles-for-a-person](https://yoast.com/help/how-to-add-social-profiles-for-a-person)"
          },
          "metadata": {}
        },
        {
          "output_type": "display_data",
          "data": {
            "text/markdown": "[https://yoast.com/help/configuration-guide-for-news-seo](https://yoast.com/help/configuration-guide-for-news-seo)"
          },
          "metadata": {}
        },
        {
          "output_type": "display_data",
          "data": {
            "text/markdown": "[https://yoast.com/help/error-text-contains-0-words](https://yoast.com/help/error-text-contains-0-words)"
          },
          "metadata": {}
        },
        {
          "output_type": "display_data",
          "data": {
            "text/markdown": "[https://yoast.com/webinar/webinar-how-to-start-with-seo-november-1-2023](https://yoast.com/webinar/webinar-how-to-start-with-seo-november-1-2023)"
          },
          "metadata": {}
        },
        {
          "output_type": "display_data",
          "data": {
            "text/markdown": "[https://yoast.com/webinar/headless-cms-webinar-july-20](https://yoast.com/webinar/headless-cms-webinar-july-20)"
          },
          "metadata": {}
        },
        {
          "output_type": "display_data",
          "data": {
            "text/markdown": "[https://yoast.com/yoastcon/2019-edition](https://yoast.com/yoastcon/2019-edition)"
          },
          "metadata": {}
        },
        {
          "output_type": "display_data",
          "data": {
            "text/markdown": "[https://yoast.com/developer-blog/yoast-seo-rest-api-endpoint](https://yoast.com/developer-blog/yoast-seo-rest-api-endpoint)"
          },
          "metadata": {}
        },
        {
          "output_type": "display_data",
          "data": {
            "text/markdown": "[https://yoast.com/webinar/webinar-how-to-start-with-seo-january-16-2024](https://yoast.com/webinar/webinar-how-to-start-with-seo-january-16-2024)"
          },
          "metadata": {}
        },
        {
          "output_type": "display_data",
          "data": {
            "text/markdown": "[https://yoast.com/developer-blog/redesigning-the-yoast-seo-settings-interface](https://yoast.com/developer-blog/redesigning-the-yoast-seo-settings-interface)"
          },
          "metadata": {}
        },
        {
          "output_type": "display_data",
          "data": {
            "text/markdown": "[https://yoast.com/wordpress-core/wordpress-6-0-feature-freeze-getting-closer](https://yoast.com/wordpress-core/wordpress-6-0-feature-freeze-getting-closer)"
          },
          "metadata": {}
        },
        {
          "output_type": "display_data",
          "data": {
            "text/markdown": "[https://yoast.com/help/no-meta-description-has-been-specified](https://yoast.com/help/no-meta-description-has-been-specified)"
          },
          "metadata": {}
        },
        {
          "output_type": "display_data",
          "data": {
            "text/markdown": "[https://yoast.com/black-friday](https://yoast.com/black-friday)"
          },
          "metadata": {}
        },
        {
          "output_type": "display_data",
          "data": {
            "text/markdown": "[https://yoast.com/yoast-diversity-fund](https://yoast.com/yoast-diversity-fund)"
          },
          "metadata": {}
        },
        {
          "output_type": "display_data",
          "data": {
            "text/markdown": "[https://yoast.com/help/site-policies-yoast-seo-premium](https://yoast.com/help/site-policies-yoast-seo-premium)"
          },
          "metadata": {}
        },
        {
          "output_type": "display_data",
          "data": {
            "text/markdown": "[https://yoast.com/podcast/jes-scholz](https://yoast.com/podcast/jes-scholz)"
          },
          "metadata": {}
        },
        {
          "output_type": "display_data",
          "data": {
            "text/markdown": "[https://yoast.com/about-us/team/mario-van-antwerpen](https://yoast.com/about-us/team/mario-van-antwerpen)"
          },
          "metadata": {}
        },
        {
          "output_type": "display_data",
          "data": {
            "text/markdown": "[https://yoast.com/tag/wordcamp](https://yoast.com/tag/wordcamp)"
          },
          "metadata": {}
        },
        {
          "output_type": "display_data",
          "data": {
            "text/markdown": "[https://yoast.com/video/ask-yoast-hiding-images-for-pinterest-in-your-posts](https://yoast.com/video/ask-yoast-hiding-images-for-pinterest-in-your-posts)"
          },
          "metadata": {}
        },
        {
          "output_type": "display_data",
          "data": {
            "text/markdown": "[https://yoast.com/help/yoast-seo-tools-import-and-export](https://yoast.com/help/yoast-seo-tools-import-and-export)"
          },
          "metadata": {}
        },
        {
          "output_type": "display_data",
          "data": {
            "text/markdown": "[https://yoast.com/help/installation-guide-for-news-seo](https://yoast.com/help/installation-guide-for-news-seo)"
          },
          "metadata": {}
        },
        {
          "output_type": "display_data",
          "data": {
            "text/markdown": "[https://yoast.com/wordpress-core/a-week-with-us-40-commits-and-40-degrees](https://yoast.com/wordpress-core/a-week-with-us-40-commits-and-40-degrees)"
          },
          "metadata": {}
        },
        {
          "output_type": "display_data",
          "data": {
            "text/markdown": "[https://yoast.com/help/yoast-seo-settings-author-archives](https://yoast.com/help/yoast-seo-settings-author-archives)"
          },
          "metadata": {}
        },
        {
          "output_type": "display_data",
          "data": {
            "text/markdown": "[https://yoast.com/community/care-fund/recipients/ganga-kafle](https://yoast.com/community/care-fund/recipients/ganga-kafle)"
          },
          "metadata": {}
        },
        {
          "output_type": "display_data",
          "data": {
            "text/markdown": "[https://yoast.com/webinar/page-speed-webinar-april-2021](https://yoast.com/webinar/page-speed-webinar-april-2021)"
          },
          "metadata": {}
        },
        {
          "output_type": "display_data",
          "data": {
            "text/markdown": "[https://yoast.com/video/ask-yoast-preparing-for-the-gdpr](https://yoast.com/video/ask-yoast-preparing-for-the-gdpr)"
          },
          "metadata": {}
        },
        {
          "output_type": "display_data",
          "data": {
            "text/markdown": "[https://yoast.com/features/languages](https://yoast.com/features/languages)"
          },
          "metadata": {}
        },
        {
          "output_type": "display_data",
          "data": {
            "text/markdown": "[https://yoast.com/help/how-does-the-plugin-work-with-videos-in-custom-fields](https://yoast.com/help/how-does-the-plugin-work-with-videos-in-custom-fields)"
          },
          "metadata": {}
        },
        {
          "output_type": "display_data",
          "data": {
            "text/markdown": "[https://yoast.com/about-us/team/martijn-van-der-klis](https://yoast.com/about-us/team/martijn-van-der-klis)"
          },
          "metadata": {}
        },
        {
          "output_type": "display_data",
          "data": {
            "text/markdown": "[https://yoast.com/webinar/webinar-e-commerce-trends-2023](https://yoast.com/webinar/webinar-e-commerce-trends-2023)"
          },
          "metadata": {}
        },
        {
          "output_type": "display_data",
          "data": {
            "text/markdown": "[https://yoast.com/webinar/webinar-how-to-start-with-seo-september-21st-2023](https://yoast.com/webinar/webinar-how-to-start-with-seo-september-21st-2023)"
          },
          "metadata": {}
        },
        {
          "output_type": "display_data",
          "data": {
            "text/markdown": "[https://yoast.com/community/care-fund/recipients/oneal-rosero](https://yoast.com/community/care-fund/recipients/oneal-rosero)"
          },
          "metadata": {}
        },
        {
          "output_type": "display_data",
          "data": {
            "text/markdown": "[https://yoast.com/developer-blog/testing-yoast-seo-settings-interface](https://yoast.com/developer-blog/testing-yoast-seo-settings-interface)"
          },
          "metadata": {}
        },
        {
          "output_type": "display_data",
          "data": {
            "text/markdown": "[https://yoast.com/wordpress-core/learning-teaching-and-contributing](https://yoast.com/wordpress-core/learning-teaching-and-contributing)"
          },
          "metadata": {}
        },
        {
          "output_type": "display_data",
          "data": {
            "text/markdown": "[https://yoast.com/help/store-locator](https://yoast.com/help/store-locator)"
          },
          "metadata": {}
        },
        {
          "output_type": "display_data",
          "data": {
            "text/markdown": "[https://yoast.com/wordpress-hosting/siteground](https://yoast.com/wordpress-hosting/siteground)"
          },
          "metadata": {}
        },
        {
          "output_type": "display_data",
          "data": {
            "text/markdown": "[https://yoast.com/help/configuration-guide-for-local-seo](https://yoast.com/help/configuration-guide-for-local-seo)"
          },
          "metadata": {}
        },
        {
          "output_type": "display_data",
          "data": {
            "text/markdown": "[https://yoast.com/about-us/community](https://yoast.com/about-us/community)"
          },
          "metadata": {}
        },
        {
          "output_type": "display_data",
          "data": {
            "text/markdown": "[https://yoast.com/wordpress-core/a-week-with-us-wp-6-1-beta3](https://yoast.com/wordpress-core/a-week-with-us-wp-6-1-beta3)"
          },
          "metadata": {}
        },
        {
          "output_type": "display_data",
          "data": {
            "text/markdown": "[https://yoast.com/discount](https://yoast.com/discount)"
          },
          "metadata": {}
        },
        {
          "output_type": "display_data",
          "data": {
            "text/markdown": "[https://yoast.com/community/care-fund/recipients/fahim-murshed](https://yoast.com/community/care-fund/recipients/fahim-murshed)"
          },
          "metadata": {}
        },
        {
          "output_type": "display_data",
          "data": {
            "text/markdown": "[https://yoast.com/features/redirect-manager](https://yoast.com/features/redirect-manager)"
          },
          "metadata": {}
        },
        {
          "output_type": "display_data",
          "data": {
            "text/markdown": "[https://yoast.com/help/orphaned-content-filter](https://yoast.com/help/orphaned-content-filter)"
          },
          "metadata": {}
        },
        {
          "output_type": "display_data",
          "data": {
            "text/markdown": "[https://yoast.com/wordpress-core/meeting-theme-developers-block-editor-improvements](https://yoast.com/wordpress-core/meeting-theme-developers-block-editor-improvements)"
          },
          "metadata": {}
        },
        {
          "output_type": "display_data",
          "data": {
            "text/markdown": "[https://yoast.com/webinar/seo-news-webinar-february-2021](https://yoast.com/webinar/seo-news-webinar-february-2021)"
          },
          "metadata": {}
        },
        {
          "output_type": "display_data",
          "data": {
            "text/markdown": "[https://yoast.com/wordpress-core/celebrating-eighteen-years-of-wordpress](https://yoast.com/wordpress-core/celebrating-eighteen-years-of-wordpress)"
          },
          "metadata": {}
        },
        {
          "output_type": "display_data",
          "data": {
            "text/markdown": "[https://yoast.com/tag/release-post](https://yoast.com/tag/release-post)"
          },
          "metadata": {}
        },
        {
          "output_type": "display_data",
          "data": {
            "text/markdown": "[https://yoast.com/wordpress/plugins/video-seo](https://yoast.com/wordpress/plugins/video-seo)"
          },
          "metadata": {}
        },
        {
          "output_type": "display_data",
          "data": {
            "text/markdown": "[https://yoast.com/help/optimizing-the-seo-title-and-meta-description-of-your-homepage](https://yoast.com/help/optimizing-the-seo-title-and-meta-description-of-your-homepage)"
          },
          "metadata": {}
        },
        {
          "output_type": "display_data",
          "data": {
            "text/markdown": "[https://yoast.com/developer-blog/guide-mailto-links](https://yoast.com/developer-blog/guide-mailto-links)"
          },
          "metadata": {}
        },
        {
          "output_type": "display_data",
          "data": {
            "text/markdown": "[https://yoast.com/help/how-to-write-a-good-bug-report](https://yoast.com/help/how-to-write-a-good-bug-report)"
          },
          "metadata": {}
        },
        {
          "output_type": "display_data",
          "data": {
            "text/markdown": "[https://yoast.com/help/yoast-seo-usage-tracking](https://yoast.com/help/yoast-seo-usage-tracking)"
          },
          "metadata": {}
        },
        {
          "output_type": "display_data",
          "data": {
            "text/markdown": "[https://yoast.com/developer-blog/yoast-seo-14-0-using-yoast-seo-surfaces](https://yoast.com/developer-blog/yoast-seo-14-0-using-yoast-seo-surfaces)"
          },
          "metadata": {}
        },
        {
          "output_type": "display_data",
          "data": {
            "text/markdown": "[https://yoast.com/innovations](https://yoast.com/innovations)"
          },
          "metadata": {}
        },
        {
          "output_type": "display_data",
          "data": {
            "text/markdown": "[https://yoast.com/help/installation-guide-for-yoast-seo-for-drupal](https://yoast.com/help/installation-guide-for-yoast-seo-for-drupal)"
          },
          "metadata": {}
        },
        {
          "output_type": "display_data",
          "data": {
            "text/markdown": "[https://yoast.com/help/disable-cornerstone-content](https://yoast.com/help/disable-cornerstone-content)"
          },
          "metadata": {}
        },
        {
          "output_type": "display_data",
          "data": {
            "text/markdown": "[https://yoast.com/tag/security](https://yoast.com/tag/security)"
          },
          "metadata": {}
        },
        {
          "output_type": "display_data",
          "data": {
            "text/markdown": "[https://yoast.com/help/guide-to-navigating-the-new-yoast-seo-settings-interface](https://yoast.com/help/guide-to-navigating-the-new-yoast-seo-settings-interface)"
          },
          "metadata": {}
        },
        {
          "output_type": "display_data",
          "data": {
            "text/markdown": "[https://yoast.com/wordpress/plugins/news-seo/api](https://yoast.com/wordpress/plugins/news-seo/api)"
          },
          "metadata": {}
        },
        {
          "output_type": "display_data",
          "data": {
            "text/markdown": "[https://yoast.com/help/why-is-my-video-not-detected](https://yoast.com/help/why-is-my-video-not-detected)"
          },
          "metadata": {}
        },
        {
          "output_type": "display_data",
          "data": {
            "text/markdown": "[https://yoast.com/community/care-fund/recipients/ahmed-chaion](https://yoast.com/community/care-fund/recipients/ahmed-chaion)"
          },
          "metadata": {}
        },
        {
          "output_type": "display_data",
          "data": {
            "text/markdown": "[https://yoast.com/wordpress-core/a-week-with-us-getting-ready-for-wordpress-5-9](https://yoast.com/wordpress-core/a-week-with-us-getting-ready-for-wordpress-5-9)"
          },
          "metadata": {}
        },
        {
          "output_type": "display_data",
          "data": {
            "text/markdown": "[https://yoast.com/video/ask-yoast-geotargeting-and-seo](https://yoast.com/video/ask-yoast-geotargeting-and-seo)"
          },
          "metadata": {}
        },
        {
          "output_type": "display_data",
          "data": {
            "text/markdown": "[https://yoast.com/online-museum](https://yoast.com/online-museum)"
          },
          "metadata": {}
        },
        {
          "output_type": "display_data",
          "data": {
            "text/markdown": "[https://yoast.com/community/care-fund/recipients/david-wampamba](https://yoast.com/community/care-fund/recipients/david-wampamba)"
          },
          "metadata": {}
        },
        {
          "output_type": "display_data",
          "data": {
            "text/markdown": "[https://yoast.com/developer-blog/w3c-validator-api](https://yoast.com/developer-blog/w3c-validator-api)"
          },
          "metadata": {}
        },
        {
          "output_type": "display_data",
          "data": {
            "text/markdown": "[https://yoast.com/arts-and-crafts](https://yoast.com/arts-and-crafts)"
          },
          "metadata": {}
        },
        {
          "output_type": "display_data",
          "data": {
            "text/markdown": "[https://yoast.com/help/havent-received-purchase-receipt-yet](https://yoast.com/help/havent-received-purchase-receipt-yet)"
          },
          "metadata": {}
        },
        {
          "output_type": "display_data",
          "data": {
            "text/markdown": "[https://yoast.com/help/inclusive-language/sexual-and-romantic-orientation](https://yoast.com/help/inclusive-language/sexual-and-romantic-orientation)"
          },
          "metadata": {}
        },
        {
          "output_type": "display_data",
          "data": {
            "text/markdown": "[https://yoast.com/help/images-in-the-xml-sitemap](https://yoast.com/help/images-in-the-xml-sitemap)"
          },
          "metadata": {}
        },
        {
          "output_type": "display_data",
          "data": {
            "text/markdown": "[https://yoast.com/wordpress-hosting/pagely-inc](https://yoast.com/wordpress-hosting/pagely-inc)"
          },
          "metadata": {}
        },
        {
          "output_type": "display_data",
          "data": {
            "text/markdown": "[https://yoast.com/help/do-i-need-to-disable-php-redirects](https://yoast.com/help/do-i-need-to-disable-php-redirects)"
          },
          "metadata": {}
        },
        {
          "output_type": "display_data",
          "data": {
            "text/markdown": "[https://yoast.com/community/care-fund/recipients/simona-simionato](https://yoast.com/community/care-fund/recipients/simona-simionato)"
          },
          "metadata": {}
        },
        {
          "output_type": "display_data",
          "data": {
            "text/markdown": "[https://yoast.com/about-us/team/niels-revers](https://yoast.com/about-us/team/niels-revers)"
          },
          "metadata": {}
        },
        {
          "output_type": "display_data",
          "data": {
            "text/markdown": "[https://yoast.com/yoast-seo-platforms](https://yoast.com/yoast-seo-platforms)"
          },
          "metadata": {}
        },
        {
          "output_type": "display_data",
          "data": {
            "text/markdown": "[https://yoast.com/online-museum/clothing](https://yoast.com/online-museum/clothing)"
          },
          "metadata": {}
        },
        {
          "output_type": "display_data",
          "data": {
            "text/markdown": "[https://yoast.com/about-us/team/chaya-oosterbroek](https://yoast.com/about-us/team/chaya-oosterbroek)"
          },
          "metadata": {}
        },
        {
          "output_type": "display_data",
          "data": {
            "text/markdown": "[https://yoast.com/community/care-fund/recipients/arslan-ahmed](https://yoast.com/community/care-fund/recipients/arslan-ahmed)"
          },
          "metadata": {}
        },
        {
          "output_type": "display_data",
          "data": {
            "text/markdown": "[https://yoast.com/help/my-redirects-do-not-work](https://yoast.com/help/my-redirects-do-not-work)"
          },
          "metadata": {}
        },
        {
          "output_type": "display_data",
          "data": {
            "text/markdown": "[https://yoast.com/developer-blog/standard-wordpress-theme-hooks](https://yoast.com/developer-blog/standard-wordpress-theme-hooks)"
          },
          "metadata": {}
        },
        {
          "output_type": "display_data",
          "data": {
            "text/markdown": "[https://yoast.com/help/use-semrush-related-keyphrases-in-yoast-seo](https://yoast.com/help/use-semrush-related-keyphrases-in-yoast-seo)"
          },
          "metadata": {}
        },
        {
          "output_type": "display_data",
          "data": {
            "text/markdown": "[https://yoast.com/video/ask-yoast-google-show-changes](https://yoast.com/video/ask-yoast-google-show-changes)"
          },
          "metadata": {}
        },
        {
          "output_type": "display_data",
          "data": {
            "text/markdown": "[https://yoast.com/community/care-fund/recipients/jenny-dupuy](https://yoast.com/community/care-fund/recipients/jenny-dupuy)"
          },
          "metadata": {}
        },
        {
          "output_type": "display_data",
          "data": {
            "text/markdown": "[https://yoast.com/wordpress-hosting/weboke](https://yoast.com/wordpress-hosting/weboke)"
          },
          "metadata": {}
        },
        {
          "output_type": "display_data",
          "data": {
            "text/markdown": "[https://yoast.com/help/video-seo-plugin-configuration-guide](https://yoast.com/help/video-seo-plugin-configuration-guide)"
          },
          "metadata": {}
        },
        {
          "output_type": "display_data",
          "data": {
            "text/markdown": "[https://yoast.com/about-us/team/anna-shopina](https://yoast.com/about-us/team/anna-shopina)"
          },
          "metadata": {}
        },
        {
          "output_type": "display_data",
          "data": {
            "text/markdown": "[https://yoast.com/about-us/lego](https://yoast.com/about-us/lego)"
          },
          "metadata": {}
        },
        {
          "output_type": "display_data",
          "data": {
            "text/markdown": "[https://yoast.com/wordpress-hosting/interserver-inc](https://yoast.com/wordpress-hosting/interserver-inc)"
          },
          "metadata": {}
        },
        {
          "output_type": "display_data",
          "data": {
            "text/markdown": "[https://yoast.com/help/block-unwanted-bots-with-yoast-seo](https://yoast.com/help/block-unwanted-bots-with-yoast-seo)"
          },
          "metadata": {}
        },
        {
          "output_type": "display_data",
          "data": {
            "text/markdown": "[https://yoast.com/help/how-to-fix-missing-schema-properties-for-products](https://yoast.com/help/how-to-fix-missing-schema-properties-for-products)"
          },
          "metadata": {}
        },
        {
          "output_type": "display_data",
          "data": {
            "text/markdown": "[https://yoast.com/about-us/team/alex-moss](https://yoast.com/about-us/team/alex-moss)"
          },
          "metadata": {}
        },
        {
          "output_type": "display_data",
          "data": {
            "text/markdown": "[https://yoast.com/video/noindex-old-posts-that-need-update](https://yoast.com/video/noindex-old-posts-that-need-update)"
          },
          "metadata": {}
        },
        {
          "output_type": "display_data",
          "data": {
            "text/markdown": "[https://yoast.com/developer-blog/linking-suggestions-a-look-behind-the-scenes](https://yoast.com/developer-blog/linking-suggestions-a-look-behind-the-scenes)"
          },
          "metadata": {}
        },
        {
          "output_type": "display_data",
          "data": {
            "text/markdown": "[https://yoast.com/community/care-fund/recipients/foteini-vavitsa](https://yoast.com/community/care-fund/recipients/foteini-vavitsa)"
          },
          "metadata": {}
        },
        {
          "output_type": "display_data",
          "data": {
            "text/markdown": "[https://yoast.com/developer-blog/release-candidate-yoast-seo-for-magento-2-now-available](https://yoast.com/developer-blog/release-candidate-yoast-seo-for-magento-2-now-available)"
          },
          "metadata": {}
        },
        {
          "output_type": "display_data",
          "data": {
            "text/markdown": "[https://yoast.com/community/care-fund/recipients/konstantinos-xenos](https://yoast.com/community/care-fund/recipients/konstantinos-xenos)"
          },
          "metadata": {}
        },
        {
          "output_type": "display_data",
          "data": {
            "text/markdown": "[https://yoast.com/wordpress-core/a-month-with-the-wordpress-core-team-april-2023](https://yoast.com/wordpress-core/a-month-with-the-wordpress-core-team-april-2023)"
          },
          "metadata": {}
        },
        {
          "output_type": "display_data",
          "data": {
            "text/markdown": "[https://yoast.com/help/yoast-seo-academy-faq](https://yoast.com/help/yoast-seo-academy-faq)"
          },
          "metadata": {}
        },
        {
          "output_type": "display_data",
          "data": {
            "text/markdown": "[https://yoast.com/community/care-fund/recipients/bego-mario-garde](https://yoast.com/community/care-fund/recipients/bego-mario-garde)"
          },
          "metadata": {}
        },
        {
          "output_type": "display_data",
          "data": {
            "text/markdown": "[https://yoast.com/community/care-fund/recipients/hauwa-abashiya](https://yoast.com/community/care-fund/recipients/hauwa-abashiya)"
          },
          "metadata": {}
        },
        {
          "output_type": "display_data",
          "data": {
            "text/markdown": "[https://yoast.com/series/ask-yoast](https://yoast.com/series/ask-yoast)"
          },
          "metadata": {}
        },
        {
          "output_type": "display_data",
          "data": {
            "text/markdown": "[https://yoast.com/developer-blog/the-a11y-monthly-making-modals-accessible](https://yoast.com/developer-blog/the-a11y-monthly-making-modals-accessible)"
          },
          "metadata": {}
        },
        {
          "output_type": "display_data",
          "data": {
            "text/markdown": "[https://yoast.com/help/false-positives-english-passive-analysis](https://yoast.com/help/false-positives-english-passive-analysis)"
          },
          "metadata": {}
        },
        {
          "output_type": "display_data",
          "data": {
            "text/markdown": "[https://yoast.com/tag/google-algorithm](https://yoast.com/tag/google-algorithm)"
          },
          "metadata": {}
        },
        {
          "output_type": "display_data",
          "data": {
            "text/markdown": "[https://yoast.com/developer-blog/implementing-a-sitewide-search-function](https://yoast.com/developer-blog/implementing-a-sitewide-search-function)"
          },
          "metadata": {}
        },
        {
          "output_type": "display_data",
          "data": {
            "text/markdown": "[https://yoast.com/terms-of-service/ofac](https://yoast.com/terms-of-service/ofac)"
          },
          "metadata": {}
        },
        {
          "output_type": "display_data",
          "data": {
            "text/markdown": "[https://yoast.com/about-us/team/paolo-scala](https://yoast.com/about-us/team/paolo-scala)"
          },
          "metadata": {}
        },
        {
          "output_type": "display_data",
          "data": {
            "text/markdown": "[https://yoast.com/seo-copywriting-must-reads](https://yoast.com/seo-copywriting-must-reads)"
          },
          "metadata": {}
        },
        {
          "output_type": "display_data",
          "data": {
            "text/markdown": "[https://yoast.com/help/why-are-404-errors-returning-even-after-being-marked-as-fixed](https://yoast.com/help/why-are-404-errors-returning-even-after-being-marked-as-fixed)"
          },
          "metadata": {}
        },
        {
          "output_type": "display_data",
          "data": {
            "text/markdown": "[https://yoast.com/features/breadcrumbs](https://yoast.com/features/breadcrumbs)"
          },
          "metadata": {}
        },
        {
          "output_type": "display_data",
          "data": {
            "text/markdown": "[https://yoast.com/rich-results-schema-structured-data-story](https://yoast.com/rich-results-schema-structured-data-story)"
          },
          "metadata": {}
        },
        {
          "output_type": "display_data",
          "data": {
            "text/markdown": "[https://yoast.com/tag/ask-yoast-case-study](https://yoast.com/tag/ask-yoast-case-study)"
          },
          "metadata": {}
        },
        {
          "output_type": "display_data",
          "data": {
            "text/markdown": "[https://yoast.com/developer-blog/set-up-wordpress-development-environment-in-docker](https://yoast.com/developer-blog/set-up-wordpress-development-environment-in-docker)"
          },
          "metadata": {}
        },
        {
          "output_type": "display_data",
          "data": {
            "text/markdown": "[https://yoast.com/wordpress](https://yoast.com/wordpress)"
          },
          "metadata": {}
        },
        {
          "output_type": "display_data",
          "data": {
            "text/markdown": "[https://yoast.com/video/ask-yoast-breadcrumbs-products](https://yoast.com/video/ask-yoast-breadcrumbs-products)"
          },
          "metadata": {}
        },
        {
          "output_type": "display_data",
          "data": {
            "text/markdown": "[https://yoast.com/wordpress-core/yoast-contributors-day-and-wordpress-6-0](https://yoast.com/wordpress-core/yoast-contributors-day-and-wordpress-6-0)"
          },
          "metadata": {}
        },
        {
          "output_type": "display_data",
          "data": {
            "text/markdown": "[https://yoast.com/about-us/team/jose-varghese](https://yoast.com/about-us/team/jose-varghese)"
          },
          "metadata": {}
        },
        {
          "output_type": "display_data",
          "data": {
            "text/markdown": "[https://yoast.com/help/dont-see-internal-link-counts](https://yoast.com/help/dont-see-internal-link-counts)"
          },
          "metadata": {}
        },
        {
          "output_type": "display_data",
          "data": {
            "text/markdown": "[https://yoast.com/help/how-does-the-image-caching-work](https://yoast.com/help/how-does-the-image-caching-work)"
          },
          "metadata": {}
        },
        {
          "output_type": "display_data",
          "data": {
            "text/markdown": "[https://yoast.com/tag/url](https://yoast.com/tag/url)"
          },
          "metadata": {}
        },
        {
          "output_type": "display_data",
          "data": {
            "text/markdown": "[https://yoast.com/shop](https://yoast.com/shop)"
          },
          "metadata": {}
        },
        {
          "output_type": "display_data",
          "data": {
            "text/markdown": "[https://yoast.com/about-us/team/iolanda-sequino](https://yoast.com/about-us/team/iolanda-sequino)"
          },
          "metadata": {}
        },
        {
          "output_type": "display_data",
          "data": {
            "text/markdown": "[https://yoast.com/community/care-fund/recipients/vicent-sanchis-jurado](https://yoast.com/community/care-fund/recipients/vicent-sanchis-jurado)"
          },
          "metadata": {}
        },
        {
          "output_type": "display_data",
          "data": {
            "text/markdown": "[https://yoast.com/help/how-can-i-update-my-premium-plugin](https://yoast.com/help/how-can-i-update-my-premium-plugin)"
          },
          "metadata": {}
        },
        {
          "output_type": "display_data",
          "data": {
            "text/markdown": "[https://yoast.com/community/care-fund/recipients/lidia-pellizzaro-2](https://yoast.com/community/care-fund/recipients/lidia-pellizzaro-2)"
          },
          "metadata": {}
        },
        {
          "output_type": "display_data",
          "data": {
            "text/markdown": "[https://yoast.com/features/structured-data-blocks](https://yoast.com/features/structured-data-blocks)"
          },
          "metadata": {}
        },
        {
          "output_type": "display_data",
          "data": {
            "text/markdown": "[https://yoast.com/developer-blog/breaking-responsive-design](https://yoast.com/developer-blog/breaking-responsive-design)"
          },
          "metadata": {}
        },
        {
          "output_type": "display_data",
          "data": {
            "text/markdown": "[https://yoast.com/about-us/team/laura-sacco](https://yoast.com/about-us/team/laura-sacco)"
          },
          "metadata": {}
        },
        {
          "output_type": "display_data",
          "data": {
            "text/markdown": "[https://yoast.com/community/care-fund/recipients/tor-bjorn-fjellner](https://yoast.com/community/care-fund/recipients/tor-bjorn-fjellner)"
          },
          "metadata": {}
        },
        {
          "output_type": "display_data",
          "data": {
            "text/markdown": "[https://yoast.com/webinar/seo-news-webinar-january-2021](https://yoast.com/webinar/seo-news-webinar-january-2021)"
          },
          "metadata": {}
        },
        {
          "output_type": "display_data",
          "data": {
            "text/markdown": "[https://yoast.com/wordpress-core/a-month-with-the-wordpress-core-team-may-june-2023](https://yoast.com/wordpress-core/a-month-with-the-wordpress-core-team-may-june-2023)"
          },
          "metadata": {}
        },
        {
          "output_type": "display_data",
          "data": {
            "text/markdown": "[https://yoast.com/developer-blog/yoast-test-helper-easy-testing](https://yoast.com/developer-blog/yoast-test-helper-easy-testing)"
          },
          "metadata": {}
        },
        {
          "output_type": "display_data",
          "data": {
            "text/markdown": "[https://yoast.com/help/should-search-engines-follow-links-on-this-page](https://yoast.com/help/should-search-engines-follow-links-on-this-page)"
          },
          "metadata": {}
        },
        {
          "output_type": "display_data",
          "data": {
            "text/markdown": "[https://yoast.com/about-us/team/jordi-prats-verdu](https://yoast.com/about-us/team/jordi-prats-verdu)"
          },
          "metadata": {}
        },
        {
          "output_type": "display_data",
          "data": {
            "text/markdown": "[https://yoast.com/help/no-content-on-admin-pages](https://yoast.com/help/no-content-on-admin-pages)"
          },
          "metadata": {}
        },
        {
          "output_type": "display_data",
          "data": {
            "text/markdown": "[https://yoast.com/features/paragraph-and-sentence-length-checks](https://yoast.com/features/paragraph-and-sentence-length-checks)"
          },
          "metadata": {}
        },
        {
          "output_type": "display_data",
          "data": {
            "text/markdown": "[https://yoast.com/innovations/privacy-by-design](https://yoast.com/innovations/privacy-by-design)"
          },
          "metadata": {}
        },
        {
          "output_type": "display_data",
          "data": {
            "text/markdown": "[https://yoast.com/developer-blog/the-power-of-defaults-grunt-tasks-configuration](https://yoast.com/developer-blog/the-power-of-defaults-grunt-tasks-configuration)"
          },
          "metadata": {}
        },
        {
          "output_type": "display_data",
          "data": {
            "text/markdown": "[https://yoast.com/podcast/kevin-indig](https://yoast.com/podcast/kevin-indig)"
          },
          "metadata": {}
        },
        {
          "output_type": "display_data",
          "data": {
            "text/markdown": "[https://yoast.com/help/why-doesnt-the-video-seo-plugin-index-all-my-videos](https://yoast.com/help/why-doesnt-the-video-seo-plugin-index-all-my-videos)"
          },
          "metadata": {}
        },
        {
          "output_type": "display_data",
          "data": {
            "text/markdown": "[https://yoast.com/help/how-to-activate-the-wp-recipe-maker-integration-in-yoast-seo](https://yoast.com/help/how-to-activate-the-wp-recipe-maker-integration-in-yoast-seo)"
          },
          "metadata": {}
        },
        {
          "output_type": "display_data",
          "data": {
            "text/markdown": "[https://yoast.com/webinar/seo-news-webinar-october-2021](https://yoast.com/webinar/seo-news-webinar-october-2021)"
          },
          "metadata": {}
        },
        {
          "output_type": "display_data",
          "data": {
            "text/markdown": "[https://yoast.com/webinar/seo-news-may-2023](https://yoast.com/webinar/seo-news-may-2023)"
          },
          "metadata": {}
        },
        {
          "output_type": "display_data",
          "data": {
            "text/markdown": "[https://yoast.com/what-is-keyphrase-density-and-why-is-it-important](https://yoast.com/what-is-keyphrase-density-and-why-is-it-important)"
          },
          "metadata": {}
        },
        {
          "output_type": "display_data",
          "data": {
            "text/markdown": "[https://yoast.com/about-us/team/suwash-kunwar](https://yoast.com/about-us/team/suwash-kunwar)"
          },
          "metadata": {}
        },
        {
          "output_type": "display_data",
          "data": {
            "text/markdown": "[https://yoast.com/developer-blog/user-testing-gutenberg](https://yoast.com/developer-blog/user-testing-gutenberg)"
          },
          "metadata": {}
        },
        {
          "output_type": "display_data",
          "data": {
            "text/markdown": "[https://yoast.com/help/how-to-edit-htaccess-through-yoast-seo](https://yoast.com/help/how-to-edit-htaccess-through-yoast-seo)"
          },
          "metadata": {}
        },
        {
          "output_type": "display_data",
          "data": {
            "text/markdown": "[https://yoast.com/tag/open-source](https://yoast.com/tag/open-source)"
          },
          "metadata": {}
        },
        {
          "output_type": "display_data",
          "data": {
            "text/markdown": "[https://yoast.com/help/false-positives-negatives-french-passive-analysis](https://yoast.com/help/false-positives-negatives-french-passive-analysis)"
          },
          "metadata": {}
        },
        {
          "output_type": "display_data",
          "data": {
            "text/markdown": "[https://yoast.com/tag/instagram](https://yoast.com/tag/instagram)"
          },
          "metadata": {}
        },
        {
          "output_type": "display_data",
          "data": {
            "text/markdown": "[https://yoast.com/community/care-fund/recipients/ebonie-butler](https://yoast.com/community/care-fund/recipients/ebonie-butler)"
          },
          "metadata": {}
        },
        {
          "output_type": "display_data",
          "data": {
            "text/markdown": "[https://yoast.com/community/care-fund/recipients/ihtisham-zahoor](https://yoast.com/community/care-fund/recipients/ihtisham-zahoor)"
          },
          "metadata": {}
        },
        {
          "output_type": "display_data",
          "data": {
            "text/markdown": "[https://yoast.com/use-simpler-words](https://yoast.com/use-simpler-words)"
          },
          "metadata": {}
        },
        {
          "output_type": "display_data",
          "data": {
            "text/markdown": "[https://yoast.com/video/ask-yoast-importance-of-using-excerpts](https://yoast.com/video/ask-yoast-importance-of-using-excerpts)"
          },
          "metadata": {}
        },
        {
          "output_type": "display_data",
          "data": {
            "text/markdown": "[https://yoast.com/help/white-screen-when-activating-or-updating-plugin](https://yoast.com/help/white-screen-when-activating-or-updating-plugin)"
          },
          "metadata": {}
        },
        {
          "output_type": "display_data",
          "data": {
            "text/markdown": "[https://yoast.com/features/structured-data-blocks/how-to](https://yoast.com/features/structured-data-blocks/how-to)"
          },
          "metadata": {}
        },
        {
          "output_type": "display_data",
          "data": {
            "text/markdown": "[https://yoast.com/help/inclusive-language/socioeconomic-status](https://yoast.com/help/inclusive-language/socioeconomic-status)"
          },
          "metadata": {}
        },
        {
          "output_type": "display_data",
          "data": {
            "text/markdown": "[https://yoast.com/podcast/cindy-krum](https://yoast.com/podcast/cindy-krum)"
          },
          "metadata": {}
        },
        {
          "output_type": "display_data",
          "data": {
            "text/markdown": "[https://yoast.com/webinar/weglot-international-seo](https://yoast.com/webinar/weglot-international-seo)"
          },
          "metadata": {}
        },
        {
          "output_type": "display_data",
          "data": {
            "text/markdown": "[https://yoast.com/webinar/seo-news-webinar-november-2021](https://yoast.com/webinar/seo-news-webinar-november-2021)"
          },
          "metadata": {}
        },
        {
          "output_type": "display_data",
          "data": {
            "text/markdown": "[https://yoast.com/community/care-fund/recipients/nyasha-green](https://yoast.com/community/care-fund/recipients/nyasha-green)"
          },
          "metadata": {}
        },
        {
          "output_type": "display_data",
          "data": {
            "text/markdown": "[https://yoast.com/features/orphaned-content-finder](https://yoast.com/features/orphaned-content-finder)"
          },
          "metadata": {}
        },
        {
          "output_type": "display_data",
          "data": {
            "text/markdown": "[https://yoast.com/wordpress-hosting/savvii](https://yoast.com/wordpress-hosting/savvii)"
          },
          "metadata": {}
        },
        {
          "output_type": "display_data",
          "data": {
            "text/markdown": "[https://yoast.com/video/ask-yoast-keyword-in-alt-text-box](https://yoast.com/video/ask-yoast-keyword-in-alt-text-box)"
          },
          "metadata": {}
        },
        {
          "output_type": "display_data",
          "data": {
            "text/markdown": "[https://yoast.com/help/submit-sitemap-search-engines](https://yoast.com/help/submit-sitemap-search-engines)"
          },
          "metadata": {}
        },
        {
          "output_type": "display_data",
          "data": {
            "text/markdown": "[https://yoast.com/developer-blog/working-with-feature-branches-and-feature-flags](https://yoast.com/developer-blog/working-with-feature-branches-and-feature-flags)"
          },
          "metadata": {}
        },
        {
          "output_type": "display_data",
          "data": {
            "text/markdown": "[https://yoast.com/jobs/marketing-internship](https://yoast.com/jobs/marketing-internship)"
          },
          "metadata": {}
        },
        {
          "output_type": "display_data",
          "data": {
            "text/markdown": "[https://yoast.com/about-us/team/adetola](https://yoast.com/about-us/team/adetola)"
          },
          "metadata": {}
        },
        {
          "output_type": "display_data",
          "data": {
            "text/markdown": "[https://yoast.com/help/how-to-enable-disable-the-keyword-analysis](https://yoast.com/help/how-to-enable-disable-the-keyword-analysis)"
          },
          "metadata": {}
        },
        {
          "output_type": "display_data",
          "data": {
            "text/markdown": "[https://yoast.com/help/xml-sitemaps-nginx](https://yoast.com/help/xml-sitemaps-nginx)"
          },
          "metadata": {}
        },
        {
          "output_type": "display_data",
          "data": {
            "text/markdown": "[https://yoast.com/about-us/team/toyin-ogunseinde](https://yoast.com/about-us/team/toyin-ogunseinde)"
          },
          "metadata": {}
        },
        {
          "output_type": "display_data",
          "data": {
            "text/markdown": "[https://yoast.com/about-us/team/cindy-paul](https://yoast.com/about-us/team/cindy-paul)"
          },
          "metadata": {}
        },
        {
          "output_type": "display_data",
          "data": {
            "text/markdown": "[https://yoast.com/developer-blog/road-to-yoast-seo-3-0](https://yoast.com/developer-blog/road-to-yoast-seo-3-0)"
          },
          "metadata": {}
        },
        {
          "output_type": "display_data",
          "data": {
            "text/markdown": "[https://yoast.com/help/how-to-get-pinterest-rich-pins](https://yoast.com/help/how-to-get-pinterest-rich-pins)"
          },
          "metadata": {}
        },
        {
          "output_type": "display_data",
          "data": {
            "text/markdown": "[https://yoast.com/about-us/team/mushrit-shabnam](https://yoast.com/about-us/team/mushrit-shabnam)"
          },
          "metadata": {}
        },
        {
          "output_type": "display_data",
          "data": {
            "text/markdown": "[https://yoast.com/kasteelfeesten](https://yoast.com/kasteelfeesten)"
          },
          "metadata": {}
        },
        {
          "output_type": "display_data",
          "data": {
            "text/markdown": "[https://yoast.com/help/google-search-console-video-schema-report](https://yoast.com/help/google-search-console-video-schema-report)"
          },
          "metadata": {}
        },
        {
          "output_type": "display_data",
          "data": {
            "text/markdown": "[https://yoast.com/video/ask-yoast-location-in-url](https://yoast.com/video/ask-yoast-location-in-url)"
          },
          "metadata": {}
        },
        {
          "output_type": "display_data",
          "data": {
            "text/markdown": "[https://yoast.com/community/care-fund/recipients/stephe-dumba](https://yoast.com/community/care-fund/recipients/stephe-dumba)"
          },
          "metadata": {}
        },
        {
          "output_type": "display_data",
          "data": {
            "text/markdown": "[https://yoast.com/community/care-fund/recipients/tosin-ogunfowote](https://yoast.com/community/care-fund/recipients/tosin-ogunfowote)"
          },
          "metadata": {}
        },
        {
          "output_type": "display_data",
          "data": {
            "text/markdown": "[https://yoast.com/help/support](https://yoast.com/help/support)"
          },
          "metadata": {}
        },
        {
          "output_type": "display_data",
          "data": {
            "text/markdown": "[https://yoast.com/help/loadclass-disabled-for-security-reasons](https://yoast.com/help/loadclass-disabled-for-security-reasons)"
          },
          "metadata": {}
        },
        {
          "output_type": "display_data",
          "data": {
            "text/markdown": "[https://yoast.com/community/care-fund/recipients/abha-thakor](https://yoast.com/community/care-fund/recipients/abha-thakor)"
          },
          "metadata": {}
        },
        {
          "output_type": "display_data",
          "data": {
            "text/markdown": "[https://yoast.com/help/warning-no-internal-links-appear-page-consider-adding-appropriate](https://yoast.com/help/warning-no-internal-links-appear-page-consider-adding-appropriate)"
          },
          "metadata": {}
        },
        {
          "output_type": "display_data",
          "data": {
            "text/markdown": "[https://yoast.com/features/meta-descriptions](https://yoast.com/features/meta-descriptions)"
          },
          "metadata": {}
        },
        {
          "output_type": "display_data",
          "data": {
            "text/markdown": "[https://yoast.com/features/crawl-settings](https://yoast.com/features/crawl-settings)"
          },
          "metadata": {}
        },
        {
          "output_type": "display_data",
          "data": {
            "text/markdown": "[https://yoast.com/yoastcon/code-of-conduct](https://yoast.com/yoastcon/code-of-conduct)"
          },
          "metadata": {}
        },
        {
          "output_type": "display_data",
          "data": {
            "text/markdown": "[https://yoast.com/webinar/webinar-how-to-start-with-seo-january-4-2024](https://yoast.com/webinar/webinar-how-to-start-with-seo-january-4-2024)"
          },
          "metadata": {}
        },
        {
          "output_type": "display_data",
          "data": {
            "text/markdown": "[https://yoast.com/help/faq-xml-sitemaps-wordpress-yoast-seo](https://yoast.com/help/faq-xml-sitemaps-wordpress-yoast-seo)"
          },
          "metadata": {}
        },
        {
          "output_type": "display_data",
          "data": {
            "text/markdown": "[https://yoast.com/help/standard-php-library-spl-extension-is-unavailable](https://yoast.com/help/standard-php-library-spl-extension-is-unavailable)"
          },
          "metadata": {}
        },
        {
          "output_type": "display_data",
          "data": {
            "text/markdown": "[https://yoast.com/church-seo](https://yoast.com/church-seo)"
          },
          "metadata": {}
        },
        {
          "output_type": "display_data",
          "data": {
            "text/markdown": "[https://yoast.com/podcast/nichola-stott](https://yoast.com/podcast/nichola-stott)"
          },
          "metadata": {}
        },
        {
          "output_type": "display_data",
          "data": {
            "text/markdown": "[https://yoast.com/wordpress-core/first-release-candidate-for-wordpress-5-8-is-here](https://yoast.com/wordpress-core/first-release-candidate-for-wordpress-5-8-is-here)"
          },
          "metadata": {}
        },
        {
          "output_type": "display_data",
          "data": {
            "text/markdown": "[https://yoast.com/about-us/core-values](https://yoast.com/about-us/core-values)"
          },
          "metadata": {}
        },
        {
          "output_type": "display_data",
          "data": {
            "text/markdown": "[https://yoast.com/community/care-fund/recipients/colm-troy](https://yoast.com/community/care-fund/recipients/colm-troy)"
          },
          "metadata": {}
        },
        {
          "output_type": "display_data",
          "data": {
            "text/markdown": "[https://yoast.com/online-museum/oldest-goodies](https://yoast.com/online-museum/oldest-goodies)"
          },
          "metadata": {}
        },
        {
          "output_type": "display_data",
          "data": {
            "text/markdown": "[https://yoast.com/features/readability-analysis](https://yoast.com/features/readability-analysis)"
          },
          "metadata": {}
        },
        {
          "output_type": "display_data",
          "data": {
            "text/markdown": "[https://yoast.com/jobs](https://yoast.com/jobs)"
          },
          "metadata": {}
        },
        {
          "output_type": "display_data",
          "data": {
            "text/markdown": "[https://yoast.com/help/yoast-seo-settings-content-types](https://yoast.com/help/yoast-seo-settings-content-types)"
          },
          "metadata": {}
        },
        {
          "output_type": "display_data",
          "data": {
            "text/markdown": "[https://yoast.com/refund-policy](https://yoast.com/refund-policy)"
          },
          "metadata": {}
        },
        {
          "output_type": "display_data",
          "data": {
            "text/markdown": "[https://yoast.com/academy/seo-copywriting-training](https://yoast.com/academy/seo-copywriting-training)"
          },
          "metadata": {}
        },
        {
          "output_type": "display_data",
          "data": {
            "text/markdown": "[https://yoast.com/features/canonical-url-tags](https://yoast.com/features/canonical-url-tags)"
          },
          "metadata": {}
        },
        {
          "output_type": "display_data",
          "data": {
            "text/markdown": "[https://yoast.com/help/how-to-add-a-barcode-in-shopify](https://yoast.com/help/how-to-add-a-barcode-in-shopify)"
          },
          "metadata": {}
        },
        {
          "output_type": "display_data",
          "data": {
            "text/markdown": "[https://yoast.com/wordpress-hosting/wpx](https://yoast.com/wordpress-hosting/wpx)"
          },
          "metadata": {}
        },
        {
          "output_type": "display_data",
          "data": {
            "text/markdown": "[https://yoast.com/help/granting-a-yoast-member-access-to-google-search-console](https://yoast.com/help/granting-a-yoast-member-access-to-google-search-console)"
          },
          "metadata": {}
        },
        {
          "output_type": "display_data",
          "data": {
            "text/markdown": "[https://yoast.com/help/why-does-my-podcast-or-rss-feed-stop-working-when-video-seo-is-enabled](https://yoast.com/help/why-does-my-podcast-or-rss-feed-stop-working-when-video-seo-is-enabled)"
          },
          "metadata": {}
        },
        {
          "output_type": "display_data",
          "data": {
            "text/markdown": "[https://yoast.com/wordpress-core/editor-feature-freeze-and-gaad](https://yoast.com/wordpress-core/editor-feature-freeze-and-gaad)"
          },
          "metadata": {}
        },
        {
          "output_type": "display_data",
          "data": {
            "text/markdown": "[https://yoast.com/help/enable-inclusive-language-yoast-seo](https://yoast.com/help/enable-inclusive-language-yoast-seo)"
          },
          "metadata": {}
        },
        {
          "output_type": "display_data",
          "data": {
            "text/markdown": "[https://yoast.com/features/xml-sitemaps](https://yoast.com/features/xml-sitemaps)"
          },
          "metadata": {}
        },
        {
          "output_type": "display_data",
          "data": {
            "text/markdown": "[https://yoast.com/about-us/pride-at-yoast](https://yoast.com/about-us/pride-at-yoast)"
          },
          "metadata": {}
        },
        {
          "output_type": "display_data",
          "data": {
            "text/markdown": "[https://yoast.com/wordpress-core/a-month-with-the-wordpress-core-team-january-2023](https://yoast.com/wordpress-core/a-month-with-the-wordpress-core-team-january-2023)"
          },
          "metadata": {}
        },
        {
          "output_type": "display_data",
          "data": {
            "text/markdown": "[https://yoast.com/features/word-complexity](https://yoast.com/features/word-complexity)"
          },
          "metadata": {}
        },
        {
          "output_type": "display_data",
          "data": {
            "text/markdown": "[https://yoast.com/help/how-to-update-your-php-version](https://yoast.com/help/how-to-update-your-php-version)"
          },
          "metadata": {}
        },
        {
          "output_type": "display_data",
          "data": {
            "text/markdown": "[https://yoast.com/community/care-fund/recipients/birgit-olzem](https://yoast.com/community/care-fund/recipients/birgit-olzem)"
          },
          "metadata": {}
        },
        {
          "output_type": "display_data",
          "data": {
            "text/markdown": "[https://yoast.com/help/yoast-seo-settings-site-features](https://yoast.com/help/yoast-seo-settings-site-features)"
          },
          "metadata": {}
        },
        {
          "output_type": "display_data",
          "data": {
            "text/markdown": "[https://yoast.com/about-us/team/ramon-van-raaij](https://yoast.com/about-us/team/ramon-van-raaij)"
          },
          "metadata": {}
        },
        {
          "output_type": "display_data",
          "data": {
            "text/markdown": "[https://yoast.com/video/ask-yoast-importance-of-keyword-strategy](https://yoast.com/video/ask-yoast-importance-of-keyword-strategy)"
          },
          "metadata": {}
        },
        {
          "output_type": "display_data",
          "data": {
            "text/markdown": "[https://yoast.com/wordpress-hosting](https://yoast.com/wordpress-hosting)"
          },
          "metadata": {}
        },
        {
          "output_type": "display_data",
          "data": {
            "text/markdown": "[https://yoast.com/help/enhanced-slack-sharing](https://yoast.com/help/enhanced-slack-sharing)"
          },
          "metadata": {}
        },
        {
          "output_type": "display_data",
          "data": {
            "text/markdown": "[https://yoast.com/features/outbound-links](https://yoast.com/features/outbound-links)"
          },
          "metadata": {}
        },
        {
          "output_type": "display_data",
          "data": {
            "text/markdown": "[https://yoast.com/help/troubleshooting-query-monitor-plugin](https://yoast.com/help/troubleshooting-query-monitor-plugin)"
          },
          "metadata": {}
        },
        {
          "output_type": "display_data",
          "data": {
            "text/markdown": "[https://yoast.com/tag/seo-and-wordpress-news](https://yoast.com/tag/seo-and-wordpress-news)"
          },
          "metadata": {}
        },
        {
          "output_type": "display_data",
          "data": {
            "text/markdown": "[https://yoast.com/wordpress-core/a-week-with-us-webfonts-twenty-twenty-two-and-wordpress-5-9](https://yoast.com/wordpress-core/a-week-with-us-webfonts-twenty-twenty-two-and-wordpress-5-9)"
          },
          "metadata": {}
        },
        {
          "output_type": "display_data",
          "data": {
            "text/markdown": "[https://yoast.com/about-us/team/jerlyn-parcon](https://yoast.com/about-us/team/jerlyn-parcon)"
          },
          "metadata": {}
        },
        {
          "output_type": "display_data",
          "data": {
            "text/markdown": "[https://yoast.com/help/yoast-seo-settings-categories-tags](https://yoast.com/help/yoast-seo-settings-categories-tags)"
          },
          "metadata": {}
        },
        {
          "output_type": "display_data",
          "data": {
            "text/markdown": "[https://yoast.com/about-us/team/petar-ratkovic](https://yoast.com/about-us/team/petar-ratkovic)"
          },
          "metadata": {}
        },
        {
          "output_type": "display_data",
          "data": {
            "text/markdown": "[https://yoast.com/help/inclusive-language/other](https://yoast.com/help/inclusive-language/other)"
          },
          "metadata": {}
        },
        {
          "output_type": "display_data",
          "data": {
            "text/markdown": "[https://yoast.com/community/care-fund/recipients/mukalele-rogers](https://yoast.com/community/care-fund/recipients/mukalele-rogers)"
          },
          "metadata": {}
        },
        {
          "output_type": "display_data",
          "data": {
            "text/markdown": "[https://yoast.com/community/care-fund/recipients](https://yoast.com/community/care-fund/recipients)"
          },
          "metadata": {}
        },
        {
          "output_type": "display_data",
          "data": {
            "text/markdown": "[https://yoast.com/developer-blog/design-terminology-adopting-the-concepts-that-fit-your-needs](https://yoast.com/developer-blog/design-terminology-adopting-the-concepts-that-fit-your-needs)"
          },
          "metadata": {}
        },
        {
          "output_type": "display_data",
          "data": {
            "text/markdown": "[https://yoast.com/features/content-previews](https://yoast.com/features/content-previews)"
          },
          "metadata": {}
        },
        {
          "output_type": "display_data",
          "data": {
            "text/markdown": "[https://yoast.com/about-us/team/sabrina-joest](https://yoast.com/about-us/team/sabrina-joest)"
          },
          "metadata": {}
        },
        {
          "output_type": "display_data",
          "data": {
            "text/markdown": "[https://yoast.com/developer-blog/get-rid-of-your-tables-or-fix-them](https://yoast.com/developer-blog/get-rid-of-your-tables-or-fix-them)"
          },
          "metadata": {}
        },
        {
          "output_type": "display_data",
          "data": {
            "text/markdown": "[https://yoast.com/podcast/kristopher-jones](https://yoast.com/podcast/kristopher-jones)"
          },
          "metadata": {}
        },
        {
          "output_type": "display_data",
          "data": {
            "text/markdown": "[https://yoast.com/tag/performance](https://yoast.com/tag/performance)"
          },
          "metadata": {}
        },
        {
          "output_type": "display_data",
          "data": {
            "text/markdown": "[https://yoast.com/video/yoast-vlog-hummingbird-explained](https://yoast.com/video/yoast-vlog-hummingbird-explained)"
          },
          "metadata": {}
        },
        {
          "output_type": "display_data",
          "data": {
            "text/markdown": "[https://yoast.com/about-us/team/kimberley-cole](https://yoast.com/about-us/team/kimberley-cole)"
          },
          "metadata": {}
        },
        {
          "output_type": "display_data",
          "data": {
            "text/markdown": "[https://yoast.com/help/social-profiles-missing-from-googles-knowledge-graph](https://yoast.com/help/social-profiles-missing-from-googles-knowledge-graph)"
          },
          "metadata": {}
        },
        {
          "output_type": "display_data",
          "data": {
            "text/markdown": "[https://yoast.com/help/how-to-modify-default-snippet-templates-in-yoast-seo](https://yoast.com/help/how-to-modify-default-snippet-templates-in-yoast-seo)"
          },
          "metadata": {}
        },
        {
          "output_type": "display_data",
          "data": {
            "text/markdown": "[https://yoast.com/community/care-fund/recipients/valentina-azzi](https://yoast.com/community/care-fund/recipients/valentina-azzi)"
          },
          "metadata": {}
        },
        {
          "output_type": "display_data",
          "data": {
            "text/markdown": "[https://yoast.com/community/care-fund/recipients/monika-rao](https://yoast.com/community/care-fund/recipients/monika-rao)"
          },
          "metadata": {}
        },
        {
          "output_type": "display_data",
          "data": {
            "text/markdown": "[https://yoast.com/tag/image-seo](https://yoast.com/tag/image-seo)"
          },
          "metadata": {}
        },
        {
          "output_type": "display_data",
          "data": {
            "text/markdown": "[https://yoast.com/help/video-seo-faq](https://yoast.com/help/video-seo-faq)"
          },
          "metadata": {}
        },
        {
          "output_type": "display_data",
          "data": {
            "text/markdown": "[https://yoast.com/developer-blog/yoast-seo-wp-cli-index-command](https://yoast.com/developer-blog/yoast-seo-wp-cli-index-command)"
          },
          "metadata": {}
        },
        {
          "output_type": "display_data",
          "data": {
            "text/markdown": "[https://yoast.com/webinar/seo-news-june-2022](https://yoast.com/webinar/seo-news-june-2022)"
          },
          "metadata": {}
        },
        {
          "output_type": "display_data",
          "data": {
            "text/markdown": "[https://yoast.com/developer-blog/why-we-dont-set-the-og-image-alt-tag](https://yoast.com/developer-blog/why-we-dont-set-the-og-image-alt-tag)"
          },
          "metadata": {}
        },
        {
          "output_type": "display_data",
          "data": {
            "text/markdown": "[https://yoast.com/help/how-to-check-for-plugin-conflicts](https://yoast.com/help/how-to-check-for-plugin-conflicts)"
          },
          "metadata": {}
        },
        {
          "output_type": "display_data",
          "data": {
            "text/markdown": "[https://yoast.com/help/how-to-disable-or-enable-the-rest-api-endpoint-in-yoast-seo](https://yoast.com/help/how-to-disable-or-enable-the-rest-api-endpoint-in-yoast-seo)"
          },
          "metadata": {}
        },
        {
          "output_type": "display_data",
          "data": {
            "text/markdown": "[https://yoast.com/innovations/structured-data](https://yoast.com/innovations/structured-data)"
          },
          "metadata": {}
        },
        {
          "output_type": "display_data",
          "data": {
            "text/markdown": "[https://yoast.com/help/inclusive-language/gender](https://yoast.com/help/inclusive-language/gender)"
          },
          "metadata": {}
        },
        {
          "output_type": "display_data",
          "data": {
            "text/markdown": "[https://yoast.com/10-years-yoast/our-community](https://yoast.com/10-years-yoast/our-community)"
          },
          "metadata": {}
        },
        {
          "output_type": "display_data",
          "data": {
            "text/markdown": "[https://yoast.com/video/ask-yoast-how-to-use-video-testimonials](https://yoast.com/video/ask-yoast-how-to-use-video-testimonials)"
          },
          "metadata": {}
        },
        {
          "output_type": "display_data",
          "data": {
            "text/markdown": "[https://yoast.com/developer-blog/using-git-bisect-to-find-faulty-commit](https://yoast.com/developer-blog/using-git-bisect-to-find-faulty-commit)"
          },
          "metadata": {}
        },
        {
          "output_type": "display_data",
          "data": {
            "text/markdown": "[https://yoast.com/help/im-not-seeing-a-meta-description-in-my-head-section](https://yoast.com/help/im-not-seeing-a-meta-description-in-my-head-section)"
          },
          "metadata": {}
        },
        {
          "output_type": "display_data",
          "data": {
            "text/markdown": "[https://yoast.com/wordpress-core/wordcamp-europe](https://yoast.com/wordpress-core/wordcamp-europe)"
          },
          "metadata": {}
        },
        {
          "output_type": "display_data",
          "data": {
            "text/markdown": "[https://yoast.com/help/how-to-connect-your-website-to-yandex-webmaster-tools](https://yoast.com/help/how-to-connect-your-website-to-yandex-webmaster-tools)"
          },
          "metadata": {}
        },
        {
          "output_type": "display_data",
          "data": {
            "text/markdown": "[https://yoast.com/help/setting-up-twitter-cards-in-wordpress-seo](https://yoast.com/help/setting-up-twitter-cards-in-wordpress-seo)"
          },
          "metadata": {}
        },
        {
          "output_type": "display_data",
          "data": {
            "text/markdown": "[https://yoast.com/help/can-i-contribute-to-the-translation-of-the-plugin](https://yoast.com/help/can-i-contribute-to-the-translation-of-the-plugin)"
          },
          "metadata": {}
        },
        {
          "output_type": "display_data",
          "data": {
            "text/markdown": "[https://yoast.com/help/passive-voice](https://yoast.com/help/passive-voice)"
          },
          "metadata": {}
        },
        {
          "output_type": "display_data",
          "data": {
            "text/markdown": "[https://yoast.com/community/care-fund/recipients/joe-dolson](https://yoast.com/community/care-fund/recipients/joe-dolson)"
          },
          "metadata": {}
        },
        {
          "output_type": "display_data",
          "data": {
            "text/markdown": "[https://yoast.com/podcast/rand-fishkin](https://yoast.com/podcast/rand-fishkin)"
          },
          "metadata": {}
        },
        {
          "output_type": "display_data",
          "data": {
            "text/markdown": "[https://yoast.com/developer-blog/5-easy-things-improve-accessibility](https://yoast.com/developer-blog/5-easy-things-improve-accessibility)"
          },
          "metadata": {}
        },
        {
          "output_type": "display_data",
          "data": {
            "text/markdown": "[https://yoast.com/jobs/retention-marketing-manager](https://yoast.com/jobs/retention-marketing-manager)"
          },
          "metadata": {}
        },
        {
          "output_type": "display_data",
          "data": {
            "text/markdown": "[https://yoast.com/about-us/team/kai-van-grunsven](https://yoast.com/about-us/team/kai-van-grunsven)"
          },
          "metadata": {}
        },
        {
          "output_type": "display_data",
          "data": {
            "text/markdown": "[https://yoast.com/features/file-editor-robots-txt](https://yoast.com/features/file-editor-robots-txt)"
          },
          "metadata": {}
        },
        {
          "output_type": "display_data",
          "data": {
            "text/markdown": "[https://yoast.com/help/website-name-alternate-website-name-and-alternate-organization-name](https://yoast.com/help/website-name-alternate-website-name-and-alternate-organization-name)"
          },
          "metadata": {}
        },
        {
          "output_type": "display_data",
          "data": {
            "text/markdown": "[https://yoast.com/developer-blog/accessibility-slow-down-development-process](https://yoast.com/developer-blog/accessibility-slow-down-development-process)"
          },
          "metadata": {}
        },
        {
          "output_type": "display_data",
          "data": {
            "text/markdown": "[https://yoast.com/webinar/webinar-how-to-start-with-seo-october-3rd-2023](https://yoast.com/webinar/webinar-how-to-start-with-seo-october-3rd-2023)"
          },
          "metadata": {}
        },
        {
          "output_type": "display_data",
          "data": {
            "text/markdown": "[https://yoast.com/help/false-positives-and-negatives-in-the-polish-passive-analysis](https://yoast.com/help/false-positives-and-negatives-in-the-polish-passive-analysis)"
          },
          "metadata": {}
        },
        {
          "output_type": "display_data",
          "data": {
            "text/markdown": "[https://yoast.com/help/how-to-get-your-product-reviews-to-show-in-the-search-results](https://yoast.com/help/how-to-get-your-product-reviews-to-show-in-the-search-results)"
          },
          "metadata": {}
        },
        {
          "output_type": "display_data",
          "data": {
            "text/markdown": "[https://yoast.com/video/ask-yoast-lazy-load](https://yoast.com/video/ask-yoast-lazy-load)"
          },
          "metadata": {}
        },
        {
          "output_type": "display_data",
          "data": {
            "text/markdown": "[https://yoast.com/about-us/team/pie-tandog](https://yoast.com/about-us/team/pie-tandog)"
          },
          "metadata": {}
        },
        {
          "output_type": "display_data",
          "data": {
            "text/markdown": "[https://yoast.com/help/how-to-push-updates-from-a-staging-site-to-a-live-site](https://yoast.com/help/how-to-push-updates-from-a-staging-site-to-a-live-site)"
          },
          "metadata": {}
        },
        {
          "output_type": "display_data",
          "data": {
            "text/markdown": "[https://yoast.com/developer-blog/language-cultural-background-inclusive-international-community](https://yoast.com/developer-blog/language-cultural-background-inclusive-international-community)"
          },
          "metadata": {}
        },
        {
          "output_type": "display_data",
          "data": {
            "text/markdown": "[https://yoast.com/help/how-to-change-the-xml-video-sitemap-url](https://yoast.com/help/how-to-change-the-xml-video-sitemap-url)"
          },
          "metadata": {}
        },
        {
          "output_type": "display_data",
          "data": {
            "text/markdown": "[https://yoast.com/wordpress-core/a-month-with-the-wordpress-core-team-december-2022](https://yoast.com/wordpress-core/a-month-with-the-wordpress-core-team-december-2022)"
          },
          "metadata": {}
        },
        {
          "output_type": "display_data",
          "data": {
            "text/markdown": "[https://yoast.com/help/facebook-publisher-tags](https://yoast.com/help/facebook-publisher-tags)"
          },
          "metadata": {}
        },
        {
          "output_type": "display_data",
          "data": {
            "text/markdown": "[https://yoast.com/wordpress-core/recap-of-aprils-contributor-day](https://yoast.com/wordpress-core/recap-of-aprils-contributor-day)"
          },
          "metadata": {}
        },
        {
          "output_type": "display_data",
          "data": {
            "text/markdown": "[https://yoast.com/wordpress-core/wordpress-5-8-beta-1-and-more](https://yoast.com/wordpress-core/wordpress-5-8-beta-1-and-more)"
          },
          "metadata": {}
        },
        {
          "output_type": "display_data",
          "data": {
            "text/markdown": "[https://yoast.com/about-us/team/hanna-worku](https://yoast.com/about-us/team/hanna-worku)"
          },
          "metadata": {}
        },
        {
          "output_type": "display_data",
          "data": {
            "text/markdown": "[https://yoast.com/wordpress/plugins/yoast-video-premium-bundle](https://yoast.com/wordpress/plugins/yoast-video-premium-bundle)"
          },
          "metadata": {}
        },
        {
          "output_type": "display_data",
          "data": {
            "text/markdown": "[https://yoast.com/help/does-plugin-work-with-wpml](https://yoast.com/help/does-plugin-work-with-wpml)"
          },
          "metadata": {}
        },
        {
          "output_type": "display_data",
          "data": {
            "text/markdown": "[https://yoast.com/wordpress-hosting/presslabs](https://yoast.com/wordpress-hosting/presslabs)"
          },
          "metadata": {}
        },
        {
          "output_type": "display_data",
          "data": {
            "text/markdown": "[https://yoast.com/help/theme-modifications-yoast-seo-shopify](https://yoast.com/help/theme-modifications-yoast-seo-shopify)"
          },
          "metadata": {}
        },
        {
          "output_type": "display_data",
          "data": {
            "text/markdown": "[https://yoast.com/help/the-redirect-manager-in-yoast-seo-premium](https://yoast.com/help/the-redirect-manager-in-yoast-seo-premium)"
          },
          "metadata": {}
        },
        {
          "output_type": "display_data",
          "data": {
            "text/markdown": "[https://yoast.com/tag/twitter](https://yoast.com/tag/twitter)"
          },
          "metadata": {}
        },
        {
          "output_type": "display_data",
          "data": {
            "text/markdown": "[https://yoast.com/tag/multilingual-seo](https://yoast.com/tag/multilingual-seo)"
          },
          "metadata": {}
        },
        {
          "output_type": "display_data",
          "data": {
            "text/markdown": "[https://yoast.com/help/how-to-change-your-wordpress-homepage-type](https://yoast.com/help/how-to-change-your-wordpress-homepage-type)"
          },
          "metadata": {}
        },
        {
          "output_type": "display_data",
          "data": {
            "text/markdown": "[https://yoast.com/video/ask-yoast-amp-for-small-business-owners](https://yoast.com/video/ask-yoast-amp-for-small-business-owners)"
          },
          "metadata": {}
        },
        {
          "output_type": "display_data",
          "data": {
            "text/markdown": "[https://yoast.com/help/videos-not-showing-up](https://yoast.com/help/videos-not-showing-up)"
          },
          "metadata": {}
        },
        {
          "output_type": "display_data",
          "data": {
            "text/markdown": "[https://yoast.com/shopify/apps/yoast-seo](https://yoast.com/shopify/apps/yoast-seo)"
          },
          "metadata": {}
        },
        {
          "output_type": "display_data",
          "data": {
            "text/markdown": "[https://yoast.com/podcast](https://yoast.com/podcast)"
          },
          "metadata": {}
        },
        {
          "output_type": "display_data",
          "data": {
            "text/markdown": "[https://yoast.com/help/how-do-i-change-the-woocommerce-shop-page-title](https://yoast.com/help/how-do-i-change-the-woocommerce-shop-page-title)"
          },
          "metadata": {}
        },
        {
          "output_type": "display_data",
          "data": {
            "text/markdown": "[https://yoast.com/help/yoast-seo-ends-zapier-integration-what-should-you-do](https://yoast.com/help/yoast-seo-ends-zapier-integration-what-should-you-do)"
          },
          "metadata": {}
        },
        {
          "output_type": "display_data",
          "data": {
            "text/markdown": "[https://yoast.com/sollicitatiecode](https://yoast.com/sollicitatiecode)"
          },
          "metadata": {}
        },
        {
          "output_type": "display_data",
          "data": {
            "text/markdown": "[https://yoast.com/wordpress-core/progress-on-the-webfonts-api](https://yoast.com/wordpress-core/progress-on-the-webfonts-api)"
          },
          "metadata": {}
        },
        {
          "output_type": "display_data",
          "data": {
            "text/markdown": "[https://yoast.com/help/add-your-yoast-seo-academy-course-certificate-to-linkedin](https://yoast.com/help/add-your-yoast-seo-academy-course-certificate-to-linkedin)"
          },
          "metadata": {}
        },
        {
          "output_type": "display_data",
          "data": {
            "text/markdown": "[https://yoast.com/help/crawl-error-submitted-url-marked-noindex](https://yoast.com/help/crawl-error-submitted-url-marked-noindex)"
          },
          "metadata": {}
        },
        {
          "output_type": "display_data",
          "data": {
            "text/markdown": "[https://yoast.com/online-museum/accessories](https://yoast.com/online-museum/accessories)"
          },
          "metadata": {}
        },
        {
          "output_type": "display_data",
          "data": {
            "text/markdown": "[https://yoast.com/about-us/community/creating-an-impact](https://yoast.com/about-us/community/creating-an-impact)"
          },
          "metadata": {}
        },
        {
          "output_type": "display_data",
          "data": {
            "text/markdown": "[https://yoast.com/yoast-seo-shopify-privacy-policy](https://yoast.com/yoast-seo-shopify-privacy-policy)"
          },
          "metadata": {}
        },
        {
          "output_type": "display_data",
          "data": {
            "text/markdown": "[https://yoast.com/help/google-news-missing-recent-articles](https://yoast.com/help/google-news-missing-recent-articles)"
          },
          "metadata": {}
        },
        {
          "output_type": "display_data",
          "data": {
            "text/markdown": "[https://yoast.com/tag/opengraph](https://yoast.com/tag/opengraph)"
          },
          "metadata": {}
        },
        {
          "output_type": "display_data",
          "data": {
            "text/markdown": "[https://yoast.com/innovations/indexables](https://yoast.com/innovations/indexables)"
          },
          "metadata": {}
        },
        {
          "output_type": "display_data",
          "data": {
            "text/markdown": "[https://yoast.com/webinar/seo-news-jan-2022](https://yoast.com/webinar/seo-news-jan-2022)"
          },
          "metadata": {}
        },
        {
          "output_type": "display_data",
          "data": {
            "text/markdown": "[https://yoast.com/help/how-to-hide-the-seo-dashboard-widget](https://yoast.com/help/how-to-hide-the-seo-dashboard-widget)"
          },
          "metadata": {}
        },
        {
          "output_type": "display_data",
          "data": {
            "text/markdown": "[https://yoast.com/help/yoast-seo-tools-file-editor-video-explanation](https://yoast.com/help/yoast-seo-tools-file-editor-video-explanation)"
          },
          "metadata": {}
        },
        {
          "output_type": "display_data",
          "data": {
            "text/markdown": "[https://yoast.com/wordpress-hosting/hostiso](https://yoast.com/wordpress-hosting/hostiso)"
          },
          "metadata": {}
        },
        {
          "output_type": "display_data",
          "data": {
            "text/markdown": "[https://yoast.com/about-us/team/yoram-van-de-velde](https://yoast.com/about-us/team/yoram-van-de-velde)"
          },
          "metadata": {}
        },
        {
          "output_type": "display_data",
          "data": {
            "text/markdown": "[https://yoast.com/webinar/stand-out-in-google-search-results](https://yoast.com/webinar/stand-out-in-google-search-results)"
          },
          "metadata": {}
        },
        {
          "output_type": "display_data",
          "data": {
            "text/markdown": "[https://yoast.com/developer-blog/website-accessibility-aria-current](https://yoast.com/developer-blog/website-accessibility-aria-current)"
          },
          "metadata": {}
        },
        {
          "output_type": "display_data",
          "data": {
            "text/markdown": "[https://yoast.com/video/ask-yoast-comment-systems-and-seo](https://yoast.com/video/ask-yoast-comment-systems-and-seo)"
          },
          "metadata": {}
        },
        {
          "output_type": "display_data",
          "data": {
            "text/markdown": "[https://yoast.com/developer-blog/running-windows-10-yoast-environment](https://yoast.com/developer-blog/running-windows-10-yoast-environment)"
          },
          "metadata": {}
        },
        {
          "output_type": "display_data",
          "data": {
            "text/markdown": "[https://yoast.com/help/the-recommended-order-of-yoast-seo-academy-courses](https://yoast.com/help/the-recommended-order-of-yoast-seo-academy-courses)"
          },
          "metadata": {}
        },
        {
          "output_type": "display_data",
          "data": {
            "text/markdown": "[https://yoast.com/community/care-fund/recipients/mary-baum](https://yoast.com/community/care-fund/recipients/mary-baum)"
          },
          "metadata": {}
        },
        {
          "output_type": "display_data",
          "data": {
            "text/markdown": "[https://yoast.com/yoast-partners/yoast-agency-program/codeable](https://yoast.com/yoast-partners/yoast-agency-program/codeable)"
          },
          "metadata": {}
        },
        {
          "output_type": "display_data",
          "data": {
            "text/markdown": "[https://yoast.com/yoast-seo-webinar-newsletter-signup](https://yoast.com/yoast-seo-webinar-newsletter-signup)"
          },
          "metadata": {}
        },
        {
          "output_type": "display_data",
          "data": {
            "text/markdown": "[https://yoast.com/help/common-installation-update-errors](https://yoast.com/help/common-installation-update-errors)"
          },
          "metadata": {}
        },
        {
          "output_type": "display_data",
          "data": {
            "text/markdown": "[https://yoast.com/about-us/team/florie-van-hummel](https://yoast.com/about-us/team/florie-van-hummel)"
          },
          "metadata": {}
        },
        {
          "output_type": "display_data",
          "data": {
            "text/markdown": "[https://yoast.com/help/safari-automatically-unzips-archive](https://yoast.com/help/safari-automatically-unzips-archive)"
          },
          "metadata": {}
        },
        {
          "output_type": "display_data",
          "data": {
            "text/markdown": "[https://yoast.com/wordpress-core/a-month-with-the-wordpress-core-team-february-2023](https://yoast.com/wordpress-core/a-month-with-the-wordpress-core-team-february-2023)"
          },
          "metadata": {}
        },
        {
          "output_type": "display_data",
          "data": {
            "text/markdown": "[https://yoast.com/developer-blog/continuous-delivery-at-yoast](https://yoast.com/developer-blog/continuous-delivery-at-yoast)"
          },
          "metadata": {}
        },
        {
          "output_type": "display_data",
          "data": {
            "text/markdown": "[https://yoast.com/developer-blog/custom-post-type-snippets](https://yoast.com/developer-blog/custom-post-type-snippets)"
          },
          "metadata": {}
        },
        {
          "output_type": "display_data",
          "data": {
            "text/markdown": "[https://yoast.com/wordpress-core/summertime-is-quiet-or-is-it](https://yoast.com/wordpress-core/summertime-is-quiet-or-is-it)"
          },
          "metadata": {}
        },
        {
          "output_type": "display_data",
          "data": {
            "text/markdown": "[https://yoast.com/video/ask-yoast-google-ads-organic-traffic](https://yoast.com/video/ask-yoast-google-ads-organic-traffic)"
          },
          "metadata": {}
        },
        {
          "output_type": "display_data",
          "data": {
            "text/markdown": "[https://yoast.com/developer-blog/contributing-wordpress-accessibility](https://yoast.com/developer-blog/contributing-wordpress-accessibility)"
          },
          "metadata": {}
        },
        {
          "output_type": "display_data",
          "data": {
            "text/markdown": "[https://yoast.com/help/inclusive-language/disability-and-neurodiversity](https://yoast.com/help/inclusive-language/disability-and-neurodiversity)"
          },
          "metadata": {}
        },
        {
          "output_type": "display_data",
          "data": {
            "text/markdown": "[https://yoast.com/about-us/team/aida-marfuaty](https://yoast.com/about-us/team/aida-marfuaty)"
          },
          "metadata": {}
        },
        {
          "output_type": "display_data",
          "data": {
            "text/markdown": "[https://yoast.com/wordpress-hosting/rosehosting](https://yoast.com/wordpress-hosting/rosehosting)"
          },
          "metadata": {}
        },
        {
          "output_type": "display_data",
          "data": {
            "text/markdown": "[https://yoast.com/help/bulk-edit-yoast-seo-shopify](https://yoast.com/help/bulk-edit-yoast-seo-shopify)"
          },
          "metadata": {}
        },
        {
          "output_type": "display_data",
          "data": {
            "text/markdown": "[https://yoast.com/about-us/team/laura-van-rossum](https://yoast.com/about-us/team/laura-van-rossum)"
          },
          "metadata": {}
        },
        {
          "output_type": "display_data",
          "data": {
            "text/markdown": "[https://yoast.com/about-us/team/leonidas-milosis](https://yoast.com/about-us/team/leonidas-milosis)"
          },
          "metadata": {}
        },
        {
          "output_type": "display_data",
          "data": {
            "text/markdown": "[https://yoast.com/academy/yoast-seo-wordpress-training](https://yoast.com/academy/yoast-seo-wordpress-training)"
          },
          "metadata": {}
        },
        {
          "output_type": "display_data",
          "data": {
            "text/markdown": "[https://yoast.com/help/the-text-alignment-check-in-yoast-seo-premium](https://yoast.com/help/the-text-alignment-check-in-yoast-seo-premium)"
          },
          "metadata": {}
        },
        {
          "output_type": "display_data",
          "data": {
            "text/markdown": "[https://yoast.com/help/does-my-licensed-plugin-expire](https://yoast.com/help/does-my-licensed-plugin-expire)"
          },
          "metadata": {}
        },
        {
          "output_type": "display_data",
          "data": {
            "text/markdown": "[https://yoast.com/developer-blog/connecting-to-the-wordpress-api](https://yoast.com/developer-blog/connecting-to-the-wordpress-api)"
          },
          "metadata": {}
        },
        {
          "output_type": "display_data",
          "data": {
            "text/markdown": "[https://yoast.com/about-us/team/carolina-nymark](https://yoast.com/about-us/team/carolina-nymark)"
          },
          "metadata": {}
        },
        {
          "output_type": "display_data",
          "data": {
            "text/markdown": "[https://yoast.com/about-us/team/samah-nasr](https://yoast.com/about-us/team/samah-nasr)"
          },
          "metadata": {}
        },
        {
          "output_type": "display_data",
          "data": {
            "text/markdown": "[https://yoast.com/developer-blog/the-feature-that-almost-made-it](https://yoast.com/developer-blog/the-feature-that-almost-made-it)"
          },
          "metadata": {}
        },
        {
          "output_type": "display_data",
          "data": {
            "text/markdown": "[https://yoast.com/help/how-to-sign-up-for-the-yoast-translate-slack](https://yoast.com/help/how-to-sign-up-for-the-yoast-translate-slack)"
          },
          "metadata": {}
        },
        {
          "output_type": "display_data",
          "data": {
            "text/markdown": "[https://yoast.com/webinar/seo-news-mar-2022](https://yoast.com/webinar/seo-news-mar-2022)"
          },
          "metadata": {}
        },
        {
          "output_type": "display_data",
          "data": {
            "text/markdown": "[https://yoast.com/help/linkedin-sharing-not-working](https://yoast.com/help/linkedin-sharing-not-working)"
          },
          "metadata": {}
        },
        {
          "output_type": "display_data",
          "data": {
            "text/markdown": "[https://yoast.com/help/schema-options-in-news-seo](https://yoast.com/help/schema-options-in-news-seo)"
          },
          "metadata": {}
        },
        {
          "output_type": "display_data",
          "data": {
            "text/markdown": "[https://yoast.com/yoast-seo-january-23-2024](https://yoast.com/yoast-seo-january-23-2024)"
          },
          "metadata": {}
        },
        {
          "output_type": "display_data",
          "data": {
            "text/markdown": "[https://yoast.com/about-us/team/bob-rademaker](https://yoast.com/about-us/team/bob-rademaker)"
          },
          "metadata": {}
        },
        {
          "output_type": "display_data",
          "data": {
            "text/markdown": "[https://yoast.com/terms-of-service](https://yoast.com/terms-of-service)"
          },
          "metadata": {}
        },
        {
          "output_type": "display_data",
          "data": {
            "text/markdown": "[https://yoast.com/about-us/team/marc-ariens](https://yoast.com/about-us/team/marc-ariens)"
          },
          "metadata": {}
        },
        {
          "output_type": "display_data",
          "data": {
            "text/markdown": "[https://yoast.com/about-us/team/thijs-van-der-heijden](https://yoast.com/about-us/team/thijs-van-der-heijden)"
          },
          "metadata": {}
        },
        {
          "output_type": "display_data",
          "data": {
            "text/markdown": "[https://yoast.com/ryte-support-deprecated](https://yoast.com/ryte-support-deprecated)"
          },
          "metadata": {}
        },
        {
          "output_type": "display_data",
          "data": {
            "text/markdown": "[https://yoast.com/community/care-fund/recipients/yvette-sonneveld](https://yoast.com/community/care-fund/recipients/yvette-sonneveld)"
          },
          "metadata": {}
        },
        {
          "output_type": "display_data",
          "data": {
            "text/markdown": "[https://yoast.com/video](https://yoast.com/video)"
          },
          "metadata": {}
        },
        {
          "output_type": "display_data",
          "data": {
            "text/markdown": "[https://yoast.com/about-us/team/floortje-scheurwater](https://yoast.com/about-us/team/floortje-scheurwater)"
          },
          "metadata": {}
        },
        {
          "output_type": "display_data",
          "data": {
            "text/markdown": "[https://yoast.com/webinar/seo-news-webinar-august-2021](https://yoast.com/webinar/seo-news-webinar-august-2021)"
          },
          "metadata": {}
        },
        {
          "output_type": "display_data",
          "data": {
            "text/markdown": "[https://yoast.com/help/my-sitemap-is-giving-a-404-error-what-should-i-do](https://yoast.com/help/my-sitemap-is-giving-a-404-error-what-should-i-do)"
          },
          "metadata": {}
        },
        {
          "output_type": "display_data",
          "data": {
            "text/markdown": "[https://yoast.com/help/how-to-migrate-from-rank-math-to-yoast-seo](https://yoast.com/help/how-to-migrate-from-rank-math-to-yoast-seo)"
          },
          "metadata": {}
        },
        {
          "output_type": "display_data",
          "data": {
            "text/markdown": "[https://yoast.com/tag/holistic-seo](https://yoast.com/tag/holistic-seo)"
          },
          "metadata": {}
        },
        {
          "output_type": "display_data",
          "data": {
            "text/markdown": "[https://yoast.com/community/care-fund/recipients/shusei-toda](https://yoast.com/community/care-fund/recipients/shusei-toda)"
          },
          "metadata": {}
        },
        {
          "output_type": "display_data",
          "data": {
            "text/markdown": "[https://yoast.com/video/ask-yoast-workaround-category-page](https://yoast.com/video/ask-yoast-workaround-category-page)"
          },
          "metadata": {}
        },
        {
          "output_type": "display_data",
          "data": {
            "text/markdown": "[https://yoast.com/about-us/team/marina-koleva](https://yoast.com/about-us/team/marina-koleva)"
          },
          "metadata": {}
        },
        {
          "output_type": "display_data",
          "data": {
            "text/markdown": "[https://yoast.com/working-at-yoast-during-covid-19](https://yoast.com/working-at-yoast-during-covid-19)"
          },
          "metadata": {}
        },
        {
          "output_type": "display_data",
          "data": {
            "text/markdown": "[https://yoast.com/developer-blog/php-apc-speed-web-applications](https://yoast.com/developer-blog/php-apc-speed-web-applications)"
          },
          "metadata": {}
        },
        {
          "output_type": "display_data",
          "data": {
            "text/markdown": "[https://yoast.com/yoast-seo-9-4](https://yoast.com/yoast-seo-9-4)"
          },
          "metadata": {}
        },
        {
          "output_type": "display_data",
          "data": {
            "text/markdown": "[https://yoast.com/help/crawl-error-submitted-url-blocked-by-robots-txt](https://yoast.com/help/crawl-error-submitted-url-blocked-by-robots-txt)"
          },
          "metadata": {}
        },
        {
          "output_type": "display_data",
          "data": {
            "text/markdown": "[https://yoast.com/community/care-fund/recipients/mobeen-abdullah](https://yoast.com/community/care-fund/recipients/mobeen-abdullah)"
          },
          "metadata": {}
        },
        {
          "output_type": "display_data",
          "data": {
            "text/markdown": "[https://yoast.com/community/care-fund/recipients/jessica-lyschik](https://yoast.com/community/care-fund/recipients/jessica-lyschik)"
          },
          "metadata": {}
        },
        {
          "output_type": "display_data",
          "data": {
            "text/markdown": "[https://yoast.com/help/how-to-add-custom-attributes-to-your-products](https://yoast.com/help/how-to-add-custom-attributes-to-your-products)"
          },
          "metadata": {}
        },
        {
          "output_type": "display_data",
          "data": {
            "text/markdown": "[https://yoast.com/about-us/team/maarten-jansen](https://yoast.com/about-us/team/maarten-jansen)"
          },
          "metadata": {}
        },
        {
          "output_type": "display_data",
          "data": {
            "text/markdown": "[https://yoast.com/wordpress/plugins/seo/improve-wordpress-seo](https://yoast.com/wordpress/plugins/seo/improve-wordpress-seo)"
          },
          "metadata": {}
        },
        {
          "output_type": "display_data",
          "data": {
            "text/markdown": "[https://yoast.com/help/how-to-use-the-yoast-internal-linking-blocks](https://yoast.com/help/how-to-use-the-yoast-internal-linking-blocks)"
          },
          "metadata": {}
        },
        {
          "output_type": "display_data",
          "data": {
            "text/markdown": "[https://yoast.com/academy/free-block-editor-training](https://yoast.com/academy/free-block-editor-training)"
          },
          "metadata": {}
        },
        {
          "output_type": "display_data",
          "data": {
            "text/markdown": "[https://yoast.com/help/common-purchase-errors](https://yoast.com/help/common-purchase-errors)"
          },
          "metadata": {}
        },
        {
          "output_type": "display_data",
          "data": {
            "text/markdown": "[https://yoast.com/help/false-positives-negatives-german-passive-analysis](https://yoast.com/help/false-positives-negatives-german-passive-analysis)"
          },
          "metadata": {}
        },
        {
          "output_type": "display_data",
          "data": {
            "text/markdown": "[https://yoast.com/about-us/team/judith-terbeek-arts](https://yoast.com/about-us/team/judith-terbeek-arts)"
          },
          "metadata": {}
        },
        {
          "output_type": "display_data",
          "data": {
            "text/markdown": "[https://yoast.com/about-us/team/natalia-titarenko](https://yoast.com/about-us/team/natalia-titarenko)"
          },
          "metadata": {}
        },
        {
          "output_type": "display_data",
          "data": {
            "text/markdown": "[https://yoast.com/community/care-fund/recipients/sjoerd-blom](https://yoast.com/community/care-fund/recipients/sjoerd-blom)"
          },
          "metadata": {}
        },
        {
          "output_type": "display_data",
          "data": {
            "text/markdown": "[https://yoast.com/help/rate-limits-for-ai-in-yoast-seo-premium](https://yoast.com/help/rate-limits-for-ai-in-yoast-seo-premium)"
          },
          "metadata": {}
        },
        {
          "output_type": "display_data",
          "data": {
            "text/markdown": "[https://yoast.com/wordpress/plugins](https://yoast.com/wordpress/plugins)"
          },
          "metadata": {}
        },
        {
          "output_type": "display_data",
          "data": {
            "text/markdown": "[https://yoast.com/help/how-to-install-yoast-seo-for-typo3-using-composer](https://yoast.com/help/how-to-install-yoast-seo-for-typo3-using-composer)"
          },
          "metadata": {}
        },
        {
          "output_type": "display_data",
          "data": {
            "text/markdown": "[https://yoast.com/academy/ecommerce-seo-training](https://yoast.com/academy/ecommerce-seo-training)"
          },
          "metadata": {}
        },
        {
          "output_type": "display_data",
          "data": {
            "text/markdown": "[https://yoast.com/about-us/team/igor-schoester](https://yoast.com/about-us/team/igor-schoester)"
          },
          "metadata": {}
        },
        {
          "output_type": "display_data",
          "data": {
            "text/markdown": "[https://yoast.com/wordpress-core/a-week-with-us-a-wp-minor-release-and-gutenberg](https://yoast.com/wordpress-core/a-week-with-us-a-wp-minor-release-and-gutenberg)"
          },
          "metadata": {}
        },
        {
          "output_type": "display_data",
          "data": {
            "text/markdown": "[https://yoast.com/developer-blog/theming-gutenberg-the-faq-block](https://yoast.com/developer-blog/theming-gutenberg-the-faq-block)"
          },
          "metadata": {}
        },
        {
          "output_type": "display_data",
          "data": {
            "text/markdown": "[https://yoast.com/help/what-are-regex-redirects](https://yoast.com/help/what-are-regex-redirects)"
          },
          "metadata": {}
        },
        {
          "output_type": "display_data",
          "data": {
            "text/markdown": "[https://yoast.com/about-us/team/anne-noij](https://yoast.com/about-us/team/anne-noij)"
          },
          "metadata": {}
        },
        {
          "output_type": "display_data",
          "data": {
            "text/markdown": "[https://yoast.com/webinar/seo-news-april-2023](https://yoast.com/webinar/seo-news-april-2023)"
          },
          "metadata": {}
        },
        {
          "output_type": "display_data",
          "data": {
            "text/markdown": "[https://yoast.com/about-us/team/angelia-embler](https://yoast.com/about-us/team/angelia-embler)"
          },
          "metadata": {}
        },
        {
          "output_type": "display_data",
          "data": {
            "text/markdown": "[https://yoast.com/developer-blog/yoast-seo-breaking-api-changes](https://yoast.com/developer-blog/yoast-seo-breaking-api-changes)"
          },
          "metadata": {}
        },
        {
          "output_type": "display_data",
          "data": {
            "text/markdown": "[https://yoast.com/developer-blog/every-wordpress-developer-should-blog](https://yoast.com/developer-blog/every-wordpress-developer-should-blog)"
          },
          "metadata": {}
        },
        {
          "output_type": "display_data",
          "data": {
            "text/markdown": "[https://yoast.com/help/how-to-use-the-emoji-picker-in-yoast-seo-premium](https://yoast.com/help/how-to-use-the-emoji-picker-in-yoast-seo-premium)"
          },
          "metadata": {}
        },
        {
          "output_type": "display_data",
          "data": {
            "text/markdown": "[https://yoast.com/wordpress/plugins/news-seo](https://yoast.com/wordpress/plugins/news-seo)"
          },
          "metadata": {}
        },
        {
          "output_type": "display_data",
          "data": {
            "text/markdown": "[https://yoast.com/help/charge-purchase-failed](https://yoast.com/help/charge-purchase-failed)"
          },
          "metadata": {}
        },
        {
          "output_type": "display_data",
          "data": {
            "text/markdown": "[https://yoast.com/developer-blog/yoast-goes-typo3](https://yoast.com/developer-blog/yoast-goes-typo3)"
          },
          "metadata": {}
        },
        {
          "output_type": "display_data",
          "data": {
            "text/markdown": "[https://yoast.com/about-us/team/erwin-brouwer](https://yoast.com/about-us/team/erwin-brouwer)"
          },
          "metadata": {}
        },
        {
          "output_type": "display_data",
          "data": {
            "text/markdown": "[https://yoast.com/help/installation-guide-for-the-local-seo-plugin](https://yoast.com/help/installation-guide-for-the-local-seo-plugin)"
          },
          "metadata": {}
        },
        {
          "output_type": "display_data",
          "data": {
            "text/markdown": "[https://yoast.com/help/xml-sitemaps-apache](https://yoast.com/help/xml-sitemaps-apache)"
          },
          "metadata": {}
        },
        {
          "output_type": "display_data",
          "data": {
            "text/markdown": "[https://yoast.com/help/is-my-curl-up-to-date](https://yoast.com/help/is-my-curl-up-to-date)"
          },
          "metadata": {}
        },
        {
          "output_type": "display_data",
          "data": {
            "text/markdown": "[https://yoast.com/features/duplicate-keyphrases-check](https://yoast.com/features/duplicate-keyphrases-check)"
          },
          "metadata": {}
        },
        {
          "output_type": "display_data",
          "data": {
            "text/markdown": "[https://yoast.com/academy/site-structure-training](https://yoast.com/academy/site-structure-training)"
          },
          "metadata": {}
        },
        {
          "output_type": "display_data",
          "data": {
            "text/markdown": "[https://yoast.com/webinar/how-to-write-readable-content](https://yoast.com/webinar/how-to-write-readable-content)"
          },
          "metadata": {}
        },
        {
          "output_type": "display_data",
          "data": {
            "text/markdown": "[https://yoast.com/wijchen-schaatst](https://yoast.com/wijchen-schaatst)"
          },
          "metadata": {}
        },
        {
          "output_type": "display_data",
          "data": {
            "text/markdown": "[https://yoast.com/tag/ecommerce-seo](https://yoast.com/tag/ecommerce-seo)"
          },
          "metadata": {}
        },
        {
          "output_type": "display_data",
          "data": {
            "text/markdown": "[https://yoast.com/features/wincher-integration](https://yoast.com/features/wincher-integration)"
          },
          "metadata": {}
        },
        {
          "output_type": "display_data",
          "data": {
            "text/markdown": "[https://yoast.com/webinar/boost-organic-visibility](https://yoast.com/webinar/boost-organic-visibility)"
          },
          "metadata": {}
        },
        {
          "output_type": "display_data",
          "data": {
            "text/markdown": "[https://yoast.com/about-us/events/smx-munich-2024](https://yoast.com/about-us/events/smx-munich-2024)"
          },
          "metadata": {}
        },
        {
          "output_type": "display_data",
          "data": {
            "text/markdown": "[https://yoast.com/webinar/seo-news-march-2023](https://yoast.com/webinar/seo-news-march-2023)"
          },
          "metadata": {}
        },
        {
          "output_type": "display_data",
          "data": {
            "text/markdown": "[https://yoast.com/about-us/team/nynke-de-blaauw](https://yoast.com/about-us/team/nynke-de-blaauw)"
          },
          "metadata": {}
        },
        {
          "output_type": "display_data",
          "data": {
            "text/markdown": "[https://yoast.com/help/custom-open-graph-tags](https://yoast.com/help/custom-open-graph-tags)"
          },
          "metadata": {}
        },
        {
          "output_type": "display_data",
          "data": {
            "text/markdown": "[https://yoast.com/wordpress-hosting/cyon-gmbh](https://yoast.com/wordpress-hosting/cyon-gmbh)"
          },
          "metadata": {}
        },
        {
          "output_type": "display_data",
          "data": {
            "text/markdown": "[https://yoast.com/wordpress-hosting/cloud86](https://yoast.com/wordpress-hosting/cloud86)"
          },
          "metadata": {}
        },
        {
          "output_type": "display_data",
          "data": {
            "text/markdown": "[https://yoast.com/video/ask-yoast-emojis-seo](https://yoast.com/video/ask-yoast-emojis-seo)"
          },
          "metadata": {}
        },
        {
          "output_type": "display_data",
          "data": {
            "text/markdown": "[https://yoast.com/video/ask-yoast-affiliate-marketing-landing-pages](https://yoast.com/video/ask-yoast-affiliate-marketing-landing-pages)"
          },
          "metadata": {}
        },
        {
          "output_type": "display_data",
          "data": {
            "text/markdown": "[https://yoast.com/developer-blog/safari-pinned-tab-icon-mask-icon](https://yoast.com/developer-blog/safari-pinned-tab-icon-mask-icon)"
          },
          "metadata": {}
        },
        {
          "output_type": "display_data",
          "data": {
            "text/markdown": "[https://yoast.com/developer-blog/composer-dependencies-in-wordpress-plugins](https://yoast.com/developer-blog/composer-dependencies-in-wordpress-plugins)"
          },
          "metadata": {}
        },
        {
          "output_type": "display_data",
          "data": {
            "text/markdown": "[https://yoast.com/seo-fitness](https://yoast.com/seo-fitness)"
          },
          "metadata": {}
        },
        {
          "output_type": "display_data",
          "data": {
            "text/markdown": "[https://yoast.com/webinar/seo-news-january-2023](https://yoast.com/webinar/seo-news-january-2023)"
          },
          "metadata": {}
        },
        {
          "output_type": "display_data",
          "data": {
            "text/markdown": "[https://yoast.com/webinar/webinar-ecommerce-seo-best-practices-for-bfcm](https://yoast.com/webinar/webinar-ecommerce-seo-best-practices-for-bfcm)"
          },
          "metadata": {}
        },
        {
          "output_type": "display_data",
          "data": {
            "text/markdown": "[https://yoast.com/help/what-has-changed-in-news-seo](https://yoast.com/help/what-has-changed-in-news-seo)"
          },
          "metadata": {}
        },
        {
          "output_type": "display_data",
          "data": {
            "text/markdown": "[https://yoast.com/tag/google-analytics](https://yoast.com/tag/google-analytics)"
          },
          "metadata": {}
        },
        {
          "output_type": "display_data",
          "data": {
            "text/markdown": "[https://yoast.com/about-us/events/cloudfest-2024](https://yoast.com/about-us/events/cloudfest-2024)"
          },
          "metadata": {}
        },
        {
          "output_type": "display_data",
          "data": {
            "text/markdown": "[https://yoast.com/yoast-partners/yoast-agency-program](https://yoast.com/yoast-partners/yoast-agency-program)"
          },
          "metadata": {}
        },
        {
          "output_type": "display_data",
          "data": {
            "text/markdown": "[https://yoast.com/video/mobilegeddon-has-come](https://yoast.com/video/mobilegeddon-has-come)"
          },
          "metadata": {}
        },
        {
          "output_type": "display_data",
          "data": {
            "text/markdown": "[https://yoast.com/help/template-files-for-local-seo](https://yoast.com/help/template-files-for-local-seo)"
          },
          "metadata": {}
        },
        {
          "output_type": "display_data",
          "data": {
            "text/markdown": "[https://yoast.com/tag/microsoft](https://yoast.com/tag/microsoft)"
          },
          "metadata": {}
        },
        {
          "output_type": "display_data",
          "data": {
            "text/markdown": "[https://yoast.com/wordpress/plugins/seo](https://yoast.com/wordpress/plugins/seo)"
          },
          "metadata": {}
        },
        {
          "output_type": "display_data",
          "data": {
            "text/markdown": "[https://yoast.com/video/ask-yoast-content-product-category-pages](https://yoast.com/video/ask-yoast-content-product-category-pages)"
          },
          "metadata": {}
        },
        {
          "output_type": "display_data",
          "data": {
            "text/markdown": "[https://yoast.com/features/breadcrumb-controls](https://yoast.com/features/breadcrumb-controls)"
          },
          "metadata": {}
        },
        {
          "output_type": "display_data",
          "data": {
            "text/markdown": "[https://yoast.com/about-us/team/rumejan-barbarona](https://yoast.com/about-us/team/rumejan-barbarona)"
          },
          "metadata": {}
        },
        {
          "output_type": "display_data",
          "data": {
            "text/markdown": "[https://yoast.com/help/plugin-english-site-another-language](https://yoast.com/help/plugin-english-site-another-language)"
          },
          "metadata": {}
        },
        {
          "output_type": "display_data",
          "data": {
            "text/markdown": "[https://yoast.com/wordpress-core/a-month-with-the-wordpress-core-team-july-2023](https://yoast.com/wordpress-core/a-month-with-the-wordpress-core-team-july-2023)"
          },
          "metadata": {}
        },
        {
          "output_type": "display_data",
          "data": {
            "text/markdown": "[https://yoast.com/help/plugin-requirements](https://yoast.com/help/plugin-requirements)"
          },
          "metadata": {}
        },
        {
          "output_type": "display_data",
          "data": {
            "text/markdown": "[https://yoast.com/help/my-business-is-not-listed-can-you-add-it](https://yoast.com/help/my-business-is-not-listed-can-you-add-it)"
          },
          "metadata": {}
        },
        {
          "output_type": "display_data",
          "data": {
            "text/markdown": "[https://yoast.com/community/care-fund/recipients/margherita-pelonara](https://yoast.com/community/care-fund/recipients/margherita-pelonara)"
          },
          "metadata": {}
        },
        {
          "output_type": "display_data",
          "data": {
            "text/markdown": "[https://yoast.com/wordpress-core/commitment-matters](https://yoast.com/wordpress-core/commitment-matters)"
          },
          "metadata": {}
        },
        {
          "output_type": "display_data",
          "data": {
            "text/markdown": "[https://yoast.com/about-us/sustainability](https://yoast.com/about-us/sustainability)"
          },
          "metadata": {}
        },
        {
          "output_type": "display_data",
          "data": {
            "text/markdown": "[https://yoast.com/about-us/team/sid-sarris](https://yoast.com/about-us/team/sid-sarris)"
          },
          "metadata": {}
        },
        {
          "output_type": "display_data",
          "data": {
            "text/markdown": "[https://yoast.com/about-us/team/will-earnhardt](https://yoast.com/about-us/team/will-earnhardt)"
          },
          "metadata": {}
        },
        {
          "output_type": "display_data",
          "data": {
            "text/markdown": "[https://yoast.com/help/resolve-notification-you-havent-activated-your-yoast-seo-premium-subscription-yet](https://yoast.com/help/resolve-notification-you-havent-activated-your-yoast-seo-premium-subscription-yet)"
          },
          "metadata": {}
        },
        {
          "output_type": "display_data",
          "data": {
            "text/markdown": "[https://yoast.com/wordpress-core/safe-updates-plugin-dependencies-themes-php-8-1](https://yoast.com/wordpress-core/safe-updates-plugin-dependencies-themes-php-8-1)"
          },
          "metadata": {}
        },
        {
          "output_type": "display_data",
          "data": {
            "text/markdown": "[https://yoast.com/wordpress-hosting/sitiweb](https://yoast.com/wordpress-hosting/sitiweb)"
          },
          "metadata": {}
        },
        {
          "output_type": "display_data",
          "data": {
            "text/markdown": "[https://yoast.com/developer-blog/dont-rely-title-attribute](https://yoast.com/developer-blog/dont-rely-title-attribute)"
          },
          "metadata": {}
        },
        {
          "output_type": "display_data",
          "data": {
            "text/markdown": "[https://yoast.com/help/optimize-your-content-with-yoast-seo-sidebar](https://yoast.com/help/optimize-your-content-with-yoast-seo-sidebar)"
          },
          "metadata": {}
        },
        {
          "output_type": "display_data",
          "data": {
            "text/markdown": "[https://yoast.com/developer-blog/using-the-wordpress-javascript-apis-for-fun-and-profit-the-beginning](https://yoast.com/developer-blog/using-the-wordpress-javascript-apis-for-fun-and-profit-the-beginning)"
          },
          "metadata": {}
        },
        {
          "output_type": "display_data",
          "data": {
            "text/markdown": "[https://yoast.com/features/rest-api](https://yoast.com/features/rest-api)"
          },
          "metadata": {}
        },
        {
          "output_type": "display_data",
          "data": {
            "text/markdown": "[https://yoast.com/community/care-fund/recipients/torsten-landsiedel](https://yoast.com/community/care-fund/recipients/torsten-landsiedel)"
          },
          "metadata": {}
        },
        {
          "output_type": "display_data",
          "data": {
            "text/markdown": "[https://yoast.com/help/enable-disable-metabox-insights](https://yoast.com/help/enable-disable-metabox-insights)"
          },
          "metadata": {}
        },
        {
          "output_type": "display_data",
          "data": {
            "text/markdown": "[https://yoast.com/wordpress-hosting/easywp](https://yoast.com/wordpress-hosting/easywp)"
          },
          "metadata": {}
        },
        {
          "output_type": "display_data",
          "data": {
            "text/markdown": "[https://yoast.com/wordpress/plugins/yoast-news-premium-bundle](https://yoast.com/wordpress/plugins/yoast-news-premium-bundle)"
          },
          "metadata": {}
        },
        {
          "output_type": "display_data",
          "data": {
            "text/markdown": "[https://yoast.com/developer-blog/digital-storytelling-in-the-age-of-blocks](https://yoast.com/developer-blog/digital-storytelling-in-the-age-of-blocks)"
          },
          "metadata": {}
        },
        {
          "output_type": "display_data",
          "data": {
            "text/markdown": "[https://yoast.com/academy/keyword-research-training/previously-used-keyphrase](https://yoast.com/academy/keyword-research-training/previously-used-keyphrase)"
          },
          "metadata": {}
        },
        {
          "output_type": "display_data",
          "data": {
            "text/markdown": "[https://yoast.com/developer-blog/product-availability-woocommerce](https://yoast.com/developer-blog/product-availability-woocommerce)"
          },
          "metadata": {}
        },
        {
          "output_type": "display_data",
          "data": {
            "text/markdown": "[https://yoast.com/tag/site-structure](https://yoast.com/tag/site-structure)"
          },
          "metadata": {}
        },
        {
          "output_type": "display_data",
          "data": {
            "text/markdown": "[https://yoast.com/features/semrush](https://yoast.com/features/semrush)"
          },
          "metadata": {}
        },
        {
          "output_type": "display_data",
          "data": {
            "text/markdown": "[https://yoast.com/about-us/team/thijs-jebson](https://yoast.com/about-us/team/thijs-jebson)"
          },
          "metadata": {}
        },
        {
          "output_type": "display_data",
          "data": {
            "text/markdown": "[https://yoast.com/about-us/team/camille-cunningham](https://yoast.com/about-us/team/camille-cunningham)"
          },
          "metadata": {}
        },
        {
          "output_type": "display_data",
          "data": {
            "text/markdown": "[https://yoast.com/yoastcon/2017-edition](https://yoast.com/yoastcon/2017-edition)"
          },
          "metadata": {}
        },
        {
          "output_type": "display_data",
          "data": {
            "text/markdown": "[https://yoast.com/help/use-yoast-seo-premium-internal-linking-workout](https://yoast.com/help/use-yoast-seo-premium-internal-linking-workout)"
          },
          "metadata": {}
        },
        {
          "output_type": "display_data",
          "data": {
            "text/markdown": "[https://yoast.com/developer-blog/upcoming-release-yoast-seo-14-0-indexables](https://yoast.com/developer-blog/upcoming-release-yoast-seo-14-0-indexables)"
          },
          "metadata": {}
        },
        {
          "output_type": "display_data",
          "data": {
            "text/markdown": "[https://yoast.com/help/installation-guide-for-yoast-woocommerce-seo](https://yoast.com/help/installation-guide-for-yoast-woocommerce-seo)"
          },
          "metadata": {}
        },
        {
          "output_type": "display_data",
          "data": {
            "text/markdown": "[https://yoast.com/podcast/marcus-tandler-podcast](https://yoast.com/podcast/marcus-tandler-podcast)"
          },
          "metadata": {}
        },
        {
          "output_type": "display_data",
          "data": {
            "text/markdown": "[https://yoast.com/about-us/team/ritchel-lauron](https://yoast.com/about-us/team/ritchel-lauron)"
          },
          "metadata": {}
        },
        {
          "output_type": "display_data",
          "data": {
            "text/markdown": "[https://yoast.com/help/add-custom-fields-to-video-seo](https://yoast.com/help/add-custom-fields-to-video-seo)"
          },
          "metadata": {}
        },
        {
          "output_type": "display_data",
          "data": {
            "text/markdown": "[https://yoast.com/community/care-fund/recipients/nilo-velez](https://yoast.com/community/care-fund/recipients/nilo-velez)"
          },
          "metadata": {}
        },
        {
          "output_type": "display_data",
          "data": {
            "text/markdown": "[https://yoast.com/about-us/team/beth-parker](https://yoast.com/about-us/team/beth-parker)"
          },
          "metadata": {}
        },
        {
          "output_type": "display_data",
          "data": {
            "text/markdown": "[https://yoast.com/help/find-custom-field-name](https://yoast.com/help/find-custom-field-name)"
          },
          "metadata": {}
        },
        {
          "output_type": "display_data",
          "data": {
            "text/markdown": "[https://yoast.com/help/warning-marks-are-disabled-in-current-view](https://yoast.com/help/warning-marks-are-disabled-in-current-view)"
          },
          "metadata": {}
        },
        {
          "output_type": "display_data",
          "data": {
            "text/markdown": "[https://yoast.com/tag/rich-snippets](https://yoast.com/tag/rich-snippets)"
          },
          "metadata": {}
        },
        {
          "output_type": "display_data",
          "data": {
            "text/markdown": "[https://yoast.com/help/add-custom-fields-to-yoast-seo-premium-plugin-settings](https://yoast.com/help/add-custom-fields-to-yoast-seo-premium-plugin-settings)"
          },
          "metadata": {}
        },
        {
          "output_type": "display_data",
          "data": {
            "text/markdown": "[https://yoast.com/help/error-were-unable-to-save-the-file-redirect](https://yoast.com/help/error-were-unable-to-save-the-file-redirect)"
          },
          "metadata": {}
        },
        {
          "output_type": "display_data",
          "data": {
            "text/markdown": "[https://yoast.com/about-us/community/care-fund](https://yoast.com/about-us/community/care-fund)"
          },
          "metadata": {}
        },
        {
          "output_type": "display_data",
          "data": {
            "text/markdown": "[https://yoast.com/webinar/is-your-seo-ready-for-black-friday](https://yoast.com/webinar/is-your-seo-ready-for-black-friday)"
          },
          "metadata": {}
        },
        {
          "output_type": "display_data",
          "data": {
            "text/markdown": "[https://yoast.com/help/you-need-to-renew-your-subscription](https://yoast.com/help/you-need-to-renew-your-subscription)"
          },
          "metadata": {}
        },
        {
          "output_type": "display_data",
          "data": {
            "text/markdown": "[https://yoast.com/help/yoast-seo-settings-site-representation](https://yoast.com/help/yoast-seo-settings-site-representation)"
          },
          "metadata": {}
        },
        {
          "output_type": "display_data",
          "data": {
            "text/markdown": "[https://yoast.com/wordpress-core/a-month-with-the-wordpress-core-team-march-2023](https://yoast.com/wordpress-core/a-month-with-the-wordpress-core-team-march-2023)"
          },
          "metadata": {}
        },
        {
          "output_type": "display_data",
          "data": {
            "text/markdown": "[https://yoast.com/help/how-to-connect-your-website-to-bing-webmaster-tools](https://yoast.com/help/how-to-connect-your-website-to-bing-webmaster-tools)"
          },
          "metadata": {}
        },
        {
          "output_type": "display_data",
          "data": {
            "text/markdown": "[https://yoast.com/yoast-partners](https://yoast.com/yoast-partners)"
          },
          "metadata": {}
        },
        {
          "output_type": "display_data",
          "data": {
            "text/markdown": "[https://yoast.com/wordpress/plugins/duplicate-post](https://yoast.com/wordpress/plugins/duplicate-post)"
          },
          "metadata": {}
        },
        {
          "output_type": "display_data",
          "data": {
            "text/markdown": "[https://yoast.com/help/facebook-author-tags](https://yoast.com/help/facebook-author-tags)"
          },
          "metadata": {}
        },
        {
          "output_type": "display_data",
          "data": {
            "text/markdown": "[https://yoast.com/help/single-site-key-switching-from-development-server-to-live-server](https://yoast.com/help/single-site-key-switching-from-development-server-to-live-server)"
          },
          "metadata": {}
        },
        {
          "output_type": "display_data",
          "data": {
            "text/markdown": "[https://yoast.com/video/ask-yoast-hreflang-for-sites-with-different-domains](https://yoast.com/video/ask-yoast-hreflang-for-sites-with-different-domains)"
          },
          "metadata": {}
        },
        {
          "output_type": "display_data",
          "data": {
            "text/markdown": "[https://yoast.com/help/site-ready-php-7](https://yoast.com/help/site-ready-php-7)"
          },
          "metadata": {}
        },
        {
          "output_type": "display_data",
          "data": {
            "text/markdown": "[https://yoast.com/developer-blog/understanding-redux](https://yoast.com/developer-blog/understanding-redux)"
          },
          "metadata": {}
        },
        {
          "output_type": "display_data",
          "data": {
            "text/markdown": "[https://yoast.com/developer-blog/web-intents-from-twitter](https://yoast.com/developer-blog/web-intents-from-twitter)"
          },
          "metadata": {}
        },
        {
          "output_type": "display_data",
          "data": {
            "text/markdown": "[https://yoast.com/developer-blog/yoast-seo-14-0-x](https://yoast.com/developer-blog/yoast-seo-14-0-x)"
          },
          "metadata": {}
        },
        {
          "output_type": "display_data",
          "data": {
            "text/markdown": "[https://yoast.com/help/cannot-create-database-tables](https://yoast.com/help/cannot-create-database-tables)"
          },
          "metadata": {}
        },
        {
          "output_type": "display_data",
          "data": {
            "text/markdown": "[https://yoast.com/developer-blog/wordpress-javascript-apis-part-five-slots-and-fills](https://yoast.com/developer-blog/wordpress-javascript-apis-part-five-slots-and-fills)"
          },
          "metadata": {}
        },
        {
          "output_type": "display_data",
          "data": {
            "text/markdown": "[https://yoast.com/video/ask-yoast-moving-to-new-city](https://yoast.com/video/ask-yoast-moving-to-new-city)"
          },
          "metadata": {}
        },
        {
          "output_type": "display_data",
          "data": {
            "text/markdown": "[https://yoast.com/help/removal-free-plan-yoast-seo-for-shopify](https://yoast.com/help/removal-free-plan-yoast-seo-for-shopify)"
          },
          "metadata": {}
        },
        {
          "output_type": "display_data",
          "data": {
            "text/markdown": "[https://yoast.com/about-us](https://yoast.com/about-us)"
          },
          "metadata": {}
        },
        {
          "output_type": "display_data",
          "data": {
            "text/markdown": "[https://yoast.com/about-us/events/wordcamp-europe-2020](https://yoast.com/about-us/events/wordcamp-europe-2020)"
          },
          "metadata": {}
        },
        {
          "output_type": "display_data",
          "data": {
            "text/markdown": "[https://yoast.com/webinar/seo-news-september-2023](https://yoast.com/webinar/seo-news-september-2023)"
          },
          "metadata": {}
        },
        {
          "output_type": "display_data",
          "data": {
            "text/markdown": "[https://yoast.com/developer-blog/accessibility-testing-for-beginners](https://yoast.com/developer-blog/accessibility-testing-for-beginners)"
          },
          "metadata": {}
        },
        {
          "output_type": "display_data",
          "data": {
            "text/markdown": "[https://yoast.com/wordpress-hosting/wpwebhost](https://yoast.com/wordpress-hosting/wpwebhost)"
          },
          "metadata": {}
        },
        {
          "output_type": "display_data",
          "data": {
            "text/markdown": "[https://yoast.com/features/schema-integrations](https://yoast.com/features/schema-integrations)"
          },
          "metadata": {}
        },
        {
          "output_type": "display_data",
          "data": {
            "text/markdown": "[https://yoast.com/innovations/word-forms-morphology](https://yoast.com/innovations/word-forms-morphology)"
          },
          "metadata": {}
        },
        {
          "output_type": "display_data",
          "data": {
            "text/markdown": "[https://yoast.com/help/yoast-quickstart-guide](https://yoast.com/help/yoast-quickstart-guide)"
          },
          "metadata": {}
        },
        {
          "output_type": "display_data",
          "data": {
            "text/markdown": "[https://yoast.com/features/ai-generated-titles-and-meta-descriptions](https://yoast.com/features/ai-generated-titles-and-meta-descriptions)"
          },
          "metadata": {}
        },
        {
          "output_type": "display_data",
          "data": {
            "text/markdown": "[https://yoast.com/help/implement-breadcrumbs-yoast-seo-shopify](https://yoast.com/help/implement-breadcrumbs-yoast-seo-shopify)"
          },
          "metadata": {}
        },
        {
          "output_type": "display_data",
          "data": {
            "text/markdown": "[https://yoast.com/series/annelieke-analytics](https://yoast.com/series/annelieke-analytics)"
          },
          "metadata": {}
        },
        {
          "output_type": "display_data",
          "data": {
            "text/markdown": "[https://yoast.com/webinar/grow-sales-email-social-media-marketing](https://yoast.com/webinar/grow-sales-email-social-media-marketing)"
          },
          "metadata": {}
        },
        {
          "output_type": "display_data",
          "data": {
            "text/markdown": "[https://yoast.com/wordpress-hosting/icdsoft](https://yoast.com/wordpress-hosting/icdsoft)"
          },
          "metadata": {}
        },
        {
          "output_type": "display_data",
          "data": {
            "text/markdown": "[https://yoast.com/wordpress-core/wordpress-5-9-1-is-released](https://yoast.com/wordpress-core/wordpress-5-9-1-is-released)"
          },
          "metadata": {}
        },
        {
          "output_type": "display_data",
          "data": {
            "text/markdown": "[https://yoast.com/wordpress-core/contributing-to-wordpress-5-7](https://yoast.com/wordpress-core/contributing-to-wordpress-5-7)"
          },
          "metadata": {}
        },
        {
          "output_type": "display_data",
          "data": {
            "text/markdown": "[https://yoast.com/help/fix-blank-screen-myyoast](https://yoast.com/help/fix-blank-screen-myyoast)"
          },
          "metadata": {}
        },
        {
          "output_type": "display_data",
          "data": {
            "text/markdown": "[https://yoast.com/help/exclude-sitemaps-from-cache](https://yoast.com/help/exclude-sitemaps-from-cache)"
          },
          "metadata": {}
        },
        {
          "output_type": "display_data",
          "data": {
            "text/markdown": "[https://yoast.com/holiday-calendar](https://yoast.com/holiday-calendar)"
          },
          "metadata": {}
        },
        {
          "output_type": "display_data",
          "data": {
            "text/markdown": "[https://yoast.com/help/can-i-use-the-plugin-on-multiple-sites](https://yoast.com/help/can-i-use-the-plugin-on-multiple-sites)"
          },
          "metadata": {}
        },
        {
          "output_type": "display_data",
          "data": {
            "text/markdown": "[https://yoast.com/help/how-to-migrate-from-wpseo-to-yoast-seo](https://yoast.com/help/how-to-migrate-from-wpseo-to-yoast-seo)"
          },
          "metadata": {}
        },
        {
          "output_type": "display_data",
          "data": {
            "text/markdown": "[https://yoast.com/tag/yoast-academy](https://yoast.com/tag/yoast-academy)"
          },
          "metadata": {}
        },
        {
          "output_type": "display_data",
          "data": {
            "text/markdown": "[https://yoast.com/yoast-seo-3-0](https://yoast.com/yoast-seo-3-0)"
          },
          "metadata": {}
        },
        {
          "output_type": "display_data",
          "data": {
            "text/markdown": "[https://yoast.com/help/my-seo-title-isnt-displayed-as-i-have-entered-it](https://yoast.com/help/my-seo-title-isnt-displayed-as-i-have-entered-it)"
          },
          "metadata": {}
        },
        {
          "output_type": "display_data",
          "data": {
            "text/markdown": "[https://yoast.com/features/consecutive-sentence-check](https://yoast.com/features/consecutive-sentence-check)"
          },
          "metadata": {}
        },
        {
          "output_type": "display_data",
          "data": {
            "text/markdown": "[https://yoast.com/webinar/rich-results-online-stores](https://yoast.com/webinar/rich-results-online-stores)"
          },
          "metadata": {}
        },
        {
          "output_type": "display_data",
          "data": {
            "text/markdown": "[https://yoast.com/wordpress/plugins/local-seo-for-woocommerce/change-log](https://yoast.com/wordpress/plugins/local-seo-for-woocommerce/change-log)"
          },
          "metadata": {}
        },
        {
          "output_type": "display_data",
          "data": {
            "text/markdown": "[https://yoast.com/tag/technical-seo](https://yoast.com/tag/technical-seo)"
          },
          "metadata": {}
        },
        {
          "output_type": "display_data",
          "data": {
            "text/markdown": "[https://yoast.com/help/getting-open-graph-for-your-articles](https://yoast.com/help/getting-open-graph-for-your-articles)"
          },
          "metadata": {}
        },
        {
          "output_type": "display_data",
          "data": {
            "text/markdown": "[https://yoast.com/webinar/webinar-by-bluehost-how-to-automate-wordpress-and-boost-productivity](https://yoast.com/webinar/webinar-by-bluehost-how-to-automate-wordpress-and-boost-productivity)"
          },
          "metadata": {}
        },
        {
          "output_type": "display_data",
          "data": {
            "text/markdown": "[https://yoast.com/developer-blog/automate-repetitive-daily-tests](https://yoast.com/developer-blog/automate-repetitive-daily-tests)"
          },
          "metadata": {}
        },
        {
          "output_type": "display_data",
          "data": {
            "text/markdown": "[https://yoast.com/community/care-fund/recipients/bet-hannon](https://yoast.com/community/care-fund/recipients/bet-hannon)"
          },
          "metadata": {}
        },
        {
          "output_type": "display_data",
          "data": {
            "text/markdown": "[https://yoast.com/developer-blog/create-gutenblock-with-acf](https://yoast.com/developer-blog/create-gutenblock-with-acf)"
          },
          "metadata": {}
        },
        {
          "output_type": "display_data",
          "data": {
            "text/markdown": "[https://yoast.com/community/care-fund/recipients/lua-salazar](https://yoast.com/community/care-fund/recipients/lua-salazar)"
          },
          "metadata": {}
        },
        {
          "output_type": "display_data",
          "data": {
            "text/markdown": "[https://yoast.com/developer-blog/wordpress-ui-library-choice-extensibility-interoperability](https://yoast.com/developer-blog/wordpress-ui-library-choice-extensibility-interoperability)"
          },
          "metadata": {}
        },
        {
          "output_type": "display_data",
          "data": {
            "text/markdown": "[https://yoast.com/developer-blog/php5-and-nusoap](https://yoast.com/developer-blog/php5-and-nusoap)"
          },
          "metadata": {}
        },
        {
          "output_type": "display_data",
          "data": {
            "text/markdown": "[https://yoast.com/tag/google-search-console](https://yoast.com/tag/google-search-console)"
          },
          "metadata": {}
        },
        {
          "output_type": "display_data",
          "data": {
            "text/markdown": "[https://yoast.com/help/fetch-as-googlebot](https://yoast.com/help/fetch-as-googlebot)"
          },
          "metadata": {}
        },
        {
          "output_type": "display_data",
          "data": {
            "text/markdown": "[https://yoast.com/help/xml-sitemaps-in-the-wordpress-seo-plugin](https://yoast.com/help/xml-sitemaps-in-the-wordpress-seo-plugin)"
          },
          "metadata": {}
        },
        {
          "output_type": "display_data",
          "data": {
            "text/markdown": "[https://yoast.com/help/the-breadcrumbs-title-setting](https://yoast.com/help/the-breadcrumbs-title-setting)"
          },
          "metadata": {}
        },
        {
          "output_type": "display_data",
          "data": {
            "text/markdown": "[https://yoast.com/wordpress-hosting/rocket-net](https://yoast.com/wordpress-hosting/rocket-net)"
          },
          "metadata": {}
        },
        {
          "output_type": "display_data",
          "data": {
            "text/markdown": "[https://yoast.com/features/flesch-reading-ease-score](https://yoast.com/features/flesch-reading-ease-score)"
          },
          "metadata": {}
        },
        {
          "output_type": "display_data",
          "data": {
            "text/markdown": "[https://yoast.com/help/add-external-sitemap-to-index](https://yoast.com/help/add-external-sitemap-to-index)"
          },
          "metadata": {}
        },
        {
          "output_type": "display_data",
          "data": {
            "text/markdown": "[https://yoast.com/about-us/meet-our-leadership-team](https://yoast.com/about-us/meet-our-leadership-team)"
          },
          "metadata": {}
        },
        {
          "output_type": "display_data",
          "data": {
            "text/markdown": "[https://yoast.com/press](https://yoast.com/press)"
          },
          "metadata": {}
        },
        {
          "output_type": "display_data",
          "data": {
            "text/markdown": "[https://yoast.com/help/yoastseo-meta-box-is-blank](https://yoast.com/help/yoastseo-meta-box-is-blank)"
          },
          "metadata": {}
        },
        {
          "output_type": "display_data",
          "data": {
            "text/markdown": "[https://yoast.com/help/the-yoast-seo-admin-bar-menu](https://yoast.com/help/the-yoast-seo-admin-bar-menu)"
          },
          "metadata": {}
        },
        {
          "output_type": "display_data",
          "data": {
            "text/markdown": "[https://yoast.com/video/ask-yoast-duplicate-content-issues-on-my-shop](https://yoast.com/video/ask-yoast-duplicate-content-issues-on-my-shop)"
          },
          "metadata": {}
        },
        {
          "output_type": "display_data",
          "data": {
            "text/markdown": "[https://yoast.com/wordpress-hosting/madoo](https://yoast.com/wordpress-hosting/madoo)"
          },
          "metadata": {}
        },
        {
          "output_type": "display_data",
          "data": {
            "text/markdown": "[https://yoast.com/about-us/team/hardik-gohil](https://yoast.com/about-us/team/hardik-gohil)"
          },
          "metadata": {}
        },
        {
          "output_type": "display_data",
          "data": {
            "text/markdown": "[https://yoast.com/developer-blog/internal-linking-suggestions](https://yoast.com/developer-blog/internal-linking-suggestions)"
          },
          "metadata": {}
        },
        {
          "output_type": "display_data",
          "data": {
            "text/markdown": "[https://yoast.com/innovations/hackatons](https://yoast.com/innovations/hackatons)"
          },
          "metadata": {}
        },
        {
          "output_type": "display_data",
          "data": {
            "text/markdown": "[https://yoast.com/wordpress-core/diversity-performance-improvements-and-more](https://yoast.com/wordpress-core/diversity-performance-improvements-and-more)"
          },
          "metadata": {}
        },
        {
          "output_type": "display_data",
          "data": {
            "text/markdown": "[https://yoast.com/help/can-i-change-the-sitemap-change-frequency](https://yoast.com/help/can-i-change-the-sitemap-change-frequency)"
          },
          "metadata": {}
        },
        {
          "output_type": "display_data",
          "data": {
            "text/markdown": "[https://yoast.com/help/yoastseo-meta-box-missing](https://yoast.com/help/yoastseo-meta-box-missing)"
          },
          "metadata": {}
        },
        {
          "output_type": "display_data",
          "data": {
            "text/markdown": "[https://yoast.com/help/locations-archive-shows-posts](https://yoast.com/help/locations-archive-shows-posts)"
          },
          "metadata": {}
        },
        {
          "output_type": "display_data",
          "data": {
            "text/markdown": "[https://yoast.com/video/ask-yoast-video-on-youtube-or-on-my-own-site](https://yoast.com/video/ask-yoast-video-on-youtube-or-on-my-own-site)"
          },
          "metadata": {}
        },
        {
          "output_type": "display_data",
          "data": {
            "text/markdown": "[https://yoast.com/community/care-fund/recipients/yoast-care-fund-an-interview-with-michelle-frechette](https://yoast.com/community/care-fund/recipients/yoast-care-fund-an-interview-with-michelle-frechette)"
          },
          "metadata": {}
        },
        {
          "output_type": "display_data",
          "data": {
            "text/markdown": "[https://yoast.com/features/redirect-attachment-urls](https://yoast.com/features/redirect-attachment-urls)"
          },
          "metadata": {}
        },
        {
          "output_type": "display_data",
          "data": {
            "text/markdown": "[https://yoast.com/community/care-fund/recipients/usman-khalid](https://yoast.com/community/care-fund/recipients/usman-khalid)"
          },
          "metadata": {}
        },
        {
          "output_type": "display_data",
          "data": {
            "text/markdown": "[https://yoast.com/help/why-isnt-the-plugin-giving-my-lat-long-coordinates](https://yoast.com/help/why-isnt-the-plugin-giving-my-lat-long-coordinates)"
          },
          "metadata": {}
        },
        {
          "output_type": "display_data",
          "data": {
            "text/markdown": "[https://yoast.com/about-us/team/andrea-fercia](https://yoast.com/about-us/team/andrea-fercia)"
          },
          "metadata": {}
        },
        {
          "output_type": "display_data",
          "data": {
            "text/markdown": "[https://yoast.com/features/premium-seo-analysis/keyphrase-distribution](https://yoast.com/features/premium-seo-analysis/keyphrase-distribution)"
          },
          "metadata": {}
        },
        {
          "output_type": "display_data",
          "data": {
            "text/markdown": "[https://yoast.com/tag/blog-seo](https://yoast.com/tag/blog-seo)"
          },
          "metadata": {}
        },
        {
          "output_type": "display_data",
          "data": {
            "text/markdown": "[https://yoast.com/help/transition-words-in-your-language](https://yoast.com/help/transition-words-in-your-language)"
          },
          "metadata": {}
        },
        {
          "output_type": "display_data",
          "data": {
            "text/markdown": "[https://yoast.com/help/fixing-hcard-author-error](https://yoast.com/help/fixing-hcard-author-error)"
          },
          "metadata": {}
        },
        {
          "output_type": "display_data",
          "data": {
            "text/markdown": "[https://yoast.com/about-us/team/anne-verlind-meeuwissen](https://yoast.com/about-us/team/anne-verlind-meeuwissen)"
          },
          "metadata": {}
        },
        {
          "output_type": "display_data",
          "data": {
            "text/markdown": "[https://yoast.com/tag/usability](https://yoast.com/tag/usability)"
          },
          "metadata": {}
        },
        {
          "output_type": "display_data",
          "data": {
            "text/markdown": "[https://yoast.com/help/yoast-seo-tools-bulk-editor](https://yoast.com/help/yoast-seo-tools-bulk-editor)"
          },
          "metadata": {}
        },
        {
          "output_type": "display_data",
          "data": {
            "text/markdown": "[https://yoast.com/developer-blog/schema-org-genesis-2-0](https://yoast.com/developer-blog/schema-org-genesis-2-0)"
          },
          "metadata": {}
        },
        {
          "output_type": "display_data",
          "data": {
            "text/markdown": "[https://yoast.com/yoast-seo-3-3](https://yoast.com/yoast-seo-3-3)"
          },
          "metadata": {}
        },
        {
          "output_type": "display_data",
          "data": {
            "text/markdown": "[https://yoast.com/help/contribute-and-make-features-available-in-your-language](https://yoast.com/help/contribute-and-make-features-available-in-your-language)"
          },
          "metadata": {}
        },
        {
          "output_type": "display_data",
          "data": {
            "text/markdown": "[https://yoast.com/about-us/team/maurice-di-tolve](https://yoast.com/about-us/team/maurice-di-tolve)"
          },
          "metadata": {}
        },
        {
          "output_type": "display_data",
          "data": {
            "text/markdown": "[https://yoast.com/developer-blog/phpbenelux-conference-2016-a-retrospect](https://yoast.com/developer-blog/phpbenelux-conference-2016-a-retrospect)"
          },
          "metadata": {}
        },
        {
          "output_type": "display_data",
          "data": {
            "text/markdown": "[https://yoast.com/help/how-do-i-fix-duplicate-meta-tags](https://yoast.com/help/how-do-i-fix-duplicate-meta-tags)"
          },
          "metadata": {}
        },
        {
          "output_type": "display_data",
          "data": {
            "text/markdown": "[https://yoast.com/wordpress-core/recap-of-the-latest-contributor-day-and-team-update](https://yoast.com/wordpress-core/recap-of-the-latest-contributor-day-and-team-update)"
          },
          "metadata": {}
        },
        {
          "output_type": "display_data",
          "data": {
            "text/markdown": "[https://yoast.com/must-reads-for-website-seo](https://yoast.com/must-reads-for-website-seo)"
          },
          "metadata": {}
        },
        {
          "output_type": "display_data",
          "data": {
            "text/markdown": "[https://yoast.com/help/import-redirects](https://yoast.com/help/import-redirects)"
          },
          "metadata": {}
        },
        {
          "output_type": "display_data",
          "data": {
            "text/markdown": "[https://yoast.com/wordpress-hosting/flywheel](https://yoast.com/wordpress-hosting/flywheel)"
          },
          "metadata": {}
        },
        {
          "output_type": "display_data",
          "data": {
            "text/markdown": "[https://yoast.com/video/ask-yoast-sites-sharing-pages](https://yoast.com/video/ask-yoast-sites-sharing-pages)"
          },
          "metadata": {}
        },
        {
          "output_type": "display_data",
          "data": {
            "text/markdown": "[https://yoast.com/wordpress-hosting/webhostuk-ltd](https://yoast.com/wordpress-hosting/webhostuk-ltd)"
          },
          "metadata": {}
        },
        {
          "output_type": "display_data",
          "data": {
            "text/markdown": "[https://yoast.com/about-us/team/yvonne-palanca](https://yoast.com/about-us/team/yvonne-palanca)"
          },
          "metadata": {}
        },
        {
          "output_type": "display_data",
          "data": {
            "text/markdown": "[https://yoast.com/developer-blog/testing-for-accessibility-better-professional](https://yoast.com/developer-blog/testing-for-accessibility-better-professional)"
          },
          "metadata": {}
        },
        {
          "output_type": "display_data",
          "data": {
            "text/markdown": "[https://yoast.com/about-us/team/edwin-toonen](https://yoast.com/about-us/team/edwin-toonen)"
          },
          "metadata": {}
        },
        {
          "output_type": "display_data",
          "data": {
            "text/markdown": "[https://yoast.com/community/care-fund/recipients/ken-elliott](https://yoast.com/community/care-fund/recipients/ken-elliott)"
          },
          "metadata": {}
        },
        {
          "output_type": "display_data",
          "data": {
            "text/markdown": "[https://yoast.com/help/common-myyoast-issues](https://yoast.com/help/common-myyoast-issues)"
          },
          "metadata": {}
        },
        {
          "output_type": "display_data",
          "data": {
            "text/markdown": "[https://yoast.com/help/remove-yoast-code-from-theme-in-shopify](https://yoast.com/help/remove-yoast-code-from-theme-in-shopify)"
          },
          "metadata": {}
        },
        {
          "output_type": "display_data",
          "data": {
            "text/markdown": "[https://yoast.com/help/google-maps-not-working](https://yoast.com/help/google-maps-not-working)"
          },
          "metadata": {}
        },
        {
          "output_type": "display_data",
          "data": {
            "text/markdown": "[https://yoast.com/help/how-to-clear-your-wordpress-cache](https://yoast.com/help/how-to-clear-your-wordpress-cache)"
          },
          "metadata": {}
        },
        {
          "output_type": "display_data",
          "data": {
            "text/markdown": "[https://yoast.com/hreflang-ultimate-guide](https://yoast.com/hreflang-ultimate-guide)"
          },
          "metadata": {}
        },
        {
          "output_type": "display_data",
          "data": {
            "text/markdown": "[https://yoast.com/tag/link-building](https://yoast.com/tag/link-building)"
          },
          "metadata": {}
        },
        {
          "output_type": "display_data",
          "data": {
            "text/markdown": "[https://yoast.com/wordpress/plugins/seo/keyphrases-in-titles-and-meta-descriptions](https://yoast.com/wordpress/plugins/seo/keyphrases-in-titles-and-meta-descriptions)"
          },
          "metadata": {}
        },
        {
          "output_type": "display_data",
          "data": {
            "text/markdown": "[https://yoast.com/developer-blog/accessibility-javascript](https://yoast.com/developer-blog/accessibility-javascript)"
          },
          "metadata": {}
        },
        {
          "output_type": "display_data",
          "data": {
            "text/markdown": "[https://yoast.com/video/ask-yoast-optimizing-for-audio-podcasts](https://yoast.com/video/ask-yoast-optimizing-for-audio-podcasts)"
          },
          "metadata": {}
        },
        {
          "output_type": "display_data",
          "data": {
            "text/markdown": "[https://yoast.com/academy/technical-seo-training](https://yoast.com/academy/technical-seo-training)"
          },
          "metadata": {}
        },
        {
          "output_type": "display_data",
          "data": {
            "text/markdown": "[https://yoast.com/help/how-to-migrate-from-the-seo-framework-to-yoast-seo](https://yoast.com/help/how-to-migrate-from-the-seo-framework-to-yoast-seo)"
          },
          "metadata": {}
        },
        {
          "output_type": "display_data",
          "data": {
            "text/markdown": "[https://yoast.com/video/ask-yoast-changing-your-wordpress-theme](https://yoast.com/video/ask-yoast-changing-your-wordpress-theme)"
          },
          "metadata": {}
        },
        {
          "output_type": "display_data",
          "data": {
            "text/markdown": "[https://yoast.com/about-us/team/gertron-janssen](https://yoast.com/about-us/team/gertron-janssen)"
          },
          "metadata": {}
        },
        {
          "output_type": "display_data",
          "data": {
            "text/markdown": "[https://yoast.com/about-us/team/danny-terwindt](https://yoast.com/about-us/team/danny-terwindt)"
          },
          "metadata": {}
        },
        {
          "output_type": "display_data",
          "data": {
            "text/markdown": "[https://yoast.com/security-program](https://yoast.com/security-program)"
          },
          "metadata": {}
        },
        {
          "output_type": "display_data",
          "data": {
            "text/markdown": "[https://yoast.com/help/custom-twitter-tags](https://yoast.com/help/custom-twitter-tags)"
          },
          "metadata": {}
        },
        {
          "output_type": "display_data",
          "data": {
            "text/markdown": "[https://yoast.com/help/warning-xyz-plugin-name-might-cause-issues](https://yoast.com/help/warning-xyz-plugin-name-might-cause-issues)"
          },
          "metadata": {}
        },
        {
          "output_type": "display_data",
          "data": {
            "text/markdown": "[https://yoast.com/community/care-fund/recipients/eleonora-anzini](https://yoast.com/community/care-fund/recipients/eleonora-anzini)"
          },
          "metadata": {}
        },
        {
          "output_type": "display_data",
          "data": {
            "text/markdown": "[https://yoast.com/video/how-to-create-a-dashboard-in-google-data-studio](https://yoast.com/video/how-to-create-a-dashboard-in-google-data-studio)"
          },
          "metadata": {}
        },
        {
          "output_type": "display_data",
          "data": {
            "text/markdown": "[https://yoast.com/community/care-fund/recipients/jose-freitas](https://yoast.com/community/care-fund/recipients/jose-freitas)"
          },
          "metadata": {}
        },
        {
          "output_type": "display_data",
          "data": {
            "text/markdown": "[https://yoast.com/webinar/how-to-increase-sales-for-your-online-store-webinar-by-bluehost](https://yoast.com/webinar/how-to-increase-sales-for-your-online-store-webinar-by-bluehost)"
          },
          "metadata": {}
        },
        {
          "output_type": "display_data",
          "data": {
            "text/markdown": "[https://yoast.com/webinar/how-to-use-internal-linking](https://yoast.com/webinar/how-to-use-internal-linking)"
          },
          "metadata": {}
        },
        {
          "output_type": "display_data",
          "data": {
            "text/markdown": "[https://yoast.com/tag/domains](https://yoast.com/tag/domains)"
          },
          "metadata": {}
        },
        {
          "output_type": "display_data",
          "data": {
            "text/markdown": "[https://yoast.com/help/how-to-create-a-temporary-login-link-with-the-temporary-login-without-password-plugin](https://yoast.com/help/how-to-create-a-temporary-login-link-with-the-temporary-login-without-password-plugin)"
          },
          "metadata": {}
        },
        {
          "output_type": "display_data",
          "data": {
            "text/markdown": "[https://yoast.com/community/care-fund/recipients/enrico-battocchi](https://yoast.com/community/care-fund/recipients/enrico-battocchi)"
          },
          "metadata": {}
        },
        {
          "output_type": "display_data",
          "data": {
            "text/markdown": "[https://yoast.com/about-us/team/enrico-battocchi](https://yoast.com/about-us/team/enrico-battocchi)"
          },
          "metadata": {}
        },
        {
          "output_type": "display_data",
          "data": {
            "text/markdown": "[https://yoast.com/online-museum/home-lifestyle](https://yoast.com/online-museum/home-lifestyle)"
          },
          "metadata": {}
        },
        {
          "output_type": "display_data",
          "data": {
            "text/markdown": "[https://yoast.com/about-us/team/tom-ottjes](https://yoast.com/about-us/team/tom-ottjes)"
          },
          "metadata": {}
        },
        {
          "output_type": "display_data",
          "data": {
            "text/markdown": "[https://yoast.com/help/my-sitemap-is-blank-what-s-wrong](https://yoast.com/help/my-sitemap-is-blank-what-s-wrong)"
          },
          "metadata": {}
        },
        {
          "output_type": "display_data",
          "data": {
            "text/markdown": "[https://yoast.com/video/ask-yoast-publishing-other-language-seo](https://yoast.com/video/ask-yoast-publishing-other-language-seo)"
          },
          "metadata": {}
        },
        {
          "output_type": "display_data",
          "data": {
            "text/markdown": "[https://yoast.com/wordpress/plugins/blog-metrics](https://yoast.com/wordpress/plugins/blog-metrics)"
          },
          "metadata": {}
        },
        {
          "output_type": "display_data",
          "data": {
            "text/markdown": "[https://yoast.com/help/use-yoast-seo-shopify-csv-file](https://yoast.com/help/use-yoast-seo-shopify-csv-file)"
          },
          "metadata": {}
        },
        {
          "output_type": "display_data",
          "data": {
            "text/markdown": "[https://yoast.com/developer-blog/unit-testing-with-mocks-wordpress](https://yoast.com/developer-blog/unit-testing-with-mocks-wordpress)"
          },
          "metadata": {}
        },
        {
          "output_type": "display_data",
          "data": {
            "text/markdown": "[https://yoast.com/werken-bij](https://yoast.com/werken-bij)"
          },
          "metadata": {}
        },
        {
          "output_type": "display_data",
          "data": {
            "text/markdown": "[https://yoast.com/community/care-fund/recipients/wajari-velasquez](https://yoast.com/community/care-fund/recipients/wajari-velasquez)"
          },
          "metadata": {}
        },
        {
          "output_type": "display_data",
          "data": {
            "text/markdown": "[https://yoast.com/about-us/team/rolf-siebers](https://yoast.com/about-us/team/rolf-siebers)"
          },
          "metadata": {}
        },
        {
          "output_type": "display_data",
          "data": {
            "text/markdown": "[https://yoast.com/about-us/team/dennis-claassen](https://yoast.com/about-us/team/dennis-claassen)"
          },
          "metadata": {}
        },
        {
          "output_type": "display_data",
          "data": {
            "text/markdown": "[https://yoast.com/about-us/team/anne-baukje-de-jong](https://yoast.com/about-us/team/anne-baukje-de-jong)"
          },
          "metadata": {}
        },
        {
          "output_type": "display_data",
          "data": {
            "text/markdown": "[https://yoast.com/wordpress-core/wordpress-5-7-has-reached-final-beta-stage-and-team-update](https://yoast.com/wordpress-core/wordpress-5-7-has-reached-final-beta-stage-and-team-update)"
          },
          "metadata": {}
        },
        {
          "output_type": "display_data",
          "data": {
            "text/markdown": "[https://yoast.com/community/care-fund/recipients/luca-tumedei](https://yoast.com/community/care-fund/recipients/luca-tumedei)"
          },
          "metadata": {}
        },
        {
          "output_type": "display_data",
          "data": {
            "text/markdown": "[https://yoast.com/help/how-to-activate-the-events-calender-integration-in-yoast-seo](https://yoast.com/help/how-to-activate-the-events-calender-integration-in-yoast-seo)"
          },
          "metadata": {}
        },
        {
          "output_type": "display_data",
          "data": {
            "text/markdown": "[https://yoast.com/community/care-fund/recipients/muhammad-kashif](https://yoast.com/community/care-fund/recipients/muhammad-kashif)"
          },
          "metadata": {}
        },
        {
          "output_type": "display_data",
          "data": {
            "text/markdown": "[https://yoast.com/wordpress-hosting/hostinger](https://yoast.com/wordpress-hosting/hostinger)"
          },
          "metadata": {}
        },
        {
          "output_type": "display_data",
          "data": {
            "text/markdown": "[https://yoast.com/developer-blog/dutch-belgian-information-retrieval-workshop-2016](https://yoast.com/developer-blog/dutch-belgian-information-retrieval-workshop-2016)"
          },
          "metadata": {}
        },
        {
          "output_type": "display_data",
          "data": {
            "text/markdown": "[https://yoast.com/webinar/seo-news-webinar-may-2021](https://yoast.com/webinar/seo-news-webinar-may-2021)"
          },
          "metadata": {}
        },
        {
          "output_type": "display_data",
          "data": {
            "text/markdown": "[https://yoast.com/features/wordproof-integration](https://yoast.com/features/wordproof-integration)"
          },
          "metadata": {}
        },
        {
          "output_type": "display_data",
          "data": {
            "text/markdown": "[https://yoast.com/webinar/seo-news-webinar-june-2021](https://yoast.com/webinar/seo-news-webinar-june-2021)"
          },
          "metadata": {}
        },
        {
          "output_type": "display_data",
          "data": {
            "text/markdown": "[https://yoast.com/webinar](https://yoast.com/webinar)"
          },
          "metadata": {}
        },
        {
          "output_type": "display_data",
          "data": {
            "text/markdown": "[https://yoast.com/community/care-fund/recipients/stefano-cassone](https://yoast.com/community/care-fund/recipients/stefano-cassone)"
          },
          "metadata": {}
        },
        {
          "output_type": "display_data",
          "data": {
            "text/markdown": "[https://yoast.com/podcast/marieke-van-de-rakt](https://yoast.com/podcast/marieke-van-de-rakt)"
          },
          "metadata": {}
        },
        {
          "output_type": "display_data",
          "data": {
            "text/markdown": "[https://yoast.com/goodie-wceu2020](https://yoast.com/goodie-wceu2020)"
          },
          "metadata": {}
        },
        {
          "output_type": "display_data",
          "data": {
            "text/markdown": "[https://yoast.com/wordpress-hosting/pantheon](https://yoast.com/wordpress-hosting/pantheon)"
          },
          "metadata": {}
        },
        {
          "output_type": "display_data",
          "data": {
            "text/markdown": "[https://yoast.com/community/care-fund/recipients/christiana-mohr](https://yoast.com/community/care-fund/recipients/christiana-mohr)"
          },
          "metadata": {}
        },
        {
          "output_type": "display_data",
          "data": {
            "text/markdown": "[https://yoast.com/about-us/team/carl-bailey](https://yoast.com/about-us/team/carl-bailey)"
          },
          "metadata": {}
        },
        {
          "output_type": "display_data",
          "data": {
            "text/markdown": "[https://yoast.com/video/ranking-service-business-nationwide](https://yoast.com/video/ranking-service-business-nationwide)"
          },
          "metadata": {}
        },
        {
          "output_type": "display_data",
          "data": {
            "text/markdown": "[https://yoast.com/yoast-seo-10-1](https://yoast.com/yoast-seo-10-1)"
          },
          "metadata": {}
        },
        {
          "output_type": "display_data",
          "data": {
            "text/markdown": "[https://yoast.com/benefits](https://yoast.com/benefits)"
          },
          "metadata": {}
        },
        {
          "output_type": "display_data",
          "data": {
            "text/markdown": "[https://yoast.com/webinar/the-seo-update-by-yoast-december-2023-edition](https://yoast.com/webinar/the-seo-update-by-yoast-december-2023-edition)"
          },
          "metadata": {}
        },
        {
          "output_type": "display_data",
          "data": {
            "text/markdown": "[https://yoast.com/help/yoast-subscriptions-faq](https://yoast.com/help/yoast-subscriptions-faq)"
          },
          "metadata": {}
        },
        {
          "output_type": "display_data",
          "data": {
            "text/markdown": "[https://yoast.com/community/care-fund/recipients/alexander-gounder-2023](https://yoast.com/community/care-fund/recipients/alexander-gounder-2023)"
          },
          "metadata": {}
        },
        {
          "output_type": "display_data",
          "data": {
            "text/markdown": "[https://yoast.com/video/ask-yoast-disavow-links-from-shady-sites](https://yoast.com/video/ask-yoast-disavow-links-from-shady-sites)"
          },
          "metadata": {}
        },
        {
          "output_type": "display_data",
          "data": {
            "text/markdown": "[https://yoast.com/help/fatal-error-call-to-undefined-function-filterinput](https://yoast.com/help/fatal-error-call-to-undefined-function-filterinput)"
          },
          "metadata": {}
        },
        {
          "output_type": "display_data",
          "data": {
            "text/markdown": "[https://yoast.com/community/care-fund/recipients/abdullah-ramzan](https://yoast.com/community/care-fund/recipients/abdullah-ramzan)"
          },
          "metadata": {}
        },
        {
          "output_type": "display_data",
          "data": {
            "text/markdown": "[https://yoast.com/academy/local-seo-training](https://yoast.com/academy/local-seo-training)"
          },
          "metadata": {}
        },
        {
          "output_type": "display_data",
          "data": {
            "text/markdown": "[https://yoast.com/tag/yandex](https://yoast.com/tag/yandex)"
          },
          "metadata": {}
        },
        {
          "output_type": "display_data",
          "data": {
            "text/markdown": "[https://yoast.com/summer-school](https://yoast.com/summer-school)"
          },
          "metadata": {}
        },
        {
          "output_type": "display_data",
          "data": {
            "text/markdown": "[https://yoast.com/features/structured-data](https://yoast.com/features/structured-data)"
          },
          "metadata": {}
        },
        {
          "output_type": "display_data",
          "data": {
            "text/markdown": "[https://yoast.com/help/how-to-assign-a-course-or-a-subscription-to-someone-else](https://yoast.com/help/how-to-assign-a-course-or-a-subscription-to-someone-else)"
          },
          "metadata": {}
        },
        {
          "output_type": "display_data",
          "data": {
            "text/markdown": "[https://yoast.com/community/care-fund/recipients/piermario-orecchioni](https://yoast.com/community/care-fund/recipients/piermario-orecchioni)"
          },
          "metadata": {}
        },
        {
          "output_type": "display_data",
          "data": {
            "text/markdown": "[https://yoast.com/video/how-to-make-a-wordpress-website](https://yoast.com/video/how-to-make-a-wordpress-website)"
          },
          "metadata": {}
        },
        {
          "output_type": "display_data",
          "data": {
            "text/markdown": "[https://yoast.com/developer-blog/yoast-seo-developer-beta](https://yoast.com/developer-blog/yoast-seo-developer-beta)"
          },
          "metadata": {}
        },
        {
          "output_type": "display_data",
          "data": {
            "text/markdown": "[https://yoast.com/video/ask-yoast-slug-for-arabic-urls](https://yoast.com/video/ask-yoast-slug-for-arabic-urls)"
          },
          "metadata": {}
        },
        {
          "output_type": "display_data",
          "data": {
            "text/markdown": "[https://yoast.com/about-us/team/lotte-janssen](https://yoast.com/about-us/team/lotte-janssen)"
          },
          "metadata": {}
        },
        {
          "output_type": "display_data",
          "data": {
            "text/markdown": "[https://yoast.com/tag/crawl-directives](https://yoast.com/tag/crawl-directives)"
          },
          "metadata": {}
        },
        {
          "output_type": "display_data",
          "data": {
            "text/markdown": "[https://yoast.com/help/features-per-language](https://yoast.com/help/features-per-language)"
          },
          "metadata": {}
        },
        {
          "output_type": "display_data",
          "data": {
            "text/markdown": "[https://yoast.com/developer-blog/developer-takeaways-from-wordcamp-us](https://yoast.com/developer-blog/developer-takeaways-from-wordcamp-us)"
          },
          "metadata": {}
        },
        {
          "output_type": "display_data",
          "data": {
            "text/markdown": "[https://yoast.com/developer-blog/you-should-never-attend-a-wordcamp](https://yoast.com/developer-blog/you-should-never-attend-a-wordcamp)"
          },
          "metadata": {}
        },
        {
          "output_type": "display_data",
          "data": {
            "text/markdown": "[https://yoast.com/seo-tools](https://yoast.com/seo-tools)"
          },
          "metadata": {}
        },
        {
          "output_type": "display_data",
          "data": {
            "text/markdown": "[https://yoast.com/help/yoast-internal-linking-fails](https://yoast.com/help/yoast-internal-linking-fails)"
          },
          "metadata": {}
        },
        {
          "output_type": "display_data",
          "data": {
            "text/markdown": "[https://yoast.com/about-us/team/alain-schlesser](https://yoast.com/about-us/team/alain-schlesser)"
          },
          "metadata": {}
        },
        {
          "output_type": "display_data",
          "data": {
            "text/markdown": "[https://yoast.com/community/care-fund/recipients/husnain-iqbal](https://yoast.com/community/care-fund/recipients/husnain-iqbal)"
          },
          "metadata": {}
        },
        {
          "output_type": "display_data",
          "data": {
            "text/markdown": "[https://yoast.com/webinar/video-seo-webinar-april-13](https://yoast.com/webinar/video-seo-webinar-april-13)"
          },
          "metadata": {}
        },
        {
          "output_type": "display_data",
          "data": {
            "text/markdown": "[https://yoast.com/wordpress-core/preparing-wordpress-5-9-1-yoast-contributor-day](https://yoast.com/wordpress-core/preparing-wordpress-5-9-1-yoast-contributor-day)"
          },
          "metadata": {}
        },
        {
          "output_type": "display_data",
          "data": {
            "text/markdown": "[https://yoast.com/help/how-to-set-a-primary-location-in-local-seo](https://yoast.com/help/how-to-set-a-primary-location-in-local-seo)"
          },
          "metadata": {}
        },
        {
          "output_type": "display_data",
          "data": {
            "text/markdown": "[https://yoast.com/help/activate-premium-license](https://yoast.com/help/activate-premium-license)"
          },
          "metadata": {}
        },
        {
          "output_type": "display_data",
          "data": {
            "text/markdown": "[https://yoast.com/tag/readability](https://yoast.com/tag/readability)"
          },
          "metadata": {}
        },
        {
          "output_type": "display_data",
          "data": {
            "text/markdown": "[https://yoast.com/webinar/webinar-how-to-start-with-seo-november-13-2023](https://yoast.com/webinar/webinar-how-to-start-with-seo-november-13-2023)"
          },
          "metadata": {}
        },
        {
          "output_type": "display_data",
          "data": {
            "text/markdown": "[https://yoast.com/developer-blog/feedburner-down](https://yoast.com/developer-blog/feedburner-down)"
          },
          "metadata": {}
        },
        {
          "output_type": "display_data",
          "data": {
            "text/markdown": "[https://yoast.com/wordpress-core/welcome-to-our-wordpress-core-development-blog](https://yoast.com/wordpress-core/welcome-to-our-wordpress-core-development-blog)"
          },
          "metadata": {}
        },
        {
          "output_type": "display_data",
          "data": {
            "text/markdown": "[https://yoast.com/about-us/team/agnieszka-szuba](https://yoast.com/about-us/team/agnieszka-szuba)"
          },
          "metadata": {}
        },
        {
          "output_type": "display_data",
          "data": {
            "text/markdown": "[https://yoast.com/help/how-to-renew-your-subscription-early](https://yoast.com/help/how-to-renew-your-subscription-early)"
          },
          "metadata": {}
        },
        {
          "output_type": "display_data",
          "data": {
            "text/markdown": "[https://yoast.com/developer-blog/saving-time-with-git-hooks](https://yoast.com/developer-blog/saving-time-with-git-hooks)"
          },
          "metadata": {}
        },
        {
          "output_type": "display_data",
          "data": {
            "text/markdown": "[https://yoast.com/help/faq-ai-in-yoast-seo](https://yoast.com/help/faq-ai-in-yoast-seo)"
          },
          "metadata": {}
        },
        {
          "output_type": "display_data",
          "data": {
            "text/markdown": "[https://yoast.com/help/shared-business-info-in-local-seo](https://yoast.com/help/shared-business-info-in-local-seo)"
          },
          "metadata": {}
        },
        {
          "output_type": "display_data",
          "data": {
            "text/markdown": "[https://yoast.com/comment-policy](https://yoast.com/comment-policy)"
          },
          "metadata": {}
        },
        {
          "output_type": "display_data",
          "data": {
            "text/markdown": "[https://yoast.com/community/care-fund/recipients/gessica-peretti](https://yoast.com/community/care-fund/recipients/gessica-peretti)"
          },
          "metadata": {}
        },
        {
          "output_type": "display_data",
          "data": {
            "text/markdown": "[https://yoast.com/community/care-fund/recipients/stefano-cassone-2](https://yoast.com/community/care-fund/recipients/stefano-cassone-2)"
          },
          "metadata": {}
        },
        {
          "output_type": "display_data",
          "data": {
            "text/markdown": "[https://yoast.com/help/how-to-implement-yoast-seo-breadcrumbs](https://yoast.com/help/how-to-implement-yoast-seo-breadcrumbs)"
          },
          "metadata": {}
        },
        {
          "output_type": "display_data",
          "data": {
            "text/markdown": "[https://yoast.com/wordpress/plugins/seo/open-graph-tags](https://yoast.com/wordpress/plugins/seo/open-graph-tags)"
          },
          "metadata": {}
        },
        {
          "output_type": "display_data",
          "data": {
            "text/markdown": "[https://yoast.com/about-us/events/wordcamp-asia-2024](https://yoast.com/about-us/events/wordcamp-asia-2024)"
          },
          "metadata": {}
        },
        {
          "output_type": "display_data",
          "data": {
            "text/markdown": "[https://yoast.com/tag/site-speed](https://yoast.com/tag/site-speed)"
          },
          "metadata": {}
        },
        {
          "output_type": "display_data",
          "data": {
            "text/markdown": "[https://yoast.com/help/how-to-noindex-an-entire-site](https://yoast.com/help/how-to-noindex-an-entire-site)"
          },
          "metadata": {}
        },
        {
          "output_type": "display_data",
          "data": {
            "text/markdown": "[https://yoast.com/about-us/team/karin-berning-pijnappels](https://yoast.com/about-us/team/karin-berning-pijnappels)"
          },
          "metadata": {}
        },
        {
          "output_type": "display_data",
          "data": {
            "text/markdown": "[https://yoast.com/help/guide-for-yoast-seo-for-shopify](https://yoast.com/help/guide-for-yoast-seo-for-shopify)"
          },
          "metadata": {}
        },
        {
          "output_type": "display_data",
          "data": {
            "text/markdown": "[https://yoast.com/assess-your-seo-content-fitness](https://yoast.com/assess-your-seo-content-fitness)"
          },
          "metadata": {}
        },
        {
          "output_type": "display_data",
          "data": {
            "text/markdown": "[https://yoast.com/video/ask-yoast-how-to-update-images-without-losing-rankings](https://yoast.com/video/ask-yoast-how-to-update-images-without-losing-rankings)"
          },
          "metadata": {}
        },
        {
          "output_type": "display_data",
          "data": {
            "text/markdown": "[https://yoast.com/community/care-fund/recipients/cate-derosia](https://yoast.com/community/care-fund/recipients/cate-derosia)"
          },
          "metadata": {}
        },
        {
          "output_type": "display_data",
          "data": {
            "text/markdown": "[https://yoast.com/help/how-to-migrate-from-wp-meta-seo-to-yoast-seo](https://yoast.com/help/how-to-migrate-from-wp-meta-seo-to-yoast-seo)"
          },
          "metadata": {}
        },
        {
          "output_type": "display_data",
          "data": {
            "text/markdown": "[https://yoast.com/wordpress-hosting/veerotech](https://yoast.com/wordpress-hosting/veerotech)"
          },
          "metadata": {}
        },
        {
          "output_type": "display_data",
          "data": {
            "text/markdown": "[https://yoast.com/tag/website-maintenance](https://yoast.com/tag/website-maintenance)"
          },
          "metadata": {}
        },
        {
          "output_type": "display_data",
          "data": {
            "text/markdown": "[https://yoast.com/about-us/team/linda-klarenberg](https://yoast.com/about-us/team/linda-klarenberg)"
          },
          "metadata": {}
        },
        {
          "output_type": "display_data",
          "data": {
            "text/markdown": "[https://yoast.com/features/transition-words](https://yoast.com/features/transition-words)"
          },
          "metadata": {}
        },
        {
          "output_type": "display_data",
          "data": {
            "text/markdown": "[https://yoast.com/about-us/product-philosophy/synergy](https://yoast.com/about-us/product-philosophy/synergy)"
          },
          "metadata": {}
        },
        {
          "output_type": "display_data",
          "data": {
            "text/markdown": "[https://yoast.com/help](https://yoast.com/help)"
          },
          "metadata": {}
        },
        {
          "output_type": "display_data",
          "data": {
            "text/markdown": "[https://yoast.com/help/redirect-image-attachment-urls](https://yoast.com/help/redirect-image-attachment-urls)"
          },
          "metadata": {}
        },
        {
          "output_type": "display_data",
          "data": {
            "text/markdown": "[https://yoast.com/wordpress-core/a-week-with-us-yoast-contributor-day-and-more](https://yoast.com/wordpress-core/a-week-with-us-yoast-contributor-day-and-more)"
          },
          "metadata": {}
        },
        {
          "output_type": "display_data",
          "data": {
            "text/markdown": "[https://yoast.com/developer-blog/the-2020-wordpress-and-php-8-compatibility-report](https://yoast.com/developer-blog/the-2020-wordpress-and-php-8-compatibility-report)"
          },
          "metadata": {}
        },
        {
          "output_type": "display_data",
          "data": {
            "text/markdown": "[https://yoast.com/developer-blog/accessibility-future-you](https://yoast.com/developer-blog/accessibility-future-you)"
          },
          "metadata": {}
        },
        {
          "output_type": "display_data",
          "data": {
            "text/markdown": "[https://yoast.com/help/do-i-need-a-dpa-when-i-purchase-from-yoast](https://yoast.com/help/do-i-need-a-dpa-when-i-purchase-from-yoast)"
          },
          "metadata": {}
        },
        {
          "output_type": "display_data",
          "data": {
            "text/markdown": "[https://yoast.com/wordpress-hosting/34sp-com](https://yoast.com/wordpress-hosting/34sp-com)"
          },
          "metadata": {}
        },
        {
          "output_type": "display_data",
          "data": {
            "text/markdown": "[https://yoast.com/help/how-to-change-the-name-on-your-certificate](https://yoast.com/help/how-to-change-the-name-on-your-certificate)"
          },
          "metadata": {}
        },
        {
          "output_type": "display_data",
          "data": {
            "text/markdown": "[https://yoast.com/video/ask-yoast-site-migration-and-rankings](https://yoast.com/video/ask-yoast-site-migration-and-rankings)"
          },
          "metadata": {}
        },
        {
          "output_type": "display_data",
          "data": {
            "text/markdown": "[https://yoast.com/help/what-has-changed-in-video-seo](https://yoast.com/help/what-has-changed-in-video-seo)"
          },
          "metadata": {}
        },
        {
          "output_type": "display_data",
          "data": {
            "text/markdown": "[https://yoast.com/help/upgrade-product-subscription-to-bundle](https://yoast.com/help/upgrade-product-subscription-to-bundle)"
          },
          "metadata": {}
        },
        {
          "output_type": "display_data",
          "data": {
            "text/markdown": "[https://yoast.com/help/google-maps-user-admin](https://yoast.com/help/google-maps-user-admin)"
          },
          "metadata": {}
        },
        {
          "output_type": "display_data",
          "data": {
            "text/markdown": "[https://yoast.com/help/yoast-seo-settings-site-connections](https://yoast.com/help/yoast-seo-settings-site-connections)"
          },
          "metadata": {}
        },
        {
          "output_type": "display_data",
          "data": {
            "text/markdown": "[https://yoast.com/features/premium-seo-analysis/word-form-recognition](https://yoast.com/features/premium-seo-analysis/word-form-recognition)"
          },
          "metadata": {}
        },
        {
          "output_type": "display_data",
          "data": {
            "text/markdown": "[https://yoast.com/developer-blog/developing-the-yoast-seo-onboarding-wizard](https://yoast.com/developer-blog/developing-the-yoast-seo-onboarding-wizard)"
          },
          "metadata": {}
        },
        {
          "output_type": "display_data",
          "data": {
            "text/markdown": "[https://yoast.com/webinar/seo-news-august-2022](https://yoast.com/webinar/seo-news-august-2022)"
          },
          "metadata": {}
        },
        {
          "output_type": "display_data",
          "data": {
            "text/markdown": "[https://yoast.com/help/how-to-use-the-rewrite-republish-feature-in-yoast-duplicate-post](https://yoast.com/help/how-to-use-the-rewrite-republish-feature-in-yoast-duplicate-post)"
          },
          "metadata": {}
        },
        {
          "output_type": "display_data",
          "data": {
            "text/markdown": "[https://yoast.com/about-us/brand-resource-center](https://yoast.com/about-us/brand-resource-center)"
          },
          "metadata": {}
        },
        {
          "output_type": "display_data",
          "data": {
            "text/markdown": "[https://yoast.com/about-us/team/giorgia-piccolo](https://yoast.com/about-us/team/giorgia-piccolo)"
          },
          "metadata": {}
        },
        {
          "output_type": "display_data",
          "data": {
            "text/markdown": "[https://yoast.com/help/how-to-add-a-short-product-description-in-woocommerce-with-yoast-woocommerce-seo](https://yoast.com/help/how-to-add-a-short-product-description-in-woocommerce-with-yoast-woocommerce-seo)"
          },
          "metadata": {}
        },
        {
          "output_type": "display_data",
          "data": {
            "text/markdown": "[https://yoast.com/features/enhanced-slack-sharing](https://yoast.com/features/enhanced-slack-sharing)"
          },
          "metadata": {}
        },
        {
          "output_type": "display_data",
          "data": {
            "text/markdown": "[https://yoast.com/community/care-fund/recipients/giorgia-castro](https://yoast.com/community/care-fund/recipients/giorgia-castro)"
          },
          "metadata": {}
        },
        {
          "output_type": "display_data",
          "data": {
            "text/markdown": "[https://yoast.com/help/change-search-label-store-locator](https://yoast.com/help/change-search-label-store-locator)"
          },
          "metadata": {}
        },
        {
          "output_type": "display_data",
          "data": {
            "text/markdown": "[https://yoast.com/community/care-fund/recipients/alice-orru](https://yoast.com/community/care-fund/recipients/alice-orru)"
          },
          "metadata": {}
        },
        {
          "output_type": "display_data",
          "data": {
            "text/markdown": "[https://yoast.com/help/advanced-crawl-settings-permalink-cleanup](https://yoast.com/help/advanced-crawl-settings-permalink-cleanup)"
          },
          "metadata": {}
        },
        {
          "output_type": "display_data",
          "data": {
            "text/markdown": "[https://yoast.com/wordpress-hosting/tvc-net](https://yoast.com/wordpress-hosting/tvc-net)"
          },
          "metadata": {}
        },
        {
          "output_type": "display_data",
          "data": {
            "text/markdown": "[https://yoast.com/community/care-fund/recipients/dan-maby](https://yoast.com/community/care-fund/recipients/dan-maby)"
          },
          "metadata": {}
        },
        {
          "output_type": "display_data",
          "data": {
            "text/markdown": "[https://yoast.com/help/customize-your-yoast-seo-experience](https://yoast.com/help/customize-your-yoast-seo-experience)"
          },
          "metadata": {}
        },
        {
          "output_type": "display_data",
          "data": {
            "text/markdown": "[https://yoast.com/wordpress-hosting/stromonic](https://yoast.com/wordpress-hosting/stromonic)"
          },
          "metadata": {}
        },
        {
          "output_type": "display_data",
          "data": {
            "text/markdown": "[https://yoast.com/developer-blog/splitting-rtl-texts-into-sentences-2](https://yoast.com/developer-blog/splitting-rtl-texts-into-sentences-2)"
          },
          "metadata": {}
        },
        {
          "output_type": "display_data",
          "data": {
            "text/markdown": "[https://yoast.com/wordpress-core/the-wordpress-core-team](https://yoast.com/wordpress-core/the-wordpress-core-team)"
          },
          "metadata": {}
        },
        {
          "output_type": "display_data",
          "data": {
            "text/markdown": "[https://yoast.com/help/publication-date-time-in-the-news-xml-sitemap](https://yoast.com/help/publication-date-time-in-the-news-xml-sitemap)"
          },
          "metadata": {}
        },
        {
          "output_type": "display_data",
          "data": {
            "text/markdown": "[https://yoast.com/wordpress-core/wordpress-5-9-rc2](https://yoast.com/wordpress-core/wordpress-5-9-rc2)"
          },
          "metadata": {}
        },
        {
          "output_type": "display_data",
          "data": {
            "text/markdown": "[https://yoast.com/academy/free-seo-training-seo-for-beginners](https://yoast.com/academy/free-seo-training-seo-for-beginners)"
          },
          "metadata": {}
        },
        {
          "output_type": "display_data",
          "data": {
            "text/markdown": "[https://yoast.com/community/care-fund/recipients/luisa-ravelli-2](https://yoast.com/community/care-fund/recipients/luisa-ravelli-2)"
          },
          "metadata": {}
        },
        {
          "output_type": "display_data",
          "data": {
            "text/markdown": "[https://yoast.com/developer-blog/lazy-programmers-are-good-programmers](https://yoast.com/developer-blog/lazy-programmers-are-good-programmers)"
          },
          "metadata": {}
        },
        {
          "output_type": "display_data",
          "data": {
            "text/markdown": "[https://yoast.com/podcast/purna-virji](https://yoast.com/podcast/purna-virji)"
          },
          "metadata": {}
        },
        {
          "output_type": "display_data",
          "data": {
            "text/markdown": "[https://yoast.com/help/how-to-fix-missing-schema-property-missing-field-pricevaliduntil](https://yoast.com/help/how-to-fix-missing-schema-property-missing-field-pricevaliduntil)"
          },
          "metadata": {}
        },
        {
          "output_type": "display_data",
          "data": {
            "text/markdown": "[https://yoast.com/community/care-fund/recipients/takis-bouyouris](https://yoast.com/community/care-fund/recipients/takis-bouyouris)"
          },
          "metadata": {}
        },
        {
          "output_type": "display_data",
          "data": {
            "text/markdown": "[https://yoast.com/video/ask-yoast-why-how-minify-js-and-css](https://yoast.com/video/ask-yoast-why-how-minify-js-and-css)"
          },
          "metadata": {}
        },
        {
          "output_type": "display_data",
          "data": {
            "text/markdown": "[https://yoast.com/help/how-do-you-set-up-the-improved-site-search-algolia-ranking](https://yoast.com/help/how-do-you-set-up-the-improved-site-search-algolia-ranking)"
          },
          "metadata": {}
        },
        {
          "output_type": "display_data",
          "data": {
            "text/markdown": "[https://yoast.com/help/how-to-use-ai-in-yoast-seo-premium](https://yoast.com/help/how-to-use-ai-in-yoast-seo-premium)"
          },
          "metadata": {}
        },
        {
          "output_type": "display_data",
          "data": {
            "text/markdown": "[https://yoast.com/wordpress-core/wordpress-5-9-1-e2e-test-migration](https://yoast.com/wordpress-core/wordpress-5-9-1-e2e-test-migration)"
          },
          "metadata": {}
        },
        {
          "output_type": "display_data",
          "data": {
            "text/markdown": "[https://yoast.com/wordpress/plugins/yoast-local-premium-bundle](https://yoast.com/wordpress/plugins/yoast-local-premium-bundle)"
          },
          "metadata": {}
        },
        {
          "output_type": "display_data",
          "data": {
            "text/markdown": "[https://yoast.com/help/switch-payment-method-upcoming-automatic-renewals](https://yoast.com/help/switch-payment-method-upcoming-automatic-renewals)"
          },
          "metadata": {}
        },
        {
          "output_type": "display_data",
          "data": {
            "text/markdown": "[https://yoast.com/tag/bing](https://yoast.com/tag/bing)"
          },
          "metadata": {}
        },
        {
          "output_type": "display_data",
          "data": {
            "text/markdown": "[https://yoast.com/help/aggregaterating-review-offer-required](https://yoast.com/help/aggregaterating-review-offer-required)"
          },
          "metadata": {}
        },
        {
          "output_type": "display_data",
          "data": {
            "text/markdown": "[https://yoast.com/about-us/product-philosophy](https://yoast.com/about-us/product-philosophy)"
          },
          "metadata": {}
        },
        {
          "output_type": "display_data",
          "data": {
            "text/markdown": "[https://yoast.com/about-us/team/sem-verbeet](https://yoast.com/about-us/team/sem-verbeet)"
          },
          "metadata": {}
        },
        {
          "output_type": "display_data",
          "data": {
            "text/markdown": "[https://yoast.com/wordpress-hosting/hostarmada](https://yoast.com/wordpress-hosting/hostarmada)"
          },
          "metadata": {}
        },
        {
          "output_type": "display_data",
          "data": {
            "text/markdown": "[https://yoast.com/about-us/team/carole-olinger](https://yoast.com/about-us/team/carole-olinger)"
          },
          "metadata": {}
        },
        {
          "output_type": "display_data",
          "data": {
            "text/markdown": "[https://yoast.com/webinar/seo-news-october-2022](https://yoast.com/webinar/seo-news-october-2022)"
          },
          "metadata": {}
        },
        {
          "output_type": "display_data",
          "data": {
            "text/markdown": "[https://yoast.com/features/redirect-manager/csv-import-export](https://yoast.com/features/redirect-manager/csv-import-export)"
          },
          "metadata": {}
        },
        {
          "output_type": "display_data",
          "data": {
            "text/markdown": "[https://yoast.com/help/yoast-seo-settings-crawl-optimization](https://yoast.com/help/yoast-seo-settings-crawl-optimization)"
          },
          "metadata": {}
        },
        {
          "output_type": "display_data",
          "data": {
            "text/markdown": "[https://yoast.com/help/gdpr](https://yoast.com/help/gdpr)"
          },
          "metadata": {}
        },
        {
          "output_type": "display_data",
          "data": {
            "text/markdown": "[https://yoast.com/help/not-receiving-updates-support](https://yoast.com/help/not-receiving-updates-support)"
          },
          "metadata": {}
        },
        {
          "output_type": "display_data",
          "data": {
            "text/markdown": "[https://yoast.com/developer-blog/safely-using-php-dependencies-in-the-wordpress-ecosystem](https://yoast.com/developer-blog/safely-using-php-dependencies-in-the-wordpress-ecosystem)"
          },
          "metadata": {}
        },
        {
          "output_type": "display_data",
          "data": {
            "text/markdown": "[https://yoast.com/help/how-to-noindex-individual-author-pages](https://yoast.com/help/how-to-noindex-individual-author-pages)"
          },
          "metadata": {}
        },
        {
          "output_type": "display_data",
          "data": {
            "text/markdown": "[https://yoast.com/tag/local-seo-case-study](https://yoast.com/tag/local-seo-case-study)"
          },
          "metadata": {}
        },
        {
          "output_type": "display_data",
          "data": {
            "text/markdown": "[https://yoast.com/help/is-the-plugin-compatible-with-xyz-visual-page-builder](https://yoast.com/help/is-the-plugin-compatible-with-xyz-visual-page-builder)"
          },
          "metadata": {}
        },
        {
          "output_type": "display_data",
          "data": {
            "text/markdown": "[https://yoast.com/about-us/team/alain-van-schaijk](https://yoast.com/about-us/team/alain-van-schaijk)"
          },
          "metadata": {}
        },
        {
          "output_type": "display_data",
          "data": {
            "text/markdown": "[https://yoast.com/tag/http-header](https://yoast.com/tag/http-header)"
          },
          "metadata": {}
        },
        {
          "output_type": "display_data",
          "data": {
            "text/markdown": "[https://yoast.com/video/ask-yoast-several-link-tags-seo](https://yoast.com/video/ask-yoast-several-link-tags-seo)"
          },
          "metadata": {}
        },
        {
          "output_type": "display_data",
          "data": {
            "text/markdown": "[https://yoast.com/webinar/the-seo-update-by-yoast-january-2024-edition](https://yoast.com/webinar/the-seo-update-by-yoast-january-2024-edition)"
          },
          "metadata": {}
        },
        {
          "output_type": "display_data",
          "data": {
            "text/markdown": "[https://yoast.com/wordpress-core/2021-review-wordpress-core-team](https://yoast.com/wordpress-core/2021-review-wordpress-core-team)"
          },
          "metadata": {}
        },
        {
          "output_type": "display_data",
          "data": {
            "text/markdown": "[https://yoast.com/webinar/webinar-how-to-start-with-seo-january-29-2024](https://yoast.com/webinar/webinar-how-to-start-with-seo-january-29-2024)"
          },
          "metadata": {}
        },
        {
          "output_type": "display_data",
          "data": {
            "text/markdown": "[https://yoast.com/help/set-change-myyoast-account-password](https://yoast.com/help/set-change-myyoast-account-password)"
          },
          "metadata": {}
        },
        {
          "output_type": "display_data",
          "data": {
            "text/markdown": "[https://yoast.com/features/structured-data-blocks/faq-block](https://yoast.com/features/structured-data-blocks/faq-block)"
          },
          "metadata": {}
        },
        {
          "output_type": "display_data",
          "data": {
            "text/markdown": "[https://yoast.com/video/ask-yoast-use-www-or-not](https://yoast.com/video/ask-yoast-use-www-or-not)"
          },
          "metadata": {}
        },
        {
          "output_type": "display_data",
          "data": {
            "text/markdown": "[https://yoast.com/about-us/team/bob-linthorst](https://yoast.com/about-us/team/bob-linthorst)"
          },
          "metadata": {}
        },
        {
          "output_type": "display_data",
          "data": {
            "text/markdown": "[https://yoast.com/help/shortcodes-not-rendering](https://yoast.com/help/shortcodes-not-rendering)"
          },
          "metadata": {}
        },
        {
          "output_type": "display_data",
          "data": {
            "text/markdown": "[https://yoast.com/help/add-theme-support-for-yoast-seo-breadcrumbs](https://yoast.com/help/add-theme-support-for-yoast-seo-breadcrumbs)"
          },
          "metadata": {}
        },
        {
          "output_type": "display_data",
          "data": {
            "text/markdown": "[https://yoast.com/help/why-does-my-sitemap-have-gray-links](https://yoast.com/help/why-does-my-sitemap-have-gray-links)"
          },
          "metadata": {}
        },
        {
          "output_type": "display_data",
          "data": {
            "text/markdown": "[https://yoast.com/about-us/team/dion-muller](https://yoast.com/about-us/team/dion-muller)"
          },
          "metadata": {}
        },
        {
          "output_type": "display_data",
          "data": {
            "text/markdown": "[https://yoast.com/help/content-settings-yoast-seo-shopify](https://yoast.com/help/content-settings-yoast-seo-shopify)"
          },
          "metadata": {}
        },
        {
          "output_type": "display_data",
          "data": {
            "text/markdown": "[https://yoast.com/help/how-do-i-add-a-new-admin-user](https://yoast.com/help/how-do-i-add-a-new-admin-user)"
          },
          "metadata": {}
        },
        {
          "output_type": "display_data",
          "data": {
            "text/markdown": "[https://yoast.com/help/yoast-seo-general-dashboard](https://yoast.com/help/yoast-seo-general-dashboard)"
          },
          "metadata": {}
        },
        {
          "output_type": "display_data",
          "data": {
            "text/markdown": "[https://yoast.com/wordpress-core/wordpress-6-0-betas](https://yoast.com/wordpress-core/wordpress-6-0-betas)"
          },
          "metadata": {}
        },
        {
          "output_type": "display_data",
          "data": {
            "text/markdown": "[https://yoast.com/community/care-fund/recipients/mainul-kabir-aion](https://yoast.com/community/care-fund/recipients/mainul-kabir-aion)"
          },
          "metadata": {}
        },
        {
          "output_type": "display_data",
          "data": {
            "text/markdown": "[https://yoast.com/help/license-activation-notices](https://yoast.com/help/license-activation-notices)"
          },
          "metadata": {}
        },
        {
          "output_type": "display_data",
          "data": {
            "text/markdown": "[https://yoast.com/help/shared-opening-hours-in-local-seo](https://yoast.com/help/shared-opening-hours-in-local-seo)"
          },
          "metadata": {}
        },
        {
          "output_type": "display_data",
          "data": {
            "text/markdown": "[https://yoast.com/wordpress-core/contributor-day-and-wordpress-5-8-beta-3](https://yoast.com/wordpress-core/contributor-day-and-wordpress-5-8-beta-3)"
          },
          "metadata": {}
        },
        {
          "output_type": "display_data",
          "data": {
            "text/markdown": "[https://yoast.com/help/manage-yoast-seo-subscription-shopify](https://yoast.com/help/manage-yoast-seo-subscription-shopify)"
          },
          "metadata": {}
        },
        {
          "output_type": "display_data",
          "data": {
            "text/markdown": "[https://yoast.com/community/care-fund/recipients/francesco-di-candia](https://yoast.com/community/care-fund/recipients/francesco-di-candia)"
          },
          "metadata": {}
        },
        {
          "output_type": "display_data",
          "data": {
            "text/markdown": "[https://yoast.com/help/how-to-use-yoast-seo-in-your-language](https://yoast.com/help/how-to-use-yoast-seo-in-your-language)"
          },
          "metadata": {}
        },
        {
          "output_type": "display_data",
          "data": {
            "text/markdown": "[https://yoast.com/help/how-to-backup-your-wordpress-site](https://yoast.com/help/how-to-backup-your-wordpress-site)"
          },
          "metadata": {}
        },
        {
          "output_type": "display_data",
          "data": {
            "text/markdown": "[https://yoast.com/developer-blog/is-there-a-plugin-for-that](https://yoast.com/developer-blog/is-there-a-plugin-for-that)"
          },
          "metadata": {}
        },
        {
          "output_type": "display_data",
          "data": {
            "text/markdown": "[https://yoast.com/help/yoast-seo-first-time-configuration](https://yoast.com/help/yoast-seo-first-time-configuration)"
          },
          "metadata": {}
        },
        {
          "output_type": "display_data",
          "data": {
            "text/markdown": "[https://yoast.com/help/category-replacement-not-working](https://yoast.com/help/category-replacement-not-working)"
          },
          "metadata": {}
        },
        {
          "output_type": "display_data",
          "data": {
            "text/markdown": "[https://yoast.com/developer-blog/javascript-onboarding-wizard](https://yoast.com/developer-blog/javascript-onboarding-wizard)"
          },
          "metadata": {}
        },
        {
          "output_type": "display_data",
          "data": {
            "text/markdown": "[https://yoast.com/tag/seo-tools](https://yoast.com/tag/seo-tools)"
          },
          "metadata": {}
        },
        {
          "output_type": "display_data",
          "data": {
            "text/markdown": "[https://yoast.com/help/twitter-sharing-not-working](https://yoast.com/help/twitter-sharing-not-working)"
          },
          "metadata": {}
        },
        {
          "output_type": "display_data",
          "data": {
            "text/markdown": "[https://yoast.com/wordpress-hosting/accuweb-hosting](https://yoast.com/wordpress-hosting/accuweb-hosting)"
          },
          "metadata": {}
        },
        {
          "output_type": "display_data",
          "data": {
            "text/markdown": "[https://yoast.com/academy/keyword-research-training](https://yoast.com/academy/keyword-research-training)"
          },
          "metadata": {}
        },
        {
          "output_type": "display_data",
          "data": {
            "text/markdown": "[https://yoast.com/features/premium-seo-analysis/related-keyphrases](https://yoast.com/features/premium-seo-analysis/related-keyphrases)"
          },
          "metadata": {}
        },
        {
          "output_type": "display_data",
          "data": {
            "text/markdown": "[https://yoast.com/help/moving-from-http-to-https](https://yoast.com/help/moving-from-http-to-https)"
          },
          "metadata": {}
        },
        {
          "output_type": "display_data",
          "data": {
            "text/markdown": "[https://yoast.com/academy/free-seo-training-structured-data-for-beginners](https://yoast.com/academy/free-seo-training-structured-data-for-beginners)"
          },
          "metadata": {}
        },
        {
          "output_type": "display_data",
          "data": {
            "text/markdown": "[https://yoast.com/webinar/seo-news-september-2022](https://yoast.com/webinar/seo-news-september-2022)"
          },
          "metadata": {}
        },
        {
          "output_type": "display_data",
          "data": {
            "text/markdown": "[https://yoast.com/help/how-to-add-product-identifiers-with-woocommerce-seo](https://yoast.com/help/how-to-add-product-identifiers-with-woocommerce-seo)"
          },
          "metadata": {}
        },
        {
          "output_type": "display_data",
          "data": {
            "text/markdown": "[https://yoast.com/tag/yoast-seo](https://yoast.com/tag/yoast-seo)"
          },
          "metadata": {}
        },
        {
          "output_type": "display_data",
          "data": {
            "text/markdown": "[https://yoast.com/help/help-beacon-notification](https://yoast.com/help/help-beacon-notification)"
          },
          "metadata": {}
        },
        {
          "output_type": "display_data",
          "data": {
            "text/markdown": "[https://yoast.com/wordpress-core/contributing-full-time-to-wordpress](https://yoast.com/wordpress-core/contributing-full-time-to-wordpress)"
          },
          "metadata": {}
        },
        {
          "output_type": "display_data",
          "data": {
            "text/markdown": "[https://yoast.com/video/ask-yoast-static-site-generation-and-seo](https://yoast.com/video/ask-yoast-static-site-generation-and-seo)"
          },
          "metadata": {}
        },
        {
          "output_type": "display_data",
          "data": {
            "text/markdown": "[https://yoast.com/community/care-fund/recipients/joe-a-simpson-jr](https://yoast.com/community/care-fund/recipients/joe-a-simpson-jr)"
          },
          "metadata": {}
        },
        {
          "output_type": "display_data",
          "data": {
            "text/markdown": "[https://yoast.com/community/care-fund/recipients/marius-jensen](https://yoast.com/community/care-fund/recipients/marius-jensen)"
          },
          "metadata": {}
        },
        {
          "output_type": "display_data",
          "data": {
            "text/markdown": "[https://yoast.com/about-us/team/konrad-k](https://yoast.com/about-us/team/konrad-k)"
          },
          "metadata": {}
        },
        {
          "output_type": "display_data",
          "data": {
            "text/markdown": "[https://yoast.com/help/you-should-add-xyz-to-the-httpd-config-file](https://yoast.com/help/you-should-add-xyz-to-the-httpd-config-file)"
          },
          "metadata": {}
        },
        {
          "output_type": "display_data",
          "data": {
            "text/markdown": "[https://yoast.com/tag/ai-seo](https://yoast.com/tag/ai-seo)"
          },
          "metadata": {}
        },
        {
          "output_type": "display_data",
          "data": {
            "text/markdown": "[https://yoast.com/wordpress-hosting/raidboxes](https://yoast.com/wordpress-hosting/raidboxes)"
          },
          "metadata": {}
        },
        {
          "output_type": "display_data",
          "data": {
            "text/markdown": "[https://yoast.com/about-us/team/jannes-de-vrijer](https://yoast.com/about-us/team/jannes-de-vrijer)"
          },
          "metadata": {}
        },
        {
          "output_type": "display_data",
          "data": {
            "text/markdown": "[https://yoast.com/help/how-to-switch-to-yoast-seo-for-shopify](https://yoast.com/help/how-to-switch-to-yoast-seo-for-shopify)"
          },
          "metadata": {}
        },
        {
          "output_type": "display_data",
          "data": {
            "text/markdown": "[https://yoast.com/webinar/keyword-research-strategy-that-helps-you-rank](https://yoast.com/webinar/keyword-research-strategy-that-helps-you-rank)"
          },
          "metadata": {}
        },
        {
          "output_type": "display_data",
          "data": {
            "text/markdown": "[https://yoast.com/features/internal-linking-suggestions](https://yoast.com/features/internal-linking-suggestions)"
          },
          "metadata": {}
        },
        {
          "output_type": "display_data",
          "data": {
            "text/markdown": "[https://yoast.com/features/stale-cornerstone-content-finder](https://yoast.com/features/stale-cornerstone-content-finder)"
          },
          "metadata": {}
        },
        {
          "output_type": "display_data",
          "data": {
            "text/markdown": "[https://yoast.com/help/sitemap-error-missing-xml-tag](https://yoast.com/help/sitemap-error-missing-xml-tag)"
          },
          "metadata": {}
        },
        {
          "output_type": "display_data",
          "data": {
            "text/markdown": "[https://yoast.com/tag/testimonials](https://yoast.com/tag/testimonials)"
          },
          "metadata": {}
        },
        {
          "output_type": "display_data",
          "data": {
            "text/markdown": "[https://yoast.com/help/url-redirects-with-encoded-characters](https://yoast.com/help/url-redirects-with-encoded-characters)"
          },
          "metadata": {}
        },
        {
          "output_type": "display_data",
          "data": {
            "text/markdown": "[https://yoast.com/reserved-rights](https://yoast.com/reserved-rights)"
          },
          "metadata": {}
        },
        {
          "output_type": "display_data",
          "data": {
            "text/markdown": "[https://yoast.com/help/ive-added-the-custom-field-in-the-admin-but-the-plugin-still-doesnt-recognise-my-youtube-video](https://yoast.com/help/ive-added-the-custom-field-in-the-admin-but-the-plugin-still-doesnt-recognise-my-youtube-video)"
          },
          "metadata": {}
        },
        {
          "output_type": "display_data",
          "data": {
            "text/markdown": "[https://yoast.com/wordpress-hosting/mshini](https://yoast.com/wordpress-hosting/mshini)"
          },
          "metadata": {}
        },
        {
          "output_type": "display_data",
          "data": {
            "text/markdown": "[https://yoast.com/wordpress-core/a-month-with-the-wordpress-core-team-november-2023](https://yoast.com/wordpress-core/a-month-with-the-wordpress-core-team-november-2023)"
          },
          "metadata": {}
        },
        {
          "output_type": "display_data",
          "data": {
            "text/markdown": "[https://yoast.com/help/how-to-edit-robots-txt-through-yoast-seo](https://yoast.com/help/how-to-edit-robots-txt-through-yoast-seo)"
          },
          "metadata": {}
        },
        {
          "output_type": "display_data",
          "data": {
            "text/markdown": "[https://yoast.com/video/ask-yoast-order-of-categories-and-subcategories-in-urls](https://yoast.com/video/ask-yoast-order-of-categories-and-subcategories-in-urls)"
          },
          "metadata": {}
        },
        {
          "output_type": "display_data",
          "data": {
            "text/markdown": "[https://yoast.com/wordpress/plugins/seo/optimize-headings-to-boost-readability](https://yoast.com/wordpress/plugins/seo/optimize-headings-to-boost-readability)"
          },
          "metadata": {}
        },
        {
          "output_type": "display_data",
          "data": {
            "text/markdown": "[https://yoast.com/yoast-seo-10-0](https://yoast.com/yoast-seo-10-0)"
          },
          "metadata": {}
        },
        {
          "output_type": "display_data",
          "data": {
            "text/markdown": "[https://yoast.com/help/change-myyoast-account-email](https://yoast.com/help/change-myyoast-account-email)"
          },
          "metadata": {}
        },
        {
          "output_type": "display_data",
          "data": {
            "text/markdown": "[https://yoast.com/werken-bij/devops-engineer](https://yoast.com/werken-bij/devops-engineer)"
          },
          "metadata": {}
        },
        {
          "output_type": "display_data",
          "data": {
            "text/markdown": "[https://yoast.com/tag/wordpress-themes](https://yoast.com/tag/wordpress-themes)"
          },
          "metadata": {}
        },
        {
          "output_type": "display_data",
          "data": {
            "text/markdown": "[https://yoast.com/video/how-to-change-a-url-in-wordpress](https://yoast.com/video/how-to-change-a-url-in-wordpress)"
          },
          "metadata": {}
        },
        {
          "output_type": "display_data",
          "data": {
            "text/markdown": "[https://yoast.com/wordpress-core/wordpress-6-0-rc1](https://yoast.com/wordpress-core/wordpress-6-0-rc1)"
          },
          "metadata": {}
        },
        {
          "output_type": "display_data",
          "data": {
            "text/markdown": "[https://yoast.com/use-ai-foot-traffic-local-businesses](https://yoast.com/use-ai-foot-traffic-local-businesses)"
          },
          "metadata": {}
        },
        {
          "output_type": "display_data",
          "data": {
            "text/markdown": "[https://yoast.com/help/how-to-use-the-yoast-seo-internal-linking-tool](https://yoast.com/help/how-to-use-the-yoast-seo-internal-linking-tool)"
          },
          "metadata": {}
        },
        {
          "output_type": "display_data",
          "data": {
            "text/markdown": "[https://yoast.com/features/seo-analysis](https://yoast.com/features/seo-analysis)"
          },
          "metadata": {}
        },
        {
          "output_type": "display_data",
          "data": {
            "text/markdown": "[https://yoast.com/help/sitemap-error-unexpected-publication-name](https://yoast.com/help/sitemap-error-unexpected-publication-name)"
          },
          "metadata": {}
        },
        {
          "output_type": "display_data",
          "data": {
            "text/markdown": "[https://yoast.com/help/yoast-seo-glossary](https://yoast.com/help/yoast-seo-glossary)"
          },
          "metadata": {}
        },
        {
          "output_type": "display_data",
          "data": {
            "text/markdown": "[https://yoast.com/not-write-click-bait-headlines](https://yoast.com/not-write-click-bait-headlines)"
          },
          "metadata": {}
        },
        {
          "output_type": "display_data",
          "data": {
            "text/markdown": "[https://yoast.com/wordpress/plugins/local-seo](https://yoast.com/wordpress/plugins/local-seo)"
          },
          "metadata": {}
        },
        {
          "output_type": "display_data",
          "data": {
            "text/markdown": "[https://yoast.com/help/how-to-log-in-to-myyoast](https://yoast.com/help/how-to-log-in-to-myyoast)"
          },
          "metadata": {}
        },
        {
          "output_type": "display_data",
          "data": {
            "text/markdown": "[https://yoast.com/help/morphology-feature-is-not-working](https://yoast.com/help/morphology-feature-is-not-working)"
          },
          "metadata": {}
        },
        {
          "output_type": "display_data",
          "data": {
            "text/markdown": "[https://yoast.com/how-to-change-your-text-alignment](https://yoast.com/how-to-change-your-text-alignment)"
          },
          "metadata": {}
        },
        {
          "output_type": "display_data",
          "data": {
            "text/markdown": "[https://yoast.com/help/security-no-advanced-settings-for-authors](https://yoast.com/help/security-no-advanced-settings-for-authors)"
          },
          "metadata": {}
        },
        {
          "output_type": "display_data",
          "data": {
            "text/markdown": "[https://yoast.com/yoast-seo-3-2](https://yoast.com/yoast-seo-3-2)"
          },
          "metadata": {}
        },
        {
          "output_type": "display_data",
          "data": {
            "text/markdown": "[https://yoast.com/developer-blog/x-redirect-by-header](https://yoast.com/developer-blog/x-redirect-by-header)"
          },
          "metadata": {}
        },
        {
          "output_type": "display_data",
          "data": {
            "text/markdown": "[https://yoast.com/yoast-diversity-fund/apply](https://yoast.com/yoast-diversity-fund/apply)"
          },
          "metadata": {}
        },
        {
          "output_type": "display_data",
          "data": {
            "text/markdown": "[https://yoast.com/wordpress-hosting/godaddy](https://yoast.com/wordpress-hosting/godaddy)"
          },
          "metadata": {}
        },
        {
          "output_type": "display_data",
          "data": {
            "text/markdown": "[https://yoast.com/about-us/team/joost-redelijk](https://yoast.com/about-us/team/joost-redelijk)"
          },
          "metadata": {}
        },
        {
          "output_type": "display_data",
          "data": {
            "text/markdown": "[https://yoast.com/hybride-werken](https://yoast.com/hybride-werken)"
          },
          "metadata": {}
        },
        {
          "output_type": "display_data",
          "data": {
            "text/markdown": "[https://yoast.com/series/seo-news-webinar](https://yoast.com/series/seo-news-webinar)"
          },
          "metadata": {}
        },
        {
          "output_type": "display_data",
          "data": {
            "text/markdown": "[https://yoast.com/help/disable-enable-author-archives](https://yoast.com/help/disable-enable-author-archives)"
          },
          "metadata": {}
        },
        {
          "output_type": "display_data",
          "data": {
            "text/markdown": "[https://yoast.com/help/inclusive-language/appearance](https://yoast.com/help/inclusive-language/appearance)"
          },
          "metadata": {}
        },
        {
          "output_type": "display_data",
          "data": {
            "text/markdown": "[https://yoast.com/podcast/kate-toon](https://yoast.com/podcast/kate-toon)"
          },
          "metadata": {}
        },
        {
          "output_type": "display_data",
          "data": {
            "text/markdown": "[https://yoast.com/podcast/phil-nottingham](https://yoast.com/podcast/phil-nottingham)"
          },
          "metadata": {}
        },
        {
          "output_type": "display_data",
          "data": {
            "text/markdown": "[https://yoast.com/innovations/agile-processes](https://yoast.com/innovations/agile-processes)"
          },
          "metadata": {}
        },
        {
          "output_type": "display_data",
          "data": {
            "text/markdown": "[https://yoast.com/about-us/team/max-peters](https://yoast.com/about-us/team/max-peters)"
          },
          "metadata": {}
        },
        {
          "output_type": "display_data",
          "data": {
            "text/markdown": "[https://yoast.com/help/how-to-access-your-courses-via-myyoast](https://yoast.com/help/how-to-access-your-courses-via-myyoast)"
          },
          "metadata": {}
        },
        {
          "output_type": "display_data",
          "data": {
            "text/markdown": "[https://yoast.com/help/how-can-i-update-my-free-plugin](https://yoast.com/help/how-can-i-update-my-free-plugin)"
          },
          "metadata": {}
        },
        {
          "output_type": "display_data",
          "data": {
            "text/markdown": "[https://yoast.com/wordpress-hosting/dreamhost](https://yoast.com/wordpress-hosting/dreamhost)"
          },
          "metadata": {}
        },
        {
          "output_type": "display_data",
          "data": {
            "text/markdown": "[https://yoast.com/developer-blog/you-should-test-yoast-seo-3-1-rc](https://yoast.com/developer-blog/you-should-test-yoast-seo-3-1-rc)"
          },
          "metadata": {}
        },
        {
          "output_type": "display_data",
          "data": {
            "text/markdown": "[https://yoast.com/help/list-assessment](https://yoast.com/help/list-assessment)"
          },
          "metadata": {}
        },
        {
          "output_type": "display_data",
          "data": {
            "text/markdown": "[https://yoast.com/video/ask-yoast-same-keywords-multiple-pages](https://yoast.com/video/ask-yoast-same-keywords-multiple-pages)"
          },
          "metadata": {}
        },
        {
          "output_type": "display_data",
          "data": {
            "text/markdown": "[https://yoast.com/about-us/team/martijn-warndorff](https://yoast.com/about-us/team/martijn-warndorff)"
          },
          "metadata": {}
        },
        {
          "output_type": "display_data",
          "data": {
            "text/markdown": "[https://yoast.com/ecommerce-masterplan](https://yoast.com/ecommerce-masterplan)"
          },
          "metadata": {}
        },
        {
          "output_type": "display_data",
          "data": {
            "text/markdown": "[https://yoast.com/webinar/make-killer-product-pages](https://yoast.com/webinar/make-killer-product-pages)"
          },
          "metadata": {}
        },
        {
          "output_type": "display_data",
          "data": {
            "text/markdown": "[https://yoast.com/help/wordpress-seo-is-changing-my-slug](https://yoast.com/help/wordpress-seo-is-changing-my-slug)"
          },
          "metadata": {}
        },
        {
          "output_type": "display_data",
          "data": {
            "text/markdown": "[https://yoast.com/wordpress-hosting/wp-provider-b-v](https://yoast.com/wordpress-hosting/wp-provider-b-v)"
          },
          "metadata": {}
        },
        {
          "output_type": "display_data",
          "data": {
            "text/markdown": "[https://yoast.com/help/google-search-console-breadcrumb-schema-report](https://yoast.com/help/google-search-console-breadcrumb-schema-report)"
          },
          "metadata": {}
        },
        {
          "output_type": "display_data",
          "data": {
            "text/markdown": "[https://yoast.com/community/care-fund/recipients/maja-benke](https://yoast.com/community/care-fund/recipients/maja-benke)"
          },
          "metadata": {}
        },
        {
          "output_type": "display_data",
          "data": {
            "text/markdown": "[https://yoast.com/webinar/email-and-social-media-marketing](https://yoast.com/webinar/email-and-social-media-marketing)"
          },
          "metadata": {}
        },
        {
          "output_type": "display_data",
          "data": {
            "text/markdown": "[https://yoast.com/help/yoast-seo-tools-settings](https://yoast.com/help/yoast-seo-tools-settings)"
          },
          "metadata": {}
        },
        {
          "output_type": "display_data",
          "data": {
            "text/markdown": "[https://yoast.com/series/why-we-love-wordpress](https://yoast.com/series/why-we-love-wordpress)"
          },
          "metadata": {}
        },
        {
          "output_type": "display_data",
          "data": {
            "text/markdown": "[https://yoast.com/tag/keyword-research](https://yoast.com/tag/keyword-research)"
          },
          "metadata": {}
        },
        {
          "output_type": "display_data",
          "data": {
            "text/markdown": "[https://yoast.com/help/can-we-use-x-on-wordpress-com](https://yoast.com/help/can-we-use-x-on-wordpress-com)"
          },
          "metadata": {}
        },
        {
          "output_type": "display_data",
          "data": {
            "text/markdown": "[https://yoast.com/zo-werkt-yoast-seo](https://yoast.com/zo-werkt-yoast-seo)"
          },
          "metadata": {}
        },
        {
          "output_type": "display_data",
          "data": {
            "text/markdown": "[https://yoast.com/wordpress-core/a-month-with-the-wordpress-core-team-november-2022](https://yoast.com/wordpress-core/a-month-with-the-wordpress-core-team-november-2022)"
          },
          "metadata": {}
        },
        {
          "output_type": "display_data",
          "data": {
            "text/markdown": "[https://yoast.com/wordpress/plugins/video-seo/api](https://yoast.com/wordpress/plugins/video-seo/api)"
          },
          "metadata": {}
        },
        {
          "output_type": "display_data",
          "data": {
            "text/markdown": "[https://yoast.com/help/why-are-my-new-videos-on-the-bottom-of-my-second-sitemap](https://yoast.com/help/why-are-my-new-videos-on-the-bottom-of-my-second-sitemap)"
          },
          "metadata": {}
        },
        {
          "output_type": "display_data",
          "data": {
            "text/markdown": "[https://yoast.com/help/offers-should-be-specified](https://yoast.com/help/offers-should-be-specified)"
          },
          "metadata": {}
        },
        {
          "output_type": "display_data",
          "data": {
            "text/markdown": "[https://yoast.com/wordpress-core/wordpress-5-9-feature-freeze](https://yoast.com/wordpress-core/wordpress-5-9-feature-freeze)"
          },
          "metadata": {}
        },
        {
          "output_type": "display_data",
          "data": {
            "text/markdown": "[https://yoast.com/community/care-fund/recipients/gloria-liuni](https://yoast.com/community/care-fund/recipients/gloria-liuni)"
          },
          "metadata": {}
        },
        {
          "output_type": "display_data",
          "data": {
            "text/markdown": "[https://yoast.com/help/yoast-seo-settings-date-archives](https://yoast.com/help/yoast-seo-settings-date-archives)"
          },
          "metadata": {}
        },
        {
          "output_type": "display_data",
          "data": {
            "text/markdown": "[https://yoast.com/about-us/team/bianca-van-der-heijden](https://yoast.com/about-us/team/bianca-van-der-heijden)"
          },
          "metadata": {}
        },
        {
          "output_type": "display_data",
          "data": {
            "text/markdown": "[https://yoast.com/developer-blog/unit-testing-wordpress-plugins-with-phpunit-in-phpstorm](https://yoast.com/developer-blog/unit-testing-wordpress-plugins-with-phpunit-in-phpstorm)"
          },
          "metadata": {}
        },
        {
          "output_type": "display_data",
          "data": {
            "text/markdown": "[https://yoast.com/yoast-seo-4-0](https://yoast.com/yoast-seo-4-0)"
          },
          "metadata": {}
        },
        {
          "output_type": "display_data",
          "data": {
            "text/markdown": "[https://yoast.com/help/import-options-in-yoast-seo](https://yoast.com/help/import-options-in-yoast-seo)"
          },
          "metadata": {}
        },
        {
          "output_type": "display_data",
          "data": {
            "text/markdown": "[https://yoast.com/video/ask-yoast-reposting-guest-authored-content](https://yoast.com/video/ask-yoast-reposting-guest-authored-content)"
          },
          "metadata": {}
        },
        {
          "output_type": "display_data",
          "data": {
            "text/markdown": "[https://yoast.com/community/care-fund/recipients/ross-wintle](https://yoast.com/community/care-fund/recipients/ross-wintle)"
          },
          "metadata": {}
        },
        {
          "output_type": "display_data",
          "data": {
            "text/markdown": "[https://yoast.com/wordpress-core/a-week-with-us-saying-goodbye-to-justin](https://yoast.com/wordpress-core/a-week-with-us-saying-goodbye-to-justin)"
          },
          "metadata": {}
        },
        {
          "output_type": "display_data",
          "data": {
            "text/markdown": "[https://yoast.com/community/care-fund/recipients/farrukh-hassan](https://yoast.com/community/care-fund/recipients/farrukh-hassan)"
          },
          "metadata": {}
        },
        {
          "output_type": "display_data",
          "data": {
            "text/markdown": "[https://yoast.com/video/ask-yoast-privacy-page](https://yoast.com/video/ask-yoast-privacy-page)"
          },
          "metadata": {}
        },
        {
          "output_type": "display_data",
          "data": {
            "text/markdown": "[https://yoast.com/about-us/team/vraja-das](https://yoast.com/about-us/team/vraja-das)"
          },
          "metadata": {}
        },
        {
          "output_type": "display_data",
          "data": {
            "text/markdown": "[https://yoast.com/developer-blog/wordpress-javascript-api-core-editor-store-plugin](https://yoast.com/developer-blog/wordpress-javascript-api-core-editor-store-plugin)"
          },
          "metadata": {}
        },
        {
          "output_type": "display_data",
          "data": {
            "text/markdown": "[https://yoast.com/tag/blogging](https://yoast.com/tag/blogging)"
          },
          "metadata": {}
        },
        {
          "output_type": "display_data",
          "data": {
            "text/markdown": "[https://yoast.com/community/care-fund/recipients/sekander-badsha](https://yoast.com/community/care-fund/recipients/sekander-badsha)"
          },
          "metadata": {}
        },
        {
          "output_type": "display_data",
          "data": {
            "text/markdown": "[https://yoast.com/webinar/seo-news-may-2022](https://yoast.com/webinar/seo-news-may-2022)"
          },
          "metadata": {}
        },
        {
          "output_type": "display_data",
          "data": {
            "text/markdown": "[https://yoast.com/help/yoast-seo-settings-advanced](https://yoast.com/help/yoast-seo-settings-advanced)"
          },
          "metadata": {}
        },
        {
          "output_type": "display_data",
          "data": {
            "text/markdown": "[https://yoast.com/webinar/optimize-product-pages](https://yoast.com/webinar/optimize-product-pages)"
          },
          "metadata": {}
        },
        {
          "output_type": "display_data",
          "data": {
            "text/markdown": "[https://yoast.com/tag/video-seo](https://yoast.com/tag/video-seo)"
          },
          "metadata": {}
        },
        {
          "output_type": "display_data",
          "data": {
            "text/markdown": "[https://yoast.com/developer-blog/the-making-of-an-illustration-for-yoast](https://yoast.com/developer-blog/the-making-of-an-illustration-for-yoast)"
          },
          "metadata": {}
        },
        {
          "output_type": "display_data",
          "data": {
            "text/markdown": "[https://yoast.com/help/yoast-seo-settings-media-pages](https://yoast.com/help/yoast-seo-settings-media-pages)"
          },
          "metadata": {}
        },
        {
          "output_type": "display_data",
          "data": {
            "text/markdown": "[https://yoast.com/video/ask-yoast-premium-features-explained](https://yoast.com/video/ask-yoast-premium-features-explained)"
          },
          "metadata": {}
        },
        {
          "output_type": "display_data",
          "data": {
            "text/markdown": "[https://yoast.com/wordpress-core/a-month-with-the-wordpress-core-team-august-september-2023](https://yoast.com/wordpress-core/a-month-with-the-wordpress-core-team-august-september-2023)"
          },
          "metadata": {}
        },
        {
          "output_type": "display_data",
          "data": {
            "text/markdown": "[https://yoast.com/webinar/seo-news-webinar-april-2021](https://yoast.com/webinar/seo-news-webinar-april-2021)"
          },
          "metadata": {}
        },
        {
          "output_type": "display_data",
          "data": {
            "text/markdown": "[https://yoast.com/wordpress-core/a-week-with-us-twenty-twenty-three-gutenberg-php-8-2-and-more](https://yoast.com/wordpress-core/a-week-with-us-twenty-twenty-three-gutenberg-php-8-2-and-more)"
          },
          "metadata": {}
        },
        {
          "output_type": "display_data",
          "data": {
            "text/markdown": "[https://yoast.com/about-us/events/wordcamp-europe-2024](https://yoast.com/about-us/events/wordcamp-europe-2024)"
          },
          "metadata": {}
        },
        {
          "output_type": "display_data",
          "data": {
            "text/markdown": "[https://yoast.com/video/ask-yoast-which-ecommerce-system](https://yoast.com/video/ask-yoast-which-ecommerce-system)"
          },
          "metadata": {}
        },
        {
          "output_type": "display_data",
          "data": {
            "text/markdown": "[https://yoast.com/webinar/seo-news-june-2023](https://yoast.com/webinar/seo-news-june-2023)"
          },
          "metadata": {}
        },
        {
          "output_type": "display_data",
          "data": {
            "text/markdown": "[https://yoast.com/yoastcon/2015-edition](https://yoast.com/yoastcon/2015-edition)"
          },
          "metadata": {}
        },
        {
          "output_type": "display_data",
          "data": {
            "text/markdown": "[https://yoast.com/about-us/team/rohan-sadanandan](https://yoast.com/about-us/team/rohan-sadanandan)"
          },
          "metadata": {}
        },
        {
          "output_type": "display_data",
          "data": {
            "text/markdown": "[https://yoast.com/community/care-fund/recipients/laurence-bahiirwa](https://yoast.com/community/care-fund/recipients/laurence-bahiirwa)"
          },
          "metadata": {}
        },
        {
          "output_type": "display_data",
          "data": {
            "text/markdown": "[https://yoast.com/help/wincher-keyphrase-performance-tracker](https://yoast.com/help/wincher-keyphrase-performance-tracker)"
          },
          "metadata": {}
        },
        {
          "output_type": "display_data",
          "data": {
            "text/markdown": "[https://yoast.com/wordpress-core/blog](https://yoast.com/wordpress-core/blog)"
          },
          "metadata": {}
        },
        {
          "output_type": "display_data",
          "data": {
            "text/markdown": "[https://yoast.com/video/ask-yoast-best-keyword-strategy](https://yoast.com/video/ask-yoast-best-keyword-strategy)"
          },
          "metadata": {}
        },
        {
          "output_type": "display_data",
          "data": {
            "text/markdown": "[https://yoast.com/help/how-to-remove-a-user-from-your-google-search-console-property](https://yoast.com/help/how-to-remove-a-user-from-your-google-search-console-property)"
          },
          "metadata": {}
        },
        {
          "output_type": "display_data",
          "data": {
            "text/markdown": "[https://yoast.com/help/issues-glue-for-yoast-seo-amp](https://yoast.com/help/issues-glue-for-yoast-seo-amp)"
          },
          "metadata": {}
        },
        {
          "output_type": "display_data",
          "data": {
            "text/markdown": "[https://yoast.com/webinar/seo-news-november-2022](https://yoast.com/webinar/seo-news-november-2022)"
          },
          "metadata": {}
        },
        {
          "output_type": "display_data",
          "data": {
            "text/markdown": "[https://yoast.com/features/keyphrase-density](https://yoast.com/features/keyphrase-density)"
          },
          "metadata": {}
        },
        {
          "output_type": "display_data",
          "data": {
            "text/markdown": "[https://yoast.com/wordpress-core/non-technical-contributions-to-wordpress-core](https://yoast.com/wordpress-core/non-technical-contributions-to-wordpress-core)"
          },
          "metadata": {}
        },
        {
          "output_type": "display_data",
          "data": {
            "text/markdown": "[https://yoast.com/help/warnings-about-missing-sku-or-identifier-properties](https://yoast.com/help/warnings-about-missing-sku-or-identifier-properties)"
          },
          "metadata": {}
        },
        {
          "output_type": "display_data",
          "data": {
            "text/markdown": "[https://yoast.com/tag/wordpress](https://yoast.com/tag/wordpress)"
          },
          "metadata": {}
        },
        {
          "output_type": "display_data",
          "data": {
            "text/markdown": "[https://yoast.com/about-us/team/mabel-adekola](https://yoast.com/about-us/team/mabel-adekola)"
          },
          "metadata": {}
        },
        {
          "output_type": "display_data",
          "data": {
            "text/markdown": "[https://yoast.com/video/ask-yoast-location-webhosts-seo](https://yoast.com/video/ask-yoast-location-webhosts-seo)"
          },
          "metadata": {}
        },
        {
          "output_type": "display_data",
          "data": {
            "text/markdown": "[https://yoast.com/help/cost-per-category-calculation-for-local-seo](https://yoast.com/help/cost-per-category-calculation-for-local-seo)"
          },
          "metadata": {}
        },
        {
          "output_type": "display_data",
          "data": {
            "text/markdown": "[https://yoast.com/developer-blog/xml-sitemap-php-script](https://yoast.com/developer-blog/xml-sitemap-php-script)"
          },
          "metadata": {}
        },
        {
          "output_type": "display_data",
          "data": {
            "text/markdown": "[https://yoast.com/features/internal-linking-blocks](https://yoast.com/features/internal-linking-blocks)"
          },
          "metadata": {}
        },
        {
          "output_type": "display_data",
          "data": {
            "text/markdown": "[https://yoast.com/wordpress-core/a-week-with-us-after-wordcamp-europe](https://yoast.com/wordpress-core/a-week-with-us-after-wordcamp-europe)"
          },
          "metadata": {}
        },
        {
          "output_type": "display_data",
          "data": {
            "text/markdown": "[https://yoast.com/tag/woocommerce](https://yoast.com/tag/woocommerce)"
          },
          "metadata": {}
        },
        {
          "output_type": "display_data",
          "data": {
            "text/markdown": "[https://yoast.com/webinar/seo-news-december-2022](https://yoast.com/webinar/seo-news-december-2022)"
          },
          "metadata": {}
        },
        {
          "output_type": "display_data",
          "data": {
            "text/markdown": "[https://yoast.com/video/ask-yoast-switching-tld](https://yoast.com/video/ask-yoast-switching-tld)"
          },
          "metadata": {}
        },
        {
          "output_type": "display_data",
          "data": {
            "text/markdown": "[https://yoast.com/webinar/yoast-seo-news-october-2023-edition](https://yoast.com/webinar/yoast-seo-news-october-2023-edition)"
          },
          "metadata": {}
        },
        {
          "output_type": "display_data",
          "data": {
            "text/markdown": "[https://yoast.com/features/function-words](https://yoast.com/features/function-words)"
          },
          "metadata": {}
        },
        {
          "output_type": "display_data",
          "data": {
            "text/markdown": "[https://yoast.com/features/schema-controls](https://yoast.com/features/schema-controls)"
          },
          "metadata": {}
        },
        {
          "output_type": "display_data",
          "data": {
            "text/markdown": "[https://yoast.com/help/add-remove-site-yoast](https://yoast.com/help/add-remove-site-yoast)"
          },
          "metadata": {}
        },
        {
          "output_type": "display_data",
          "data": {
            "text/markdown": "[https://yoast.com/wordpress-core](https://yoast.com/wordpress-core)"
          },
          "metadata": {}
        },
        {
          "output_type": "display_data",
          "data": {
            "text/markdown": "[https://yoast.com/about-us/team/eline-zweers-2](https://yoast.com/about-us/team/eline-zweers-2)"
          },
          "metadata": {}
        },
        {
          "output_type": "display_data",
          "data": {
            "text/markdown": "[https://yoast.com/features/estimated-reading-time](https://yoast.com/features/estimated-reading-time)"
          },
          "metadata": {}
        },
        {
          "output_type": "display_data",
          "data": {
            "text/markdown": "[https://yoast.com/tag/community-summit](https://yoast.com/tag/community-summit)"
          },
          "metadata": {}
        },
        {
          "output_type": "display_data",
          "data": {
            "text/markdown": "[https://yoast.com/webinar/5-common-ecommerce-mistakes](https://yoast.com/webinar/5-common-ecommerce-mistakes)"
          },
          "metadata": {}
        },
        {
          "output_type": "display_data",
          "data": {
            "text/markdown": "[https://yoast.com/community/care-fund/recipients/ahm-nazmul-hasan-monshi](https://yoast.com/community/care-fund/recipients/ahm-nazmul-hasan-monshi)"
          },
          "metadata": {}
        },
        {
          "output_type": "display_data",
          "data": {
            "text/markdown": "[https://yoast.com/community/care-fund/recipients/arthur-kasirye](https://yoast.com/community/care-fund/recipients/arthur-kasirye)"
          },
          "metadata": {}
        },
        {
          "output_type": "display_data",
          "data": {
            "text/markdown": "[https://yoast.com/podcast/jon-henshaw](https://yoast.com/podcast/jon-henshaw)"
          },
          "metadata": {}
        },
        {
          "output_type": "display_data",
          "data": {
            "text/markdown": "[https://yoast.com/help/why-does-yoast-seo-output-index-follow-in-the-meta-robots-tag](https://yoast.com/help/why-does-yoast-seo-output-index-follow-in-the-meta-robots-tag)"
          },
          "metadata": {}
        },
        {
          "output_type": "display_data",
          "data": {
            "text/markdown": "[https://yoast.com/gender-stereotypes-prejudice-sociology](https://yoast.com/gender-stereotypes-prejudice-sociology)"
          },
          "metadata": {}
        },
        {
          "output_type": "display_data",
          "data": {
            "text/markdown": "[https://yoast.com/community/care-fund/recipients/mark-smallman](https://yoast.com/community/care-fund/recipients/mark-smallman)"
          },
          "metadata": {}
        },
        {
          "output_type": "display_data",
          "data": {
            "text/markdown": "[https://yoast.com/help/why-is-my-vat-number-rejected](https://yoast.com/help/why-is-my-vat-number-rejected)"
          },
          "metadata": {}
        },
        {
          "output_type": "display_data",
          "data": {
            "text/markdown": "[https://yoast.com/video/ask-yoast-how-to-get-sitelinks](https://yoast.com/video/ask-yoast-how-to-get-sitelinks)"
          },
          "metadata": {}
        },
        {
          "output_type": "display_data",
          "data": {
            "text/markdown": "[https://yoast.com/help/indexed-though-blocked-by-robots-txt](https://yoast.com/help/indexed-though-blocked-by-robots-txt)"
          },
          "metadata": {}
        },
        {
          "output_type": "display_data",
          "data": {
            "text/markdown": "[https://yoast.com/wordpress-hosting/wp-engine](https://yoast.com/wordpress-hosting/wp-engine)"
          },
          "metadata": {}
        },
        {
          "output_type": "display_data",
          "data": {
            "text/markdown": "[https://yoast.com/wordpress-core/fixing-bugs-working-on-improvements-to-wordpress](https://yoast.com/wordpress-core/fixing-bugs-working-on-improvements-to-wordpress)"
          },
          "metadata": {}
        },
        {
          "output_type": "display_data",
          "data": {
            "text/markdown": "[https://yoast.com/developer-blog/a-better-faster-approach-to-css-in-wordpress-themes](https://yoast.com/developer-blog/a-better-faster-approach-to-css-in-wordpress-themes)"
          },
          "metadata": {}
        },
        {
          "output_type": "display_data",
          "data": {
            "text/markdown": "[https://yoast.com/video/ask-yoast-adding-testimonials](https://yoast.com/video/ask-yoast-adding-testimonials)"
          },
          "metadata": {}
        },
        {
          "output_type": "display_data",
          "data": {
            "text/markdown": "[https://yoast.com/help/create-custom-fields](https://yoast.com/help/create-custom-fields)"
          },
          "metadata": {}
        },
        {
          "output_type": "display_data",
          "data": {
            "text/markdown": "[https://yoast.com/help/date-appears-search-results](https://yoast.com/help/date-appears-search-results)"
          },
          "metadata": {}
        },
        {
          "output_type": "display_data",
          "data": {
            "text/markdown": "[https://yoast.com/wordpress-core/a-week-with-us-preparing-for-q4-and-contributor-day](https://yoast.com/wordpress-core/a-week-with-us-preparing-for-q4-and-contributor-day)"
          },
          "metadata": {}
        },
        {
          "output_type": "display_data",
          "data": {
            "text/markdown": "[https://yoast.com/help/is-yoast-seo-compatible-with-the-new-robots-api-in-wordpress-5-7](https://yoast.com/help/is-yoast-seo-compatible-with-the-new-robots-api-in-wordpress-5-7)"
          },
          "metadata": {}
        },
        {
          "output_type": "display_data",
          "data": {
            "text/markdown": "[https://yoast.com/help/add-website-baidu-webmaster-tools](https://yoast.com/help/add-website-baidu-webmaster-tools)"
          },
          "metadata": {}
        },
        {
          "output_type": "display_data",
          "data": {
            "text/markdown": "[https://yoast.com/webinar/webinar-how-to-start-with-seo-october-19-2023](https://yoast.com/webinar/webinar-how-to-start-with-seo-october-19-2023)"
          },
          "metadata": {}
        },
        {
          "output_type": "display_data",
          "data": {
            "text/markdown": "[https://yoast.com/help/migrate-from-all-in-one-seo-to-yoast-seo](https://yoast.com/help/migrate-from-all-in-one-seo-to-yoast-seo)"
          },
          "metadata": {}
        },
        {
          "output_type": "display_data",
          "data": {
            "text/markdown": "[https://yoast.com/wordpress-core/start-contributing-to-core](https://yoast.com/wordpress-core/start-contributing-to-core)"
          },
          "metadata": {}
        },
        {
          "output_type": "display_data",
          "data": {
            "text/markdown": "[https://yoast.com/features/meta-tag-variables](https://yoast.com/features/meta-tag-variables)"
          },
          "metadata": {}
        },
        {
          "output_type": "display_data",
          "data": {
            "text/markdown": "[https://yoast.com/help/warning-no-outbound-links-appear-page-consider-adding-appropriate](https://yoast.com/help/warning-no-outbound-links-appear-page-consider-adding-appropriate)"
          },
          "metadata": {}
        },
        {
          "output_type": "display_data",
          "data": {
            "text/markdown": "[https://yoast.com/tag/gutenberg](https://yoast.com/tag/gutenberg)"
          },
          "metadata": {}
        },
        {
          "output_type": "display_data",
          "data": {
            "text/markdown": "[https://yoast.com/podcast/jason-barnard](https://yoast.com/podcast/jason-barnard)"
          },
          "metadata": {}
        },
        {
          "output_type": "display_data",
          "data": {
            "text/markdown": "[https://yoast.com/community/care-fund/recipients/rai-jibran](https://yoast.com/community/care-fund/recipients/rai-jibran)"
          },
          "metadata": {}
        },
        {
          "output_type": "display_data",
          "data": {
            "text/markdown": "[https://yoast.com/about-us/team/victoria-mccarter](https://yoast.com/about-us/team/victoria-mccarter)"
          },
          "metadata": {}
        },
        {
          "output_type": "display_data",
          "data": {
            "text/markdown": "[https://yoast.com/help/parse-error-unexpected-tfunction](https://yoast.com/help/parse-error-unexpected-tfunction)"
          },
          "metadata": {}
        },
        {
          "output_type": "display_data",
          "data": {
            "text/markdown": "[https://yoast.com/wordpress-core/six-month-anniversary-of-the-team](https://yoast.com/wordpress-core/six-month-anniversary-of-the-team)"
          },
          "metadata": {}
        },
        {
          "output_type": "display_data",
          "data": {
            "text/markdown": "[https://yoast.com/help/facebook-sharing-updated-details](https://yoast.com/help/facebook-sharing-updated-details)"
          },
          "metadata": {}
        },
        {
          "output_type": "display_data",
          "data": {
            "text/markdown": "[https://yoast.com/academy/yoast-seo-for-shopify-course](https://yoast.com/academy/yoast-seo-for-shopify-course)"
          },
          "metadata": {}
        },
        {
          "output_type": "display_data",
          "data": {
            "text/markdown": "[https://yoast.com/developer-blog/yoastseo-js-design-decisions](https://yoast.com/developer-blog/yoastseo-js-design-decisions)"
          },
          "metadata": {}
        },
        {
          "output_type": "display_data",
          "data": {
            "text/markdown": "[https://yoast.com/webinar/how-to-create-quality-content](https://yoast.com/webinar/how-to-create-quality-content)"
          },
          "metadata": {}
        },
        {
          "output_type": "display_data",
          "data": {
            "text/markdown": "[https://yoast.com/wordpress-core/a-week-with-us-wordpress-6-1-and-6-1-1](https://yoast.com/wordpress-core/a-week-with-us-wordpress-6-1-and-6-1-1)"
          },
          "metadata": {}
        },
        {
          "output_type": "display_data",
          "data": {
            "text/markdown": "[https://yoast.com/about-us/team/iris-guelen](https://yoast.com/about-us/team/iris-guelen)"
          },
          "metadata": {}
        },
        {
          "output_type": "display_data",
          "data": {
            "text/markdown": "[https://yoast.com/about-us/mission](https://yoast.com/about-us/mission)"
          },
          "metadata": {}
        },
        {
          "output_type": "display_data",
          "data": {
            "text/markdown": "[https://yoast.com/developer-blog/reinventing-developer-happiness](https://yoast.com/developer-blog/reinventing-developer-happiness)"
          },
          "metadata": {}
        },
        {
          "output_type": "display_data",
          "data": {
            "text/markdown": "[https://yoast.com/help/installation-guide-of-wordpress-seo-premium](https://yoast.com/help/installation-guide-of-wordpress-seo-premium)"
          },
          "metadata": {}
        },
        {
          "output_type": "display_data",
          "data": {
            "text/markdown": "[https://yoast.com/video/ask-yoast-meta-descriptions-and-the-excerpt-field](https://yoast.com/video/ask-yoast-meta-descriptions-and-the-excerpt-field)"
          },
          "metadata": {}
        },
        {
          "output_type": "display_data",
          "data": {
            "text/markdown": "[https://yoast.com/help/yoast-seo-settings-breadcrumbs](https://yoast.com/help/yoast-seo-settings-breadcrumbs)"
          },
          "metadata": {}
        },
        {
          "output_type": "display_data",
          "data": {
            "text/markdown": "[https://yoast.com/wordpress-hosting/mijn-host](https://yoast.com/wordpress-hosting/mijn-host)"
          },
          "metadata": {}
        },
        {
          "output_type": "display_data",
          "data": {
            "text/markdown": "[https://yoast.com/webinar/the-seo-update-by-yoast-november-2023-edition](https://yoast.com/webinar/the-seo-update-by-yoast-november-2023-edition)"
          },
          "metadata": {}
        },
        {
          "output_type": "display_data",
          "data": {
            "text/markdown": "[https://yoast.com/help/can-find-changelog-yoast-plugin](https://yoast.com/help/can-find-changelog-yoast-plugin)"
          },
          "metadata": {}
        },
        {
          "output_type": "display_data",
          "data": {
            "text/markdown": "[https://yoast.com/developer-blog/wordpress-javascript-apis-part-six-the-recap](https://yoast.com/developer-blog/wordpress-javascript-apis-part-six-the-recap)"
          },
          "metadata": {}
        },
        {
          "output_type": "display_data",
          "data": {
            "text/markdown": "[https://yoast.com/tag/internal-linking](https://yoast.com/tag/internal-linking)"
          },
          "metadata": {}
        },
        {
          "output_type": "display_data",
          "data": {
            "text/markdown": "[https://yoast.com/developer-blog/technologies-used-in-the-shopify-app](https://yoast.com/developer-blog/technologies-used-in-the-shopify-app)"
          },
          "metadata": {}
        },
        {
          "output_type": "display_data",
          "data": {
            "text/markdown": "[https://yoast.com/help/xml-sitemap-errors](https://yoast.com/help/xml-sitemap-errors)"
          },
          "metadata": {}
        },
        {
          "output_type": "display_data",
          "data": {
            "text/markdown": "[https://yoast.com/privacy-notice](https://yoast.com/privacy-notice)"
          },
          "metadata": {}
        },
        {
          "output_type": "display_data",
          "data": {
            "text/markdown": "[https://yoast.com/help/yoast-seo-settings-rss](https://yoast.com/help/yoast-seo-settings-rss)"
          },
          "metadata": {}
        },
        {
          "output_type": "display_data",
          "data": {
            "text/markdown": "[https://yoast.com/help/verify-your-site-on-mastodon-with-yoast-seo](https://yoast.com/help/verify-your-site-on-mastodon-with-yoast-seo)"
          },
          "metadata": {}
        },
        {
          "output_type": "display_data",
          "data": {
            "text/markdown": "[https://yoast.com/help/web-server-redirects-multisite-disabled](https://yoast.com/help/web-server-redirects-multisite-disabled)"
          },
          "metadata": {}
        },
        {
          "output_type": "display_data",
          "data": {
            "text/markdown": "[https://yoast.com/about-us/team/rome-nicolas](https://yoast.com/about-us/team/rome-nicolas)"
          },
          "metadata": {}
        },
        {
          "output_type": "display_data",
          "data": {
            "text/markdown": "[https://yoast.com/academy/all-around-seo-training](https://yoast.com/academy/all-around-seo-training)"
          },
          "metadata": {}
        },
        {
          "output_type": "display_data",
          "data": {
            "text/markdown": "[https://yoast.com/help/my-meta-descriptions-arent-showing-up-in-the-search-result-pages](https://yoast.com/help/my-meta-descriptions-arent-showing-up-in-the-search-result-pages)"
          },
          "metadata": {}
        },
        {
          "output_type": "display_data",
          "data": {
            "text/markdown": "[https://yoast.com/wordpress/plugins/yoast-woocommerce-premium-bundle](https://yoast.com/wordpress/plugins/yoast-woocommerce-premium-bundle)"
          },
          "metadata": {}
        },
        {
          "output_type": "display_data",
          "data": {
            "text/markdown": "[https://yoast.com/community/care-fund/recipients/carola-speri](https://yoast.com/community/care-fund/recipients/carola-speri)"
          },
          "metadata": {}
        },
        {
          "output_type": "display_data",
          "data": {
            "text/markdown": "[https://yoast.com/developer-blog/email-reliability](https://yoast.com/developer-blog/email-reliability)"
          },
          "metadata": {}
        },
        {
          "output_type": "display_data",
          "data": {
            "text/markdown": "[https://yoast.com/community/care-fund/recipients/jesus-yesares](https://yoast.com/community/care-fund/recipients/jesus-yesares)"
          },
          "metadata": {}
        },
        {
          "output_type": "display_data",
          "data": {
            "text/markdown": "[https://yoast.com/features/front-end-seo-inspector](https://yoast.com/features/front-end-seo-inspector)"
          },
          "metadata": {}
        },
        {
          "output_type": "display_data",
          "data": {
            "text/markdown": "[https://yoast.com/tag/software-yoast-seo-wordpress-premium](https://yoast.com/tag/software-yoast-seo-wordpress-premium)"
          },
          "metadata": {}
        },
        {
          "output_type": "display_data",
          "data": {
            "text/markdown": "[https://yoast.com/academy/international-seo](https://yoast.com/academy/international-seo)"
          },
          "metadata": {}
        },
        {
          "output_type": "display_data",
          "data": {
            "text/markdown": "[https://yoast.com/about-us/team/rafael-marcano](https://yoast.com/about-us/team/rafael-marcano)"
          },
          "metadata": {}
        },
        {
          "output_type": "display_data",
          "data": {
            "text/markdown": "[https://yoast.com/developer-blog/when-to-use-toggle-switches](https://yoast.com/developer-blog/when-to-use-toggle-switches)"
          },
          "metadata": {}
        },
        {
          "output_type": "display_data",
          "data": {
            "text/markdown": "[https://yoast.com/help/how-to-add-sku-to-products-in-woocommerce](https://yoast.com/help/how-to-add-sku-to-products-in-woocommerce)"
          },
          "metadata": {}
        },
        {
          "output_type": "display_data",
          "data": {
            "text/markdown": "[https://yoast.com/developer-blog/developing-gutenblocks-is-not-for-the-faint-of-heart](https://yoast.com/developer-blog/developing-gutenblocks-is-not-for-the-faint-of-heart)"
          },
          "metadata": {}
        },
        {
          "output_type": "display_data",
          "data": {
            "text/markdown": "[https://yoast.com/subscriptions](https://yoast.com/subscriptions)"
          },
          "metadata": {}
        },
        {
          "output_type": "display_data",
          "data": {
            "text/markdown": "[https://yoast.com/webinar/webinar-how-to-start-with-seo-february-12-2024-2](https://yoast.com/webinar/webinar-how-to-start-with-seo-february-12-2024-2)"
          },
          "metadata": {}
        },
        {
          "output_type": "display_data",
          "data": {
            "text/markdown": "[https://yoast.com/about-us/team/honglei-zhang](https://yoast.com/about-us/team/honglei-zhang)"
          },
          "metadata": {}
        },
        {
          "output_type": "display_data",
          "data": {
            "text/markdown": "[https://yoast.com/about-us/team/niko-korner](https://yoast.com/about-us/team/niko-korner)"
          },
          "metadata": {}
        },
        {
          "output_type": "display_data",
          "data": {
            "text/markdown": "[https://yoast.com/help/remove-yoast-seo-admin-bar](https://yoast.com/help/remove-yoast-seo-admin-bar)"
          },
          "metadata": {}
        },
        {
          "output_type": "display_data",
          "data": {
            "text/markdown": "[https://yoast.com/developer-blog](https://yoast.com/developer-blog)"
          },
          "metadata": {}
        },
        {
          "output_type": "display_data",
          "data": {
            "text/markdown": "[https://yoast.com/tag/seo-copywriting](https://yoast.com/tag/seo-copywriting)"
          },
          "metadata": {}
        },
        {
          "output_type": "display_data",
          "data": {
            "text/markdown": "[https://yoast.com/wordpress-core/a-week-with-us-beta-x-2](https://yoast.com/wordpress-core/a-week-with-us-beta-x-2)"
          },
          "metadata": {}
        },
        {
          "output_type": "display_data",
          "data": {
            "text/markdown": "[https://yoast.com/help/how-to-switch-from-the-local-pickup-option-in-yoast-local-seo-to-the-local-pickup-option-in-woocommerce](https://yoast.com/help/how-to-switch-from-the-local-pickup-option-in-yoast-local-seo-to-the-local-pickup-option-in-woocommerce)"
          },
          "metadata": {}
        },
        {
          "output_type": "display_data",
          "data": {
            "text/markdown": "[https://yoast.com/developer-blog/theming-gutenberg-the-howto-block](https://yoast.com/developer-blog/theming-gutenberg-the-howto-block)"
          },
          "metadata": {}
        },
        {
          "output_type": "display_data",
          "data": {
            "text/markdown": "[https://yoast.com/yoastcon/things-to-do-in-nijmegen](https://yoast.com/yoastcon/things-to-do-in-nijmegen)"
          },
          "metadata": {}
        },
        {
          "output_type": "display_data",
          "data": {
            "text/markdown": "[https://yoast.com/video/ask-yoast-redirecting-domain](https://yoast.com/video/ask-yoast-redirecting-domain)"
          },
          "metadata": {}
        },
        {
          "output_type": "display_data",
          "data": {
            "text/markdown": "[https://yoast.com/features/seo-workouts](https://yoast.com/features/seo-workouts)"
          },
          "metadata": {}
        },
        {
          "output_type": "display_data",
          "data": {
            "text/markdown": "[https://yoast.com/tag/xml-sitemap](https://yoast.com/tag/xml-sitemap)"
          },
          "metadata": {}
        },
        {
          "output_type": "display_data",
          "data": {
            "text/markdown": "[https://yoast.com/help/how-to-select-a-primary-category](https://yoast.com/help/how-to-select-a-primary-category)"
          },
          "metadata": {}
        },
        {
          "output_type": "display_data",
          "data": {
            "text/markdown": "[https://yoast.com/developer-blog/relative-urls-issues](https://yoast.com/developer-blog/relative-urls-issues)"
          },
          "metadata": {}
        },
        {
          "output_type": "display_data",
          "data": {
            "text/markdown": "[https://yoast.com/help/how-to-index-private-videos](https://yoast.com/help/how-to-index-private-videos)"
          },
          "metadata": {}
        },
        {
          "output_type": "display_data",
          "data": {
            "text/markdown": "[https://yoast.com/wordpress-core/one-week-to-feature-freeze](https://yoast.com/wordpress-core/one-week-to-feature-freeze)"
          },
          "metadata": {}
        },
        {
          "output_type": "display_data",
          "data": {
            "text/markdown": "[https://yoast.com/community/care-fund/recipients/michele-butcher-jones](https://yoast.com/community/care-fund/recipients/michele-butcher-jones)"
          },
          "metadata": {}
        },
        {
          "output_type": "display_data",
          "data": {
            "text/markdown": "[https://yoast.com/wordpress-hosting/a2-hosting](https://yoast.com/wordpress-hosting/a2-hosting)"
          },
          "metadata": {}
        },
        {
          "output_type": "display_data",
          "data": {
            "text/markdown": "[https://yoast.com/community/care-fund/recipients/giorgia-castro-2](https://yoast.com/community/care-fund/recipients/giorgia-castro-2)"
          },
          "metadata": {}
        },
        {
          "output_type": "display_data",
          "data": {
            "text/markdown": "[https://yoast.com/podcast/mike-king-2021](https://yoast.com/podcast/mike-king-2021)"
          },
          "metadata": {}
        },
        {
          "output_type": "display_data",
          "data": {
            "text/markdown": "[https://yoast.com/developer-blog/notice-increasing-minimum-php-requirement](https://yoast.com/developer-blog/notice-increasing-minimum-php-requirement)"
          },
          "metadata": {}
        },
        {
          "output_type": "display_data",
          "data": {
            "text/markdown": "[https://yoast.com/help/sitemap-error-incorrect-namespace](https://yoast.com/help/sitemap-error-incorrect-namespace)"
          },
          "metadata": {}
        },
        {
          "output_type": "display_data",
          "data": {
            "text/markdown": "[https://yoast.com/help/missing-or-invalid-date-in-xml-sitemap](https://yoast.com/help/missing-or-invalid-date-in-xml-sitemap)"
          },
          "metadata": {}
        },
        {
          "output_type": "display_data",
          "data": {
            "text/markdown": "[https://yoast.com/about-us/team/javi-alvarez](https://yoast.com/about-us/team/javi-alvarez)"
          },
          "metadata": {}
        },
        {
          "output_type": "display_data",
          "data": {
            "text/markdown": "[https://yoast.com/features/robots-meta-tags](https://yoast.com/features/robots-meta-tags)"
          },
          "metadata": {}
        },
        {
          "output_type": "display_data",
          "data": {
            "text/markdown": "[https://yoast.com/webinar/webinar-by-bluehost-building-a-wonderful-website-on-wordpress](https://yoast.com/webinar/webinar-by-bluehost-building-a-wonderful-website-on-wordpress)"
          },
          "metadata": {}
        },
        {
          "output_type": "display_data",
          "data": {
            "text/markdown": "[https://yoast.com/community/care-fund/recipients/cristiano-zanca-2](https://yoast.com/community/care-fund/recipients/cristiano-zanca-2)"
          },
          "metadata": {}
        },
        {
          "output_type": "display_data",
          "data": {
            "text/markdown": "[https://yoast.com/help/how-to-clear-my-browsers-cache](https://yoast.com/help/how-to-clear-my-browsers-cache)"
          },
          "metadata": {}
        },
        {
          "output_type": "display_data",
          "data": {
            "text/markdown": "[https://yoast.com/help/social-profile-knowledge-graph](https://yoast.com/help/social-profile-knowledge-graph)"
          },
          "metadata": {}
        },
        {
          "output_type": "display_data",
          "data": {
            "text/markdown": "[https://yoast.com/wordpress-core/recap-of-contributor-day](https://yoast.com/wordpress-core/recap-of-contributor-day)"
          },
          "metadata": {}
        },
        {
          "output_type": "display_data",
          "data": {
            "text/markdown": "[https://yoast.com/academy/training-subscription/free-lessons-yoast-seo-academy-trials](https://yoast.com/academy/training-subscription/free-lessons-yoast-seo-academy-trials)"
          },
          "metadata": {}
        },
        {
          "output_type": "display_data",
          "data": {
            "text/markdown": "[https://yoast.com/wordpress-core/how-to-really-help-the-wordpress-project](https://yoast.com/wordpress-core/how-to-really-help-the-wordpress-project)"
          },
          "metadata": {}
        },
        {
          "output_type": "display_data",
          "data": {
            "text/markdown": "[https://yoast.com/wordpress-hosting/bionicwp](https://yoast.com/wordpress-hosting/bionicwp)"
          },
          "metadata": {}
        },
        {
          "output_type": "display_data",
          "data": {
            "text/markdown": "[https://yoast.com/wordpress-hosting/strattic](https://yoast.com/wordpress-hosting/strattic)"
          },
          "metadata": {}
        },
        {
          "output_type": "display_data",
          "data": {
            "text/markdown": "[https://yoast.com/about-us/team/michael-tina](https://yoast.com/about-us/team/michael-tina)"
          },
          "metadata": {}
        },
        {
          "output_type": "display_data",
          "data": {
            "text/markdown": "[https://yoast.com/webinar/webinar-top-tips-for-getting-and-leveraging-reviews-for-bfcm](https://yoast.com/webinar/webinar-top-tips-for-getting-and-leveraging-reviews-for-bfcm)"
          },
          "metadata": {}
        },
        {
          "output_type": "display_data",
          "data": {
            "text/markdown": "[https://yoast.com/community/care-fund/recipients/maciej-swoboda](https://yoast.com/community/care-fund/recipients/maciej-swoboda)"
          },
          "metadata": {}
        },
        {
          "output_type": "display_data",
          "data": {
            "text/markdown": "[https://yoast.com/help/list-available-snippet-variables-yoast-seo](https://yoast.com/help/list-available-snippet-variables-yoast-seo)"
          },
          "metadata": {}
        },
        {
          "output_type": "display_data",
          "data": {
            "text/markdown": "[https://yoast.com/help/installation-guide-for-video-seo](https://yoast.com/help/installation-guide-for-video-seo)"
          },
          "metadata": {}
        },
        {
          "output_type": "display_data",
          "data": {
            "text/markdown": "[https://yoast.com/about-us/team/michael-quaranta](https://yoast.com/about-us/team/michael-quaranta)"
          },
          "metadata": {}
        },
        {
          "output_type": "display_data",
          "data": {
            "text/markdown": "[https://yoast.com/about-us/team/neringa-kavaliauskaite](https://yoast.com/about-us/team/neringa-kavaliauskaite)"
          },
          "metadata": {}
        },
        {
          "output_type": "display_data",
          "data": {
            "text/markdown": "[https://yoast.com/webinar/seo-news-webinar-september-2021](https://yoast.com/webinar/seo-news-webinar-september-2021)"
          },
          "metadata": {}
        },
        {
          "output_type": "display_data",
          "data": {
            "text/markdown": "[https://yoast.com/help/enable-disable-content-readability-analysis](https://yoast.com/help/enable-disable-content-readability-analysis)"
          },
          "metadata": {}
        },
        {
          "output_type": "display_data",
          "data": {
            "text/markdown": "[https://yoast.com/video/ask-yoast-changing-url-structure-rankings](https://yoast.com/video/ask-yoast-changing-url-structure-rankings)"
          },
          "metadata": {}
        },
        {
          "output_type": "display_data",
          "data": {
            "text/markdown": "[https://yoast.com/help/how-to-add-seriously-simple-podcasting-to-yoast-seo](https://yoast.com/help/how-to-add-seriously-simple-podcasting-to-yoast-seo)"
          },
          "metadata": {}
        },
        {
          "output_type": "display_data",
          "data": {
            "text/markdown": "[https://yoast.com/webinar/webinar-how-to-start-with-seo-december-12-2023](https://yoast.com/webinar/webinar-how-to-start-with-seo-december-12-2023)"
          },
          "metadata": {}
        },
        {
          "output_type": "display_data",
          "data": {
            "text/markdown": "[https://yoast.com/help/what-to-do-if-your-organization-is-tax-exempt](https://yoast.com/help/what-to-do-if-your-organization-is-tax-exempt)"
          },
          "metadata": {}
        },
        {
          "output_type": "display_data",
          "data": {
            "text/markdown": "[https://yoast.com/developer-blog/revolutionary-schema-solution](https://yoast.com/developer-blog/revolutionary-schema-solution)"
          },
          "metadata": {}
        },
        {
          "output_type": "display_data",
          "data": {
            "text/markdown": "[https://yoast.com/help/how-do-i-noindex-urls](https://yoast.com/help/how-do-i-noindex-urls)"
          },
          "metadata": {}
        },
        {
          "output_type": "display_data",
          "data": {
            "text/markdown": "[https://yoast.com/community/care-fund/recipients/colin-stewart](https://yoast.com/community/care-fund/recipients/colin-stewart)"
          },
          "metadata": {}
        },
        {
          "output_type": "display_data",
          "data": {
            "text/markdown": "[https://yoast.com/community/care-fund/recipients/kevin-cristiano](https://yoast.com/community/care-fund/recipients/kevin-cristiano)"
          },
          "metadata": {}
        },
        {
          "output_type": "display_data",
          "data": {
            "text/markdown": "[https://yoast.com/wordpress-core/why-we-care-about-documentation](https://yoast.com/wordpress-core/why-we-care-about-documentation)"
          },
          "metadata": {}
        },
        {
          "output_type": "display_data",
          "data": {
            "text/markdown": "[https://yoast.com/wordpress/plugins/slideshare-2](https://yoast.com/wordpress/plugins/slideshare-2)"
          },
          "metadata": {}
        },
        {
          "output_type": "display_data",
          "data": {
            "text/markdown": "[https://yoast.com/help/inclusive-language/race-and-ethnicity](https://yoast.com/help/inclusive-language/race-and-ethnicity)"
          },
          "metadata": {}
        },
        {
          "output_type": "display_data",
          "data": {
            "text/markdown": "[https://yoast.com/tag/https](https://yoast.com/tag/https)"
          },
          "metadata": {}
        },
        {
          "output_type": "display_data",
          "data": {
            "text/markdown": "[https://yoast.com/help/sales-tax-vat-handling-by-yoast-com](https://yoast.com/help/sales-tax-vat-handling-by-yoast-com)"
          },
          "metadata": {}
        },
        {
          "output_type": "display_data",
          "data": {
            "text/markdown": "[https://yoast.com/developer-blog/phpsessid-url-redirect](https://yoast.com/developer-blog/phpsessid-url-redirect)"
          },
          "metadata": {}
        },
        {
          "output_type": "display_data",
          "data": {
            "text/markdown": "[https://yoast.com/video/new-seo-analysis-yoast-seo-recalibration](https://yoast.com/video/new-seo-analysis-yoast-seo-recalibration)"
          },
          "metadata": {}
        },
        {
          "output_type": "display_data",
          "data": {
            "text/markdown": "[https://yoast.com/help/learn-seo-with-yoast-seo-academy](https://yoast.com/help/learn-seo-with-yoast-seo-academy)"
          },
          "metadata": {}
        },
        {
          "output_type": "display_data",
          "data": {
            "text/markdown": "[https://yoast.com/tag/charity](https://yoast.com/tag/charity)"
          },
          "metadata": {}
        },
        {
          "output_type": "display_data",
          "data": {
            "text/markdown": "[https://yoast.com/hybrid-working](https://yoast.com/hybrid-working)"
          },
          "metadata": {}
        },
        {
          "output_type": "display_data",
          "data": {
            "text/markdown": "[https://yoast.com/developer-blog/a11y-monthly-navigation-javascript](https://yoast.com/developer-blog/a11y-monthly-navigation-javascript)"
          },
          "metadata": {}
        },
        {
          "output_type": "display_data",
          "data": {
            "text/markdown": "[https://yoast.com/help/list-of-function-words](https://yoast.com/help/list-of-function-words)"
          },
          "metadata": {}
        },
        {
          "output_type": "display_data",
          "data": {
            "text/markdown": "[https://yoast.com/wordpress-core/a-month-with-the-wordpress-core-team-october-2023](https://yoast.com/wordpress-core/a-month-with-the-wordpress-core-team-october-2023)"
          },
          "metadata": {}
        },
        {
          "output_type": "display_data",
          "data": {
            "text/markdown": "[https://yoast.com/video/ask-yoast-change-product-urls-while-relaunching](https://yoast.com/video/ask-yoast-change-product-urls-while-relaunching)"
          },
          "metadata": {}
        },
        {
          "output_type": "display_data",
          "data": {
            "text/markdown": "[https://yoast.com/help/how-to-install-a-plugin-from-the-wordpress-plugin-repository](https://yoast.com/help/how-to-install-a-plugin-from-the-wordpress-plugin-repository)"
          },
          "metadata": {}
        },
        {
          "output_type": "display_data",
          "data": {
            "text/markdown": "[https://yoast.com/developer-blog/how-we-built-the-inclusive-language-analysis](https://yoast.com/developer-blog/how-we-built-the-inclusive-language-analysis)"
          },
          "metadata": {}
        },
        {
          "output_type": "display_data",
          "data": {
            "text/markdown": "[https://yoast.com/features/elementor](https://yoast.com/features/elementor)"
          },
          "metadata": {}
        },
        {
          "output_type": "display_data",
          "data": {
            "text/markdown": "[https://yoast.com/wordpress-hosting/chemicloud](https://yoast.com/wordpress-hosting/chemicloud)"
          },
          "metadata": {}
        },
        {
          "output_type": "display_data",
          "data": {
            "text/markdown": "[https://yoast.com/video/ask-yoast-layered-navigation-links](https://yoast.com/video/ask-yoast-layered-navigation-links)"
          },
          "metadata": {}
        },
        {
          "output_type": "display_data",
          "data": {
            "text/markdown": "[https://yoast.com/about-us/team/oksana-abakumova](https://yoast.com/about-us/team/oksana-abakumova)"
          },
          "metadata": {}
        },
        {
          "output_type": "display_data",
          "data": {
            "text/markdown": "[https://yoast.com/help/implementing-schema-with-yoast-seo](https://yoast.com/help/implementing-schema-with-yoast-seo)"
          },
          "metadata": {}
        },
        {
          "output_type": "display_data",
          "data": {
            "text/markdown": "[https://yoast.com/help/page-analysis-has-been-disabled](https://yoast.com/help/page-analysis-has-been-disabled)"
          },
          "metadata": {}
        },
        {
          "output_type": "display_data",
          "data": {
            "text/markdown": "[https://yoast.com/community/care-fund/recipients/samuel-adekunle](https://yoast.com/community/care-fund/recipients/samuel-adekunle)"
          },
          "metadata": {}
        },
        {
          "output_type": "display_data",
          "data": {
            "text/markdown": "[https://yoast.com/video/ask-yoast-publish-date-updated-articles](https://yoast.com/video/ask-yoast-publish-date-updated-articles)"
          },
          "metadata": {}
        },
        {
          "output_type": "display_data",
          "data": {
            "text/markdown": "[https://yoast.com/webinar/webinar-how-to-start-with-seo](https://yoast.com/webinar/webinar-how-to-start-with-seo)"
          },
          "metadata": {}
        },
        {
          "output_type": "display_data",
          "data": {
            "text/markdown": "[https://yoast.com/help/volume-trend-related-keyphrases](https://yoast.com/help/volume-trend-related-keyphrases)"
          },
          "metadata": {}
        },
        {
          "output_type": "display_data",
          "data": {
            "text/markdown": "[https://yoast.com/wordpress-core/how-the-team-works-and-weekly-update](https://yoast.com/wordpress-core/how-the-team-works-and-weekly-update)"
          },
          "metadata": {}
        },
        {
          "output_type": "display_data",
          "data": {
            "text/markdown": "[https://yoast.com/community/care-fund/recipients/cristiano-zanca](https://yoast.com/community/care-fund/recipients/cristiano-zanca)"
          },
          "metadata": {}
        },
        {
          "output_type": "display_data",
          "data": {
            "text/markdown": "[https://yoast.com/about-us/team/mykola](https://yoast.com/about-us/team/mykola)"
          },
          "metadata": {}
        },
        {
          "output_type": "display_data",
          "data": {
            "text/markdown": "[https://yoast.com/tag/news-seo](https://yoast.com/tag/news-seo)"
          },
          "metadata": {}
        },
        {
          "output_type": "display_data",
          "data": {
            "text/markdown": "[https://yoast.com/tag/404](https://yoast.com/tag/404)"
          },
          "metadata": {}
        },
        {
          "output_type": "display_data",
          "data": {
            "text/markdown": "[https://yoast.com/help/fb-app-id-warnings](https://yoast.com/help/fb-app-id-warnings)"
          },
          "metadata": {}
        },
        {
          "output_type": "display_data",
          "data": {
            "text/markdown": "[https://yoast.com/about-us/team/sergey-biryukov](https://yoast.com/about-us/team/sergey-biryukov)"
          },
          "metadata": {}
        },
        {
          "output_type": "display_data",
          "data": {
            "text/markdown": "[https://yoast.com/academy/understanding-structured-data-training](https://yoast.com/academy/understanding-structured-data-training)"
          },
          "metadata": {}
        },
        {
          "output_type": "display_data",
          "data": {
            "text/markdown": "[https://yoast.com/help/yoast-seo-settings-special-pages](https://yoast.com/help/yoast-seo-settings-special-pages)"
          },
          "metadata": {}
        },
        {
          "output_type": "display_data",
          "data": {
            "text/markdown": "[https://yoast.com/online-museum/games](https://yoast.com/online-museum/games)"
          },
          "metadata": {}
        },
        {
          "output_type": "display_data",
          "data": {
            "text/markdown": "[https://yoast.com/help/how-to-create-a-staging-environment-for-your-wordpress-site](https://yoast.com/help/how-to-create-a-staging-environment-for-your-wordpress-site)"
          },
          "metadata": {}
        },
        {
          "output_type": "display_data",
          "data": {
            "text/markdown": "[https://yoast.com/community/care-fund/recipients/mukesh-panchal](https://yoast.com/community/care-fund/recipients/mukesh-panchal)"
          },
          "metadata": {}
        },
        {
          "output_type": "display_data",
          "data": {
            "text/markdown": "[https://yoast.com/help/disable-internal-linking](https://yoast.com/help/disable-internal-linking)"
          },
          "metadata": {}
        },
        {
          "output_type": "display_data",
          "data": {
            "text/markdown": "[https://yoast.com/developer-blog/yoast-seo-14-0-changing-the-yoast-schema-api](https://yoast.com/developer-blog/yoast-seo-14-0-changing-the-yoast-schema-api)"
          },
          "metadata": {}
        },
        {
          "output_type": "display_data",
          "data": {
            "text/markdown": "[https://yoast.com/wordpress-core/contributor-day-tomorrow](https://yoast.com/wordpress-core/contributor-day-tomorrow)"
          },
          "metadata": {}
        },
        {
          "output_type": "display_data",
          "data": {
            "text/markdown": "[https://yoast.com/video/ask-yoast-include-taxonomies-in-xml-sitemap](https://yoast.com/video/ask-yoast-include-taxonomies-in-xml-sitemap)"
          },
          "metadata": {}
        },
        {
          "output_type": "display_data",
          "data": {
            "text/markdown": "[https://yoast.com/webinar/webinar-how-to-start-with-seo-november-29-2023](https://yoast.com/webinar/webinar-how-to-start-with-seo-november-29-2023)"
          },
          "metadata": {}
        },
        {
          "output_type": "display_data",
          "data": {
            "text/markdown": "[https://yoast.com/werken-bij/retention-marketing-manager](https://yoast.com/werken-bij/retention-marketing-manager)"
          },
          "metadata": {}
        },
        {
          "output_type": "display_data",
          "data": {
            "text/markdown": "[https://yoast.com/wordpress-core/getting-ready-for-contributor-day](https://yoast.com/wordpress-core/getting-ready-for-contributor-day)"
          },
          "metadata": {}
        },
        {
          "output_type": "display_data",
          "data": {
            "text/markdown": "[https://yoast.com/community/care-fund/recipients/giacoma-allegretta](https://yoast.com/community/care-fund/recipients/giacoma-allegretta)"
          },
          "metadata": {}
        },
        {
          "output_type": "display_data",
          "data": {
            "text/markdown": "[https://yoast.com/developer-blog/keep-colors-under-control](https://yoast.com/developer-blog/keep-colors-under-control)"
          },
          "metadata": {}
        },
        {
          "output_type": "display_data",
          "data": {
            "text/markdown": "[https://yoast.com/community/care-fund/recipients/felipe-elia](https://yoast.com/community/care-fund/recipients/felipe-elia)"
          },
          "metadata": {}
        },
        {
          "output_type": "display_data",
          "data": {
            "text/markdown": "[https://yoast.com/about-us/team/sanne-van-der-meulen](https://yoast.com/about-us/team/sanne-van-der-meulen)"
          },
          "metadata": {}
        },
        {
          "output_type": "display_data",
          "data": {
            "text/markdown": "[https://yoast.com/wordpress-core/a-week-with-us-wordpress-6-1-rc1-rc2](https://yoast.com/wordpress-core/a-week-with-us-wordpress-6-1-rc1-rc2)"
          },
          "metadata": {}
        },
        {
          "output_type": "display_data",
          "data": {
            "text/markdown": "[https://yoast.com/yoast-seo-3-1](https://yoast.com/yoast-seo-3-1)"
          },
          "metadata": {}
        },
        {
          "output_type": "display_data",
          "data": {
            "text/markdown": "[https://yoast.com/developer-blog/correctly-wrap-documentation](https://yoast.com/developer-blog/correctly-wrap-documentation)"
          },
          "metadata": {}
        },
        {
          "output_type": "display_data",
          "data": {
            "text/markdown": "[https://yoast.com/community/care-fund/recipients/flavia-bernardez-rodriguez](https://yoast.com/community/care-fund/recipients/flavia-bernardez-rodriguez)"
          },
          "metadata": {}
        },
        {
          "output_type": "display_data",
          "data": {
            "text/markdown": "[https://yoast.com/help/ive-translated-strings-but-the-plugin-is-still-in-english](https://yoast.com/help/ive-translated-strings-but-the-plugin-is-still-in-english)"
          },
          "metadata": {}
        },
        {
          "output_type": "display_data",
          "data": {
            "text/markdown": "[https://yoast.com/help/how-to-migrate-from-squirrly-seo-to-yoast-seo](https://yoast.com/help/how-to-migrate-from-squirrly-seo-to-yoast-seo)"
          },
          "metadata": {}
        },
        {
          "output_type": "display_data",
          "data": {
            "text/markdown": "[https://yoast.com/faq-sollicitatieprocedure-yoast](https://yoast.com/faq-sollicitatieprocedure-yoast)"
          },
          "metadata": {}
        },
        {
          "output_type": "display_data",
          "data": {
            "text/markdown": "[https://yoast.com/help/change-og-url](https://yoast.com/help/change-og-url)"
          },
          "metadata": {}
        },
        {
          "output_type": "display_data",
          "data": {
            "text/markdown": "[https://yoast.com/help/false-positives-negatives-spanish-passive-analysis](https://yoast.com/help/false-positives-negatives-spanish-passive-analysis)"
          },
          "metadata": {}
        },
        {
          "output_type": "display_data",
          "data": {
            "text/markdown": "[https://yoast.com/yoast-seo-integrations](https://yoast.com/yoast-seo-integrations)"
          },
          "metadata": {}
        },
        {
          "output_type": "display_data",
          "data": {
            "text/markdown": "[https://yoast.com/community/care-fund/recipients/lidia-pellizzaro](https://yoast.com/community/care-fund/recipients/lidia-pellizzaro)"
          },
          "metadata": {}
        },
        {
          "output_type": "display_data",
          "data": {
            "text/markdown": "[https://yoast.com/get-the-ecommerce-seo-training-now](https://yoast.com/get-the-ecommerce-seo-training-now)"
          },
          "metadata": {}
        },
        {
          "output_type": "display_data",
          "data": {
            "text/markdown": "[https://yoast.com/developer-blog/web-content-accessibility-yoast](https://yoast.com/developer-blog/web-content-accessibility-yoast)"
          },
          "metadata": {}
        },
        {
          "output_type": "display_data",
          "data": {
            "text/markdown": "[https://yoast.com/wordpress-hosting/greengeeks](https://yoast.com/wordpress-hosting/greengeeks)"
          },
          "metadata": {}
        },
        {
          "output_type": "display_data",
          "data": {
            "text/markdown": "[https://yoast.com/video/ask-yoast-redirect-responsive-pages-to-amp](https://yoast.com/video/ask-yoast-redirect-responsive-pages-to-amp)"
          },
          "metadata": {}
        },
        {
          "output_type": "display_data",
          "data": {
            "text/markdown": "[https://yoast.com/features/zapier](https://yoast.com/features/zapier)"
          },
          "metadata": {}
        },
        {
          "output_type": "display_data",
          "data": {
            "text/markdown": "[https://yoast.com/help/how-do-i-change-the-permalink-structure](https://yoast.com/help/how-do-i-change-the-permalink-structure)"
          },
          "metadata": {}
        },
        {
          "output_type": "display_data",
          "data": {
            "text/markdown": "[https://yoast.com/about-us/team/tyler-nguyen](https://yoast.com/about-us/team/tyler-nguyen)"
          },
          "metadata": {}
        },
        {
          "output_type": "display_data",
          "data": {
            "text/markdown": "[https://yoast.com/help/which-link-settings-should-i-use](https://yoast.com/help/which-link-settings-should-i-use)"
          },
          "metadata": {}
        },
        {
          "output_type": "display_data",
          "data": {
            "text/markdown": "[https://yoast.com/features/migrate-from-other-plugins](https://yoast.com/features/migrate-from-other-plugins)"
          },
          "metadata": {}
        },
        {
          "output_type": "display_data",
          "data": {
            "text/markdown": "[https://yoast.com/developer-blog/phpstorm](https://yoast.com/developer-blog/phpstorm)"
          },
          "metadata": {}
        },
        {
          "output_type": "display_data",
          "data": {
            "text/markdown": "[https://yoast.com/yoast-partners/yoast-agency-program/certified-yoast-agencies](https://yoast.com/yoast-partners/yoast-agency-program/certified-yoast-agencies)"
          },
          "metadata": {}
        },
        {
          "output_type": "display_data",
          "data": {
            "text/markdown": "[https://yoast.com/redenen-om-bij-yoast-te-solliciteren](https://yoast.com/redenen-om-bij-yoast-te-solliciteren)"
          },
          "metadata": {}
        },
        {
          "output_type": "display_data",
          "data": {
            "text/markdown": "[https://yoast.com/about-us/team/abiola-olutayo](https://yoast.com/about-us/team/abiola-olutayo)"
          },
          "metadata": {}
        },
        {
          "output_type": "display_data",
          "data": {
            "text/markdown": "[https://yoast.com/wordpress-hosting/managedwp-hosting](https://yoast.com/wordpress-hosting/managedwp-hosting)"
          },
          "metadata": {}
        },
        {
          "output_type": "display_data",
          "data": {
            "text/markdown": "[https://yoast.com/typo3-extensions-seo](https://yoast.com/typo3-extensions-seo)"
          },
          "metadata": {}
        },
        {
          "output_type": "display_data",
          "data": {
            "text/markdown": "[https://yoast.com/review-notice](https://yoast.com/review-notice)"
          },
          "metadata": {}
        },
        {
          "output_type": "display_data",
          "data": {
            "text/markdown": "[https://yoast.com/how-to-write-readable-content-free-workshop](https://yoast.com/how-to-write-readable-content-free-workshop)"
          },
          "metadata": {}
        },
        {
          "output_type": "display_data",
          "data": {
            "text/markdown": "[https://yoast.com/webinar/seo-news-apr-2022](https://yoast.com/webinar/seo-news-apr-2022)"
          },
          "metadata": {}
        },
        {
          "output_type": "display_data",
          "data": {
            "text/markdown": "[https://yoast.com/developer-blog/web-workers-why-and-how-we-use-them](https://yoast.com/developer-blog/web-workers-why-and-how-we-use-them)"
          },
          "metadata": {}
        },
        {
          "output_type": "display_data",
          "data": {
            "text/markdown": "[https://yoast.com/wordpress-hosting/wordpress-com](https://yoast.com/wordpress-hosting/wordpress-com)"
          },
          "metadata": {}
        },
        {
          "output_type": "display_data",
          "data": {
            "text/markdown": "[https://yoast.com/tag/branding](https://yoast.com/tag/branding)"
          },
          "metadata": {}
        },
        {
          "output_type": "display_data",
          "data": {
            "text/markdown": "[https://yoast.com/webinar/seo-news-dec-2021](https://yoast.com/webinar/seo-news-dec-2021)"
          },
          "metadata": {}
        },
        {
          "output_type": "display_data",
          "data": {
            "text/markdown": "[https://yoast.com/video/ask-yoast-redirect-to-my-site](https://yoast.com/video/ask-yoast-redirect-to-my-site)"
          },
          "metadata": {}
        },
        {
          "output_type": "display_data",
          "data": {
            "text/markdown": "[https://yoast.com/help/yoast-seo-premium-redirects-settings-video-explanation](https://yoast.com/help/yoast-seo-premium-redirects-settings-video-explanation)"
          },
          "metadata": {}
        },
        {
          "output_type": "display_data",
          "data": {
            "text/markdown": "[https://yoast.com/help/selecting-content-types-in-schema-settings](https://yoast.com/help/selecting-content-types-in-schema-settings)"
          },
          "metadata": {}
        },
        {
          "output_type": "display_data",
          "data": {
            "text/markdown": "[https://yoast.com/developer-blog/composer-in-yoast-projects](https://yoast.com/developer-blog/composer-in-yoast-projects)"
          },
          "metadata": {}
        },
        {
          "output_type": "display_data",
          "data": {
            "text/markdown": "[https://yoast.com/diversity-fund](https://yoast.com/diversity-fund)"
          },
          "metadata": {}
        },
        {
          "output_type": "display_data",
          "data": {
            "text/markdown": "[https://yoast.com/series/wordpress-for-beginners](https://yoast.com/series/wordpress-for-beginners)"
          },
          "metadata": {}
        },
        {
          "output_type": "display_data",
          "data": {
            "text/markdown": "[https://yoast.com/job-application-yoast-faq](https://yoast.com/job-application-yoast-faq)"
          },
          "metadata": {}
        },
        {
          "output_type": "display_data",
          "data": {
            "text/markdown": "[https://yoast.com/help/generate-set-google-maps-api-key](https://yoast.com/help/generate-set-google-maps-api-key)"
          },
          "metadata": {}
        },
        {
          "output_type": "stream",
          "name": "stdout",
          "text": [
            "Output saved to not_crawled_urls.xlsx\n"
          ]
        }
      ]
    },
    {
      "cell_type": "markdown",
      "source": [
        "#What is the most frequent Country within a given XML sitemap?"
      ],
      "metadata": {
        "id": "fMSVH35qfPGs"
      }
    },
    {
      "cell_type": "code",
      "source": [
        "#@title Fetch Outlier URLs (or those pages that DO NOT reflect the purpose of the XML sitemap)\n",
        "\n",
        "# Use boolean indexing to filter out URLs  that DO NOT target the U.S market\n",
        "filtered_urls = sitemap[~sitemap['loc'].str.contains('/en_US/')]\n",
        "\n",
        "# Create a new dataframe with the filtered rows\n",
        "new_dataframe = pd.DataFrame(filtered_urls)\n",
        "\n",
        "new_dataframe['loc'].to_excel('outlier_pages.xlsx',index=False)\n",
        "new_dataframe['loc']"
      ],
      "metadata": {
        "id": "pfjxZWoCL13o",
        "colab": {
          "base_uri": "https://localhost:8080/"
        },
        "outputId": "06c47c53-1806-4356-8b27-c2ecac94b0e7"
      },
      "execution_count": null,
      "outputs": [
        {
          "output_type": "execute_result",
          "data": {
            "text/plain": [
              "0                                                                                     https://www.kering.com/it\n",
              "1                                                                             https://www.kering.com/it/finance\n",
              "2              https://www.kering.com/it/il-gruppo/la-nostra-governance/consiglio-d-amministrazione/emma-watson\n",
              "3                               https://www.kering.com/it/il-gruppo/la-nostra-governance/francois-henri-pinault\n",
              "4        https://www.kering.com/it/il-gruppo/la-nostra-governance/consiglio-d-amministrazione/jean-pierre-denis\n",
              "                                                          ...                                                  \n",
              "18839                        https://www.kering.com/en/talent/job-offers/gucci-client-advisor-orlando-part-time\n",
              "18840                                                 https://www.kering.com/en/talent/job-offers/gucci-cashier\n",
              "18841                                    https://www.kering.com/en/talent/job-offers/gucci-operations-associate\n",
              "18842                                         https://www.kering.com/en/talent/job-offers/senior-client-advisor\n",
              "18843        https://www.kering.com/en/talent/job-offers/gucci-cdi-visual-merchandiser-outlet-la-vallee-village\n",
              "Name: loc, Length: 18844, dtype: object"
            ]
          },
          "metadata": {},
          "execution_count": 22
        }
      ]
    },
    {
      "cell_type": "code",
      "source": [
        "#@title Most used words (uni-grams, bigrams, etc.) in the primary directory of the URLs included on the sitemap\n",
        "\n",
        "(adv.word_frequency(\n",
        "    sitemap_url['dir_2']\n",
        "    .dropna()\n",
        "    .str.replace('-', ' '),\n",
        "    rm_words=['to', 'for', 'the', 'and', 'in', 'of', 'a', 'with', 'is'])\n",
        " .head(15)\n",
        " .style.format({'abs_freq': '{:,}'}))"
      ],
      "metadata": {
        "colab": {
          "base_uri": "https://localhost:8080/",
          "height": 519
        },
        "id": "uFm0RLgo4nCB",
        "outputId": "20068782-c891-48bd-b541-e053be0e2caf"
      },
      "execution_count": null,
      "outputs": [
        {
          "output_type": "execute_result",
          "data": {
            "text/plain": [
              "<pandas.io.formats.style.Styler at 0x7a57e730a860>"
            ],
            "text/html": [
              "<style type=\"text/css\">\n",
              "</style>\n",
              "<table id=\"T_a752f\" class=\"dataframe\">\n",
              "  <thead>\n",
              "    <tr>\n",
              "      <th class=\"blank level0\" >&nbsp;</th>\n",
              "      <th id=\"T_a752f_level0_col0\" class=\"col_heading level0 col0\" >word</th>\n",
              "      <th id=\"T_a752f_level0_col1\" class=\"col_heading level0 col1\" >abs_freq</th>\n",
              "    </tr>\n",
              "  </thead>\n",
              "  <tbody>\n",
              "    <tr>\n",
              "      <th id=\"T_a752f_level0_row0\" class=\"row_heading level0 row0\" >0</th>\n",
              "      <td id=\"T_a752f_row0_col0\" class=\"data row0 col0\" >online.store</td>\n",
              "      <td id=\"T_a752f_row0_col1\" class=\"data row0 col1\" >4,907</td>\n",
              "    </tr>\n",
              "    <tr>\n",
              "      <th id=\"T_a752f_level0_row1\" class=\"row_heading level0 row1\" >1</th>\n",
              "      <td id=\"T_a752f_row1_col0\" class=\"data row1 col0\" >blog</td>\n",
              "      <td id=\"T_a752f_row1_col1\" class=\"data row1 col1\" >109</td>\n",
              "    </tr>\n",
              "    <tr>\n",
              "      <th id=\"T_a752f_level0_row2\" class=\"row_heading level0 row2\" >2</th>\n",
              "      <td id=\"T_a752f_row2_col0\" class=\"data row2 col0\" >accessories</td>\n",
              "      <td id=\"T_a752f_row2_col1\" class=\"data row2 col1\" >83</td>\n",
              "    </tr>\n",
              "    <tr>\n",
              "      <th id=\"T_a752f_level0_row3\" class=\"row_heading level0 row3\" >3</th>\n",
              "      <td id=\"T_a752f_row3_col0\" class=\"data row3 col0\" >storefinder</td>\n",
              "      <td id=\"T_a752f_row3_col1\" class=\"data row3 col1\" >56</td>\n",
              "    </tr>\n",
              "    <tr>\n",
              "      <th id=\"T_a752f_level0_row4\" class=\"row_heading level0 row4\" >4</th>\n",
              "      <td id=\"T_a752f_row4_col0\" class=\"data row4 col0\" >cameras</td>\n",
              "      <td id=\"T_a752f_row4_col1\" class=\"data row4 col1\" >31</td>\n",
              "    </tr>\n",
              "    <tr>\n",
              "      <th id=\"T_a752f_level0_row5\" class=\"row_heading level0 row5\" >5</th>\n",
              "      <td id=\"T_a752f_row5_col0\" class=\"data row5 col0\" >home</td>\n",
              "      <td id=\"T_a752f_row5_col1\" class=\"data row5 col1\" >12</td>\n",
              "    </tr>\n",
              "    <tr>\n",
              "      <th id=\"T_a752f_level0_row6\" class=\"row_heading level0 row6\" >6</th>\n",
              "      <td id=\"T_a752f_row6_col0\" class=\"data row6 col0\" >photo</td>\n",
              "      <td id=\"T_a752f_row6_col1\" class=\"data row6 col1\" >8</td>\n",
              "    </tr>\n",
              "    <tr>\n",
              "      <th id=\"T_a752f_level0_row7\" class=\"row_heading level0 row7\" >7</th>\n",
              "      <td id=\"T_a752f_row7_col0\" class=\"data row7 col0\" >studio</td>\n",
              "      <td id=\"T_a752f_row7_col1\" class=\"data row7 col1\" >8</td>\n",
              "    </tr>\n",
              "    <tr>\n",
              "      <th id=\"T_a752f_level0_row8\" class=\"row_heading level0 row8\" >8</th>\n",
              "      <td id=\"T_a752f_row8_col0\" class=\"data row8 col0\" >camcorders</td>\n",
              "      <td id=\"T_a752f_row8_col1\" class=\"data row8 col1\" >6</td>\n",
              "    </tr>\n",
              "    <tr>\n",
              "      <th id=\"T_a752f_level0_row9\" class=\"row_heading level0 row9\" >9</th>\n",
              "      <td id=\"T_a752f_row9_col0\" class=\"data row9 col0\" >consumables</td>\n",
              "      <td id=\"T_a752f_row9_col1\" class=\"data row9 col1\" >5</td>\n",
              "    </tr>\n",
              "    <tr>\n",
              "      <th id=\"T_a752f_level0_row10\" class=\"row_heading level0 row10\" >10</th>\n",
              "      <td id=\"T_a752f_row10_col0\" class=\"data row10 col0\" >drones</td>\n",
              "      <td id=\"T_a752f_row10_col1\" class=\"data row10 col1\" >4</td>\n",
              "    </tr>\n",
              "    <tr>\n",
              "      <th id=\"T_a752f_level0_row11\" class=\"row_heading level0 row11\" >11</th>\n",
              "      <td id=\"T_a752f_row11_col0\" class=\"data row11 col0\" >scopes</td>\n",
              "      <td id=\"T_a752f_row11_col1\" class=\"data row11 col1\" >4</td>\n",
              "    </tr>\n",
              "    <tr>\n",
              "      <th id=\"T_a752f_level0_row12\" class=\"row_heading level0 row12\" >12</th>\n",
              "      <td id=\"T_a752f_row12_col0\" class=\"data row12 col0\" >jobs</td>\n",
              "      <td id=\"T_a752f_row12_col1\" class=\"data row12 col1\" >4</td>\n",
              "    </tr>\n",
              "    <tr>\n",
              "      <th id=\"T_a752f_level0_row13\" class=\"row_heading level0 row13\" >13</th>\n",
              "      <td id=\"T_a752f_row13_col0\" class=\"data row13 col0\" >binoculars</td>\n",
              "      <td id=\"T_a752f_row13_col1\" class=\"data row13 col1\" >4</td>\n",
              "    </tr>\n",
              "    <tr>\n",
              "      <th id=\"T_a752f_level0_row14\" class=\"row_heading level0 row14\" >14</th>\n",
              "      <td id=\"T_a752f_row14_col0\" class=\"data row14 col0\" >photoplus</td>\n",
              "      <td id=\"T_a752f_row14_col1\" class=\"data row14 col1\" >1</td>\n",
              "    </tr>\n",
              "  </tbody>\n",
              "</table>\n"
            ]
          },
          "metadata": {},
          "execution_count": 18
        }
      ]
    },
    {
      "cell_type": "code",
      "source": [
        "#@title Most used words (uni-grams, bigrams, etc.) in the SECONDARY directory of the URLs included on the sitemap\n",
        "(adv.word_frequency(\n",
        "    sitemap_url['dir_3']\n",
        "    .dropna()\n",
        "    .str.replace('-', ' '),\n",
        "    rm_words=['to', 'for', 'the', 'and', 'in', 'of', 'a', 'with', 'is'])\n",
        " .head(15)\n",
        " .style.format({'abs_freq': '{:,}'}))"
      ],
      "metadata": {
        "colab": {
          "base_uri": "https://localhost:8080/",
          "height": 519
        },
        "id": "vXen_niM5Bul",
        "outputId": "7d551d48-b786-43ec-f276-2f924a65cc40"
      },
      "execution_count": null,
      "outputs": [
        {
          "output_type": "execute_result",
          "data": {
            "text/plain": [
              "<pandas.io.formats.style.Styler at 0x7f523ef59870>"
            ],
            "text/html": [
              "<style type=\"text/css\">\n",
              "</style>\n",
              "<table id=\"T_cbab9\" class=\"dataframe\">\n",
              "  <thead>\n",
              "    <tr>\n",
              "      <th class=\"blank level0\" >&nbsp;</th>\n",
              "      <th id=\"T_cbab9_level0_col0\" class=\"col_heading level0 col0\" >word</th>\n",
              "      <th id=\"T_cbab9_level0_col1\" class=\"col_heading level0 col1\" >abs_freq</th>\n",
              "    </tr>\n",
              "  </thead>\n",
              "  <tbody>\n",
              "    <tr>\n",
              "      <th id=\"T_cbab9_level0_row0\" class=\"row_heading level0 row0\" >0</th>\n",
              "      <td id=\"T_cbab9_row0_col0\" class=\"data row0 col0\" >recipe.html</td>\n",
              "      <td id=\"T_cbab9_row0_col1\" class=\"data row0 col1\" >730</td>\n",
              "    </tr>\n",
              "    <tr>\n",
              "      <th id=\"T_cbab9_level0_row1\" class=\"row_heading level0 row1\" >1</th>\n",
              "      <td id=\"T_cbab9_row1_col0\" class=\"data row1 col0\" >recipes</td>\n",
              "      <td id=\"T_cbab9_row1_col1\" class=\"data row1 col1\" >377</td>\n",
              "    </tr>\n",
              "    <tr>\n",
              "      <th id=\"T_cbab9_level0_row2\" class=\"row_heading level0 row2\" >2</th>\n",
              "      <td id=\"T_cbab9_row2_col0\" class=\"data row2 col0\" >products</td>\n",
              "      <td id=\"T_cbab9_row2_col1\" class=\"data row2 col1\" >370</td>\n",
              "    </tr>\n",
              "    <tr>\n",
              "      <th id=\"T_cbab9_level0_row3\" class=\"row_heading level0 row3\" >3</th>\n",
              "      <td id=\"T_cbab9_row3_col0\" class=\"data row3 col0\" >product.html</td>\n",
              "      <td id=\"T_cbab9_row3_col1\" class=\"data row3 col1\" >197</td>\n",
              "    </tr>\n",
              "    <tr>\n",
              "      <th id=\"T_cbab9_level0_row4\" class=\"row_heading level0 row4\" >4</th>\n",
              "      <td id=\"T_cbab9_row4_col0\" class=\"data row4 col0\" >nutrition</td>\n",
              "      <td id=\"T_cbab9_row4_col1\" class=\"data row4 col1\" >124</td>\n",
              "    </tr>\n",
              "    <tr>\n",
              "      <th id=\"T_cbab9_level0_row5\" class=\"row_heading level0 row5\" >5</th>\n",
              "      <td id=\"T_cbab9_row5_col0\" class=\"data row5 col0\" >s</td>\n",
              "      <td id=\"T_cbab9_row5_col1\" class=\"data row5 col1\" >120</td>\n",
              "    </tr>\n",
              "    <tr>\n",
              "      <th id=\"T_cbab9_level0_row6\" class=\"row_heading level0 row6\" >6</th>\n",
              "      <td id=\"T_cbab9_row6_col0\" class=\"data row6 col0\" >corn</td>\n",
              "      <td id=\"T_cbab9_row6_col1\" class=\"data row6 col1\" >110</td>\n",
              "    </tr>\n",
              "    <tr>\n",
              "      <th id=\"T_cbab9_level0_row7\" class=\"row_heading level0 row7\" >7</th>\n",
              "      <td id=\"T_cbab9_row7_col0\" class=\"data row7 col0\" >kellogg</td>\n",
              "      <td id=\"T_cbab9_row7_col1\" class=\"data row7 col1\" >96</td>\n",
              "    </tr>\n",
              "    <tr>\n",
              "      <th id=\"T_cbab9_level0_row8\" class=\"row_heading level0 row8\" >8</th>\n",
              "      <td id=\"T_cbab9_row8_col0\" class=\"data row8 col0\" >recipe</td>\n",
              "      <td id=\"T_cbab9_row8_col1\" class=\"data row8 col1\" >91</td>\n",
              "    </tr>\n",
              "    <tr>\n",
              "      <th id=\"T_cbab9_level0_row9\" class=\"row_heading level0 row9\" >9</th>\n",
              "      <td id=\"T_cbab9_row9_col0\" class=\"data row9 col0\" >bran</td>\n",
              "      <td id=\"T_cbab9_row9_col1\" class=\"data row9 col1\" >91</td>\n",
              "    </tr>\n",
              "    <tr>\n",
              "      <th id=\"T_cbab9_level0_row10\" class=\"row_heading level0 row10\" >10</th>\n",
              "      <td id=\"T_cbab9_row10_col0\" class=\"data row10 col0\" >flakes</td>\n",
              "      <td id=\"T_cbab9_row10_col1\" class=\"data row10 col1\" >88</td>\n",
              "    </tr>\n",
              "    <tr>\n",
              "      <th id=\"T_cbab9_level0_row11\" class=\"row_heading level0 row11\" >11</th>\n",
              "      <td id=\"T_cbab9_row11_col0\" class=\"data row11 col0\" >cereal</td>\n",
              "      <td id=\"T_cbab9_row11_col1\" class=\"data row11 col1\" >88</td>\n",
              "    </tr>\n",
              "    <tr>\n",
              "      <th id=\"T_cbab9_level0_row12\" class=\"row_heading level0 row12\" >12</th>\n",
              "      <td id=\"T_cbab9_row12_col0\" class=\"data row12 col0\" >cheese</td>\n",
              "      <td id=\"T_cbab9_row12_col1\" class=\"data row12 col1\" >77</td>\n",
              "    </tr>\n",
              "    <tr>\n",
              "      <th id=\"T_cbab9_level0_row13\" class=\"row_heading level0 row13\" >13</th>\n",
              "      <td id=\"T_cbab9_row13_col0\" class=\"data row13 col0\" >granola</td>\n",
              "      <td id=\"T_cbab9_row13_col1\" class=\"data row13 col1\" >76</td>\n",
              "    </tr>\n",
              "    <tr>\n",
              "      <th id=\"T_cbab9_level0_row14\" class=\"row_heading level0 row14\" >14</th>\n",
              "      <td id=\"T_cbab9_row14_col0\" class=\"data row14 col0\" >chocolate</td>\n",
              "      <td id=\"T_cbab9_row14_col1\" class=\"data row14 col1\" >71</td>\n",
              "    </tr>\n",
              "  </tbody>\n",
              "</table>\n"
            ]
          },
          "metadata": {},
          "execution_count": 89
        }
      ]
    },
    {
      "cell_type": "markdown",
      "source": [
        "## 🤖 ROBOTS.TXT"
      ],
      "metadata": {
        "id": "3EHi_UN-h0rd"
      }
    },
    {
      "cell_type": "code",
      "execution_count": null,
      "metadata": {
        "id": "oAkHCD9oZTo6",
        "colab": {
          "base_uri": "https://localhost:8080/"
        },
        "outputId": "18007aaa-8cd1-46bf-a0d3-b7632ac1ee9a"
      },
      "outputs": [
        {
          "output_type": "execute_result",
          "data": {
            "text/plain": [
              "200"
            ]
          },
          "metadata": {},
          "execution_count": 20
        }
      ],
      "source": [
        "#@title 5️⃣ Have a look at the Robots.txt\n",
        "import requests\n",
        "r = requests.get(\"https://www.jessops.com/robots.txt\")\n",
        "r.status_code"
      ]
    },
    {
      "cell_type": "markdown",
      "metadata": {
        "id": "vkwBVg8ra4T-"
      },
      "source": [
        "If the response status code is 200, it means there is a robots.txt file for the user-agent-based crawling control.\n",
        "\n"
      ]
    },
    {
      "cell_type": "code",
      "execution_count": null,
      "metadata": {
        "id": "T1AqEyAkZthM",
        "colab": {
          "base_uri": "https://localhost:8080/"
        },
        "outputId": "59e2ba1e-474c-4f74-a39a-56530f499258"
      },
      "outputs": [
        {
          "output_type": "execute_result",
          "data": {
            "text/plain": [
              "True    2215\n",
              "Name: can_fetch, dtype: int64"
            ]
          },
          "metadata": {},
          "execution_count": 11
        }
      ],
      "source": [
        "#@title 6️⃣ Bulk audit Robots.txt of the URLs in the sitemap\n",
        "sitemap_df_robotstxt_check = adv.robotstxt_test(\"https://yoast.com/robots.txt\", urls=sitemap[\"loc\"], user_agents=[\"*\"])\n",
        "sitemap_df_robotstxt_check[\"can_fetch\"].value_counts()"
      ]
    },
    {
      "cell_type": "markdown",
      "metadata": {
        "id": "-5eIENoBbocH"
      },
      "source": [
        "# 📓 SIDENOTES\n",
        "\n",
        "**user_agents=[\"*\"]** = we have performed the audit for all of the user-agents\n",
        "\n",
        "**True** =  URLs are all crawlable.\n",
        "\n",
        "**False** = some URLs are being disallowed\n",
        "\n",
        "👇\n",
        "\n",
        "\n",
        "---\n",
        "If URLs are being disallowed, run the script below\n"
      ]
    },
    {
      "cell_type": "code",
      "execution_count": null,
      "metadata": {
        "id": "VxkvYiM3bp33",
        "colab": {
          "base_uri": "https://localhost:8080/",
          "height": 53
        },
        "outputId": "5dfd90f6-ad5c-4f49-cf58-1b7a6e2e7d3c"
      },
      "outputs": [
        {
          "output_type": "execute_result",
          "data": {
            "text/plain": [
              "Empty DataFrame\n",
              "Columns: [robotstxt_url, user_agent, url_path, can_fetch]\n",
              "Index: []"
            ],
            "text/html": [
              "\n",
              "  <div id=\"df-305454e6-ab77-4a97-aff1-88d63c8c9d4a\" class=\"colab-df-container\">\n",
              "    <div>\n",
              "<style scoped>\n",
              "    .dataframe tbody tr th:only-of-type {\n",
              "        vertical-align: middle;\n",
              "    }\n",
              "\n",
              "    .dataframe tbody tr th {\n",
              "        vertical-align: top;\n",
              "    }\n",
              "\n",
              "    .dataframe thead th {\n",
              "        text-align: right;\n",
              "    }\n",
              "</style>\n",
              "<table border=\"1\" class=\"dataframe\">\n",
              "  <thead>\n",
              "    <tr style=\"text-align: right;\">\n",
              "      <th></th>\n",
              "      <th>robotstxt_url</th>\n",
              "      <th>user_agent</th>\n",
              "      <th>url_path</th>\n",
              "      <th>can_fetch</th>\n",
              "    </tr>\n",
              "  </thead>\n",
              "  <tbody>\n",
              "  </tbody>\n",
              "</table>\n",
              "</div>\n",
              "    <div class=\"colab-df-buttons\">\n",
              "\n",
              "  <div class=\"colab-df-container\">\n",
              "    <button class=\"colab-df-convert\" onclick=\"convertToInteractive('df-305454e6-ab77-4a97-aff1-88d63c8c9d4a')\"\n",
              "            title=\"Convert this dataframe to an interactive table.\"\n",
              "            style=\"display:none;\">\n",
              "\n",
              "  <svg xmlns=\"http://www.w3.org/2000/svg\" height=\"24px\" viewBox=\"0 -960 960 960\">\n",
              "    <path d=\"M120-120v-720h720v720H120Zm60-500h600v-160H180v160Zm220 220h160v-160H400v160Zm0 220h160v-160H400v160ZM180-400h160v-160H180v160Zm440 0h160v-160H620v160ZM180-180h160v-160H180v160Zm440 0h160v-160H620v160Z\"/>\n",
              "  </svg>\n",
              "    </button>\n",
              "\n",
              "  <style>\n",
              "    .colab-df-container {\n",
              "      display:flex;\n",
              "      gap: 12px;\n",
              "    }\n",
              "\n",
              "    .colab-df-convert {\n",
              "      background-color: #E8F0FE;\n",
              "      border: none;\n",
              "      border-radius: 50%;\n",
              "      cursor: pointer;\n",
              "      display: none;\n",
              "      fill: #1967D2;\n",
              "      height: 32px;\n",
              "      padding: 0 0 0 0;\n",
              "      width: 32px;\n",
              "    }\n",
              "\n",
              "    .colab-df-convert:hover {\n",
              "      background-color: #E2EBFA;\n",
              "      box-shadow: 0px 1px 2px rgba(60, 64, 67, 0.3), 0px 1px 3px 1px rgba(60, 64, 67, 0.15);\n",
              "      fill: #174EA6;\n",
              "    }\n",
              "\n",
              "    .colab-df-buttons div {\n",
              "      margin-bottom: 4px;\n",
              "    }\n",
              "\n",
              "    [theme=dark] .colab-df-convert {\n",
              "      background-color: #3B4455;\n",
              "      fill: #D2E3FC;\n",
              "    }\n",
              "\n",
              "    [theme=dark] .colab-df-convert:hover {\n",
              "      background-color: #434B5C;\n",
              "      box-shadow: 0px 1px 3px 1px rgba(0, 0, 0, 0.15);\n",
              "      filter: drop-shadow(0px 1px 2px rgba(0, 0, 0, 0.3));\n",
              "      fill: #FFFFFF;\n",
              "    }\n",
              "  </style>\n",
              "\n",
              "    <script>\n",
              "      const buttonEl =\n",
              "        document.querySelector('#df-305454e6-ab77-4a97-aff1-88d63c8c9d4a button.colab-df-convert');\n",
              "      buttonEl.style.display =\n",
              "        google.colab.kernel.accessAllowed ? 'block' : 'none';\n",
              "\n",
              "      async function convertToInteractive(key) {\n",
              "        const element = document.querySelector('#df-305454e6-ab77-4a97-aff1-88d63c8c9d4a');\n",
              "        const dataTable =\n",
              "          await google.colab.kernel.invokeFunction('convertToInteractive',\n",
              "                                                    [key], {});\n",
              "        if (!dataTable) return;\n",
              "\n",
              "        const docLinkHtml = 'Like what you see? Visit the ' +\n",
              "          '<a target=\"_blank\" href=https://colab.research.google.com/notebooks/data_table.ipynb>data table notebook</a>'\n",
              "          + ' to learn more about interactive tables.';\n",
              "        element.innerHTML = '';\n",
              "        dataTable['output_type'] = 'display_data';\n",
              "        await google.colab.output.renderOutput(dataTable, element);\n",
              "        const docLink = document.createElement('div');\n",
              "        docLink.innerHTML = docLinkHtml;\n",
              "        element.appendChild(docLink);\n",
              "      }\n",
              "    </script>\n",
              "  </div>\n",
              "\n",
              "    </div>\n",
              "  </div>\n"
            ]
          },
          "metadata": {},
          "execution_count": 12
        }
      ],
      "source": [
        "#@title Identify Disallowed URLs that are submitted in the XML sitemap\n",
        "pd.set_option(\"display.max_colwidth\",255)\n",
        "sitemap_df_robotstxt_check[sitemap_df_robotstxt_check[\"can_fetch\"] == False]"
      ]
    },
    {
      "cell_type": "markdown",
      "source": [
        "## STATUS CODE CHECK"
      ],
      "metadata": {
        "id": "5zQRJi2xiL3k"
      }
    },
    {
      "cell_type": "code",
      "source": [
        "#@title Check URLs Status Code within the Sitemap\n",
        "adv.crawl_headers(df[\"loc\"], output_file=\"sitemap_df_header.jl\")\n",
        "df_headers = pd.read_json(\"sitemap_df_header.jl\", lines=True)\n",
        "df_headers[\"status\"].value_counts()\n"
      ],
      "metadata": {
        "id": "o6YbwcxPhb-d",
        "colab": {
          "base_uri": "https://localhost:8080/"
        },
        "outputId": "eb76ac0c-e54c-49a3-a7d2-88b4af0a2121"
      },
      "execution_count": null,
      "outputs": [
        {
          "output_type": "execute_result",
          "data": {
            "text/plain": [
              "200    903\n",
              "Name: status, dtype: int64"
            ]
          },
          "metadata": {},
          "execution_count": 13
        }
      ]
    },
    {
      "cell_type": "markdown",
      "metadata": {
        "id": "7blP6aJHeQbg"
      },
      "source": [
        "1. ❌ Interrupt the parsing once the .jl file is loaded\n",
        "2. **To check the URLs status code within the sitemap**, paste the .jl file onto the following line of code\n",
        "\n",
        "\n"
      ]
    },
    {
      "cell_type": "code",
      "execution_count": null,
      "metadata": {
        "id": "IjL5lGtVeUtB",
        "colab": {
          "base_uri": "https://localhost:8080/",
          "height": 738
        },
        "outputId": "e5e6e251-df12-44a4-e3b2-5d65691fa66c"
      },
      "outputs": [
        {
          "output_type": "execute_result",
          "data": {
            "text/plain": [
              "                                                                      url  \\\n",
              "0  https://www.jessops.com/accessories/camcorder-accessories/video-lights   \n",
              "1           https://www.jessops.com/home-photo/slide-mounts-and-magazines   \n",
              "2                https://www.jessops.com/accessories/tripods-and-supports   \n",
              "3                              https://www.jessops.com/studio/backgrounds   \n",
              "4              https://www.jessops.com/cameras/digital-slr-cameras/pentax   \n",
              "\n",
              "           crawl_time  status  download_timeout    download_slot  \\\n",
              "0 2023-07-28 21:12:28     200               180  www.jessops.com   \n",
              "1 2023-07-28 21:12:29     200               180  www.jessops.com   \n",
              "2 2023-07-28 21:12:29     200               180  www.jessops.com   \n",
              "3 2023-07-28 21:12:29     200               180  www.jessops.com   \n",
              "4 2023-07-28 21:12:29     200               180  www.jessops.com   \n",
              "\n",
              "   download_latency  depth  protocol  body  resp_headers_content-length  \\\n",
              "0          0.310501      0  HTTP/1.1   NaN                            0   \n",
              "1          0.752769      0  HTTP/1.1   NaN                            0   \n",
              "2          0.755356      0  HTTP/1.1   NaN                            0   \n",
              "3          0.895143      0  HTTP/1.1   NaN                            0   \n",
              "4          0.598898      0  HTTP/1.1   NaN                            0   \n",
              "\n",
              "               resp_headers_date resp_headers_content-type resp_headers_vary  \\\n",
              "0  Fri, 28 Jul 2023 21:12:28 GMT  text/html; charset=utf-8   Accept-Encoding   \n",
              "1  Fri, 28 Jul 2023 21:12:29 GMT  text/html; charset=utf-8   Accept-Encoding   \n",
              "2  Fri, 28 Jul 2023 21:12:29 GMT  text/html; charset=utf-8   Accept-Encoding   \n",
              "3  Fri, 28 Jul 2023 21:12:29 GMT  text/html; charset=utf-8   Accept-Encoding   \n",
              "4  Fri, 28 Jul 2023 21:12:29 GMT  text/html; charset=utf-8   Accept-Encoding   \n",
              "\n",
              "  resp_headers_x-aspnet-version resp_headers_cache-control  \\\n",
              "0                     4.0.30319                    private   \n",
              "1                     4.0.30319                    private   \n",
              "2                     4.0.30319                    private   \n",
              "3                     4.0.30319                    private   \n",
              "4                     4.0.30319                    private   \n",
              "\n",
              "   resp_headers_x-aspnetmvc-version  \\\n",
              "0                               5.2   \n",
              "1                               5.2   \n",
              "2                               5.2   \n",
              "3                               5.2   \n",
              "4                               5.2   \n",
              "\n",
              "                                                                                                   resp_headers_set-cookie  \\\n",
              "0  skin=; path=/; SameSite=None; Secure,VisitorCode=4a7c1e4f-aec8-4e58-b7f9-6a70f42bb97b; expires=Sun, 27-Aug-2023 21:1...   \n",
              "1  skin=; path=/; SameSite=None; Secure,VisitorCode=9c83cfee-41db-4e71-a4d2-73637cb340da; expires=Sun, 27-Aug-2023 21:1...   \n",
              "2  skin=; path=/; SameSite=None; Secure,VisitorCode=f7a210e0-77e2-4e1b-9a03-b75b8a5df3f9; expires=Sun, 27-Aug-2023 21:1...   \n",
              "3  skin=; path=/; SameSite=None; Secure,VisitorCode=01bd59cf-8ce8-4640-ab31-410809baa9ef; expires=Sun, 27-Aug-2023 21:1...   \n",
              "4  skin=; path=/; SameSite=None; Secure,VisitorCode=1feb5643-f143-4534-9b05-5b6febfe58db; expires=Sun, 27-Aug-2023 21:1...   \n",
              "\n",
              "  resp_headers_x-powered-by resp_headers_cf-cache-status resp_headers_server  \\\n",
              "0                   ASP.NET                      DYNAMIC          cloudflare   \n",
              "1                   ASP.NET                      DYNAMIC          cloudflare   \n",
              "2                   ASP.NET                      DYNAMIC          cloudflare   \n",
              "3                   ASP.NET                      DYNAMIC          cloudflare   \n",
              "4                   ASP.NET                      DYNAMIC          cloudflare   \n",
              "\n",
              "    resp_headers_cf-ray resp_headers_content-encoding  \\\n",
              "0  7ee01eda3d837c67-LAX                          gzip   \n",
              "1  7ee01eda6e052efd-LAX                          gzip   \n",
              "2  7ee01eda6e690fb2-LAX                          gzip   \n",
              "3  7ee01eda595e08f7-LAX                          gzip   \n",
              "4  7ee01edcaf8f7c67-LAX                          gzip   \n",
              "\n",
              "                                            request_headers_accept  \\\n",
              "0  text/html,application/xhtml+xml,application/xml;q=0.9,*/*;q=0.8   \n",
              "1  text/html,application/xhtml+xml,application/xml;q=0.9,*/*;q=0.8   \n",
              "2  text/html,application/xhtml+xml,application/xml;q=0.9,*/*;q=0.8   \n",
              "3  text/html,application/xhtml+xml,application/xml;q=0.9,*/*;q=0.8   \n",
              "4  text/html,application/xhtml+xml,application/xml;q=0.9,*/*;q=0.8   \n",
              "\n",
              "  request_headers_accept-language request_headers_user-agent  \\\n",
              "0                              en          advertools/0.13.4   \n",
              "1                              en          advertools/0.13.4   \n",
              "2                              en          advertools/0.13.4   \n",
              "3                              en          advertools/0.13.4   \n",
              "4                              en          advertools/0.13.4   \n",
              "\n",
              "  request_headers_accept-encoding  redirect_times  redirect_ttl redirect_urls  \\\n",
              "0                   gzip, deflate             NaN           NaN           NaN   \n",
              "1                   gzip, deflate             NaN           NaN           NaN   \n",
              "2                   gzip, deflate             NaN           NaN           NaN   \n",
              "3                   gzip, deflate             NaN           NaN           NaN   \n",
              "4                   gzip, deflate             NaN           NaN           NaN   \n",
              "\n",
              "  redirect_reasons request_headers_cookie  resp_headers_expires  \\\n",
              "0              NaN                    NaN                   NaN   \n",
              "1              NaN                    NaN                   NaN   \n",
              "2              NaN                    NaN                   NaN   \n",
              "3              NaN                    NaN                   NaN   \n",
              "4              NaN                    NaN                   NaN   \n",
              "\n",
              "  resp_headers_pragma  retry_times  \n",
              "0                 NaN          NaN  \n",
              "1                 NaN          NaN  \n",
              "2                 NaN          NaN  \n",
              "3                 NaN          NaN  \n",
              "4                 NaN          NaN  "
            ],
            "text/html": [
              "\n",
              "\n",
              "  <div id=\"df-2b7aee39-7d88-4356-9510-9133eaaf3f31\">\n",
              "    <div class=\"colab-df-container\">\n",
              "      <div>\n",
              "<style scoped>\n",
              "    .dataframe tbody tr th:only-of-type {\n",
              "        vertical-align: middle;\n",
              "    }\n",
              "\n",
              "    .dataframe tbody tr th {\n",
              "        vertical-align: top;\n",
              "    }\n",
              "\n",
              "    .dataframe thead th {\n",
              "        text-align: right;\n",
              "    }\n",
              "</style>\n",
              "<table border=\"1\" class=\"dataframe\">\n",
              "  <thead>\n",
              "    <tr style=\"text-align: right;\">\n",
              "      <th></th>\n",
              "      <th>url</th>\n",
              "      <th>crawl_time</th>\n",
              "      <th>status</th>\n",
              "      <th>download_timeout</th>\n",
              "      <th>download_slot</th>\n",
              "      <th>download_latency</th>\n",
              "      <th>depth</th>\n",
              "      <th>protocol</th>\n",
              "      <th>body</th>\n",
              "      <th>resp_headers_content-length</th>\n",
              "      <th>resp_headers_date</th>\n",
              "      <th>resp_headers_content-type</th>\n",
              "      <th>resp_headers_vary</th>\n",
              "      <th>resp_headers_x-aspnet-version</th>\n",
              "      <th>resp_headers_cache-control</th>\n",
              "      <th>resp_headers_x-aspnetmvc-version</th>\n",
              "      <th>resp_headers_set-cookie</th>\n",
              "      <th>resp_headers_x-powered-by</th>\n",
              "      <th>resp_headers_cf-cache-status</th>\n",
              "      <th>resp_headers_server</th>\n",
              "      <th>resp_headers_cf-ray</th>\n",
              "      <th>resp_headers_content-encoding</th>\n",
              "      <th>request_headers_accept</th>\n",
              "      <th>request_headers_accept-language</th>\n",
              "      <th>request_headers_user-agent</th>\n",
              "      <th>request_headers_accept-encoding</th>\n",
              "      <th>redirect_times</th>\n",
              "      <th>redirect_ttl</th>\n",
              "      <th>redirect_urls</th>\n",
              "      <th>redirect_reasons</th>\n",
              "      <th>request_headers_cookie</th>\n",
              "      <th>resp_headers_expires</th>\n",
              "      <th>resp_headers_pragma</th>\n",
              "      <th>retry_times</th>\n",
              "    </tr>\n",
              "  </thead>\n",
              "  <tbody>\n",
              "    <tr>\n",
              "      <th>0</th>\n",
              "      <td>https://www.jessops.com/accessories/camcorder-accessories/video-lights</td>\n",
              "      <td>2023-07-28 21:12:28</td>\n",
              "      <td>200</td>\n",
              "      <td>180</td>\n",
              "      <td>www.jessops.com</td>\n",
              "      <td>0.310501</td>\n",
              "      <td>0</td>\n",
              "      <td>HTTP/1.1</td>\n",
              "      <td>NaN</td>\n",
              "      <td>0</td>\n",
              "      <td>Fri, 28 Jul 2023 21:12:28 GMT</td>\n",
              "      <td>text/html; charset=utf-8</td>\n",
              "      <td>Accept-Encoding</td>\n",
              "      <td>4.0.30319</td>\n",
              "      <td>private</td>\n",
              "      <td>5.2</td>\n",
              "      <td>skin=; path=/; SameSite=None; Secure,VisitorCode=4a7c1e4f-aec8-4e58-b7f9-6a70f42bb97b; expires=Sun, 27-Aug-2023 21:1...</td>\n",
              "      <td>ASP.NET</td>\n",
              "      <td>DYNAMIC</td>\n",
              "      <td>cloudflare</td>\n",
              "      <td>7ee01eda3d837c67-LAX</td>\n",
              "      <td>gzip</td>\n",
              "      <td>text/html,application/xhtml+xml,application/xml;q=0.9,*/*;q=0.8</td>\n",
              "      <td>en</td>\n",
              "      <td>advertools/0.13.4</td>\n",
              "      <td>gzip, deflate</td>\n",
              "      <td>NaN</td>\n",
              "      <td>NaN</td>\n",
              "      <td>NaN</td>\n",
              "      <td>NaN</td>\n",
              "      <td>NaN</td>\n",
              "      <td>NaN</td>\n",
              "      <td>NaN</td>\n",
              "      <td>NaN</td>\n",
              "    </tr>\n",
              "    <tr>\n",
              "      <th>1</th>\n",
              "      <td>https://www.jessops.com/home-photo/slide-mounts-and-magazines</td>\n",
              "      <td>2023-07-28 21:12:29</td>\n",
              "      <td>200</td>\n",
              "      <td>180</td>\n",
              "      <td>www.jessops.com</td>\n",
              "      <td>0.752769</td>\n",
              "      <td>0</td>\n",
              "      <td>HTTP/1.1</td>\n",
              "      <td>NaN</td>\n",
              "      <td>0</td>\n",
              "      <td>Fri, 28 Jul 2023 21:12:29 GMT</td>\n",
              "      <td>text/html; charset=utf-8</td>\n",
              "      <td>Accept-Encoding</td>\n",
              "      <td>4.0.30319</td>\n",
              "      <td>private</td>\n",
              "      <td>5.2</td>\n",
              "      <td>skin=; path=/; SameSite=None; Secure,VisitorCode=9c83cfee-41db-4e71-a4d2-73637cb340da; expires=Sun, 27-Aug-2023 21:1...</td>\n",
              "      <td>ASP.NET</td>\n",
              "      <td>DYNAMIC</td>\n",
              "      <td>cloudflare</td>\n",
              "      <td>7ee01eda6e052efd-LAX</td>\n",
              "      <td>gzip</td>\n",
              "      <td>text/html,application/xhtml+xml,application/xml;q=0.9,*/*;q=0.8</td>\n",
              "      <td>en</td>\n",
              "      <td>advertools/0.13.4</td>\n",
              "      <td>gzip, deflate</td>\n",
              "      <td>NaN</td>\n",
              "      <td>NaN</td>\n",
              "      <td>NaN</td>\n",
              "      <td>NaN</td>\n",
              "      <td>NaN</td>\n",
              "      <td>NaN</td>\n",
              "      <td>NaN</td>\n",
              "      <td>NaN</td>\n",
              "    </tr>\n",
              "    <tr>\n",
              "      <th>2</th>\n",
              "      <td>https://www.jessops.com/accessories/tripods-and-supports</td>\n",
              "      <td>2023-07-28 21:12:29</td>\n",
              "      <td>200</td>\n",
              "      <td>180</td>\n",
              "      <td>www.jessops.com</td>\n",
              "      <td>0.755356</td>\n",
              "      <td>0</td>\n",
              "      <td>HTTP/1.1</td>\n",
              "      <td>NaN</td>\n",
              "      <td>0</td>\n",
              "      <td>Fri, 28 Jul 2023 21:12:29 GMT</td>\n",
              "      <td>text/html; charset=utf-8</td>\n",
              "      <td>Accept-Encoding</td>\n",
              "      <td>4.0.30319</td>\n",
              "      <td>private</td>\n",
              "      <td>5.2</td>\n",
              "      <td>skin=; path=/; SameSite=None; Secure,VisitorCode=f7a210e0-77e2-4e1b-9a03-b75b8a5df3f9; expires=Sun, 27-Aug-2023 21:1...</td>\n",
              "      <td>ASP.NET</td>\n",
              "      <td>DYNAMIC</td>\n",
              "      <td>cloudflare</td>\n",
              "      <td>7ee01eda6e690fb2-LAX</td>\n",
              "      <td>gzip</td>\n",
              "      <td>text/html,application/xhtml+xml,application/xml;q=0.9,*/*;q=0.8</td>\n",
              "      <td>en</td>\n",
              "      <td>advertools/0.13.4</td>\n",
              "      <td>gzip, deflate</td>\n",
              "      <td>NaN</td>\n",
              "      <td>NaN</td>\n",
              "      <td>NaN</td>\n",
              "      <td>NaN</td>\n",
              "      <td>NaN</td>\n",
              "      <td>NaN</td>\n",
              "      <td>NaN</td>\n",
              "      <td>NaN</td>\n",
              "    </tr>\n",
              "    <tr>\n",
              "      <th>3</th>\n",
              "      <td>https://www.jessops.com/studio/backgrounds</td>\n",
              "      <td>2023-07-28 21:12:29</td>\n",
              "      <td>200</td>\n",
              "      <td>180</td>\n",
              "      <td>www.jessops.com</td>\n",
              "      <td>0.895143</td>\n",
              "      <td>0</td>\n",
              "      <td>HTTP/1.1</td>\n",
              "      <td>NaN</td>\n",
              "      <td>0</td>\n",
              "      <td>Fri, 28 Jul 2023 21:12:29 GMT</td>\n",
              "      <td>text/html; charset=utf-8</td>\n",
              "      <td>Accept-Encoding</td>\n",
              "      <td>4.0.30319</td>\n",
              "      <td>private</td>\n",
              "      <td>5.2</td>\n",
              "      <td>skin=; path=/; SameSite=None; Secure,VisitorCode=01bd59cf-8ce8-4640-ab31-410809baa9ef; expires=Sun, 27-Aug-2023 21:1...</td>\n",
              "      <td>ASP.NET</td>\n",
              "      <td>DYNAMIC</td>\n",
              "      <td>cloudflare</td>\n",
              "      <td>7ee01eda595e08f7-LAX</td>\n",
              "      <td>gzip</td>\n",
              "      <td>text/html,application/xhtml+xml,application/xml;q=0.9,*/*;q=0.8</td>\n",
              "      <td>en</td>\n",
              "      <td>advertools/0.13.4</td>\n",
              "      <td>gzip, deflate</td>\n",
              "      <td>NaN</td>\n",
              "      <td>NaN</td>\n",
              "      <td>NaN</td>\n",
              "      <td>NaN</td>\n",
              "      <td>NaN</td>\n",
              "      <td>NaN</td>\n",
              "      <td>NaN</td>\n",
              "      <td>NaN</td>\n",
              "    </tr>\n",
              "    <tr>\n",
              "      <th>4</th>\n",
              "      <td>https://www.jessops.com/cameras/digital-slr-cameras/pentax</td>\n",
              "      <td>2023-07-28 21:12:29</td>\n",
              "      <td>200</td>\n",
              "      <td>180</td>\n",
              "      <td>www.jessops.com</td>\n",
              "      <td>0.598898</td>\n",
              "      <td>0</td>\n",
              "      <td>HTTP/1.1</td>\n",
              "      <td>NaN</td>\n",
              "      <td>0</td>\n",
              "      <td>Fri, 28 Jul 2023 21:12:29 GMT</td>\n",
              "      <td>text/html; charset=utf-8</td>\n",
              "      <td>Accept-Encoding</td>\n",
              "      <td>4.0.30319</td>\n",
              "      <td>private</td>\n",
              "      <td>5.2</td>\n",
              "      <td>skin=; path=/; SameSite=None; Secure,VisitorCode=1feb5643-f143-4534-9b05-5b6febfe58db; expires=Sun, 27-Aug-2023 21:1...</td>\n",
              "      <td>ASP.NET</td>\n",
              "      <td>DYNAMIC</td>\n",
              "      <td>cloudflare</td>\n",
              "      <td>7ee01edcaf8f7c67-LAX</td>\n",
              "      <td>gzip</td>\n",
              "      <td>text/html,application/xhtml+xml,application/xml;q=0.9,*/*;q=0.8</td>\n",
              "      <td>en</td>\n",
              "      <td>advertools/0.13.4</td>\n",
              "      <td>gzip, deflate</td>\n",
              "      <td>NaN</td>\n",
              "      <td>NaN</td>\n",
              "      <td>NaN</td>\n",
              "      <td>NaN</td>\n",
              "      <td>NaN</td>\n",
              "      <td>NaN</td>\n",
              "      <td>NaN</td>\n",
              "      <td>NaN</td>\n",
              "    </tr>\n",
              "  </tbody>\n",
              "</table>\n",
              "</div>\n",
              "      <button class=\"colab-df-convert\" onclick=\"convertToInteractive('df-2b7aee39-7d88-4356-9510-9133eaaf3f31')\"\n",
              "              title=\"Convert this dataframe to an interactive table.\"\n",
              "              style=\"display:none;\">\n",
              "\n",
              "  <svg xmlns=\"http://www.w3.org/2000/svg\" height=\"24px\"viewBox=\"0 0 24 24\"\n",
              "       width=\"24px\">\n",
              "    <path d=\"M0 0h24v24H0V0z\" fill=\"none\"/>\n",
              "    <path d=\"M18.56 5.44l.94 2.06.94-2.06 2.06-.94-2.06-.94-.94-2.06-.94 2.06-2.06.94zm-11 1L8.5 8.5l.94-2.06 2.06-.94-2.06-.94L8.5 2.5l-.94 2.06-2.06.94zm10 10l.94 2.06.94-2.06 2.06-.94-2.06-.94-.94-2.06-.94 2.06-2.06.94z\"/><path d=\"M17.41 7.96l-1.37-1.37c-.4-.4-.92-.59-1.43-.59-.52 0-1.04.2-1.43.59L10.3 9.45l-7.72 7.72c-.78.78-.78 2.05 0 2.83L4 21.41c.39.39.9.59 1.41.59.51 0 1.02-.2 1.41-.59l7.78-7.78 2.81-2.81c.8-.78.8-2.07 0-2.86zM5.41 20L4 18.59l7.72-7.72 1.47 1.35L5.41 20z\"/>\n",
              "  </svg>\n",
              "      </button>\n",
              "\n",
              "\n",
              "\n",
              "    <div id=\"df-b25ff63f-22b4-4b82-8a06-341561e8c197\">\n",
              "      <button class=\"colab-df-quickchart\" onclick=\"quickchart('df-b25ff63f-22b4-4b82-8a06-341561e8c197')\"\n",
              "              title=\"Suggest charts.\"\n",
              "              style=\"display:none;\">\n",
              "\n",
              "<svg xmlns=\"http://www.w3.org/2000/svg\" height=\"24px\"viewBox=\"0 0 24 24\"\n",
              "     width=\"24px\">\n",
              "    <g>\n",
              "        <path d=\"M19 3H5c-1.1 0-2 .9-2 2v14c0 1.1.9 2 2 2h14c1.1 0 2-.9 2-2V5c0-1.1-.9-2-2-2zM9 17H7v-7h2v7zm4 0h-2V7h2v10zm4 0h-2v-4h2v4z\"/>\n",
              "    </g>\n",
              "</svg>\n",
              "      </button>\n",
              "    </div>\n",
              "\n",
              "<style>\n",
              "  .colab-df-quickchart {\n",
              "    background-color: #E8F0FE;\n",
              "    border: none;\n",
              "    border-radius: 50%;\n",
              "    cursor: pointer;\n",
              "    display: none;\n",
              "    fill: #1967D2;\n",
              "    height: 32px;\n",
              "    padding: 0 0 0 0;\n",
              "    width: 32px;\n",
              "  }\n",
              "\n",
              "  .colab-df-quickchart:hover {\n",
              "    background-color: #E2EBFA;\n",
              "    box-shadow: 0px 1px 2px rgba(60, 64, 67, 0.3), 0px 1px 3px 1px rgba(60, 64, 67, 0.15);\n",
              "    fill: #174EA6;\n",
              "  }\n",
              "\n",
              "  [theme=dark] .colab-df-quickchart {\n",
              "    background-color: #3B4455;\n",
              "    fill: #D2E3FC;\n",
              "  }\n",
              "\n",
              "  [theme=dark] .colab-df-quickchart:hover {\n",
              "    background-color: #434B5C;\n",
              "    box-shadow: 0px 1px 3px 1px rgba(0, 0, 0, 0.15);\n",
              "    filter: drop-shadow(0px 1px 2px rgba(0, 0, 0, 0.3));\n",
              "    fill: #FFFFFF;\n",
              "  }\n",
              "</style>\n",
              "\n",
              "    <script>\n",
              "      async function quickchart(key) {\n",
              "        const containerElement = document.querySelector('#' + key);\n",
              "        const charts = await google.colab.kernel.invokeFunction(\n",
              "            'suggestCharts', [key], {});\n",
              "      }\n",
              "    </script>\n",
              "\n",
              "      <script>\n",
              "\n",
              "function displayQuickchartButton(domScope) {\n",
              "  let quickchartButtonEl =\n",
              "    domScope.querySelector('#df-b25ff63f-22b4-4b82-8a06-341561e8c197 button.colab-df-quickchart');\n",
              "  quickchartButtonEl.style.display =\n",
              "    google.colab.kernel.accessAllowed ? 'block' : 'none';\n",
              "}\n",
              "\n",
              "        displayQuickchartButton(document);\n",
              "      </script>\n",
              "      <style>\n",
              "    .colab-df-container {\n",
              "      display:flex;\n",
              "      flex-wrap:wrap;\n",
              "      gap: 12px;\n",
              "    }\n",
              "\n",
              "    .colab-df-convert {\n",
              "      background-color: #E8F0FE;\n",
              "      border: none;\n",
              "      border-radius: 50%;\n",
              "      cursor: pointer;\n",
              "      display: none;\n",
              "      fill: #1967D2;\n",
              "      height: 32px;\n",
              "      padding: 0 0 0 0;\n",
              "      width: 32px;\n",
              "    }\n",
              "\n",
              "    .colab-df-convert:hover {\n",
              "      background-color: #E2EBFA;\n",
              "      box-shadow: 0px 1px 2px rgba(60, 64, 67, 0.3), 0px 1px 3px 1px rgba(60, 64, 67, 0.15);\n",
              "      fill: #174EA6;\n",
              "    }\n",
              "\n",
              "    [theme=dark] .colab-df-convert {\n",
              "      background-color: #3B4455;\n",
              "      fill: #D2E3FC;\n",
              "    }\n",
              "\n",
              "    [theme=dark] .colab-df-convert:hover {\n",
              "      background-color: #434B5C;\n",
              "      box-shadow: 0px 1px 3px 1px rgba(0, 0, 0, 0.15);\n",
              "      filter: drop-shadow(0px 1px 2px rgba(0, 0, 0, 0.3));\n",
              "      fill: #FFFFFF;\n",
              "    }\n",
              "  </style>\n",
              "\n",
              "      <script>\n",
              "        const buttonEl =\n",
              "          document.querySelector('#df-2b7aee39-7d88-4356-9510-9133eaaf3f31 button.colab-df-convert');\n",
              "        buttonEl.style.display =\n",
              "          google.colab.kernel.accessAllowed ? 'block' : 'none';\n",
              "\n",
              "        async function convertToInteractive(key) {\n",
              "          const element = document.querySelector('#df-2b7aee39-7d88-4356-9510-9133eaaf3f31');\n",
              "          const dataTable =\n",
              "            await google.colab.kernel.invokeFunction('convertToInteractive',\n",
              "                                                     [key], {});\n",
              "          if (!dataTable) return;\n",
              "\n",
              "          const docLinkHtml = 'Like what you see? Visit the ' +\n",
              "            '<a target=\"_blank\" href=https://colab.research.google.com/notebooks/data_table.ipynb>data table notebook</a>'\n",
              "            + ' to learn more about interactive tables.';\n",
              "          element.innerHTML = '';\n",
              "          dataTable['output_type'] = 'display_data';\n",
              "          await google.colab.output.renderOutput(dataTable, element);\n",
              "          const docLink = document.createElement('div');\n",
              "          docLink.innerHTML = docLinkHtml;\n",
              "          element.appendChild(docLink);\n",
              "        }\n",
              "      </script>\n",
              "    </div>\n",
              "  </div>\n"
            ]
          },
          "metadata": {},
          "execution_count": 46
        }
      ],
      "source": [
        "df_headers = pd.read_json('sitemap_df_header.jl', lines=True) # `lines=True` means that the rows from the JL output are being ordered as an array\n",
        "df_headers.head()"
      ]
    },
    {
      "cell_type": "code",
      "source": [
        "#to save the crawl\n",
        "df_headers.to_csv(r'iCloud Drive\\Scrivania\\url_status_code.csv', index = False, header=True)"
      ],
      "metadata": {
        "id": "4ZRDN9_8pYoq"
      },
      "execution_count": null,
      "outputs": []
    },
    {
      "cell_type": "code",
      "source": [
        "#@title Checkt whether the Sitemap houses any 404 URLs\n",
        "df_headers[df_headers[\"status\"] == 404]\n",
        "#if nothing is returned, there are no 404s"
      ],
      "metadata": {
        "colab": {
          "base_uri": "https://localhost:8080/",
          "height": 104
        },
        "id": "PYWEQSDzoiND",
        "outputId": "5cdbd688-53ef-47fb-d466-12d9cc0b6935"
      },
      "execution_count": null,
      "outputs": [
        {
          "output_type": "execute_result",
          "data": {
            "text/plain": [
              "Empty DataFrame\n",
              "Columns: [url, crawl_time, status, download_timeout, download_slot, download_latency, depth, protocol, body, resp_headers_Content-Length, resp_headers_Date, resp_headers_Content-Type, resp_headers_Cache-Control, resp_headers_Link, resp_headers_Strict-Transport-Security, resp_headers_Last-Modified, resp_headers_Cf-Cache-Status, resp_headers_Age, resp_headers_X-Content-Type-Options, resp_headers_Vary, resp_headers_Server, resp_headers_Cf-Ray, resp_headers_Content-Encoding, resp_headers_Alt-Svc, request_headers_Accept, request_headers_Accept-Language, request_headers_User-Agent, request_headers_Accept-Encoding, request_headers_Cookie]\n",
              "Index: []"
            ],
            "text/html": [
              "\n",
              "  <div id=\"df-779a97e9-6889-4b5b-a9c5-41aeae13d69c\" class=\"colab-df-container\">\n",
              "    <div>\n",
              "<style scoped>\n",
              "    .dataframe tbody tr th:only-of-type {\n",
              "        vertical-align: middle;\n",
              "    }\n",
              "\n",
              "    .dataframe tbody tr th {\n",
              "        vertical-align: top;\n",
              "    }\n",
              "\n",
              "    .dataframe thead th {\n",
              "        text-align: right;\n",
              "    }\n",
              "</style>\n",
              "<table border=\"1\" class=\"dataframe\">\n",
              "  <thead>\n",
              "    <tr style=\"text-align: right;\">\n",
              "      <th></th>\n",
              "      <th>url</th>\n",
              "      <th>crawl_time</th>\n",
              "      <th>status</th>\n",
              "      <th>download_timeout</th>\n",
              "      <th>download_slot</th>\n",
              "      <th>download_latency</th>\n",
              "      <th>depth</th>\n",
              "      <th>protocol</th>\n",
              "      <th>body</th>\n",
              "      <th>resp_headers_Content-Length</th>\n",
              "      <th>resp_headers_Date</th>\n",
              "      <th>resp_headers_Content-Type</th>\n",
              "      <th>resp_headers_Cache-Control</th>\n",
              "      <th>resp_headers_Link</th>\n",
              "      <th>resp_headers_Strict-Transport-Security</th>\n",
              "      <th>resp_headers_Last-Modified</th>\n",
              "      <th>resp_headers_Cf-Cache-Status</th>\n",
              "      <th>resp_headers_Age</th>\n",
              "      <th>resp_headers_X-Content-Type-Options</th>\n",
              "      <th>resp_headers_Vary</th>\n",
              "      <th>resp_headers_Server</th>\n",
              "      <th>resp_headers_Cf-Ray</th>\n",
              "      <th>resp_headers_Content-Encoding</th>\n",
              "      <th>resp_headers_Alt-Svc</th>\n",
              "      <th>request_headers_Accept</th>\n",
              "      <th>request_headers_Accept-Language</th>\n",
              "      <th>request_headers_User-Agent</th>\n",
              "      <th>request_headers_Accept-Encoding</th>\n",
              "      <th>request_headers_Cookie</th>\n",
              "    </tr>\n",
              "  </thead>\n",
              "  <tbody>\n",
              "  </tbody>\n",
              "</table>\n",
              "</div>\n",
              "    <div class=\"colab-df-buttons\">\n",
              "\n",
              "  <div class=\"colab-df-container\">\n",
              "    <button class=\"colab-df-convert\" onclick=\"convertToInteractive('df-779a97e9-6889-4b5b-a9c5-41aeae13d69c')\"\n",
              "            title=\"Convert this dataframe to an interactive table.\"\n",
              "            style=\"display:none;\">\n",
              "\n",
              "  <svg xmlns=\"http://www.w3.org/2000/svg\" height=\"24px\" viewBox=\"0 -960 960 960\">\n",
              "    <path d=\"M120-120v-720h720v720H120Zm60-500h600v-160H180v160Zm220 220h160v-160H400v160Zm0 220h160v-160H400v160ZM180-400h160v-160H180v160Zm440 0h160v-160H620v160ZM180-180h160v-160H180v160Zm440 0h160v-160H620v160Z\"/>\n",
              "  </svg>\n",
              "    </button>\n",
              "\n",
              "  <style>\n",
              "    .colab-df-container {\n",
              "      display:flex;\n",
              "      gap: 12px;\n",
              "    }\n",
              "\n",
              "    .colab-df-convert {\n",
              "      background-color: #E8F0FE;\n",
              "      border: none;\n",
              "      border-radius: 50%;\n",
              "      cursor: pointer;\n",
              "      display: none;\n",
              "      fill: #1967D2;\n",
              "      height: 32px;\n",
              "      padding: 0 0 0 0;\n",
              "      width: 32px;\n",
              "    }\n",
              "\n",
              "    .colab-df-convert:hover {\n",
              "      background-color: #E2EBFA;\n",
              "      box-shadow: 0px 1px 2px rgba(60, 64, 67, 0.3), 0px 1px 3px 1px rgba(60, 64, 67, 0.15);\n",
              "      fill: #174EA6;\n",
              "    }\n",
              "\n",
              "    .colab-df-buttons div {\n",
              "      margin-bottom: 4px;\n",
              "    }\n",
              "\n",
              "    [theme=dark] .colab-df-convert {\n",
              "      background-color: #3B4455;\n",
              "      fill: #D2E3FC;\n",
              "    }\n",
              "\n",
              "    [theme=dark] .colab-df-convert:hover {\n",
              "      background-color: #434B5C;\n",
              "      box-shadow: 0px 1px 3px 1px rgba(0, 0, 0, 0.15);\n",
              "      filter: drop-shadow(0px 1px 2px rgba(0, 0, 0, 0.3));\n",
              "      fill: #FFFFFF;\n",
              "    }\n",
              "  </style>\n",
              "\n",
              "    <script>\n",
              "      const buttonEl =\n",
              "        document.querySelector('#df-779a97e9-6889-4b5b-a9c5-41aeae13d69c button.colab-df-convert');\n",
              "      buttonEl.style.display =\n",
              "        google.colab.kernel.accessAllowed ? 'block' : 'none';\n",
              "\n",
              "      async function convertToInteractive(key) {\n",
              "        const element = document.querySelector('#df-779a97e9-6889-4b5b-a9c5-41aeae13d69c');\n",
              "        const dataTable =\n",
              "          await google.colab.kernel.invokeFunction('convertToInteractive',\n",
              "                                                    [key], {});\n",
              "        if (!dataTable) return;\n",
              "\n",
              "        const docLinkHtml = 'Like what you see? Visit the ' +\n",
              "          '<a target=\"_blank\" href=https://colab.research.google.com/notebooks/data_table.ipynb>data table notebook</a>'\n",
              "          + ' to learn more about interactive tables.';\n",
              "        element.innerHTML = '';\n",
              "        dataTable['output_type'] = 'display_data';\n",
              "        await google.colab.output.renderOutput(dataTable, element);\n",
              "        const docLink = document.createElement('div');\n",
              "        docLink.innerHTML = docLinkHtml;\n",
              "        element.appendChild(docLink);\n",
              "      }\n",
              "    </script>\n",
              "  </div>\n",
              "\n",
              "    </div>\n",
              "  </div>\n"
            ]
          },
          "metadata": {},
          "execution_count": 14
        }
      ]
    },
    {
      "cell_type": "markdown",
      "source": [
        "#Canonical check - find Canonicals that differ from Self\n",
        "\n",
        "\n",
        "\n",
        "\n",
        "\n"
      ],
      "metadata": {
        "id": "Kgkp75PokbKp"
      }
    },
    {
      "cell_type": "code",
      "source": [
        "#select only 200 canonicalised URLs\n",
        "kg_cleaned = kg[(kg['status'] == 200) & (kg['canonical'] != kg['url'])]\n",
        "#print results\n",
        "kg_cleaned[kg_cleaned['canonical'].ne(kg['url'])][['url', 'canonical']]"
      ],
      "metadata": {
        "colab": {
          "base_uri": "https://localhost:8080/",
          "height": 229
        },
        "id": "WZWKLjGqjoHZ",
        "outputId": "a0ab357a-bf44-410f-cd4d-ec9b63d42714"
      },
      "execution_count": null,
      "outputs": [
        {
          "output_type": "error",
          "ename": "NameError",
          "evalue": "name 'kg' is not defined",
          "traceback": [
            "\u001b[0;31m---------------------------------------------------------------------------\u001b[0m",
            "\u001b[0;31mNameError\u001b[0m                                 Traceback (most recent call last)",
            "\u001b[0;32m<ipython-input-15-77629671f831>\u001b[0m in \u001b[0;36m<cell line: 2>\u001b[0;34m()\u001b[0m\n\u001b[1;32m      1\u001b[0m \u001b[0;31m#select only 200 canonicalised URLs\u001b[0m\u001b[0;34m\u001b[0m\u001b[0;34m\u001b[0m\u001b[0m\n\u001b[0;32m----> 2\u001b[0;31m \u001b[0mkg_cleaned\u001b[0m \u001b[0;34m=\u001b[0m \u001b[0mkg\u001b[0m\u001b[0;34m[\u001b[0m\u001b[0;34m(\u001b[0m\u001b[0mkg\u001b[0m\u001b[0;34m[\u001b[0m\u001b[0;34m'status'\u001b[0m\u001b[0;34m]\u001b[0m \u001b[0;34m==\u001b[0m \u001b[0;36m200\u001b[0m\u001b[0;34m)\u001b[0m \u001b[0;34m&\u001b[0m \u001b[0;34m(\u001b[0m\u001b[0mkg\u001b[0m\u001b[0;34m[\u001b[0m\u001b[0;34m'canonical'\u001b[0m\u001b[0;34m]\u001b[0m \u001b[0;34m!=\u001b[0m \u001b[0mkg\u001b[0m\u001b[0;34m[\u001b[0m\u001b[0;34m'url'\u001b[0m\u001b[0;34m]\u001b[0m\u001b[0;34m)\u001b[0m\u001b[0;34m]\u001b[0m\u001b[0;34m\u001b[0m\u001b[0;34m\u001b[0m\u001b[0m\n\u001b[0m\u001b[1;32m      3\u001b[0m \u001b[0;31m#print results\u001b[0m\u001b[0;34m\u001b[0m\u001b[0;34m\u001b[0m\u001b[0m\n\u001b[1;32m      4\u001b[0m \u001b[0mkg_cleaned\u001b[0m\u001b[0;34m[\u001b[0m\u001b[0mkg_cleaned\u001b[0m\u001b[0;34m[\u001b[0m\u001b[0;34m'canonical'\u001b[0m\u001b[0;34m]\u001b[0m\u001b[0;34m.\u001b[0m\u001b[0mne\u001b[0m\u001b[0;34m(\u001b[0m\u001b[0mkg\u001b[0m\u001b[0;34m[\u001b[0m\u001b[0;34m'url'\u001b[0m\u001b[0;34m]\u001b[0m\u001b[0;34m)\u001b[0m\u001b[0;34m]\u001b[0m\u001b[0;34m[\u001b[0m\u001b[0;34m[\u001b[0m\u001b[0;34m'url'\u001b[0m\u001b[0;34m,\u001b[0m \u001b[0;34m'canonical'\u001b[0m\u001b[0;34m]\u001b[0m\u001b[0;34m]\u001b[0m\u001b[0;34m\u001b[0m\u001b[0;34m\u001b[0m\u001b[0m\n",
            "\u001b[0;31mNameError\u001b[0m: name 'kg' is not defined"
          ]
        }
      ]
    },
    {
      "cell_type": "markdown",
      "source": [
        "##Audit Meta Tag Robots\n",
        "\n",
        "\n",
        "\n",
        "---\n",
        "Even if a web page is not disallowed from robots.txt, it can still be disallowed from the HTML Meta Tags.\n",
        "\n",
        "Thus, checking the HTML Meta Tags for better indexation and crawling is necessary.\n",
        "\n",
        "Using the “custom selectors” is necessary to perform the HTML Meta Tag audit for the sitemap URLs.\n",
        "\n",
        "\n",
        "---\n",
        "\n",
        "📓 If \"False\" is the returned value, there are no URLs with **noindex|nofollow** attribute within the Robots command.\n"
      ],
      "metadata": {
        "id": "DRf2R1I8zlK1"
      }
    },
    {
      "cell_type": "code",
      "source": [
        "adv.crawl(url_list=sitemap_url[\"loc\"][:100], output_file=\"meta_command_audit.jl\",\n",
        "\n",
        "follow_links=False,\n",
        "\n",
        "xpath_selectors= {\"meta_command\": \"//meta[@name='robots']/@content\"}, # to extract all the robots commands from the URLs from the sitemap.\n",
        "\n",
        "custom_settings={\"CLOSESPIDER_PAGECOUNT\":100}) # we have set the crawling to 1000 URLs from hte sitemap\n",
        "\n",
        "df_meta_check = pd.read_json(\"meta_command_audit.jl\", lines=True)\n",
        "\n",
        "df_meta_check[\"meta_command\"].str.contains(\"nofollow|noindex\", regex=True).value_counts()"
      ],
      "metadata": {
        "id": "Zkk5xJ4Zy7JZ",
        "colab": {
          "base_uri": "https://localhost:8080/",
          "height": 513
        },
        "outputId": "82a9b5e2-0a52-4da9-c9df-2168ec88b630"
      },
      "execution_count": null,
      "outputs": [
        {
          "output_type": "error",
          "ename": "KeyError",
          "evalue": "'loc'",
          "traceback": [
            "\u001b[0;31m---------------------------------------------------------------------------\u001b[0m",
            "\u001b[0;31mKeyError\u001b[0m                                  Traceback (most recent call last)",
            "\u001b[0;32m/usr/local/lib/python3.10/dist-packages/pandas/core/indexes/base.py\u001b[0m in \u001b[0;36mget_loc\u001b[0;34m(self, key, method, tolerance)\u001b[0m\n\u001b[1;32m   3801\u001b[0m             \u001b[0;32mtry\u001b[0m\u001b[0;34m:\u001b[0m\u001b[0;34m\u001b[0m\u001b[0;34m\u001b[0m\u001b[0m\n\u001b[0;32m-> 3802\u001b[0;31m                 \u001b[0;32mreturn\u001b[0m \u001b[0mself\u001b[0m\u001b[0;34m.\u001b[0m\u001b[0m_engine\u001b[0m\u001b[0;34m.\u001b[0m\u001b[0mget_loc\u001b[0m\u001b[0;34m(\u001b[0m\u001b[0mcasted_key\u001b[0m\u001b[0;34m)\u001b[0m\u001b[0;34m\u001b[0m\u001b[0;34m\u001b[0m\u001b[0m\n\u001b[0m\u001b[1;32m   3803\u001b[0m             \u001b[0;32mexcept\u001b[0m \u001b[0mKeyError\u001b[0m \u001b[0;32mas\u001b[0m \u001b[0merr\u001b[0m\u001b[0;34m:\u001b[0m\u001b[0;34m\u001b[0m\u001b[0;34m\u001b[0m\u001b[0m\n",
            "\u001b[0;32m/usr/local/lib/python3.10/dist-packages/pandas/_libs/index.pyx\u001b[0m in \u001b[0;36mpandas._libs.index.IndexEngine.get_loc\u001b[0;34m()\u001b[0m\n",
            "\u001b[0;32m/usr/local/lib/python3.10/dist-packages/pandas/_libs/index.pyx\u001b[0m in \u001b[0;36mpandas._libs.index.IndexEngine.get_loc\u001b[0;34m()\u001b[0m\n",
            "\u001b[0;32mpandas/_libs/hashtable_class_helper.pxi\u001b[0m in \u001b[0;36mpandas._libs.hashtable.PyObjectHashTable.get_item\u001b[0;34m()\u001b[0m\n",
            "\u001b[0;32mpandas/_libs/hashtable_class_helper.pxi\u001b[0m in \u001b[0;36mpandas._libs.hashtable.PyObjectHashTable.get_item\u001b[0;34m()\u001b[0m\n",
            "\u001b[0;31mKeyError\u001b[0m: 'loc'",
            "\nThe above exception was the direct cause of the following exception:\n",
            "\u001b[0;31mKeyError\u001b[0m                                  Traceback (most recent call last)",
            "\u001b[0;32m<ipython-input-20-afdd72f03058>\u001b[0m in \u001b[0;36m<cell line: 1>\u001b[0;34m()\u001b[0m\n\u001b[0;32m----> 1\u001b[0;31m adv.crawl(url_list=sitemap_url[\"loc\"][:100], output_file=\"meta_command_audit.jl\",\n\u001b[0m\u001b[1;32m      2\u001b[0m \u001b[0;34m\u001b[0m\u001b[0m\n\u001b[1;32m      3\u001b[0m \u001b[0mfollow_links\u001b[0m\u001b[0;34m=\u001b[0m\u001b[0;32mFalse\u001b[0m\u001b[0;34m,\u001b[0m\u001b[0;34m\u001b[0m\u001b[0;34m\u001b[0m\u001b[0m\n\u001b[1;32m      4\u001b[0m \u001b[0;34m\u001b[0m\u001b[0m\n\u001b[1;32m      5\u001b[0m \u001b[0mxpath_selectors\u001b[0m\u001b[0;34m=\u001b[0m \u001b[0;34m{\u001b[0m\u001b[0;34m\"meta_command\"\u001b[0m\u001b[0;34m:\u001b[0m \u001b[0;34m\"//meta[@name='robots']/@content\"\u001b[0m\u001b[0;34m}\u001b[0m\u001b[0;34m,\u001b[0m \u001b[0;31m# to extract all the robots commands from the URLs from the sitemap.\u001b[0m\u001b[0;34m\u001b[0m\u001b[0;34m\u001b[0m\u001b[0m\n",
            "\u001b[0;32m/usr/local/lib/python3.10/dist-packages/pandas/core/frame.py\u001b[0m in \u001b[0;36m__getitem__\u001b[0;34m(self, key)\u001b[0m\n\u001b[1;32m   3805\u001b[0m             \u001b[0;32mif\u001b[0m \u001b[0mself\u001b[0m\u001b[0;34m.\u001b[0m\u001b[0mcolumns\u001b[0m\u001b[0;34m.\u001b[0m\u001b[0mnlevels\u001b[0m \u001b[0;34m>\u001b[0m \u001b[0;36m1\u001b[0m\u001b[0;34m:\u001b[0m\u001b[0;34m\u001b[0m\u001b[0;34m\u001b[0m\u001b[0m\n\u001b[1;32m   3806\u001b[0m                 \u001b[0;32mreturn\u001b[0m \u001b[0mself\u001b[0m\u001b[0;34m.\u001b[0m\u001b[0m_getitem_multilevel\u001b[0m\u001b[0;34m(\u001b[0m\u001b[0mkey\u001b[0m\u001b[0;34m)\u001b[0m\u001b[0;34m\u001b[0m\u001b[0;34m\u001b[0m\u001b[0m\n\u001b[0;32m-> 3807\u001b[0;31m             \u001b[0mindexer\u001b[0m \u001b[0;34m=\u001b[0m \u001b[0mself\u001b[0m\u001b[0;34m.\u001b[0m\u001b[0mcolumns\u001b[0m\u001b[0;34m.\u001b[0m\u001b[0mget_loc\u001b[0m\u001b[0;34m(\u001b[0m\u001b[0mkey\u001b[0m\u001b[0;34m)\u001b[0m\u001b[0;34m\u001b[0m\u001b[0;34m\u001b[0m\u001b[0m\n\u001b[0m\u001b[1;32m   3808\u001b[0m             \u001b[0;32mif\u001b[0m \u001b[0mis_integer\u001b[0m\u001b[0;34m(\u001b[0m\u001b[0mindexer\u001b[0m\u001b[0;34m)\u001b[0m\u001b[0;34m:\u001b[0m\u001b[0;34m\u001b[0m\u001b[0;34m\u001b[0m\u001b[0m\n\u001b[1;32m   3809\u001b[0m                 \u001b[0mindexer\u001b[0m \u001b[0;34m=\u001b[0m \u001b[0;34m[\u001b[0m\u001b[0mindexer\u001b[0m\u001b[0;34m]\u001b[0m\u001b[0;34m\u001b[0m\u001b[0;34m\u001b[0m\u001b[0m\n",
            "\u001b[0;32m/usr/local/lib/python3.10/dist-packages/pandas/core/indexes/base.py\u001b[0m in \u001b[0;36mget_loc\u001b[0;34m(self, key, method, tolerance)\u001b[0m\n\u001b[1;32m   3802\u001b[0m                 \u001b[0;32mreturn\u001b[0m \u001b[0mself\u001b[0m\u001b[0;34m.\u001b[0m\u001b[0m_engine\u001b[0m\u001b[0;34m.\u001b[0m\u001b[0mget_loc\u001b[0m\u001b[0;34m(\u001b[0m\u001b[0mcasted_key\u001b[0m\u001b[0;34m)\u001b[0m\u001b[0;34m\u001b[0m\u001b[0;34m\u001b[0m\u001b[0m\n\u001b[1;32m   3803\u001b[0m             \u001b[0;32mexcept\u001b[0m \u001b[0mKeyError\u001b[0m \u001b[0;32mas\u001b[0m \u001b[0merr\u001b[0m\u001b[0;34m:\u001b[0m\u001b[0;34m\u001b[0m\u001b[0;34m\u001b[0m\u001b[0m\n\u001b[0;32m-> 3804\u001b[0;31m                 \u001b[0;32mraise\u001b[0m \u001b[0mKeyError\u001b[0m\u001b[0;34m(\u001b[0m\u001b[0mkey\u001b[0m\u001b[0;34m)\u001b[0m \u001b[0;32mfrom\u001b[0m \u001b[0merr\u001b[0m\u001b[0;34m\u001b[0m\u001b[0;34m\u001b[0m\u001b[0m\n\u001b[0m\u001b[1;32m   3805\u001b[0m             \u001b[0;32mexcept\u001b[0m \u001b[0mTypeError\u001b[0m\u001b[0;34m:\u001b[0m\u001b[0;34m\u001b[0m\u001b[0;34m\u001b[0m\u001b[0m\n\u001b[1;32m   3806\u001b[0m                 \u001b[0;31m# If we have a listlike key, _check_indexing_error will raise\u001b[0m\u001b[0;34m\u001b[0m\u001b[0;34m\u001b[0m\u001b[0m\n",
            "\u001b[0;31mKeyError\u001b[0m: 'loc'"
          ]
        }
      ]
    },
    {
      "cell_type": "markdown",
      "source": [
        "##⚠️ WARNING - If your GSC informs you about **indexing issues** stemming from a URL apparently displaying a **Index,Follow**, you should inspect the `<body>` section of the URL to assess whether a **noindex,follow** is in place"
      ],
      "metadata": {
        "id": "XjmnunW_1JZV"
      }
    },
    {
      "cell_type": "code",
      "source": [
        "#@title View the Meta Tag Robots applied on the Sitemap URLs\n",
        "meta_tag_robots = df_meta_check[df_meta_check[\"meta_command\"].str.contains(\"nofollow|noindex\", regex=True) == True][[\"url\", \"meta_command\"]]\n",
        "#meta_tag_robots.to_csv('boh.csv',index=False)\n",
        "meta_tag_robots"
      ],
      "metadata": {
        "colab": {
          "base_uri": "https://localhost:8080/",
          "height": 246
        },
        "id": "c3xcnIYc1i5w",
        "outputId": "cc102521-d264-4e54-a645-8b99717222b2"
      },
      "execution_count": null,
      "outputs": [
        {
          "output_type": "error",
          "ename": "NameError",
          "evalue": "name 'df_meta_check' is not defined",
          "traceback": [
            "\u001b[0;31m---------------------------------------------------------------------------\u001b[0m",
            "\u001b[0;31mNameError\u001b[0m                                 Traceback (most recent call last)",
            "\u001b[0;32m<ipython-input-18-98d97f63600f>\u001b[0m in \u001b[0;36m<cell line: 2>\u001b[0;34m()\u001b[0m\n\u001b[1;32m      1\u001b[0m \u001b[0;31m#@title View the Meta Tag Robots applied on the Sitemap URLs\u001b[0m\u001b[0;34m\u001b[0m\u001b[0;34m\u001b[0m\u001b[0m\n\u001b[0;32m----> 2\u001b[0;31m \u001b[0mmeta_tag_robots\u001b[0m \u001b[0;34m=\u001b[0m \u001b[0mdf_meta_check\u001b[0m\u001b[0;34m[\u001b[0m\u001b[0mdf_meta_check\u001b[0m\u001b[0;34m[\u001b[0m\u001b[0;34m\"meta_command\"\u001b[0m\u001b[0;34m]\u001b[0m\u001b[0;34m.\u001b[0m\u001b[0mstr\u001b[0m\u001b[0;34m.\u001b[0m\u001b[0mcontains\u001b[0m\u001b[0;34m(\u001b[0m\u001b[0;34m\"nofollow|noindex\"\u001b[0m\u001b[0;34m,\u001b[0m \u001b[0mregex\u001b[0m\u001b[0;34m=\u001b[0m\u001b[0;32mTrue\u001b[0m\u001b[0;34m)\u001b[0m \u001b[0;34m==\u001b[0m \u001b[0;32mTrue\u001b[0m\u001b[0;34m]\u001b[0m\u001b[0;34m[\u001b[0m\u001b[0;34m[\u001b[0m\u001b[0;34m\"url\"\u001b[0m\u001b[0;34m,\u001b[0m \u001b[0;34m\"meta_command\"\u001b[0m\u001b[0;34m]\u001b[0m\u001b[0;34m]\u001b[0m\u001b[0;34m\u001b[0m\u001b[0;34m\u001b[0m\u001b[0m\n\u001b[0m\u001b[1;32m      3\u001b[0m \u001b[0;31m#meta_tag_robots.to_csv('boh.csv',index=False)\u001b[0m\u001b[0;34m\u001b[0m\u001b[0;34m\u001b[0m\u001b[0m\n\u001b[1;32m      4\u001b[0m \u001b[0mmeta_tag_robots\u001b[0m\u001b[0;34m\u001b[0m\u001b[0;34m\u001b[0m\u001b[0m\n",
            "\u001b[0;31mNameError\u001b[0m: name 'df_meta_check' is not defined"
          ]
        }
      ]
    },
    {
      "cell_type": "markdown",
      "source": [],
      "metadata": {
        "id": "gosr8Ijs2lQ7"
      }
    },
    {
      "cell_type": "markdown",
      "metadata": {
        "id": "pCrPm1O1gmG8"
      },
      "source": [
        "\n",
        "#Check the duplicate URLs within the Sitemap URLs"
      ]
    },
    {
      "cell_type": "code",
      "source": [
        "print(f'Original: {sitemap.shape}')\n",
        "sitemap = sitemap.drop_duplicates(subset=['loc'])\n",
        "print(f'After de-duplication: {sitemap.shape}')\n",
        "sitemap.head()"
      ],
      "metadata": {
        "colab": {
          "base_uri": "https://localhost:8080/",
          "height": 347
        },
        "id": "wCNwdxjOYcKo",
        "outputId": "a93d5b1e-d2da-47ff-cace-9fbc0fe42ac0"
      },
      "execution_count": null,
      "outputs": [
        {
          "output_type": "stream",
          "name": "stdout",
          "text": [
            "Original: (2215, 22)\n",
            "After de-duplication: (2215, 22)\n"
          ]
        },
        {
          "output_type": "execute_result",
          "data": {
            "text/plain": [
              "                                                   loc  \\\n",
              "0                              https://yoast.com/jobs/   \n",
              "1  https://yoast.com/jobs/retention-marketing-manager/   \n",
              "2               https://yoast.com/jobs/seo-specialist/   \n",
              "3         https://yoast.com/jobs/marketing-internship/   \n",
              "4                   https://yoast.com/about-us/events/   \n",
              "\n",
              "                     lastmod     image  \\\n",
              "0  2024-01-08 09:39:56+00:00       NaN   \n",
              "1  2023-12-22 12:18:57+00:00  \\n\\t\\t\\t   \n",
              "2  2023-12-22 13:37:00+00:00  \\n\\t\\t\\t   \n",
              "3  2024-01-08 09:39:56+00:00  \\n\\t\\t\\t   \n",
              "4  2024-01-24 10:45:35+00:00       NaN   \n",
              "\n",
              "                                         image_loc  \\\n",
              "0                                              NaN   \n",
              "1  https://yoast.com/app/uploads/2023/10/image.png   \n",
              "2  https://yoast.com/app/uploads/2023/10/image.png   \n",
              "3  https://yoast.com/app/uploads/2023/12/image.png   \n",
              "4                                              NaN   \n",
              "\n",
              "                                      sitemap  sitemap_size_mb  \\\n",
              "0    https://yoast.com/yoast_jobs-sitemap.xml         0.003242   \n",
              "1    https://yoast.com/yoast_jobs-sitemap.xml         0.003242   \n",
              "2    https://yoast.com/yoast_jobs-sitemap.xml         0.003242   \n",
              "3    https://yoast.com/yoast_jobs-sitemap.xml         0.003242   \n",
              "4  https://yoast.com/yoast_events-sitemap.xml         0.001593   \n",
              "\n",
              "                      download_date video video_title video_publication_date  \\\n",
              "0  2024-01-27 18:37:01.199895+00:00   NaN         NaN                    NaN   \n",
              "1  2024-01-27 18:37:01.199895+00:00   NaN         NaN                    NaN   \n",
              "2  2024-01-27 18:37:01.199895+00:00   NaN         NaN                    NaN   \n",
              "3  2024-01-27 18:37:01.199895+00:00   NaN         NaN                    NaN   \n",
              "4  2024-01-27 18:37:01.330218+00:00   NaN         NaN                    NaN   \n",
              "\n",
              "  video_description video_player_loc video_thumbnail_loc  video_duration  \\\n",
              "0               NaN              NaN                 NaN             NaN   \n",
              "1               NaN              NaN                 NaN             NaN   \n",
              "2               NaN              NaN                 NaN             NaN   \n",
              "3               NaN              NaN                 NaN             NaN   \n",
              "4               NaN              NaN                 NaN             NaN   \n",
              "\n",
              "   video_view_count  video_width  video_height video_family_friendly  \\\n",
              "0               NaN          NaN           NaN                   NaN   \n",
              "1               NaN          NaN           NaN                   NaN   \n",
              "2               NaN          NaN           NaN                   NaN   \n",
              "3               NaN          NaN           NaN                   NaN   \n",
              "4               NaN          NaN           NaN                   NaN   \n",
              "\n",
              "  video_uploader video_tag video_content_loc  Pagination  \n",
              "0            NaN       NaN               NaN       False  \n",
              "1            NaN       NaN               NaN       False  \n",
              "2            NaN       NaN               NaN       False  \n",
              "3            NaN       NaN               NaN       False  \n",
              "4            NaN       NaN               NaN       False  "
            ],
            "text/html": [
              "\n",
              "  <div id=\"df-65e51697-89ff-4ac0-80e9-df08466fda79\" class=\"colab-df-container\">\n",
              "    <div>\n",
              "<style scoped>\n",
              "    .dataframe tbody tr th:only-of-type {\n",
              "        vertical-align: middle;\n",
              "    }\n",
              "\n",
              "    .dataframe tbody tr th {\n",
              "        vertical-align: top;\n",
              "    }\n",
              "\n",
              "    .dataframe thead th {\n",
              "        text-align: right;\n",
              "    }\n",
              "</style>\n",
              "<table border=\"1\" class=\"dataframe\">\n",
              "  <thead>\n",
              "    <tr style=\"text-align: right;\">\n",
              "      <th></th>\n",
              "      <th>loc</th>\n",
              "      <th>lastmod</th>\n",
              "      <th>image</th>\n",
              "      <th>image_loc</th>\n",
              "      <th>sitemap</th>\n",
              "      <th>sitemap_size_mb</th>\n",
              "      <th>download_date</th>\n",
              "      <th>video</th>\n",
              "      <th>video_title</th>\n",
              "      <th>video_publication_date</th>\n",
              "      <th>video_description</th>\n",
              "      <th>video_player_loc</th>\n",
              "      <th>video_thumbnail_loc</th>\n",
              "      <th>video_duration</th>\n",
              "      <th>video_view_count</th>\n",
              "      <th>video_width</th>\n",
              "      <th>video_height</th>\n",
              "      <th>video_family_friendly</th>\n",
              "      <th>video_uploader</th>\n",
              "      <th>video_tag</th>\n",
              "      <th>video_content_loc</th>\n",
              "      <th>Pagination</th>\n",
              "    </tr>\n",
              "  </thead>\n",
              "  <tbody>\n",
              "    <tr>\n",
              "      <th>0</th>\n",
              "      <td>https://yoast.com/jobs/</td>\n",
              "      <td>2024-01-08 09:39:56+00:00</td>\n",
              "      <td>NaN</td>\n",
              "      <td>NaN</td>\n",
              "      <td>https://yoast.com/yoast_jobs-sitemap.xml</td>\n",
              "      <td>0.003242</td>\n",
              "      <td>2024-01-27 18:37:01.199895+00:00</td>\n",
              "      <td>NaN</td>\n",
              "      <td>NaN</td>\n",
              "      <td>NaN</td>\n",
              "      <td>NaN</td>\n",
              "      <td>NaN</td>\n",
              "      <td>NaN</td>\n",
              "      <td>NaN</td>\n",
              "      <td>NaN</td>\n",
              "      <td>NaN</td>\n",
              "      <td>NaN</td>\n",
              "      <td>NaN</td>\n",
              "      <td>NaN</td>\n",
              "      <td>NaN</td>\n",
              "      <td>NaN</td>\n",
              "      <td>False</td>\n",
              "    </tr>\n",
              "    <tr>\n",
              "      <th>1</th>\n",
              "      <td>https://yoast.com/jobs/retention-marketing-manager/</td>\n",
              "      <td>2023-12-22 12:18:57+00:00</td>\n",
              "      <td>\\n\\t\\t\\t</td>\n",
              "      <td>https://yoast.com/app/uploads/2023/10/image.png</td>\n",
              "      <td>https://yoast.com/yoast_jobs-sitemap.xml</td>\n",
              "      <td>0.003242</td>\n",
              "      <td>2024-01-27 18:37:01.199895+00:00</td>\n",
              "      <td>NaN</td>\n",
              "      <td>NaN</td>\n",
              "      <td>NaN</td>\n",
              "      <td>NaN</td>\n",
              "      <td>NaN</td>\n",
              "      <td>NaN</td>\n",
              "      <td>NaN</td>\n",
              "      <td>NaN</td>\n",
              "      <td>NaN</td>\n",
              "      <td>NaN</td>\n",
              "      <td>NaN</td>\n",
              "      <td>NaN</td>\n",
              "      <td>NaN</td>\n",
              "      <td>NaN</td>\n",
              "      <td>False</td>\n",
              "    </tr>\n",
              "    <tr>\n",
              "      <th>2</th>\n",
              "      <td>https://yoast.com/jobs/seo-specialist/</td>\n",
              "      <td>2023-12-22 13:37:00+00:00</td>\n",
              "      <td>\\n\\t\\t\\t</td>\n",
              "      <td>https://yoast.com/app/uploads/2023/10/image.png</td>\n",
              "      <td>https://yoast.com/yoast_jobs-sitemap.xml</td>\n",
              "      <td>0.003242</td>\n",
              "      <td>2024-01-27 18:37:01.199895+00:00</td>\n",
              "      <td>NaN</td>\n",
              "      <td>NaN</td>\n",
              "      <td>NaN</td>\n",
              "      <td>NaN</td>\n",
              "      <td>NaN</td>\n",
              "      <td>NaN</td>\n",
              "      <td>NaN</td>\n",
              "      <td>NaN</td>\n",
              "      <td>NaN</td>\n",
              "      <td>NaN</td>\n",
              "      <td>NaN</td>\n",
              "      <td>NaN</td>\n",
              "      <td>NaN</td>\n",
              "      <td>NaN</td>\n",
              "      <td>False</td>\n",
              "    </tr>\n",
              "    <tr>\n",
              "      <th>3</th>\n",
              "      <td>https://yoast.com/jobs/marketing-internship/</td>\n",
              "      <td>2024-01-08 09:39:56+00:00</td>\n",
              "      <td>\\n\\t\\t\\t</td>\n",
              "      <td>https://yoast.com/app/uploads/2023/12/image.png</td>\n",
              "      <td>https://yoast.com/yoast_jobs-sitemap.xml</td>\n",
              "      <td>0.003242</td>\n",
              "      <td>2024-01-27 18:37:01.199895+00:00</td>\n",
              "      <td>NaN</td>\n",
              "      <td>NaN</td>\n",
              "      <td>NaN</td>\n",
              "      <td>NaN</td>\n",
              "      <td>NaN</td>\n",
              "      <td>NaN</td>\n",
              "      <td>NaN</td>\n",
              "      <td>NaN</td>\n",
              "      <td>NaN</td>\n",
              "      <td>NaN</td>\n",
              "      <td>NaN</td>\n",
              "      <td>NaN</td>\n",
              "      <td>NaN</td>\n",
              "      <td>NaN</td>\n",
              "      <td>False</td>\n",
              "    </tr>\n",
              "    <tr>\n",
              "      <th>4</th>\n",
              "      <td>https://yoast.com/about-us/events/</td>\n",
              "      <td>2024-01-24 10:45:35+00:00</td>\n",
              "      <td>NaN</td>\n",
              "      <td>NaN</td>\n",
              "      <td>https://yoast.com/yoast_events-sitemap.xml</td>\n",
              "      <td>0.001593</td>\n",
              "      <td>2024-01-27 18:37:01.330218+00:00</td>\n",
              "      <td>NaN</td>\n",
              "      <td>NaN</td>\n",
              "      <td>NaN</td>\n",
              "      <td>NaN</td>\n",
              "      <td>NaN</td>\n",
              "      <td>NaN</td>\n",
              "      <td>NaN</td>\n",
              "      <td>NaN</td>\n",
              "      <td>NaN</td>\n",
              "      <td>NaN</td>\n",
              "      <td>NaN</td>\n",
              "      <td>NaN</td>\n",
              "      <td>NaN</td>\n",
              "      <td>NaN</td>\n",
              "      <td>False</td>\n",
              "    </tr>\n",
              "  </tbody>\n",
              "</table>\n",
              "</div>\n",
              "    <div class=\"colab-df-buttons\">\n",
              "\n",
              "  <div class=\"colab-df-container\">\n",
              "    <button class=\"colab-df-convert\" onclick=\"convertToInteractive('df-65e51697-89ff-4ac0-80e9-df08466fda79')\"\n",
              "            title=\"Convert this dataframe to an interactive table.\"\n",
              "            style=\"display:none;\">\n",
              "\n",
              "  <svg xmlns=\"http://www.w3.org/2000/svg\" height=\"24px\" viewBox=\"0 -960 960 960\">\n",
              "    <path d=\"M120-120v-720h720v720H120Zm60-500h600v-160H180v160Zm220 220h160v-160H400v160Zm0 220h160v-160H400v160ZM180-400h160v-160H180v160Zm440 0h160v-160H620v160ZM180-180h160v-160H180v160Zm440 0h160v-160H620v160Z\"/>\n",
              "  </svg>\n",
              "    </button>\n",
              "\n",
              "  <style>\n",
              "    .colab-df-container {\n",
              "      display:flex;\n",
              "      gap: 12px;\n",
              "    }\n",
              "\n",
              "    .colab-df-convert {\n",
              "      background-color: #E8F0FE;\n",
              "      border: none;\n",
              "      border-radius: 50%;\n",
              "      cursor: pointer;\n",
              "      display: none;\n",
              "      fill: #1967D2;\n",
              "      height: 32px;\n",
              "      padding: 0 0 0 0;\n",
              "      width: 32px;\n",
              "    }\n",
              "\n",
              "    .colab-df-convert:hover {\n",
              "      background-color: #E2EBFA;\n",
              "      box-shadow: 0px 1px 2px rgba(60, 64, 67, 0.3), 0px 1px 3px 1px rgba(60, 64, 67, 0.15);\n",
              "      fill: #174EA6;\n",
              "    }\n",
              "\n",
              "    .colab-df-buttons div {\n",
              "      margin-bottom: 4px;\n",
              "    }\n",
              "\n",
              "    [theme=dark] .colab-df-convert {\n",
              "      background-color: #3B4455;\n",
              "      fill: #D2E3FC;\n",
              "    }\n",
              "\n",
              "    [theme=dark] .colab-df-convert:hover {\n",
              "      background-color: #434B5C;\n",
              "      box-shadow: 0px 1px 3px 1px rgba(0, 0, 0, 0.15);\n",
              "      filter: drop-shadow(0px 1px 2px rgba(0, 0, 0, 0.3));\n",
              "      fill: #FFFFFF;\n",
              "    }\n",
              "  </style>\n",
              "\n",
              "    <script>\n",
              "      const buttonEl =\n",
              "        document.querySelector('#df-65e51697-89ff-4ac0-80e9-df08466fda79 button.colab-df-convert');\n",
              "      buttonEl.style.display =\n",
              "        google.colab.kernel.accessAllowed ? 'block' : 'none';\n",
              "\n",
              "      async function convertToInteractive(key) {\n",
              "        const element = document.querySelector('#df-65e51697-89ff-4ac0-80e9-df08466fda79');\n",
              "        const dataTable =\n",
              "          await google.colab.kernel.invokeFunction('convertToInteractive',\n",
              "                                                    [key], {});\n",
              "        if (!dataTable) return;\n",
              "\n",
              "        const docLinkHtml = 'Like what you see? Visit the ' +\n",
              "          '<a target=\"_blank\" href=https://colab.research.google.com/notebooks/data_table.ipynb>data table notebook</a>'\n",
              "          + ' to learn more about interactive tables.';\n",
              "        element.innerHTML = '';\n",
              "        dataTable['output_type'] = 'display_data';\n",
              "        await google.colab.output.renderOutput(dataTable, element);\n",
              "        const docLink = document.createElement('div');\n",
              "        docLink.innerHTML = docLinkHtml;\n",
              "        element.appendChild(docLink);\n",
              "      }\n",
              "    </script>\n",
              "  </div>\n",
              "\n",
              "\n",
              "<div id=\"df-013bb1fb-1c28-4ccb-853f-ba31fa8c6560\">\n",
              "  <button class=\"colab-df-quickchart\" onclick=\"quickchart('df-013bb1fb-1c28-4ccb-853f-ba31fa8c6560')\"\n",
              "            title=\"Suggest charts\"\n",
              "            style=\"display:none;\">\n",
              "\n",
              "<svg xmlns=\"http://www.w3.org/2000/svg\" height=\"24px\"viewBox=\"0 0 24 24\"\n",
              "     width=\"24px\">\n",
              "    <g>\n",
              "        <path d=\"M19 3H5c-1.1 0-2 .9-2 2v14c0 1.1.9 2 2 2h14c1.1 0 2-.9 2-2V5c0-1.1-.9-2-2-2zM9 17H7v-7h2v7zm4 0h-2V7h2v10zm4 0h-2v-4h2v4z\"/>\n",
              "    </g>\n",
              "</svg>\n",
              "  </button>\n",
              "\n",
              "<style>\n",
              "  .colab-df-quickchart {\n",
              "      --bg-color: #E8F0FE;\n",
              "      --fill-color: #1967D2;\n",
              "      --hover-bg-color: #E2EBFA;\n",
              "      --hover-fill-color: #174EA6;\n",
              "      --disabled-fill-color: #AAA;\n",
              "      --disabled-bg-color: #DDD;\n",
              "  }\n",
              "\n",
              "  [theme=dark] .colab-df-quickchart {\n",
              "      --bg-color: #3B4455;\n",
              "      --fill-color: #D2E3FC;\n",
              "      --hover-bg-color: #434B5C;\n",
              "      --hover-fill-color: #FFFFFF;\n",
              "      --disabled-bg-color: #3B4455;\n",
              "      --disabled-fill-color: #666;\n",
              "  }\n",
              "\n",
              "  .colab-df-quickchart {\n",
              "    background-color: var(--bg-color);\n",
              "    border: none;\n",
              "    border-radius: 50%;\n",
              "    cursor: pointer;\n",
              "    display: none;\n",
              "    fill: var(--fill-color);\n",
              "    height: 32px;\n",
              "    padding: 0;\n",
              "    width: 32px;\n",
              "  }\n",
              "\n",
              "  .colab-df-quickchart:hover {\n",
              "    background-color: var(--hover-bg-color);\n",
              "    box-shadow: 0 1px 2px rgba(60, 64, 67, 0.3), 0 1px 3px 1px rgba(60, 64, 67, 0.15);\n",
              "    fill: var(--button-hover-fill-color);\n",
              "  }\n",
              "\n",
              "  .colab-df-quickchart-complete:disabled,\n",
              "  .colab-df-quickchart-complete:disabled:hover {\n",
              "    background-color: var(--disabled-bg-color);\n",
              "    fill: var(--disabled-fill-color);\n",
              "    box-shadow: none;\n",
              "  }\n",
              "\n",
              "  .colab-df-spinner {\n",
              "    border: 2px solid var(--fill-color);\n",
              "    border-color: transparent;\n",
              "    border-bottom-color: var(--fill-color);\n",
              "    animation:\n",
              "      spin 1s steps(1) infinite;\n",
              "  }\n",
              "\n",
              "  @keyframes spin {\n",
              "    0% {\n",
              "      border-color: transparent;\n",
              "      border-bottom-color: var(--fill-color);\n",
              "      border-left-color: var(--fill-color);\n",
              "    }\n",
              "    20% {\n",
              "      border-color: transparent;\n",
              "      border-left-color: var(--fill-color);\n",
              "      border-top-color: var(--fill-color);\n",
              "    }\n",
              "    30% {\n",
              "      border-color: transparent;\n",
              "      border-left-color: var(--fill-color);\n",
              "      border-top-color: var(--fill-color);\n",
              "      border-right-color: var(--fill-color);\n",
              "    }\n",
              "    40% {\n",
              "      border-color: transparent;\n",
              "      border-right-color: var(--fill-color);\n",
              "      border-top-color: var(--fill-color);\n",
              "    }\n",
              "    60% {\n",
              "      border-color: transparent;\n",
              "      border-right-color: var(--fill-color);\n",
              "    }\n",
              "    80% {\n",
              "      border-color: transparent;\n",
              "      border-right-color: var(--fill-color);\n",
              "      border-bottom-color: var(--fill-color);\n",
              "    }\n",
              "    90% {\n",
              "      border-color: transparent;\n",
              "      border-bottom-color: var(--fill-color);\n",
              "    }\n",
              "  }\n",
              "</style>\n",
              "\n",
              "  <script>\n",
              "    async function quickchart(key) {\n",
              "      const quickchartButtonEl =\n",
              "        document.querySelector('#' + key + ' button');\n",
              "      quickchartButtonEl.disabled = true;  // To prevent multiple clicks.\n",
              "      quickchartButtonEl.classList.add('colab-df-spinner');\n",
              "      try {\n",
              "        const charts = await google.colab.kernel.invokeFunction(\n",
              "            'suggestCharts', [key], {});\n",
              "      } catch (error) {\n",
              "        console.error('Error during call to suggestCharts:', error);\n",
              "      }\n",
              "      quickchartButtonEl.classList.remove('colab-df-spinner');\n",
              "      quickchartButtonEl.classList.add('colab-df-quickchart-complete');\n",
              "    }\n",
              "    (() => {\n",
              "      let quickchartButtonEl =\n",
              "        document.querySelector('#df-013bb1fb-1c28-4ccb-853f-ba31fa8c6560 button');\n",
              "      quickchartButtonEl.style.display =\n",
              "        google.colab.kernel.accessAllowed ? 'block' : 'none';\n",
              "    })();\n",
              "  </script>\n",
              "</div>\n",
              "    </div>\n",
              "  </div>\n"
            ]
          },
          "metadata": {},
          "execution_count": 30
        }
      ]
    },
    {
      "cell_type": "code",
      "source": [
        "duplicated_urls = sitemap['loc'].duplicated()\n",
        "md(f'## Duplicated URLs: {duplicated_urls.sum():,} ({duplicated_urls.mean():.1%})')"
      ],
      "metadata": {
        "colab": {
          "base_uri": "https://localhost:8080/",
          "height": 64
        },
        "id": "iABnLtfEZfBB",
        "outputId": "805dbb73-e0e8-4d9c-ff99-e06cf13fbcf0"
      },
      "execution_count": null,
      "outputs": [
        {
          "output_type": "display_data",
          "data": {
            "text/markdown": "## Duplicated URLs: 0 (0.0%)"
          },
          "metadata": {}
        }
      ]
    },
    {
      "cell_type": "code",
      "source": [
        "#@title Look for Duplicate URLs Within Sitemap Submissions\n",
        "sitemap[\"loc\"].duplicated().value_counts()"
      ],
      "metadata": {
        "id": "BNMDVgd_3FD6",
        "colab": {
          "base_uri": "https://localhost:8080/"
        },
        "outputId": "4e3dc16b-69b5-4531-951f-982cd5ac889f"
      },
      "execution_count": null,
      "outputs": [
        {
          "output_type": "execute_result",
          "data": {
            "text/plain": [
              "False    19227\n",
              "Name: loc, dtype: int64"
            ]
          },
          "metadata": {},
          "execution_count": 13
        }
      ]
    },
    {
      "cell_type": "markdown",
      "source": [
        "📓 **False = no duplicated URLs are uploaded in the sitemap**\n",
        "\n",
        "❌ **True** = Duplicated URLs are caught in the Sitemap\n",
        "\n",
        "👇\n",
        "\n",
        "---\n",
        "Should you have Duplicated URLs uploaded in your Sitemap, run the script below\n"
      ],
      "metadata": {
        "id": "VEBLK73h3Xv0"
      }
    },
    {
      "cell_type": "code",
      "source": [
        "#@title ❌ How many duplicated URLs in the Sitemap?\n",
        "pd.pivot_table(sitemap_df[sitemap_df[\"loc\"].duplicated()==True], index=\"sitemap\", values=\"loc\", aggfunc=\"count\").sort_values(by=\"loc\", ascending=False)"
      ],
      "metadata": {
        "id": "x15vZgpi44cA",
        "colab": {
          "base_uri": "https://localhost:8080/",
          "height": 112
        },
        "outputId": "50ebeee8-1de6-4db1-d266-657a0bb1c2a6"
      },
      "execution_count": null,
      "outputs": [
        {
          "output_type": "execute_result",
          "data": {
            "text/plain": [
              "                                           loc\n",
              "sitemap                                       \n",
              "https://seodepths.com/image-sitemap-1.xml   12"
            ],
            "text/html": [
              "\n",
              "  <div id=\"df-29660007-6f0c-471a-96fd-db12979bc7c7\">\n",
              "    <div class=\"colab-df-container\">\n",
              "      <div>\n",
              "<style scoped>\n",
              "    .dataframe tbody tr th:only-of-type {\n",
              "        vertical-align: middle;\n",
              "    }\n",
              "\n",
              "    .dataframe tbody tr th {\n",
              "        vertical-align: top;\n",
              "    }\n",
              "\n",
              "    .dataframe thead th {\n",
              "        text-align: right;\n",
              "    }\n",
              "</style>\n",
              "<table border=\"1\" class=\"dataframe\">\n",
              "  <thead>\n",
              "    <tr style=\"text-align: right;\">\n",
              "      <th></th>\n",
              "      <th>loc</th>\n",
              "    </tr>\n",
              "    <tr>\n",
              "      <th>sitemap</th>\n",
              "      <th></th>\n",
              "    </tr>\n",
              "  </thead>\n",
              "  <tbody>\n",
              "    <tr>\n",
              "      <th>https://seodepths.com/image-sitemap-1.xml</th>\n",
              "      <td>12</td>\n",
              "    </tr>\n",
              "  </tbody>\n",
              "</table>\n",
              "</div>\n",
              "      <button class=\"colab-df-convert\" onclick=\"convertToInteractive('df-29660007-6f0c-471a-96fd-db12979bc7c7')\"\n",
              "              title=\"Convert this dataframe to an interactive table.\"\n",
              "              style=\"display:none;\">\n",
              "        \n",
              "  <svg xmlns=\"http://www.w3.org/2000/svg\" height=\"24px\"viewBox=\"0 0 24 24\"\n",
              "       width=\"24px\">\n",
              "    <path d=\"M0 0h24v24H0V0z\" fill=\"none\"/>\n",
              "    <path d=\"M18.56 5.44l.94 2.06.94-2.06 2.06-.94-2.06-.94-.94-2.06-.94 2.06-2.06.94zm-11 1L8.5 8.5l.94-2.06 2.06-.94-2.06-.94L8.5 2.5l-.94 2.06-2.06.94zm10 10l.94 2.06.94-2.06 2.06-.94-2.06-.94-.94-2.06-.94 2.06-2.06.94z\"/><path d=\"M17.41 7.96l-1.37-1.37c-.4-.4-.92-.59-1.43-.59-.52 0-1.04.2-1.43.59L10.3 9.45l-7.72 7.72c-.78.78-.78 2.05 0 2.83L4 21.41c.39.39.9.59 1.41.59.51 0 1.02-.2 1.41-.59l7.78-7.78 2.81-2.81c.8-.78.8-2.07 0-2.86zM5.41 20L4 18.59l7.72-7.72 1.47 1.35L5.41 20z\"/>\n",
              "  </svg>\n",
              "      </button>\n",
              "      \n",
              "  <style>\n",
              "    .colab-df-container {\n",
              "      display:flex;\n",
              "      flex-wrap:wrap;\n",
              "      gap: 12px;\n",
              "    }\n",
              "\n",
              "    .colab-df-convert {\n",
              "      background-color: #E8F0FE;\n",
              "      border: none;\n",
              "      border-radius: 50%;\n",
              "      cursor: pointer;\n",
              "      display: none;\n",
              "      fill: #1967D2;\n",
              "      height: 32px;\n",
              "      padding: 0 0 0 0;\n",
              "      width: 32px;\n",
              "    }\n",
              "\n",
              "    .colab-df-convert:hover {\n",
              "      background-color: #E2EBFA;\n",
              "      box-shadow: 0px 1px 2px rgba(60, 64, 67, 0.3), 0px 1px 3px 1px rgba(60, 64, 67, 0.15);\n",
              "      fill: #174EA6;\n",
              "    }\n",
              "\n",
              "    [theme=dark] .colab-df-convert {\n",
              "      background-color: #3B4455;\n",
              "      fill: #D2E3FC;\n",
              "    }\n",
              "\n",
              "    [theme=dark] .colab-df-convert:hover {\n",
              "      background-color: #434B5C;\n",
              "      box-shadow: 0px 1px 3px 1px rgba(0, 0, 0, 0.15);\n",
              "      filter: drop-shadow(0px 1px 2px rgba(0, 0, 0, 0.3));\n",
              "      fill: #FFFFFF;\n",
              "    }\n",
              "  </style>\n",
              "\n",
              "      <script>\n",
              "        const buttonEl =\n",
              "          document.querySelector('#df-29660007-6f0c-471a-96fd-db12979bc7c7 button.colab-df-convert');\n",
              "        buttonEl.style.display =\n",
              "          google.colab.kernel.accessAllowed ? 'block' : 'none';\n",
              "\n",
              "        async function convertToInteractive(key) {\n",
              "          const element = document.querySelector('#df-29660007-6f0c-471a-96fd-db12979bc7c7');\n",
              "          const dataTable =\n",
              "            await google.colab.kernel.invokeFunction('convertToInteractive',\n",
              "                                                     [key], {});\n",
              "          if (!dataTable) return;\n",
              "\n",
              "          const docLinkHtml = 'Like what you see? Visit the ' +\n",
              "            '<a target=\"_blank\" href=https://colab.research.google.com/notebooks/data_table.ipynb>data table notebook</a>'\n",
              "            + ' to learn more about interactive tables.';\n",
              "          element.innerHTML = '';\n",
              "          dataTable['output_type'] = 'display_data';\n",
              "          await google.colab.output.renderOutput(dataTable, element);\n",
              "          const docLink = document.createElement('div');\n",
              "          docLink.innerHTML = docLinkHtml;\n",
              "          element.appendChild(docLink);\n",
              "        }\n",
              "      </script>\n",
              "    </div>\n",
              "  </div>\n",
              "  "
            ]
          },
          "metadata": {},
          "execution_count": 39
        }
      ]
    },
    {
      "cell_type": "code",
      "source": [
        "#@title 💡Which URLs are caught as Duplicated in the Sitemap?\n",
        "sitemap_df[sitemap_df[\"loc\"].duplicated() == True]"
      ],
      "metadata": {
        "id": "g3T8j9Ep5ZRL",
        "colab": {
          "base_uri": "https://localhost:8080/",
          "height": 976
        },
        "outputId": "5d197892-821e-4596-87ea-c41fef172c0e"
      },
      "execution_count": null,
      "outputs": [
        {
          "output_type": "execute_result",
          "data": {
            "text/plain": [
              "                                                                                                         loc  \\\n",
              "16                                              https://seodepths.com/seo-news/google-pros-cons-annotations/   \n",
              "22                                 https://seodepths.com/python-for-seo/detect-google-tag-rewriting-serpapi/   \n",
              "23                                                https://seodepths.com/python-for-seo/sitemap-audit-python/   \n",
              "24                          https://seodepths.com/python-for-seo/how-to-kick-off-entity-research-nlp-python/   \n",
              "25                                                https://seodepths.com/seo-news/how-nlp-nlu-can-affect-seo/   \n",
              "26                                https://seodepths.com/python-for-seo/define-seo-search-intent-with-python/   \n",
              "27                                https://seodepths.com/python-for-seo/entity-and-sentiment-analysis-python/   \n",
              "28                                                                              https://seodepths.com/about/   \n",
              "29                                      https://seodepths.com/seo-news/how-google-interprets-search-queries/   \n",
              "30                                           https://seodepths.com/seo-news/structured-data-semantic-search/   \n",
              "31                                   https://seodepths.com/python-for-seo/structured-data-audit-with-python/   \n",
              "33  https://seodepths.com/python-for-seo/how-to-use-keyword-density-to-evaluate-topical-coverage-python-seo/   \n",
              "\n",
              "                      lastmod                                    sitemap  \\\n",
              "16  2022-07-12 15:27:16+00:00  https://seodepths.com/image-sitemap-1.xml   \n",
              "22  2022-07-13 09:26:52+00:00  https://seodepths.com/image-sitemap-1.xml   \n",
              "23  2022-07-14 11:57:10+00:00  https://seodepths.com/image-sitemap-1.xml   \n",
              "24  2022-07-15 07:49:12+00:00  https://seodepths.com/image-sitemap-1.xml   \n",
              "25  2022-07-14 16:22:56+00:00  https://seodepths.com/image-sitemap-1.xml   \n",
              "26  2022-07-16 15:59:06+00:00  https://seodepths.com/image-sitemap-1.xml   \n",
              "27  2022-07-16 10:55:22+00:00  https://seodepths.com/image-sitemap-1.xml   \n",
              "28  2022-07-20 08:48:11+00:00  https://seodepths.com/image-sitemap-1.xml   \n",
              "29  2022-07-18 15:18:59+00:00  https://seodepths.com/image-sitemap-1.xml   \n",
              "30  2022-07-18 18:03:13+00:00  https://seodepths.com/image-sitemap-1.xml   \n",
              "31  2022-07-19 17:58:02+00:00  https://seodepths.com/image-sitemap-1.xml   \n",
              "33  2022-07-28 18:47:56+00:00  https://seodepths.com/image-sitemap-1.xml   \n",
              "\n",
              "    sitemap_size_mb                     download_date  \\\n",
              "16         0.027044  2022-07-30 21:37:02.609921+00:00   \n",
              "22         0.027044  2022-07-30 21:37:02.609921+00:00   \n",
              "23         0.027044  2022-07-30 21:37:02.609921+00:00   \n",
              "24         0.027044  2022-07-30 21:37:02.609921+00:00   \n",
              "25         0.027044  2022-07-30 21:37:02.609921+00:00   \n",
              "26         0.027044  2022-07-30 21:37:02.609921+00:00   \n",
              "27         0.027044  2022-07-30 21:37:02.609921+00:00   \n",
              "28         0.027044  2022-07-30 21:37:02.609921+00:00   \n",
              "29         0.027044  2022-07-30 21:37:02.609921+00:00   \n",
              "30         0.027044  2022-07-30 21:37:02.609921+00:00   \n",
              "31         0.027044  2022-07-30 21:37:02.609921+00:00   \n",
              "33         0.027044  2022-07-30 21:37:02.609921+00:00   \n",
              "\n",
              "                                                                                          image_loc  \\\n",
              "16  https://seodepths.com/wp-content/uploads/2022/07/office-freelancer-computer-business-38547.jpeg   \n",
              "22                       https://seodepths.com/wp-content/uploads/2022/07/pexels-photo-1181373.jpeg   \n",
              "23                     https://seodepths.com/wp-content/uploads/2022/07/pexels-photo-3935702-1.jpeg   \n",
              "24                       https://seodepths.com/wp-content/uploads/2022/07/pexels-photo-2599244.jpeg   \n",
              "25                      https://seodepths.com/wp-content/uploads/2022/07/things-not-keywords-1.webp   \n",
              "26                          https://seodepths.com/wp-content/uploads/2022/07/commercial-intent.webp   \n",
              "27                       https://seodepths.com/wp-content/uploads/2022/07/pexels-photo-4960630.jpeg   \n",
              "28      https://seodepths.com/wp-content/uploads/2022/07/C08D546B-8B62-49EA-8B1B-0F96D3786523-1.jpg   \n",
              "29          https://seodepths.com/wp-content/uploads/2022/07/action-movies-starring-tom-cruise.webp   \n",
              "30                       https://seodepths.com/wp-content/uploads/2022/07/pexels-photo-5846262.jpeg   \n",
              "31         https://seodepths.com/wp-content/uploads/2022/07/structured-data-type-output-python.webp   \n",
              "33                          https://seodepths.com/wp-content/uploads/2022/07/topical-coverage-1.png   \n",
              "\n",
              "                                  image_title  \\\n",
              "16  office-freelancer-computer-business-38547   \n",
              "22                       pexels-photo-1181373   \n",
              "23                     pexels-photo-3935702-1   \n",
              "24                       pexels-photo-2599244   \n",
              "25                      things-not-keywords-1   \n",
              "26                          commercial-intent   \n",
              "27                       pexels-photo-4960630   \n",
              "28     C08D546B-8B62-49EA-8B1B-0F96D3786523-1   \n",
              "29          action-movies-starring-tom-cruise   \n",
              "30                       pexels-photo-5846262   \n",
              "31         structured-data-type-output-python   \n",
              "33                         topical-coverage-1   \n",
              "\n",
              "                                                                                                                                                                                   image_caption  \n",
              "16                                                                Photo by Pixabay on <a href=\"https://www.pexels.com/photo/coffee-apple-iphone-smartphone-38547/\" rel=\"nofollow\">Pexels.com</a>  \n",
              "22                                                          Photo by Christina Morillo on <a href=\"https://www.pexels.com/photo/person-using-macbook-pro-1181373/\" rel=\"nofollow\">Pexels.com</a>  \n",
              "23                                                                Photo by Leah Kelley on <a href=\"https://www.pexels.com/photo/woman-looking-at-the-map-3935702/\" rel=\"nofollow\">Pexels.com</a>  \n",
              "24                                                               Photo by Alex Knight on <a href=\"https://www.pexels.com/photo/high-angle-photo-of-robot-2599244/\" rel=\"nofollow\">Pexels.com</a>  \n",
              "25                                                  Photo by Pixabay on <a href=\"https://www.pexels.com/photo/advertising-alphabet-business-communication-270637/\" rel=\"nofollow\">Pexels.com</a>  \n",
              "26                                                    Photo by Oleksandr Pidvalnyi on <a href=\"https://www.pexels.com/photo/letters-on-the-wooden-blocks-9822732/\" rel=\"nofollow\">Pexels.com</a>  \n",
              "27                                            Photo by George Morina on <a href=\"https://www.pexels.com/photo/macbook-pro-beside-black-iphone-4-on-table-4960630/\" rel=\"nofollow\">Pexels.com</a>  \n",
              "28  {\"subsource\":\"done_button\",\"uid\":\"29CF6EF8-00F2-4AAB-8805-5253DC0101EC_1597335319553\",\"source\":\"other\",\"origin\":\"gallery\",\"source_sid\":\"29CF6EF8-00F2-4AAB-8805-5253DC0101EC_1597335319571\"}  \n",
              "29                                                       Photo by MART PRODUCTION on <a href=\"https://www.pexels.com/photo/technology-computer-head-room-7088520/\" rel=\"nofollow\">Pexels.com</a>  \n",
              "30                                       Photo by Tima Miroshnichenko on <a href=\"https://www.pexels.com/photo/white-printer-paper-on-brown-wooden-table-5846262/\" rel=\"nofollow\">Pexels.com</a>  \n",
              "31                                                              Photo by Markus Spiske on <a href=\"https://www.pexels.com/photo/codes-on-tilt-shift-lens-2004161/\" rel=\"nofollow\">Pexels.com</a>  \n",
              "33                                                   Photo by Pixabay on <a href=\"https://www.pexels.com/photo/alphabet-close-up-communication-conceptual-278887/\" rel=\"nofollow\">Pexels.com</a>  "
            ],
            "text/html": [
              "\n",
              "  <div id=\"df-53f6a63f-e7b7-4866-9369-7f060ed86b42\">\n",
              "    <div class=\"colab-df-container\">\n",
              "      <div>\n",
              "<style scoped>\n",
              "    .dataframe tbody tr th:only-of-type {\n",
              "        vertical-align: middle;\n",
              "    }\n",
              "\n",
              "    .dataframe tbody tr th {\n",
              "        vertical-align: top;\n",
              "    }\n",
              "\n",
              "    .dataframe thead th {\n",
              "        text-align: right;\n",
              "    }\n",
              "</style>\n",
              "<table border=\"1\" class=\"dataframe\">\n",
              "  <thead>\n",
              "    <tr style=\"text-align: right;\">\n",
              "      <th></th>\n",
              "      <th>loc</th>\n",
              "      <th>lastmod</th>\n",
              "      <th>sitemap</th>\n",
              "      <th>sitemap_size_mb</th>\n",
              "      <th>download_date</th>\n",
              "      <th>image_loc</th>\n",
              "      <th>image_title</th>\n",
              "      <th>image_caption</th>\n",
              "    </tr>\n",
              "  </thead>\n",
              "  <tbody>\n",
              "    <tr>\n",
              "      <th>16</th>\n",
              "      <td>https://seodepths.com/seo-news/google-pros-cons-annotations/</td>\n",
              "      <td>2022-07-12 15:27:16+00:00</td>\n",
              "      <td>https://seodepths.com/image-sitemap-1.xml</td>\n",
              "      <td>0.027044</td>\n",
              "      <td>2022-07-30 21:37:02.609921+00:00</td>\n",
              "      <td>https://seodepths.com/wp-content/uploads/2022/07/office-freelancer-computer-business-38547.jpeg</td>\n",
              "      <td>office-freelancer-computer-business-38547</td>\n",
              "      <td>Photo by Pixabay on &lt;a href=\"https://www.pexels.com/photo/coffee-apple-iphone-smartphone-38547/\" rel=\"nofollow\"&gt;Pexels.com&lt;/a&gt;</td>\n",
              "    </tr>\n",
              "    <tr>\n",
              "      <th>22</th>\n",
              "      <td>https://seodepths.com/python-for-seo/detect-google-tag-rewriting-serpapi/</td>\n",
              "      <td>2022-07-13 09:26:52+00:00</td>\n",
              "      <td>https://seodepths.com/image-sitemap-1.xml</td>\n",
              "      <td>0.027044</td>\n",
              "      <td>2022-07-30 21:37:02.609921+00:00</td>\n",
              "      <td>https://seodepths.com/wp-content/uploads/2022/07/pexels-photo-1181373.jpeg</td>\n",
              "      <td>pexels-photo-1181373</td>\n",
              "      <td>Photo by Christina Morillo on &lt;a href=\"https://www.pexels.com/photo/person-using-macbook-pro-1181373/\" rel=\"nofollow\"&gt;Pexels.com&lt;/a&gt;</td>\n",
              "    </tr>\n",
              "    <tr>\n",
              "      <th>23</th>\n",
              "      <td>https://seodepths.com/python-for-seo/sitemap-audit-python/</td>\n",
              "      <td>2022-07-14 11:57:10+00:00</td>\n",
              "      <td>https://seodepths.com/image-sitemap-1.xml</td>\n",
              "      <td>0.027044</td>\n",
              "      <td>2022-07-30 21:37:02.609921+00:00</td>\n",
              "      <td>https://seodepths.com/wp-content/uploads/2022/07/pexels-photo-3935702-1.jpeg</td>\n",
              "      <td>pexels-photo-3935702-1</td>\n",
              "      <td>Photo by Leah Kelley on &lt;a href=\"https://www.pexels.com/photo/woman-looking-at-the-map-3935702/\" rel=\"nofollow\"&gt;Pexels.com&lt;/a&gt;</td>\n",
              "    </tr>\n",
              "    <tr>\n",
              "      <th>24</th>\n",
              "      <td>https://seodepths.com/python-for-seo/how-to-kick-off-entity-research-nlp-python/</td>\n",
              "      <td>2022-07-15 07:49:12+00:00</td>\n",
              "      <td>https://seodepths.com/image-sitemap-1.xml</td>\n",
              "      <td>0.027044</td>\n",
              "      <td>2022-07-30 21:37:02.609921+00:00</td>\n",
              "      <td>https://seodepths.com/wp-content/uploads/2022/07/pexels-photo-2599244.jpeg</td>\n",
              "      <td>pexels-photo-2599244</td>\n",
              "      <td>Photo by Alex Knight on &lt;a href=\"https://www.pexels.com/photo/high-angle-photo-of-robot-2599244/\" rel=\"nofollow\"&gt;Pexels.com&lt;/a&gt;</td>\n",
              "    </tr>\n",
              "    <tr>\n",
              "      <th>25</th>\n",
              "      <td>https://seodepths.com/seo-news/how-nlp-nlu-can-affect-seo/</td>\n",
              "      <td>2022-07-14 16:22:56+00:00</td>\n",
              "      <td>https://seodepths.com/image-sitemap-1.xml</td>\n",
              "      <td>0.027044</td>\n",
              "      <td>2022-07-30 21:37:02.609921+00:00</td>\n",
              "      <td>https://seodepths.com/wp-content/uploads/2022/07/things-not-keywords-1.webp</td>\n",
              "      <td>things-not-keywords-1</td>\n",
              "      <td>Photo by Pixabay on &lt;a href=\"https://www.pexels.com/photo/advertising-alphabet-business-communication-270637/\" rel=\"nofollow\"&gt;Pexels.com&lt;/a&gt;</td>\n",
              "    </tr>\n",
              "    <tr>\n",
              "      <th>26</th>\n",
              "      <td>https://seodepths.com/python-for-seo/define-seo-search-intent-with-python/</td>\n",
              "      <td>2022-07-16 15:59:06+00:00</td>\n",
              "      <td>https://seodepths.com/image-sitemap-1.xml</td>\n",
              "      <td>0.027044</td>\n",
              "      <td>2022-07-30 21:37:02.609921+00:00</td>\n",
              "      <td>https://seodepths.com/wp-content/uploads/2022/07/commercial-intent.webp</td>\n",
              "      <td>commercial-intent</td>\n",
              "      <td>Photo by Oleksandr Pidvalnyi on &lt;a href=\"https://www.pexels.com/photo/letters-on-the-wooden-blocks-9822732/\" rel=\"nofollow\"&gt;Pexels.com&lt;/a&gt;</td>\n",
              "    </tr>\n",
              "    <tr>\n",
              "      <th>27</th>\n",
              "      <td>https://seodepths.com/python-for-seo/entity-and-sentiment-analysis-python/</td>\n",
              "      <td>2022-07-16 10:55:22+00:00</td>\n",
              "      <td>https://seodepths.com/image-sitemap-1.xml</td>\n",
              "      <td>0.027044</td>\n",
              "      <td>2022-07-30 21:37:02.609921+00:00</td>\n",
              "      <td>https://seodepths.com/wp-content/uploads/2022/07/pexels-photo-4960630.jpeg</td>\n",
              "      <td>pexels-photo-4960630</td>\n",
              "      <td>Photo by George Morina on &lt;a href=\"https://www.pexels.com/photo/macbook-pro-beside-black-iphone-4-on-table-4960630/\" rel=\"nofollow\"&gt;Pexels.com&lt;/a&gt;</td>\n",
              "    </tr>\n",
              "    <tr>\n",
              "      <th>28</th>\n",
              "      <td>https://seodepths.com/about/</td>\n",
              "      <td>2022-07-20 08:48:11+00:00</td>\n",
              "      <td>https://seodepths.com/image-sitemap-1.xml</td>\n",
              "      <td>0.027044</td>\n",
              "      <td>2022-07-30 21:37:02.609921+00:00</td>\n",
              "      <td>https://seodepths.com/wp-content/uploads/2022/07/C08D546B-8B62-49EA-8B1B-0F96D3786523-1.jpg</td>\n",
              "      <td>C08D546B-8B62-49EA-8B1B-0F96D3786523-1</td>\n",
              "      <td>{\"subsource\":\"done_button\",\"uid\":\"29CF6EF8-00F2-4AAB-8805-5253DC0101EC_1597335319553\",\"source\":\"other\",\"origin\":\"gallery\",\"source_sid\":\"29CF6EF8-00F2-4AAB-8805-5253DC0101EC_1597335319571\"}</td>\n",
              "    </tr>\n",
              "    <tr>\n",
              "      <th>29</th>\n",
              "      <td>https://seodepths.com/seo-news/how-google-interprets-search-queries/</td>\n",
              "      <td>2022-07-18 15:18:59+00:00</td>\n",
              "      <td>https://seodepths.com/image-sitemap-1.xml</td>\n",
              "      <td>0.027044</td>\n",
              "      <td>2022-07-30 21:37:02.609921+00:00</td>\n",
              "      <td>https://seodepths.com/wp-content/uploads/2022/07/action-movies-starring-tom-cruise.webp</td>\n",
              "      <td>action-movies-starring-tom-cruise</td>\n",
              "      <td>Photo by MART PRODUCTION on &lt;a href=\"https://www.pexels.com/photo/technology-computer-head-room-7088520/\" rel=\"nofollow\"&gt;Pexels.com&lt;/a&gt;</td>\n",
              "    </tr>\n",
              "    <tr>\n",
              "      <th>30</th>\n",
              "      <td>https://seodepths.com/seo-news/structured-data-semantic-search/</td>\n",
              "      <td>2022-07-18 18:03:13+00:00</td>\n",
              "      <td>https://seodepths.com/image-sitemap-1.xml</td>\n",
              "      <td>0.027044</td>\n",
              "      <td>2022-07-30 21:37:02.609921+00:00</td>\n",
              "      <td>https://seodepths.com/wp-content/uploads/2022/07/pexels-photo-5846262.jpeg</td>\n",
              "      <td>pexels-photo-5846262</td>\n",
              "      <td>Photo by Tima Miroshnichenko on &lt;a href=\"https://www.pexels.com/photo/white-printer-paper-on-brown-wooden-table-5846262/\" rel=\"nofollow\"&gt;Pexels.com&lt;/a&gt;</td>\n",
              "    </tr>\n",
              "    <tr>\n",
              "      <th>31</th>\n",
              "      <td>https://seodepths.com/python-for-seo/structured-data-audit-with-python/</td>\n",
              "      <td>2022-07-19 17:58:02+00:00</td>\n",
              "      <td>https://seodepths.com/image-sitemap-1.xml</td>\n",
              "      <td>0.027044</td>\n",
              "      <td>2022-07-30 21:37:02.609921+00:00</td>\n",
              "      <td>https://seodepths.com/wp-content/uploads/2022/07/structured-data-type-output-python.webp</td>\n",
              "      <td>structured-data-type-output-python</td>\n",
              "      <td>Photo by Markus Spiske on &lt;a href=\"https://www.pexels.com/photo/codes-on-tilt-shift-lens-2004161/\" rel=\"nofollow\"&gt;Pexels.com&lt;/a&gt;</td>\n",
              "    </tr>\n",
              "    <tr>\n",
              "      <th>33</th>\n",
              "      <td>https://seodepths.com/python-for-seo/how-to-use-keyword-density-to-evaluate-topical-coverage-python-seo/</td>\n",
              "      <td>2022-07-28 18:47:56+00:00</td>\n",
              "      <td>https://seodepths.com/image-sitemap-1.xml</td>\n",
              "      <td>0.027044</td>\n",
              "      <td>2022-07-30 21:37:02.609921+00:00</td>\n",
              "      <td>https://seodepths.com/wp-content/uploads/2022/07/topical-coverage-1.png</td>\n",
              "      <td>topical-coverage-1</td>\n",
              "      <td>Photo by Pixabay on &lt;a href=\"https://www.pexels.com/photo/alphabet-close-up-communication-conceptual-278887/\" rel=\"nofollow\"&gt;Pexels.com&lt;/a&gt;</td>\n",
              "    </tr>\n",
              "  </tbody>\n",
              "</table>\n",
              "</div>\n",
              "      <button class=\"colab-df-convert\" onclick=\"convertToInteractive('df-53f6a63f-e7b7-4866-9369-7f060ed86b42')\"\n",
              "              title=\"Convert this dataframe to an interactive table.\"\n",
              "              style=\"display:none;\">\n",
              "        \n",
              "  <svg xmlns=\"http://www.w3.org/2000/svg\" height=\"24px\"viewBox=\"0 0 24 24\"\n",
              "       width=\"24px\">\n",
              "    <path d=\"M0 0h24v24H0V0z\" fill=\"none\"/>\n",
              "    <path d=\"M18.56 5.44l.94 2.06.94-2.06 2.06-.94-2.06-.94-.94-2.06-.94 2.06-2.06.94zm-11 1L8.5 8.5l.94-2.06 2.06-.94-2.06-.94L8.5 2.5l-.94 2.06-2.06.94zm10 10l.94 2.06.94-2.06 2.06-.94-2.06-.94-.94-2.06-.94 2.06-2.06.94z\"/><path d=\"M17.41 7.96l-1.37-1.37c-.4-.4-.92-.59-1.43-.59-.52 0-1.04.2-1.43.59L10.3 9.45l-7.72 7.72c-.78.78-.78 2.05 0 2.83L4 21.41c.39.39.9.59 1.41.59.51 0 1.02-.2 1.41-.59l7.78-7.78 2.81-2.81c.8-.78.8-2.07 0-2.86zM5.41 20L4 18.59l7.72-7.72 1.47 1.35L5.41 20z\"/>\n",
              "  </svg>\n",
              "      </button>\n",
              "      \n",
              "  <style>\n",
              "    .colab-df-container {\n",
              "      display:flex;\n",
              "      flex-wrap:wrap;\n",
              "      gap: 12px;\n",
              "    }\n",
              "\n",
              "    .colab-df-convert {\n",
              "      background-color: #E8F0FE;\n",
              "      border: none;\n",
              "      border-radius: 50%;\n",
              "      cursor: pointer;\n",
              "      display: none;\n",
              "      fill: #1967D2;\n",
              "      height: 32px;\n",
              "      padding: 0 0 0 0;\n",
              "      width: 32px;\n",
              "    }\n",
              "\n",
              "    .colab-df-convert:hover {\n",
              "      background-color: #E2EBFA;\n",
              "      box-shadow: 0px 1px 2px rgba(60, 64, 67, 0.3), 0px 1px 3px 1px rgba(60, 64, 67, 0.15);\n",
              "      fill: #174EA6;\n",
              "    }\n",
              "\n",
              "    [theme=dark] .colab-df-convert {\n",
              "      background-color: #3B4455;\n",
              "      fill: #D2E3FC;\n",
              "    }\n",
              "\n",
              "    [theme=dark] .colab-df-convert:hover {\n",
              "      background-color: #434B5C;\n",
              "      box-shadow: 0px 1px 3px 1px rgba(0, 0, 0, 0.15);\n",
              "      filter: drop-shadow(0px 1px 2px rgba(0, 0, 0, 0.3));\n",
              "      fill: #FFFFFF;\n",
              "    }\n",
              "  </style>\n",
              "\n",
              "      <script>\n",
              "        const buttonEl =\n",
              "          document.querySelector('#df-53f6a63f-e7b7-4866-9369-7f060ed86b42 button.colab-df-convert');\n",
              "        buttonEl.style.display =\n",
              "          google.colab.kernel.accessAllowed ? 'block' : 'none';\n",
              "\n",
              "        async function convertToInteractive(key) {\n",
              "          const element = document.querySelector('#df-53f6a63f-e7b7-4866-9369-7f060ed86b42');\n",
              "          const dataTable =\n",
              "            await google.colab.kernel.invokeFunction('convertToInteractive',\n",
              "                                                     [key], {});\n",
              "          if (!dataTable) return;\n",
              "\n",
              "          const docLinkHtml = 'Like what you see? Visit the ' +\n",
              "            '<a target=\"_blank\" href=https://colab.research.google.com/notebooks/data_table.ipynb>data table notebook</a>'\n",
              "            + ' to learn more about interactive tables.';\n",
              "          element.innerHTML = '';\n",
              "          dataTable['output_type'] = 'display_data';\n",
              "          await google.colab.output.renderOutput(dataTable, element);\n",
              "          const docLink = document.createElement('div');\n",
              "          docLink.innerHTML = docLinkHtml;\n",
              "          element.appendChild(docLink);\n",
              "        }\n",
              "      </script>\n",
              "    </div>\n",
              "  </div>\n",
              "  "
            ]
          },
          "metadata": {},
          "execution_count": 40
        }
      ]
    }
  ],
  "metadata": {
    "colab": {
      "provenance": [],
      "gpuType": "T4",
      "include_colab_link": true
    },
    "kernelspec": {
      "display_name": "Python 3",
      "name": "python3"
    },
    "language_info": {
      "name": "python"
    },
    "accelerator": "GPU"
  },
  "nbformat": 4,
  "nbformat_minor": 0
}